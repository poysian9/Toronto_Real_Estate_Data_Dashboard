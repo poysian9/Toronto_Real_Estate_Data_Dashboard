{
 "cells": [
  {
   "cell_type": "markdown",
   "metadata": {},
   "source": [
    "# Toronto Dwellings Analysis\n",
    "\n",
    "In this assignment, you will perform fundamental analysis for the Toronto dwellings market to allow potential real estate investors to choose rental investment properties."
   ]
  },
  {
   "cell_type": "code",
   "execution_count": 1,
   "metadata": {},
   "outputs": [
    {
     "output_type": "error",
     "ename": "Error",
     "evalue": "IPyKernel not installed into interpreter Python 3.7.9 64-bit ('pyvizenv': conda):C:\\Users\\Ren\\anaconda3\\envs\\pyvizenv\\python.exe",
     "traceback": [
      "Error: IPyKernel not installed into interpreter Python 3.7.9 64-bit ('pyvizenv': conda):C:\\Users\\Ren\\anaconda3\\envs\\pyvizenv\\python.exe",
      "at v.installMissingDependencies (c:\\Users\\Ren\\.vscode\\extensions\\ms-toolsai.jupyter-2021.5.745244803\\out\\client\\extension.js:49:561242)",
      "at processTicksAndRejections (internal/process/task_queues.js:93:5)"
     ]
    }
   ],
   "source": [
    "# imports\n",
    "import panel as pn\n",
    "pn.extension('plotly')\n",
    "import plotly.express as px\n",
    "import pandas as pd\n",
    "import hvplot.pandas\n",
    "import matplotlib.pyplot as plt\n",
    "import os\n",
    "from pathlib import Path\n",
    "from dotenv import load_dotenv"
   ]
  },
  {
   "cell_type": "code",
   "execution_count": 2,
   "metadata": {},
   "outputs": [],
   "source": [
    "# Read the Mapbox API key\n",
    "load_dotenv()\n",
    "map_box_api = os.getenv(\"MAPBOX_API_KEY\")"
   ]
  },
  {
   "cell_type": "markdown",
   "metadata": {},
   "source": [
    "## Load Data"
   ]
  },
  {
   "cell_type": "code",
   "execution_count": 3,
   "metadata": {},
   "outputs": [
    {
     "output_type": "execute_result",
     "data": {
      "text/plain": [
       "                     neighbourhood  single_detached_house  \\\n",
       "year                                                        \n",
       "2001               Agincourt North                   3715   \n",
       "2001  Agincourt South-Malvern West                   3250   \n",
       "2001                     Alderwood                   3175   \n",
       "2001                         Annex                   1060   \n",
       "2001             Banbury-Don Mills                   3615   \n",
       "\n",
       "      apartment_five_storeys_plus  movable_dwelling  semi_detached_house  \\\n",
       "year                                                                       \n",
       "2001                         1480                 0                 1055   \n",
       "2001                         1835                 0                  545   \n",
       "2001                          315                 0                  470   \n",
       "2001                         6090                 5                 1980   \n",
       "2001                         4465                 0                  240   \n",
       "\n",
       "      row_house  duplex  apartment_five_storeys_less  other_house  \\\n",
       "year                                                                \n",
       "2001       1295     195                          185            5   \n",
       "2001        455     105                          425            0   \n",
       "2001         50     185                          370            0   \n",
       "2001        605     275                         3710          165   \n",
       "2001        380      15                         1360            0   \n",
       "\n",
       "      average_house_value  shelter_costs_owned  shelter_costs_rented  \n",
       "year                                                                  \n",
       "2001               200388                  810                   870  \n",
       "2001               203047                  806                   892  \n",
       "2001               259998                  817                   924  \n",
       "2001               453850                 1027                  1378  \n",
       "2001               371864                 1007                  1163  "
      ],
      "text/html": "<div>\n<style scoped>\n    .dataframe tbody tr th:only-of-type {\n        vertical-align: middle;\n    }\n\n    .dataframe tbody tr th {\n        vertical-align: top;\n    }\n\n    .dataframe thead th {\n        text-align: right;\n    }\n</style>\n<table border=\"1\" class=\"dataframe\">\n  <thead>\n    <tr style=\"text-align: right;\">\n      <th></th>\n      <th>neighbourhood</th>\n      <th>single_detached_house</th>\n      <th>apartment_five_storeys_plus</th>\n      <th>movable_dwelling</th>\n      <th>semi_detached_house</th>\n      <th>row_house</th>\n      <th>duplex</th>\n      <th>apartment_five_storeys_less</th>\n      <th>other_house</th>\n      <th>average_house_value</th>\n      <th>shelter_costs_owned</th>\n      <th>shelter_costs_rented</th>\n    </tr>\n    <tr>\n      <th>year</th>\n      <th></th>\n      <th></th>\n      <th></th>\n      <th></th>\n      <th></th>\n      <th></th>\n      <th></th>\n      <th></th>\n      <th></th>\n      <th></th>\n      <th></th>\n      <th></th>\n    </tr>\n  </thead>\n  <tbody>\n    <tr>\n      <th>2001</th>\n      <td>Agincourt North</td>\n      <td>3715</td>\n      <td>1480</td>\n      <td>0</td>\n      <td>1055</td>\n      <td>1295</td>\n      <td>195</td>\n      <td>185</td>\n      <td>5</td>\n      <td>200388</td>\n      <td>810</td>\n      <td>870</td>\n    </tr>\n    <tr>\n      <th>2001</th>\n      <td>Agincourt South-Malvern West</td>\n      <td>3250</td>\n      <td>1835</td>\n      <td>0</td>\n      <td>545</td>\n      <td>455</td>\n      <td>105</td>\n      <td>425</td>\n      <td>0</td>\n      <td>203047</td>\n      <td>806</td>\n      <td>892</td>\n    </tr>\n    <tr>\n      <th>2001</th>\n      <td>Alderwood</td>\n      <td>3175</td>\n      <td>315</td>\n      <td>0</td>\n      <td>470</td>\n      <td>50</td>\n      <td>185</td>\n      <td>370</td>\n      <td>0</td>\n      <td>259998</td>\n      <td>817</td>\n      <td>924</td>\n    </tr>\n    <tr>\n      <th>2001</th>\n      <td>Annex</td>\n      <td>1060</td>\n      <td>6090</td>\n      <td>5</td>\n      <td>1980</td>\n      <td>605</td>\n      <td>275</td>\n      <td>3710</td>\n      <td>165</td>\n      <td>453850</td>\n      <td>1027</td>\n      <td>1378</td>\n    </tr>\n    <tr>\n      <th>2001</th>\n      <td>Banbury-Don Mills</td>\n      <td>3615</td>\n      <td>4465</td>\n      <td>0</td>\n      <td>240</td>\n      <td>380</td>\n      <td>15</td>\n      <td>1360</td>\n      <td>0</td>\n      <td>371864</td>\n      <td>1007</td>\n      <td>1163</td>\n    </tr>\n  </tbody>\n</table>\n</div>"
     },
     "metadata": {},
     "execution_count": 3
    }
   ],
   "source": [
    "# Read the census data into a Pandas DataFrame\n",
    "file_path = Path(\"Data/toronto_neighbourhoods_census_data.csv\")\n",
    "to_data = pd.read_csv(file_path, index_col=\"year\")\n",
    "to_data.head()"
   ]
  },
  {
   "cell_type": "markdown",
   "metadata": {},
   "source": [
    "- - - "
   ]
  },
  {
   "cell_type": "markdown",
   "metadata": {},
   "source": [
    "## Dwelling Types Per Year\n",
    "\n",
    "In this section, you will calculate the number of dwelling types per year. Visualize the results using bar charts and the Pandas plot function. \n",
    "\n",
    "**Hint:** Use the Pandas `groupby` function.\n",
    "\n",
    "**Optional challenge:** Plot each bar chart in a different color."
   ]
  },
  {
   "cell_type": "code",
   "execution_count": 4,
   "metadata": {},
   "outputs": [
    {
     "output_type": "execute_result",
     "data": {
      "text/plain": [
       "      single_detached_house  apartment_five_storeys_plus  movable_dwelling  \\\n",
       "year                                                                         \n",
       "2001                 300930                       355015                75   \n",
       "2006                 266860                       379400               165   \n",
       "2011                 274940                       429220               100   \n",
       "2016                 269680                       493270                95   \n",
       "\n",
       "      semi_detached_house  row_house  duplex  apartment_five_storeys_less  \\\n",
       "year                                                                        \n",
       "2001                90995      52355   23785                       116900   \n",
       "2006                69430      54690   44095                       162850   \n",
       "2011                72480      60355   44750                       163895   \n",
       "2016                71200      61565   48585                       165575   \n",
       "\n",
       "      other_house  \n",
       "year               \n",
       "2001         3040  \n",
       "2006         1335  \n",
       "2011         2165  \n",
       "2016         2845  "
      ],
      "text/html": "<div>\n<style scoped>\n    .dataframe tbody tr th:only-of-type {\n        vertical-align: middle;\n    }\n\n    .dataframe tbody tr th {\n        vertical-align: top;\n    }\n\n    .dataframe thead th {\n        text-align: right;\n    }\n</style>\n<table border=\"1\" class=\"dataframe\">\n  <thead>\n    <tr style=\"text-align: right;\">\n      <th></th>\n      <th>single_detached_house</th>\n      <th>apartment_five_storeys_plus</th>\n      <th>movable_dwelling</th>\n      <th>semi_detached_house</th>\n      <th>row_house</th>\n      <th>duplex</th>\n      <th>apartment_five_storeys_less</th>\n      <th>other_house</th>\n    </tr>\n    <tr>\n      <th>year</th>\n      <th></th>\n      <th></th>\n      <th></th>\n      <th></th>\n      <th></th>\n      <th></th>\n      <th></th>\n      <th></th>\n    </tr>\n  </thead>\n  <tbody>\n    <tr>\n      <th>2001</th>\n      <td>300930</td>\n      <td>355015</td>\n      <td>75</td>\n      <td>90995</td>\n      <td>52355</td>\n      <td>23785</td>\n      <td>116900</td>\n      <td>3040</td>\n    </tr>\n    <tr>\n      <th>2006</th>\n      <td>266860</td>\n      <td>379400</td>\n      <td>165</td>\n      <td>69430</td>\n      <td>54690</td>\n      <td>44095</td>\n      <td>162850</td>\n      <td>1335</td>\n    </tr>\n    <tr>\n      <th>2011</th>\n      <td>274940</td>\n      <td>429220</td>\n      <td>100</td>\n      <td>72480</td>\n      <td>60355</td>\n      <td>44750</td>\n      <td>163895</td>\n      <td>2165</td>\n    </tr>\n    <tr>\n      <th>2016</th>\n      <td>269680</td>\n      <td>493270</td>\n      <td>95</td>\n      <td>71200</td>\n      <td>61565</td>\n      <td>48585</td>\n      <td>165575</td>\n      <td>2845</td>\n    </tr>\n  </tbody>\n</table>\n</div>"
     },
     "metadata": {},
     "execution_count": 4
    }
   ],
   "source": [
    "# Calculate the sum number of dwelling types units per year (hint: use groupby)\n",
    "dwelling_types_by_year = to_data.groupby(\"year\").sum(\n",
    "                        ).drop(columns=[\"average_house_value\", \n",
    "                                        \"shelter_costs_owned\", \n",
    "                                        \"shelter_costs_rented\"\n",
    "                                       ]\n",
    "                        )\n",
    "\n",
    "dwelling_types_by_year"
   ]
  },
  {
   "cell_type": "code",
   "execution_count": 5,
   "metadata": {},
   "outputs": [],
   "source": [
    "# Save the dataframe as a csv file\n",
    "dwelling_types_by_year.to_csv(\"Data/dwelling_types_per_year.csv\")"
   ]
  },
  {
   "cell_type": "code",
   "execution_count": 7,
   "metadata": {},
   "outputs": [],
   "source": [
    "# Helper create_bar_chart function\n",
    "def create_bar_chart(data, title, xlabel, ylabel, color):\n",
    "    \n",
    "    bar_chart = data.hvplot.bar(rot=45, \n",
    "                                height=500, \n",
    "                                width=400,\n",
    "                                title=title, \n",
    "                                xlabel=xlabel, \n",
    "                                ylabel=ylabel, \n",
    "                                color=color,\n",
    "                                grid=True,\n",
    "                                ylim=(0,500000)\n",
    "                               ).opts(yformatter=\"%.0f\")\n",
    "    return bar_chart"
   ]
  },
  {
   "cell_type": "code",
   "execution_count": 8,
   "metadata": {},
   "outputs": [
    {
     "output_type": "display_data",
     "data": {},
     "metadata": {}
    },
    {
     "output_type": "execute_result",
     "data": {
      "text/html": "<div id='1001'>\n\n\n\n\n\n  <div class=\"bk-root\" id=\"01b7fd06-a27b-41ab-a50a-d462b4116257\" data-root-id=\"1001\"></div>\n</div>\n<script type=\"application/javascript\">(function(root) {\n  function embed_document(root) {\n    var docs_json = {\"ae86129e-0924-4794-9801-cd92ae0cc33b\":{\"roots\":{\"references\":[{\"attributes\":{},\"id\":\"1026\",\"type\":\"ResetTool\"},{\"attributes\":{\"children\":[{\"id\":\"1002\"},{\"id\":\"1234\"},{\"id\":\"1487\"}],\"margin\":[0,0,0,0],\"name\":\"Row01921\",\"tags\":[\"embedded\"]},\"id\":\"1001\",\"type\":\"Row\"},{\"attributes\":{\"overlay\":{\"id\":\"1027\"}},\"id\":\"1025\",\"type\":\"BoxZoomTool\"},{\"attributes\":{\"fill_alpha\":{\"value\":0.1},\"fill_color\":{\"value\":\"lavender\"},\"line_alpha\":{\"value\":0.1},\"top\":{\"field\":\"A_2016\"},\"width\":{\"value\":0.8},\"x\":{\"field\":\"index\"}},\"id\":\"1186\",\"type\":\"VBar\"},{\"attributes\":{\"active_drag\":\"auto\",\"active_inspect\":\"auto\",\"active_multi\":null,\"active_scroll\":\"auto\",\"active_tap\":\"auto\",\"tools\":[{\"id\":\"1054\"},{\"id\":\"1071\"},{\"id\":\"1072\"},{\"id\":\"1073\"},{\"id\":\"1074\"},{\"id\":\"1075\"}]},\"id\":\"1077\",\"type\":\"Toolbar\"},{\"attributes\":{},\"id\":\"1023\",\"type\":\"PanTool\"},{\"attributes\":{},\"id\":\"1111\",\"type\":\"LinearScale\"},{\"attributes\":{\"margin\":[5,5,5,5],\"name\":\"HSpacer01925\",\"sizing_mode\":\"stretch_width\"},\"id\":\"1002\",\"type\":\"Spacer\"},{\"attributes\":{\"children\":[[{\"id\":\"1006\"},0,0],[{\"id\":\"1055\"},0,1],[{\"id\":\"1104\"},0,2],[{\"id\":\"1153\"},0,3]]},\"id\":\"1231\",\"type\":\"GridBox\"},{\"attributes\":{\"text\":\"Distribution of Dwelling Types (2016)\",\"text_color\":{\"value\":\"black\"},\"text_font_size\":{\"value\":\"12pt\"}},\"id\":\"1154\",\"type\":\"Title\"},{\"attributes\":{\"bottom_units\":\"screen\",\"fill_alpha\":0.5,\"fill_color\":\"lightgrey\",\"left_units\":\"screen\",\"level\":\"overlay\",\"line_alpha\":1.0,\"line_color\":\"black\",\"line_dash\":[4,4],\"line_width\":2,\"right_units\":\"screen\",\"top_units\":\"screen\"},\"id\":\"1076\",\"type\":\"BoxAnnotation\"},{\"attributes\":{},\"id\":\"1142\",\"type\":\"CategoricalTickFormatter\"},{\"attributes\":{\"fill_color\":{\"value\":\"pink\"},\"top\":{\"field\":\"A_2001\"},\"width\":{\"value\":0.8},\"x\":{\"field\":\"index\"}},\"id\":\"1038\",\"type\":\"VBar\"},{\"attributes\":{\"fill_color\":{\"value\":\"lavender\"},\"top\":{\"field\":\"A_2016\"},\"width\":{\"value\":0.8},\"x\":{\"field\":\"index\"}},\"id\":\"1185\",\"type\":\"VBar\"},{\"attributes\":{},\"id\":\"1220\",\"type\":\"UnionRenderers\"},{\"attributes\":{\"axis_label\":\"Count\",\"bounds\":\"auto\",\"formatter\":{\"id\":\"1043\"},\"major_label_orientation\":\"horizontal\",\"ticker\":{\"id\":\"1019\"}},\"id\":\"1018\",\"type\":\"LinearAxis\"},{\"attributes\":{},\"id\":\"1016\",\"type\":\"CategoricalTicker\"},{\"attributes\":{},\"id\":\"1158\",\"type\":\"CategoricalScale\"},{\"attributes\":{\"format\":\"%.0f\"},\"id\":\"1190\",\"type\":\"PrintfTickFormatter\"},{\"attributes\":{},\"id\":\"1163\",\"type\":\"CategoricalTicker\"},{\"attributes\":{},\"id\":\"1019\",\"type\":\"BasicTicker\"},{\"attributes\":{\"axis\":{\"id\":\"1162\"},\"ticker\":{\"id\":\"1163\"}},\"id\":\"1164\",\"type\":\"Grid\"},{\"attributes\":{},\"id\":\"1114\",\"type\":\"CategoricalTicker\"},{\"attributes\":{\"margin\":[5,5,5,5],\"name\":\"HSpacer01926\",\"sizing_mode\":\"stretch_width\"},\"id\":\"1487\",\"type\":\"Spacer\"},{\"attributes\":{\"axis_label\":\"Count\",\"bounds\":\"auto\",\"formatter\":{\"id\":\"1141\"},\"major_label_orientation\":\"horizontal\",\"ticker\":{\"id\":\"1117\"}},\"id\":\"1116\",\"type\":\"LinearAxis\"},{\"attributes\":{},\"id\":\"1160\",\"type\":\"LinearScale\"},{\"attributes\":{\"end\":500000,\"reset_end\":500000,\"reset_start\":0,\"tags\":[[[\"2011\",\"2011\",null]]]},\"id\":\"1102\",\"type\":\"Range1d\"},{\"attributes\":{\"axis\":{\"id\":\"1113\"},\"ticker\":{\"id\":\"1114\"}},\"id\":\"1115\",\"type\":\"Grid\"},{\"attributes\":{},\"id\":\"1109\",\"type\":\"CategoricalScale\"},{\"attributes\":{\"fill_alpha\":{\"value\":0.1},\"fill_color\":{\"value\":\"gold\"},\"line_alpha\":{\"value\":0.1},\"top\":{\"field\":\"A_2006\"},\"width\":{\"value\":0.8},\"x\":{\"field\":\"index\"}},\"id\":\"1088\",\"type\":\"VBar\"},{\"attributes\":{\"callback\":null,\"renderers\":[{\"id\":\"1188\"}],\"tags\":[\"hv_created\"],\"tooltips\":[[\"index\",\"@{index}\"],[\"2016\",\"@{A_2016}\"]]},\"id\":\"1152\",\"type\":\"HoverTool\"},{\"attributes\":{\"text\":\"Distribution of Dwelling Types (2006)\",\"text_color\":{\"value\":\"black\"},\"text_font_size\":{\"value\":\"12pt\"}},\"id\":\"1056\",\"type\":\"Title\"},{\"attributes\":{\"axis_label\":\"Dwelling Types\",\"bounds\":\"auto\",\"formatter\":{\"id\":\"1191\"},\"major_label_orientation\":0.7853981633974483,\"ticker\":{\"id\":\"1163\"}},\"id\":\"1162\",\"type\":\"CategoricalAxis\"},{\"attributes\":{\"source\":{\"id\":\"1182\"}},\"id\":\"1189\",\"type\":\"CDSView\"},{\"attributes\":{\"text\":\"Distribution of Dwelling Types (2011)\",\"text_color\":{\"value\":\"black\"},\"text_font_size\":{\"value\":\"12pt\"}},\"id\":\"1105\",\"type\":\"Title\"},{\"attributes\":{\"format\":\"%.0f\"},\"id\":\"1092\",\"type\":\"PrintfTickFormatter\"},{\"attributes\":{\"fill_color\":{\"value\":\"gold\"},\"top\":{\"field\":\"A_2006\"},\"width\":{\"value\":0.8},\"x\":{\"field\":\"index\"}},\"id\":\"1087\",\"type\":\"VBar\"},{\"attributes\":{\"text\":\"Distribution of Dwelling Types (2001)\",\"text_color\":{\"value\":\"black\"},\"text_font_size\":{\"value\":\"12pt\"}},\"id\":\"1007\",\"type\":\"Title\"},{\"attributes\":{\"fill_alpha\":{\"value\":0.2},\"fill_color\":{\"value\":\"teal\"},\"line_alpha\":{\"value\":0.2},\"top\":{\"field\":\"A_2011\"},\"width\":{\"value\":0.8},\"x\":{\"field\":\"index\"}},\"id\":\"1138\",\"type\":\"VBar\"},{\"attributes\":{},\"id\":\"1166\",\"type\":\"BasicTicker\"},{\"attributes\":{\"axis\":{\"id\":\"1015\"},\"ticker\":{\"id\":\"1016\"}},\"id\":\"1017\",\"type\":\"Grid\"},{\"attributes\":{\"fill_alpha\":{\"value\":0.1},\"fill_color\":{\"value\":\"pink\"},\"line_alpha\":{\"value\":0.1},\"top\":{\"field\":\"A_2001\"},\"width\":{\"value\":0.8},\"x\":{\"field\":\"index\"}},\"id\":\"1039\",\"type\":\"VBar\"},{\"attributes\":{\"fill_color\":{\"value\":\"teal\"},\"top\":{\"field\":\"A_2011\"},\"width\":{\"value\":0.8},\"x\":{\"field\":\"index\"}},\"id\":\"1136\",\"type\":\"VBar\"},{\"attributes\":{},\"id\":\"1212\",\"type\":\"UnionRenderers\"},{\"attributes\":{\"data\":{\"A_2016\":[269680,493270,95,71200,61565,48585,165575,2845],\"index\":[\"single_detached_house\",\"apartment_five_storeys_plus\",\"movable_dwelling\",\"semi_detached_house\",\"row_house\",\"duplex\",\"apartment_five_storeys_less\",\"other_house\"]},\"selected\":{\"id\":\"1183\"},\"selection_policy\":{\"id\":\"1228\"}},\"id\":\"1182\",\"type\":\"ColumnDataSource\"},{\"attributes\":{\"data_source\":{\"id\":\"1133\"},\"glyph\":{\"id\":\"1136\"},\"hover_glyph\":null,\"muted_glyph\":{\"id\":\"1138\"},\"nonselection_glyph\":{\"id\":\"1137\"},\"selection_glyph\":null,\"view\":{\"id\":\"1140\"}},\"id\":\"1139\",\"type\":\"GlyphRenderer\"},{\"attributes\":{\"axis\":{\"id\":\"1165\"},\"dimension\":1,\"ticker\":{\"id\":\"1166\"}},\"id\":\"1168\",\"type\":\"Grid\"},{\"attributes\":{},\"id\":\"1036\",\"type\":\"Selection\"},{\"attributes\":{\"bottom_units\":\"screen\",\"fill_alpha\":0.5,\"fill_color\":\"lightgrey\",\"left_units\":\"screen\",\"level\":\"overlay\",\"line_alpha\":1.0,\"line_color\":\"black\",\"line_dash\":[4,4],\"line_width\":2,\"right_units\":\"screen\",\"top_units\":\"screen\"},\"id\":\"1027\",\"type\":\"BoxAnnotation\"},{\"attributes\":{},\"id\":\"1060\",\"type\":\"CategoricalScale\"},{\"attributes\":{\"axis_label\":\"Count\",\"bounds\":\"auto\",\"formatter\":{\"id\":\"1190\"},\"major_label_orientation\":\"horizontal\",\"ticker\":{\"id\":\"1166\"}},\"id\":\"1165\",\"type\":\"LinearAxis\"},{\"attributes\":{\"axis\":{\"id\":\"1116\"},\"dimension\":1,\"ticker\":{\"id\":\"1117\"}},\"id\":\"1119\",\"type\":\"Grid\"},{\"attributes\":{},\"id\":\"1065\",\"type\":\"CategoricalTicker\"},{\"attributes\":{\"below\":[{\"id\":\"1015\"}],\"center\":[{\"id\":\"1017\"},{\"id\":\"1021\"}],\"left\":[{\"id\":\"1018\"}],\"margin\":null,\"min_border_bottom\":10,\"min_border_left\":10,\"min_border_right\":10,\"min_border_top\":10,\"plot_height\":500,\"plot_width\":400,\"renderers\":[{\"id\":\"1041\"}],\"sizing_mode\":\"fixed\",\"title\":{\"id\":\"1007\"},\"toolbar\":{\"id\":\"1028\"},\"toolbar_location\":null,\"x_range\":{\"id\":\"1003\"},\"x_scale\":{\"id\":\"1011\"},\"y_range\":{\"id\":\"1004\"},\"y_scale\":{\"id\":\"1013\"}},\"id\":\"1006\",\"subtype\":\"Figure\",\"type\":\"Plot\"},{\"attributes\":{\"axis\":{\"id\":\"1064\"},\"ticker\":{\"id\":\"1065\"}},\"id\":\"1066\",\"type\":\"Grid\"},{\"attributes\":{\"data\":{\"A_2001\":[300930,355015,75,90995,52355,23785,116900,3040],\"index\":[\"single_detached_house\",\"apartment_five_storeys_plus\",\"movable_dwelling\",\"semi_detached_house\",\"row_house\",\"duplex\",\"apartment_five_storeys_less\",\"other_house\"]},\"selected\":{\"id\":\"1036\"},\"selection_policy\":{\"id\":\"1204\"}},\"id\":\"1035\",\"type\":\"ColumnDataSource\"},{\"attributes\":{},\"id\":\"1024\",\"type\":\"WheelZoomTool\"},{\"attributes\":{},\"id\":\"1062\",\"type\":\"LinearScale\"},{\"attributes\":{\"below\":[{\"id\":\"1113\"}],\"center\":[{\"id\":\"1115\"},{\"id\":\"1119\"}],\"left\":[{\"id\":\"1116\"}],\"margin\":null,\"min_border_bottom\":10,\"min_border_left\":10,\"min_border_right\":10,\"min_border_top\":10,\"plot_height\":500,\"plot_width\":400,\"renderers\":[{\"id\":\"1139\"}],\"sizing_mode\":\"fixed\",\"title\":{\"id\":\"1105\"},\"toolbar\":{\"id\":\"1126\"},\"toolbar_location\":null,\"x_range\":{\"id\":\"1003\"},\"x_scale\":{\"id\":\"1109\"},\"y_range\":{\"id\":\"1102\"},\"y_scale\":{\"id\":\"1111\"}},\"id\":\"1104\",\"subtype\":\"Figure\",\"type\":\"Plot\"},{\"attributes\":{\"axis_label\":\"Dwelling Types\",\"bounds\":\"auto\",\"formatter\":{\"id\":\"1093\"},\"major_label_orientation\":0.7853981633974483,\"ticker\":{\"id\":\"1065\"}},\"id\":\"1064\",\"type\":\"CategoricalAxis\"},{\"attributes\":{\"source\":{\"id\":\"1133\"}},\"id\":\"1140\",\"type\":\"CDSView\"},{\"attributes\":{\"children\":[{\"id\":\"1233\"},{\"id\":\"1231\"}]},\"id\":\"1234\",\"type\":\"Column\"},{\"attributes\":{},\"id\":\"1068\",\"type\":\"BasicTicker\"},{\"attributes\":{\"data\":{\"A_2006\":[266860,379400,165,69430,54690,44095,162850,1335],\"index\":[\"single_detached_house\",\"apartment_five_storeys_plus\",\"movable_dwelling\",\"semi_detached_house\",\"row_house\",\"duplex\",\"apartment_five_storeys_less\",\"other_house\"]},\"selected\":{\"id\":\"1085\"},\"selection_policy\":{\"id\":\"1212\"}},\"id\":\"1084\",\"type\":\"ColumnDataSource\"},{\"attributes\":{},\"id\":\"1085\",\"type\":\"Selection\"},{\"attributes\":{},\"id\":\"1120\",\"type\":\"SaveTool\"},{\"attributes\":{\"axis\":{\"id\":\"1067\"},\"dimension\":1,\"ticker\":{\"id\":\"1068\"}},\"id\":\"1070\",\"type\":\"Grid\"},{\"attributes\":{\"axis\":{\"id\":\"1018\"},\"dimension\":1,\"ticker\":{\"id\":\"1019\"}},\"id\":\"1021\",\"type\":\"Grid\"},{\"attributes\":{\"end\":500000,\"reset_end\":500000,\"reset_start\":0,\"tags\":[[[\"2016\",\"2016\",null]]]},\"id\":\"1151\",\"type\":\"Range1d\"},{\"attributes\":{\"fill_alpha\":{\"value\":0.2},\"fill_color\":{\"value\":\"lavender\"},\"line_alpha\":{\"value\":0.2},\"top\":{\"field\":\"A_2016\"},\"width\":{\"value\":0.8},\"x\":{\"field\":\"index\"}},\"id\":\"1187\",\"type\":\"VBar\"},{\"attributes\":{},\"id\":\"1121\",\"type\":\"PanTool\"},{\"attributes\":{},\"id\":\"1169\",\"type\":\"SaveTool\"},{\"attributes\":{},\"id\":\"1124\",\"type\":\"ResetTool\"},{\"attributes\":{},\"id\":\"1170\",\"type\":\"PanTool\"},{\"attributes\":{\"axis_label\":\"Count\",\"bounds\":\"auto\",\"formatter\":{\"id\":\"1092\"},\"major_label_orientation\":\"horizontal\",\"ticker\":{\"id\":\"1068\"}},\"id\":\"1067\",\"type\":\"LinearAxis\"},{\"attributes\":{},\"id\":\"1122\",\"type\":\"WheelZoomTool\"},{\"attributes\":{},\"id\":\"1173\",\"type\":\"ResetTool\"},{\"attributes\":{},\"id\":\"1171\",\"type\":\"WheelZoomTool\"},{\"attributes\":{\"overlay\":{\"id\":\"1125\"}},\"id\":\"1123\",\"type\":\"BoxZoomTool\"},{\"attributes\":{\"source\":{\"id\":\"1084\"}},\"id\":\"1091\",\"type\":\"CDSView\"},{\"attributes\":{},\"id\":\"1183\",\"type\":\"Selection\"},{\"attributes\":{\"overlay\":{\"id\":\"1174\"}},\"id\":\"1172\",\"type\":\"BoxZoomTool\"},{\"attributes\":{\"axis_label\":\"Dwelling Types\",\"bounds\":\"auto\",\"formatter\":{\"id\":\"1142\"},\"major_label_orientation\":0.7853981633974483,\"ticker\":{\"id\":\"1114\"}},\"id\":\"1113\",\"type\":\"CategoricalAxis\"},{\"attributes\":{\"active_drag\":\"auto\",\"active_inspect\":\"auto\",\"active_multi\":null,\"active_scroll\":\"auto\",\"active_tap\":\"auto\",\"tools\":[{\"id\":\"1005\"},{\"id\":\"1022\"},{\"id\":\"1023\"},{\"id\":\"1024\"},{\"id\":\"1025\"},{\"id\":\"1026\"}]},\"id\":\"1028\",\"type\":\"Toolbar\"},{\"attributes\":{\"callback\":null,\"renderers\":[{\"id\":\"1139\"}],\"tags\":[\"hv_created\"],\"tooltips\":[[\"index\",\"@{index}\"],[\"2011\",\"@{A_2011}\"]]},\"id\":\"1103\",\"type\":\"HoverTool\"},{\"attributes\":{\"format\":\"%.0f\"},\"id\":\"1043\",\"type\":\"PrintfTickFormatter\"},{\"attributes\":{\"fill_alpha\":{\"value\":0.2},\"fill_color\":{\"value\":\"pink\"},\"line_alpha\":{\"value\":0.2},\"top\":{\"field\":\"A_2001\"},\"width\":{\"value\":0.8},\"x\":{\"field\":\"index\"}},\"id\":\"1040\",\"type\":\"VBar\"},{\"attributes\":{\"fill_alpha\":{\"value\":0.2},\"fill_color\":{\"value\":\"gold\"},\"line_alpha\":{\"value\":0.2},\"top\":{\"field\":\"A_2006\"},\"width\":{\"value\":0.8},\"x\":{\"field\":\"index\"}},\"id\":\"1089\",\"type\":\"VBar\"},{\"attributes\":{\"end\":500000,\"reset_end\":500000,\"reset_start\":0,\"tags\":[[[\"2006\",\"2006\",null]]]},\"id\":\"1053\",\"type\":\"Range1d\"},{\"attributes\":{\"toolbars\":[{\"id\":\"1028\"},{\"id\":\"1077\"},{\"id\":\"1126\"},{\"id\":\"1175\"}],\"tools\":[{\"id\":\"1005\"},{\"id\":\"1022\"},{\"id\":\"1023\"},{\"id\":\"1024\"},{\"id\":\"1025\"},{\"id\":\"1026\"},{\"id\":\"1054\"},{\"id\":\"1071\"},{\"id\":\"1072\"},{\"id\":\"1073\"},{\"id\":\"1074\"},{\"id\":\"1075\"},{\"id\":\"1103\"},{\"id\":\"1120\"},{\"id\":\"1121\"},{\"id\":\"1122\"},{\"id\":\"1123\"},{\"id\":\"1124\"},{\"id\":\"1152\"},{\"id\":\"1169\"},{\"id\":\"1170\"},{\"id\":\"1171\"},{\"id\":\"1172\"},{\"id\":\"1173\"}]},\"id\":\"1232\",\"type\":\"ProxyToolbar\"},{\"attributes\":{},\"id\":\"1071\",\"type\":\"SaveTool\"},{\"attributes\":{},\"id\":\"1072\",\"type\":\"PanTool\"},{\"attributes\":{},\"id\":\"1011\",\"type\":\"CategoricalScale\"},{\"attributes\":{\"factors\":[\"single_detached_house\",\"apartment_five_storeys_plus\",\"movable_dwelling\",\"semi_detached_house\",\"row_house\",\"duplex\",\"apartment_five_storeys_less\",\"other_house\"],\"tags\":[[[\"index\",\"index\",null]]]},\"id\":\"1003\",\"type\":\"FactorRange\"},{\"attributes\":{\"below\":[{\"id\":\"1162\"}],\"center\":[{\"id\":\"1164\"},{\"id\":\"1168\"}],\"left\":[{\"id\":\"1165\"}],\"margin\":null,\"min_border_bottom\":10,\"min_border_left\":10,\"min_border_right\":10,\"min_border_top\":10,\"plot_height\":500,\"plot_width\":400,\"renderers\":[{\"id\":\"1188\"}],\"sizing_mode\":\"fixed\",\"title\":{\"id\":\"1154\"},\"toolbar\":{\"id\":\"1175\"},\"toolbar_location\":null,\"x_range\":{\"id\":\"1003\"},\"x_scale\":{\"id\":\"1158\"},\"y_range\":{\"id\":\"1151\"},\"y_scale\":{\"id\":\"1160\"}},\"id\":\"1153\",\"subtype\":\"Figure\",\"type\":\"Plot\"},{\"attributes\":{},\"id\":\"1075\",\"type\":\"ResetTool\"},{\"attributes\":{},\"id\":\"1191\",\"type\":\"CategoricalTickFormatter\"},{\"attributes\":{},\"id\":\"1073\",\"type\":\"WheelZoomTool\"},{\"attributes\":{\"end\":500000,\"reset_end\":500000,\"reset_start\":0,\"tags\":[[[\"2001\",\"2001\",null]]]},\"id\":\"1004\",\"type\":\"Range1d\"},{\"attributes\":{},\"id\":\"1093\",\"type\":\"CategoricalTickFormatter\"},{\"attributes\":{\"overlay\":{\"id\":\"1076\"}},\"id\":\"1074\",\"type\":\"BoxZoomTool\"},{\"attributes\":{},\"id\":\"1134\",\"type\":\"Selection\"},{\"attributes\":{},\"id\":\"1228\",\"type\":\"UnionRenderers\"},{\"attributes\":{\"active_drag\":\"auto\",\"active_inspect\":\"auto\",\"active_multi\":null,\"active_scroll\":\"auto\",\"active_tap\":\"auto\",\"tools\":[{\"id\":\"1103\"},{\"id\":\"1120\"},{\"id\":\"1121\"},{\"id\":\"1122\"},{\"id\":\"1123\"},{\"id\":\"1124\"}]},\"id\":\"1126\",\"type\":\"Toolbar\"},{\"attributes\":{\"data_source\":{\"id\":\"1084\"},\"glyph\":{\"id\":\"1087\"},\"hover_glyph\":null,\"muted_glyph\":{\"id\":\"1089\"},\"nonselection_glyph\":{\"id\":\"1088\"},\"selection_glyph\":null,\"view\":{\"id\":\"1091\"}},\"id\":\"1090\",\"type\":\"GlyphRenderer\"},{\"attributes\":{\"axis_label\":\"Dwelling Types\",\"bounds\":\"auto\",\"formatter\":{\"id\":\"1044\"},\"major_label_orientation\":0.7853981633974483,\"ticker\":{\"id\":\"1016\"}},\"id\":\"1015\",\"type\":\"CategoricalAxis\"},{\"attributes\":{\"active_drag\":\"auto\",\"active_inspect\":\"auto\",\"active_multi\":null,\"active_scroll\":\"auto\",\"active_tap\":\"auto\",\"tools\":[{\"id\":\"1152\"},{\"id\":\"1169\"},{\"id\":\"1170\"},{\"id\":\"1171\"},{\"id\":\"1172\"},{\"id\":\"1173\"}]},\"id\":\"1175\",\"type\":\"Toolbar\"},{\"attributes\":{\"data_source\":{\"id\":\"1182\"},\"glyph\":{\"id\":\"1185\"},\"hover_glyph\":null,\"muted_glyph\":{\"id\":\"1187\"},\"nonselection_glyph\":{\"id\":\"1186\"},\"selection_glyph\":null,\"view\":{\"id\":\"1189\"}},\"id\":\"1188\",\"type\":\"GlyphRenderer\"},{\"attributes\":{\"toolbar\":{\"id\":\"1232\"},\"toolbar_location\":\"above\"},\"id\":\"1233\",\"type\":\"ToolbarBox\"},{\"attributes\":{},\"id\":\"1204\",\"type\":\"UnionRenderers\"},{\"attributes\":{\"bottom_units\":\"screen\",\"fill_alpha\":0.5,\"fill_color\":\"lightgrey\",\"left_units\":\"screen\",\"level\":\"overlay\",\"line_alpha\":1.0,\"line_color\":\"black\",\"line_dash\":[4,4],\"line_width\":2,\"right_units\":\"screen\",\"top_units\":\"screen\"},\"id\":\"1125\",\"type\":\"BoxAnnotation\"},{\"attributes\":{},\"id\":\"1013\",\"type\":\"LinearScale\"},{\"attributes\":{\"bottom_units\":\"screen\",\"fill_alpha\":0.5,\"fill_color\":\"lightgrey\",\"left_units\":\"screen\",\"level\":\"overlay\",\"line_alpha\":1.0,\"line_color\":\"black\",\"line_dash\":[4,4],\"line_width\":2,\"right_units\":\"screen\",\"top_units\":\"screen\"},\"id\":\"1174\",\"type\":\"BoxAnnotation\"},{\"attributes\":{\"below\":[{\"id\":\"1064\"}],\"center\":[{\"id\":\"1066\"},{\"id\":\"1070\"}],\"left\":[{\"id\":\"1067\"}],\"margin\":null,\"min_border_bottom\":10,\"min_border_left\":10,\"min_border_right\":10,\"min_border_top\":10,\"plot_height\":500,\"plot_width\":400,\"renderers\":[{\"id\":\"1090\"}],\"sizing_mode\":\"fixed\",\"title\":{\"id\":\"1056\"},\"toolbar\":{\"id\":\"1077\"},\"toolbar_location\":null,\"x_range\":{\"id\":\"1003\"},\"x_scale\":{\"id\":\"1060\"},\"y_range\":{\"id\":\"1053\"},\"y_scale\":{\"id\":\"1062\"}},\"id\":\"1055\",\"subtype\":\"Figure\",\"type\":\"Plot\"},{\"attributes\":{},\"id\":\"1117\",\"type\":\"BasicTicker\"},{\"attributes\":{\"data_source\":{\"id\":\"1035\"},\"glyph\":{\"id\":\"1038\"},\"hover_glyph\":null,\"muted_glyph\":{\"id\":\"1040\"},\"nonselection_glyph\":{\"id\":\"1039\"},\"selection_glyph\":null,\"view\":{\"id\":\"1042\"}},\"id\":\"1041\",\"type\":\"GlyphRenderer\"},{\"attributes\":{\"fill_alpha\":{\"value\":0.1},\"fill_color\":{\"value\":\"teal\"},\"line_alpha\":{\"value\":0.1},\"top\":{\"field\":\"A_2011\"},\"width\":{\"value\":0.8},\"x\":{\"field\":\"index\"}},\"id\":\"1137\",\"type\":\"VBar\"},{\"attributes\":{\"source\":{\"id\":\"1035\"}},\"id\":\"1042\",\"type\":\"CDSView\"},{\"attributes\":{\"callback\":null,\"renderers\":[{\"id\":\"1090\"}],\"tags\":[\"hv_created\"],\"tooltips\":[[\"index\",\"@{index}\"],[\"2006\",\"@{A_2006}\"]]},\"id\":\"1054\",\"type\":\"HoverTool\"},{\"attributes\":{\"data\":{\"A_2011\":[274940,429220,100,72480,60355,44750,163895,2165],\"index\":[\"single_detached_house\",\"apartment_five_storeys_plus\",\"movable_dwelling\",\"semi_detached_house\",\"row_house\",\"duplex\",\"apartment_five_storeys_less\",\"other_house\"]},\"selected\":{\"id\":\"1134\"},\"selection_policy\":{\"id\":\"1220\"}},\"id\":\"1133\",\"type\":\"ColumnDataSource\"},{\"attributes\":{\"callback\":null,\"renderers\":[{\"id\":\"1041\"}],\"tags\":[\"hv_created\"],\"tooltips\":[[\"index\",\"@{index}\"],[\"2001\",\"@{A_2001}\"]]},\"id\":\"1005\",\"type\":\"HoverTool\"},{\"attributes\":{},\"id\":\"1044\",\"type\":\"CategoricalTickFormatter\"},{\"attributes\":{},\"id\":\"1022\",\"type\":\"SaveTool\"},{\"attributes\":{\"format\":\"%.0f\"},\"id\":\"1141\",\"type\":\"PrintfTickFormatter\"}],\"root_ids\":[\"1001\"]},\"title\":\"Bokeh Application\",\"version\":\"2.2.3\"}};\n    var render_items = [{\"docid\":\"ae86129e-0924-4794-9801-cd92ae0cc33b\",\"root_ids\":[\"1001\"],\"roots\":{\"1001\":\"01b7fd06-a27b-41ab-a50a-d462b4116257\"}}];\n    root.Bokeh.embed.embed_items_notebook(docs_json, render_items);\n  }\n  if (root.Bokeh !== undefined && root.Bokeh.Panel !== undefined && root['Plotly'] !== undefined ) {\n    embed_document(root);\n  } else {\n    var attempts = 0;\n    var timer = setInterval(function(root) {\n      if (root.Bokeh !== undefined && root.Bokeh.Panel !== undefined && root['Plotly'] !== undefined) {\n        clearInterval(timer);\n        embed_document(root);\n      } else if (document.readyState == \"complete\") {\n        attempts++;\n        if (attempts > 100) {\n          clearInterval(timer);\n          console.log(\"Bokeh: ERROR: Unable to run BokehJS code because BokehJS library is missing\");\n        }\n      }\n    }, 10, root)\n  }\n})(window);</script>",
      "application/vnd.holoviews_exec.v0+json": "",
      "text/plain": [
       ":Layout\n",
       "   .Bars.A_2001 :Bars   [index]   (2001)\n",
       "   .Bars.A_2006 :Bars   [index]   (2006)\n",
       "   .Bars.A_2011 :Bars   [index]   (2011)\n",
       "   .Bars.A_2016 :Bars   [index]   (2016)"
      ]
     },
     "metadata": {
      "application/vnd.holoviews_exec.v0+json": {
       "id": "1001"
      }
     },
     "execution_count": 8
    }
   ],
   "source": [
    "# Create a bar chart per year to show the number of dwelling types\n",
    "\n",
    "# Bar chart for 2001\n",
    "\n",
    "a = create_bar_chart(dwelling_types_by_year.iloc[0], \n",
    "                     \"Distribution of Dwelling Types (2001)\", \n",
    "                     \"Dwelling Types\", \n",
    "                     \"Count\", \n",
    "                     \"pink\"\n",
    "                    )\n",
    "# Bar chart for 2006\n",
    "\n",
    "b = create_bar_chart(dwelling_types_by_year.iloc[1], \n",
    "                     \"Distribution of Dwelling Types (2006)\",\n",
    "                     \"Dwelling Types\", \n",
    "                     \"Count\", \n",
    "                     \"gold\"\n",
    "                    )\n",
    "# Bar chart for 2011\n",
    "\n",
    "c = create_bar_chart(dwelling_types_by_year.iloc[2], \n",
    "                     \"Distribution of Dwelling Types (2011)\", \n",
    "                     \"Dwelling Types\", \n",
    "                     \"Count\", \n",
    "                     \"teal\"\n",
    "                    )\n",
    "# Bar chart for 2016\n",
    " \n",
    "d = create_bar_chart(dwelling_types_by_year.iloc[3], \n",
    "                     \"Distribution of Dwelling Types (2016)\", \n",
    "                     \"Dwelling Types\", \n",
    "                     \"Count\", \n",
    "                     \"lavender\"\n",
    "                    )\n",
    "a+b+c+d"
   ]
  },
  {
   "cell_type": "markdown",
   "metadata": {},
   "source": [
    "- - - "
   ]
  },
  {
   "cell_type": "markdown",
   "metadata": {},
   "source": [
    "## Average Monthly Shelter Costs in Toronto Per Year\n",
    "\n",
    "In this section, you will calculate the average monthly shelter costs for owned and rented dwellings and the average house value for each year. Plot the results as a line chart.\n",
    "\n",
    "**Optional challenge:** Plot each line chart in a different color."
   ]
  },
  {
   "cell_type": "code",
   "execution_count": 9,
   "metadata": {},
   "outputs": [
    {
     "output_type": "execute_result",
     "data": {
      "text/plain": [
       "      shelter_costs_owned  shelter_costs_rented\n",
       "year                                           \n",
       "2001           846.878571           1085.935714\n",
       "2006          1316.800000            925.414286\n",
       "2011          1448.214286           1019.792857\n",
       "2016          1761.314286           1256.321429"
      ],
      "text/html": "<div>\n<style scoped>\n    .dataframe tbody tr th:only-of-type {\n        vertical-align: middle;\n    }\n\n    .dataframe tbody tr th {\n        vertical-align: top;\n    }\n\n    .dataframe thead th {\n        text-align: right;\n    }\n</style>\n<table border=\"1\" class=\"dataframe\">\n  <thead>\n    <tr style=\"text-align: right;\">\n      <th></th>\n      <th>shelter_costs_owned</th>\n      <th>shelter_costs_rented</th>\n    </tr>\n    <tr>\n      <th>year</th>\n      <th></th>\n      <th></th>\n    </tr>\n  </thead>\n  <tbody>\n    <tr>\n      <th>2001</th>\n      <td>846.878571</td>\n      <td>1085.935714</td>\n    </tr>\n    <tr>\n      <th>2006</th>\n      <td>1316.800000</td>\n      <td>925.414286</td>\n    </tr>\n    <tr>\n      <th>2011</th>\n      <td>1448.214286</td>\n      <td>1019.792857</td>\n    </tr>\n    <tr>\n      <th>2016</th>\n      <td>1761.314286</td>\n      <td>1256.321429</td>\n    </tr>\n  </tbody>\n</table>\n</div>"
     },
     "metadata": {},
     "execution_count": 9
    }
   ],
   "source": [
    "# Calculate the average monthly shelter costs for owned and rented dwellings\n",
    "average_shelter_costs_by_year = to_data[[\"shelter_costs_owned\", \"shelter_costs_rented\"]\n",
    "                                       ].groupby(\"year\").mean()\n",
    "average_shelter_costs_by_year\n"
   ]
  },
  {
   "cell_type": "code",
   "execution_count": 10,
   "metadata": {},
   "outputs": [],
   "source": [
    "# Helper create_line_chart function\n",
    "def create_line_chart(data, title, xlabel, ylabel, color):\n",
    "\n",
    "    line_chart = data.hvplot.line(rot=90, \n",
    "                                  height=400, \n",
    "                                  width=600,\n",
    "                                  title=title, \n",
    "                                  xlabel=xlabel, \n",
    "                                  ylabel=ylabel, \n",
    "                                  color=color,\n",
    "                                  grid=True\n",
    "                               ).opts(yformatter=\"%.0f\")\n",
    "    return line_chart"
   ]
  },
  {
   "cell_type": "code",
   "execution_count": 11,
   "metadata": {},
   "outputs": [
    {
     "output_type": "display_data",
     "data": {},
     "metadata": {}
    },
    {
     "output_type": "execute_result",
     "data": {
      "text/html": "<div id='1629'>\n\n\n\n\n\n  <div class=\"bk-root\" id=\"2c38765e-c439-46cc-a9b9-e69723eb9cc4\" data-root-id=\"1629\"></div>\n</div>\n<script type=\"application/javascript\">(function(root) {\n  function embed_document(root) {\n    var docs_json = {\"3ecf630b-1642-4498-b7ae-f73fce301cf8\":{\"roots\":{\"references\":[{\"attributes\":{\"axis_label\":\"Avg Monthly Shelter Costs ($)\",\"bounds\":\"auto\",\"formatter\":{\"id\":\"1672\"},\"major_label_orientation\":\"horizontal\",\"ticker\":{\"id\":\"1648\"}},\"id\":\"1647\",\"type\":\"LinearAxis\"},{\"attributes\":{\"bottom_units\":\"screen\",\"fill_alpha\":0.5,\"fill_color\":\"lightgrey\",\"left_units\":\"screen\",\"level\":\"overlay\",\"line_alpha\":1.0,\"line_color\":\"black\",\"line_dash\":[4,4],\"line_width\":2,\"right_units\":\"screen\",\"top_units\":\"screen\"},\"id\":\"1705\",\"type\":\"BoxAnnotation\"},{\"attributes\":{\"source\":{\"id\":\"1713\"}},\"id\":\"1720\",\"type\":\"CDSView\"},{\"attributes\":{\"text\":\"Average Monthly Shelter Cost for Rented Dwellings in Torronto\",\"text_color\":{\"value\":\"black\"},\"text_font_size\":{\"value\":\"12pt\"}},\"id\":\"1684\",\"type\":\"Title\"},{\"attributes\":{\"callback\":null,\"renderers\":[{\"id\":\"1719\"}],\"tags\":[\"hv_created\"],\"tooltips\":[[\"year\",\"@{year}\"],[\"shelter_costs_rented\",\"@{shelter_costs_rented}\"]]},\"id\":\"1682\",\"type\":\"HoverTool\"},{\"attributes\":{\"active_drag\":\"auto\",\"active_inspect\":\"auto\",\"active_multi\":null,\"active_scroll\":\"auto\",\"active_tap\":\"auto\",\"tools\":[{\"id\":\"1682\"},{\"id\":\"1700\"},{\"id\":\"1701\"},{\"id\":\"1702\"},{\"id\":\"1703\"},{\"id\":\"1704\"}]},\"id\":\"1706\",\"type\":\"Toolbar\"},{\"attributes\":{\"toolbar\":{\"id\":\"1747\"},\"toolbar_location\":\"above\"},\"id\":\"1748\",\"type\":\"ToolbarBox\"},{\"attributes\":{},\"id\":\"1648\",\"type\":\"BasicTicker\"},{\"attributes\":{\"axis\":{\"id\":\"1647\"},\"dimension\":1,\"ticker\":{\"id\":\"1648\"}},\"id\":\"1650\",\"type\":\"Grid\"},{\"attributes\":{\"format\":\"%.0f\"},\"id\":\"1721\",\"type\":\"PrintfTickFormatter\"},{\"attributes\":{\"below\":[{\"id\":\"1692\"}],\"center\":[{\"id\":\"1695\"},{\"id\":\"1699\"}],\"left\":[{\"id\":\"1696\"}],\"margin\":null,\"min_border_bottom\":10,\"min_border_left\":10,\"min_border_right\":10,\"min_border_top\":10,\"plot_height\":400,\"renderers\":[{\"id\":\"1719\"}],\"sizing_mode\":\"fixed\",\"title\":{\"id\":\"1684\"},\"toolbar\":{\"id\":\"1706\"},\"toolbar_location\":null,\"x_range\":{\"id\":\"1631\"},\"x_scale\":{\"id\":\"1688\"},\"y_range\":{\"id\":\"1681\"},\"y_scale\":{\"id\":\"1690\"}},\"id\":\"1683\",\"subtype\":\"Figure\",\"type\":\"Plot\"},{\"attributes\":{\"source\":{\"id\":\"1664\"}},\"id\":\"1671\",\"type\":\"CDSView\"},{\"attributes\":{\"line_alpha\":0.1,\"line_color\":\"green\",\"line_width\":2,\"x\":{\"field\":\"year\"},\"y\":{\"field\":\"shelter_costs_owned\"}},\"id\":\"1668\",\"type\":\"Line\"},{\"attributes\":{\"line_color\":\"purple\",\"line_width\":2,\"x\":{\"field\":\"year\"},\"y\":{\"field\":\"shelter_costs_rented\"}},\"id\":\"1716\",\"type\":\"Line\"},{\"attributes\":{\"active_drag\":\"auto\",\"active_inspect\":\"auto\",\"active_multi\":null,\"active_scroll\":\"auto\",\"active_tap\":\"auto\",\"tools\":[{\"id\":\"1633\"},{\"id\":\"1651\"},{\"id\":\"1652\"},{\"id\":\"1653\"},{\"id\":\"1654\"},{\"id\":\"1655\"}]},\"id\":\"1657\",\"type\":\"Toolbar\"},{\"attributes\":{\"children\":[{\"id\":\"1630\"},{\"id\":\"1749\"},{\"id\":\"1876\"}],\"margin\":[0,0,0,0],\"name\":\"Row02594\",\"tags\":[\"embedded\"]},\"id\":\"1629\",\"type\":\"Row\"},{\"attributes\":{},\"id\":\"1651\",\"type\":\"SaveTool\"},{\"attributes\":{},\"id\":\"1652\",\"type\":\"PanTool\"},{\"attributes\":{},\"id\":\"1655\",\"type\":\"ResetTool\"},{\"attributes\":{},\"id\":\"1688\",\"type\":\"LinearScale\"},{\"attributes\":{},\"id\":\"1653\",\"type\":\"WheelZoomTool\"},{\"attributes\":{},\"id\":\"1693\",\"type\":\"BasicTicker\"},{\"attributes\":{\"overlay\":{\"id\":\"1656\"}},\"id\":\"1654\",\"type\":\"BoxZoomTool\"},{\"attributes\":{\"line_alpha\":0.2,\"line_color\":\"purple\",\"line_width\":2,\"x\":{\"field\":\"year\"},\"y\":{\"field\":\"shelter_costs_rented\"}},\"id\":\"1718\",\"type\":\"Line\"},{\"attributes\":{\"margin\":[5,5,5,5],\"name\":\"HSpacer02598\",\"sizing_mode\":\"stretch_width\"},\"id\":\"1630\",\"type\":\"Spacer\"},{\"attributes\":{},\"id\":\"1690\",\"type\":\"LinearScale\"},{\"attributes\":{\"axis_label\":\"Year\",\"bounds\":\"auto\",\"formatter\":{\"id\":\"1723\"},\"major_label_orientation\":1.5707963267948966,\"ticker\":{\"id\":\"1693\"}},\"id\":\"1692\",\"type\":\"LinearAxis\"},{\"attributes\":{},\"id\":\"1714\",\"type\":\"Selection\"},{\"attributes\":{\"axis\":{\"id\":\"1696\"},\"dimension\":1,\"ticker\":{\"id\":\"1697\"}},\"id\":\"1699\",\"type\":\"Grid\"},{\"attributes\":{\"axis\":{\"id\":\"1692\"},\"ticker\":{\"id\":\"1693\"}},\"id\":\"1695\",\"type\":\"Grid\"},{\"attributes\":{\"end\":1852.7578571428571,\"reset_end\":1852.7578571428571,\"reset_start\":755.435,\"start\":755.435,\"tags\":[[[\"shelter_costs_owned\",\"shelter_costs_owned\",null]]]},\"id\":\"1632\",\"type\":\"Range1d\"},{\"attributes\":{\"data\":{\"shelter_costs_owned\":{\"__ndarray__\":\"UAd1UAd3ikAzMzMzM5OUQG7btm3boJZA1EEd1EGFm0A=\",\"dtype\":\"float64\",\"order\":\"little\",\"shape\":[4]},\"year\":[2001,2006,2011,2016]},\"selected\":{\"id\":\"1665\"},\"selection_policy\":{\"id\":\"1735\"}},\"id\":\"1664\",\"type\":\"ColumnDataSource\"},{\"attributes\":{},\"id\":\"1697\",\"type\":\"BasicTicker\"},{\"attributes\":{\"axis_label\":\"Avg Monthly Shelter Costs ($)\",\"bounds\":\"auto\",\"formatter\":{\"id\":\"1721\"},\"major_label_orientation\":\"horizontal\",\"ticker\":{\"id\":\"1697\"}},\"id\":\"1696\",\"type\":\"LinearAxis\"},{\"attributes\":{\"end\":2016.0,\"reset_end\":2016.0,\"reset_start\":2001.0,\"start\":2001.0,\"tags\":[[[\"year\",\"year\",null]]]},\"id\":\"1631\",\"type\":\"Range1d\"},{\"attributes\":{\"line_alpha\":0.1,\"line_color\":\"purple\",\"line_width\":2,\"x\":{\"field\":\"year\"},\"y\":{\"field\":\"shelter_costs_rented\"}},\"id\":\"1717\",\"type\":\"Line\"},{\"attributes\":{\"callback\":null,\"renderers\":[{\"id\":\"1670\"}],\"tags\":[\"hv_created\"],\"tooltips\":[[\"year\",\"@{year}\"],[\"shelter_costs_owned\",\"@{shelter_costs_owned}\"]]},\"id\":\"1633\",\"type\":\"HoverTool\"},{\"attributes\":{\"margin\":[5,5,5,5],\"name\":\"HSpacer02599\",\"sizing_mode\":\"stretch_width\"},\"id\":\"1876\",\"type\":\"Spacer\"},{\"attributes\":{\"line_color\":\"green\",\"line_width\":2,\"x\":{\"field\":\"year\"},\"y\":{\"field\":\"shelter_costs_owned\"}},\"id\":\"1667\",\"type\":\"Line\"},{\"attributes\":{\"data_source\":{\"id\":\"1713\"},\"glyph\":{\"id\":\"1716\"},\"hover_glyph\":null,\"muted_glyph\":{\"id\":\"1718\"},\"nonselection_glyph\":{\"id\":\"1717\"},\"selection_glyph\":null,\"view\":{\"id\":\"1720\"}},\"id\":\"1719\",\"type\":\"GlyphRenderer\"},{\"attributes\":{},\"id\":\"1723\",\"type\":\"BasicTickFormatter\"},{\"attributes\":{\"bottom_units\":\"screen\",\"fill_alpha\":0.5,\"fill_color\":\"lightgrey\",\"left_units\":\"screen\",\"level\":\"overlay\",\"line_alpha\":1.0,\"line_color\":\"black\",\"line_dash\":[4,4],\"line_width\":2,\"right_units\":\"screen\",\"top_units\":\"screen\"},\"id\":\"1656\",\"type\":\"BoxAnnotation\"},{\"attributes\":{},\"id\":\"1735\",\"type\":\"UnionRenderers\"},{\"attributes\":{\"toolbars\":[{\"id\":\"1657\"},{\"id\":\"1706\"}],\"tools\":[{\"id\":\"1633\"},{\"id\":\"1651\"},{\"id\":\"1652\"},{\"id\":\"1653\"},{\"id\":\"1654\"},{\"id\":\"1655\"},{\"id\":\"1682\"},{\"id\":\"1700\"},{\"id\":\"1701\"},{\"id\":\"1702\"},{\"id\":\"1703\"},{\"id\":\"1704\"}]},\"id\":\"1747\",\"type\":\"ProxyToolbar\"},{\"attributes\":{},\"id\":\"1700\",\"type\":\"SaveTool\"},{\"attributes\":{\"below\":[{\"id\":\"1643\"}],\"center\":[{\"id\":\"1646\"},{\"id\":\"1650\"}],\"left\":[{\"id\":\"1647\"}],\"margin\":null,\"min_border_bottom\":10,\"min_border_left\":10,\"min_border_right\":10,\"min_border_top\":10,\"plot_height\":400,\"renderers\":[{\"id\":\"1670\"}],\"sizing_mode\":\"fixed\",\"title\":{\"id\":\"1635\"},\"toolbar\":{\"id\":\"1657\"},\"toolbar_location\":null,\"x_range\":{\"id\":\"1631\"},\"x_scale\":{\"id\":\"1639\"},\"y_range\":{\"id\":\"1632\"},\"y_scale\":{\"id\":\"1641\"}},\"id\":\"1634\",\"subtype\":\"Figure\",\"type\":\"Plot\"},{\"attributes\":{},\"id\":\"1701\",\"type\":\"PanTool\"},{\"attributes\":{},\"id\":\"1704\",\"type\":\"ResetTool\"},{\"attributes\":{},\"id\":\"1702\",\"type\":\"WheelZoomTool\"},{\"attributes\":{\"line_alpha\":0.2,\"line_color\":\"green\",\"line_width\":2,\"x\":{\"field\":\"year\"},\"y\":{\"field\":\"shelter_costs_owned\"}},\"id\":\"1669\",\"type\":\"Line\"},{\"attributes\":{\"children\":[[{\"id\":\"1634\"},0,0],[{\"id\":\"1683\"},0,1]]},\"id\":\"1746\",\"type\":\"GridBox\"},{\"attributes\":{\"overlay\":{\"id\":\"1705\"}},\"id\":\"1703\",\"type\":\"BoxZoomTool\"},{\"attributes\":{\"end\":1289.412142857143,\"reset_end\":1289.412142857143,\"reset_start\":892.3235714285714,\"start\":892.3235714285714,\"tags\":[[[\"shelter_costs_rented\",\"shelter_costs_rented\",null]]]},\"id\":\"1681\",\"type\":\"Range1d\"},{\"attributes\":{\"text\":\"Average Monthly Shelter Cost for Owned Dwellings in Torronto\",\"text_color\":{\"value\":\"black\"},\"text_font_size\":{\"value\":\"12pt\"}},\"id\":\"1635\",\"type\":\"Title\"},{\"attributes\":{},\"id\":\"1665\",\"type\":\"Selection\"},{\"attributes\":{\"data_source\":{\"id\":\"1664\"},\"glyph\":{\"id\":\"1667\"},\"hover_glyph\":null,\"muted_glyph\":{\"id\":\"1669\"},\"nonselection_glyph\":{\"id\":\"1668\"},\"selection_glyph\":null,\"view\":{\"id\":\"1671\"}},\"id\":\"1670\",\"type\":\"GlyphRenderer\"},{\"attributes\":{},\"id\":\"1674\",\"type\":\"BasicTickFormatter\"},{\"attributes\":{},\"id\":\"1639\",\"type\":\"LinearScale\"},{\"attributes\":{\"axis_label\":\"Year\",\"bounds\":\"auto\",\"formatter\":{\"id\":\"1674\"},\"major_label_orientation\":1.5707963267948966,\"ticker\":{\"id\":\"1644\"}},\"id\":\"1643\",\"type\":\"LinearAxis\"},{\"attributes\":{\"children\":[{\"id\":\"1748\"},{\"id\":\"1746\"}]},\"id\":\"1749\",\"type\":\"Column\"},{\"attributes\":{\"data\":{\"shelter_costs_rented\":{\"__ndarray__\":\"LL7iK773kEB1UAd1UOuMQMVXfMVX3o9AJUmSJEmhk0A=\",\"dtype\":\"float64\",\"order\":\"little\",\"shape\":[4]},\"year\":[2001,2006,2011,2016]},\"selected\":{\"id\":\"1714\"},\"selection_policy\":{\"id\":\"1743\"}},\"id\":\"1713\",\"type\":\"ColumnDataSource\"},{\"attributes\":{},\"id\":\"1641\",\"type\":\"LinearScale\"},{\"attributes\":{\"axis\":{\"id\":\"1643\"},\"ticker\":{\"id\":\"1644\"}},\"id\":\"1646\",\"type\":\"Grid\"},{\"attributes\":{\"format\":\"%.0f\"},\"id\":\"1672\",\"type\":\"PrintfTickFormatter\"},{\"attributes\":{},\"id\":\"1644\",\"type\":\"BasicTicker\"},{\"attributes\":{},\"id\":\"1743\",\"type\":\"UnionRenderers\"}],\"root_ids\":[\"1629\"]},\"title\":\"Bokeh Application\",\"version\":\"2.2.3\"}};\n    var render_items = [{\"docid\":\"3ecf630b-1642-4498-b7ae-f73fce301cf8\",\"root_ids\":[\"1629\"],\"roots\":{\"1629\":\"2c38765e-c439-46cc-a9b9-e69723eb9cc4\"}}];\n    root.Bokeh.embed.embed_items_notebook(docs_json, render_items);\n  }\n  if (root.Bokeh !== undefined && root.Bokeh.Panel !== undefined && root['Plotly'] !== undefined ) {\n    embed_document(root);\n  } else {\n    var attempts = 0;\n    var timer = setInterval(function(root) {\n      if (root.Bokeh !== undefined && root.Bokeh.Panel !== undefined && root['Plotly'] !== undefined) {\n        clearInterval(timer);\n        embed_document(root);\n      } else if (document.readyState == \"complete\") {\n        attempts++;\n        if (attempts > 100) {\n          clearInterval(timer);\n          console.log(\"Bokeh: ERROR: Unable to run BokehJS code because BokehJS library is missing\");\n        }\n      }\n    }, 10, root)\n  }\n})(window);</script>",
      "application/vnd.holoviews_exec.v0+json": "",
      "text/plain": [
       ":Layout\n",
       "   .Curve.Shelter_costs_owned  :Curve   [year]   (shelter_costs_owned)\n",
       "   .Curve.Shelter_costs_rented :Curve   [year]   (shelter_costs_rented)"
      ]
     },
     "metadata": {
      "application/vnd.holoviews_exec.v0+json": {
       "id": "1629"
      }
     },
     "execution_count": 11
    }
   ],
   "source": [
    "# Create two line charts, one to plot the monthly shelter costs for owned dwelleing and other for rented dwellings per year\n",
    "\n",
    "# Line chart for owned dwellings\n",
    "\n",
    "e = create_line_chart(average_shelter_costs_by_year[\"shelter_costs_owned\"], \n",
    "                      \"Average Monthly Shelter Cost for Owned Dwellings in Torronto\",  \n",
    "                      \"Year\", \n",
    "                      \"Avg Monthly Shelter Costs ($)\",\n",
    "                      \"green\"\n",
    "                     )\n",
    "# Line chart for rented dwellings\n",
    "\n",
    "f = create_line_chart(average_shelter_costs_by_year[\"shelter_costs_rented\"], \n",
    "                      \"Average Monthly Shelter Cost for Rented Dwellings in Torronto\",  \n",
    "                      \"Year\", \n",
    "                      \"Avg Monthly Shelter Costs ($)\", \n",
    "                      \"purple\"\n",
    "                     )\n",
    "# Line chart for rented dwellings\n",
    "e+f"
   ]
  },
  {
   "cell_type": "markdown",
   "metadata": {},
   "source": [
    "## Average House Value per Year\n",
    "\n",
    "In this section, you want to determine the average house value per year. An investor may want to understand better the sales price of the rental property over time. For example, a customer will want to know if they should expect an increase or decrease in the property value over time so they can determine how long to hold the rental property. You will visualize the `average_house_value` per year as a bar chart."
   ]
  },
  {
   "cell_type": "code",
   "execution_count": 12,
   "metadata": {},
   "outputs": [
    {
     "output_type": "execute_result",
     "data": {
      "text/plain": [
       "year\n",
       "2001    289882.885714\n",
       "2006    424059.664286\n",
       "2011    530424.721429\n",
       "2016    664068.328571\n",
       "Name: average_house_value, dtype: float64"
      ]
     },
     "metadata": {},
     "execution_count": 12
    }
   ],
   "source": [
    "# Calculate the average house value per year\n",
    "\n",
    "average_house_value = to_data[\"average_house_value\"].groupby(\"year\").mean()\n",
    "average_house_value\n"
   ]
  },
  {
   "cell_type": "code",
   "execution_count": 13,
   "metadata": {},
   "outputs": [
    {
     "output_type": "display_data",
     "data": {},
     "metadata": {}
    },
    {
     "output_type": "execute_result",
     "data": {
      "text/html": "<div id='1948'>\n\n\n\n\n\n  <div class=\"bk-root\" id=\"df635a1c-c6df-408f-96c1-4f44f99b3350\" data-root-id=\"1948\"></div>\n</div>\n<script type=\"application/javascript\">(function(root) {\n  function embed_document(root) {\n    var docs_json = {\"a24edcf9-b107-400c-ae77-e38d8d49af36\":{\"roots\":{\"references\":[{\"attributes\":{},\"id\":\"1963\",\"type\":\"BasicTicker\"},{\"attributes\":{\"axis\":{\"id\":\"1966\"},\"dimension\":1,\"ticker\":{\"id\":\"1967\"}},\"id\":\"1969\",\"type\":\"Grid\"},{\"attributes\":{\"axis\":{\"id\":\"1962\"},\"ticker\":{\"id\":\"1963\"}},\"id\":\"1965\",\"type\":\"Grid\"},{\"attributes\":{},\"id\":\"1984\",\"type\":\"Selection\"},{\"attributes\":{},\"id\":\"1967\",\"type\":\"BasicTicker\"},{\"attributes\":{\"axis_label\":\"Avg House Value ($)\",\"bounds\":\"auto\",\"formatter\":{\"id\":\"1991\"},\"major_label_orientation\":\"horizontal\",\"ticker\":{\"id\":\"1967\"}},\"id\":\"1966\",\"type\":\"LinearAxis\"},{\"attributes\":{\"active_drag\":\"auto\",\"active_inspect\":\"auto\",\"active_multi\":null,\"active_scroll\":\"auto\",\"active_tap\":\"auto\",\"tools\":[{\"id\":\"1952\"},{\"id\":\"1970\"},{\"id\":\"1971\"},{\"id\":\"1972\"},{\"id\":\"1973\"},{\"id\":\"1974\"}]},\"id\":\"1976\",\"type\":\"Toolbar\"},{\"attributes\":{\"callback\":null,\"renderers\":[{\"id\":\"1989\"}],\"tags\":[\"hv_created\"],\"tooltips\":[[\"year\",\"@{year}\"],[\"average_house_value\",\"@{average_house_value}\"]]},\"id\":\"1952\",\"type\":\"HoverTool\"},{\"attributes\":{\"line_color\":\"#1f77b3\",\"line_width\":2,\"x\":{\"field\":\"year\"},\"y\":{\"field\":\"average_house_value\"}},\"id\":\"1986\",\"type\":\"Line\"},{\"attributes\":{\"below\":[{\"id\":\"1962\"}],\"center\":[{\"id\":\"1965\"},{\"id\":\"1969\"}],\"left\":[{\"id\":\"1966\"}],\"margin\":[5,5,5,5],\"min_border_bottom\":10,\"min_border_left\":10,\"min_border_right\":10,\"min_border_top\":10,\"plot_height\":300,\"plot_width\":700,\"renderers\":[{\"id\":\"1989\"}],\"sizing_mode\":\"fixed\",\"title\":{\"id\":\"1954\"},\"toolbar\":{\"id\":\"1976\"},\"x_range\":{\"id\":\"1950\"},\"x_scale\":{\"id\":\"1958\"},\"y_range\":{\"id\":\"1951\"},\"y_scale\":{\"id\":\"1960\"}},\"id\":\"1953\",\"subtype\":\"Figure\",\"type\":\"Plot\"},{\"attributes\":{\"end\":2016.0,\"reset_end\":2016.0,\"reset_start\":2001.0,\"start\":2001.0,\"tags\":[[[\"year\",\"year\",null]]]},\"id\":\"1950\",\"type\":\"Range1d\"},{\"attributes\":{\"line_alpha\":0.1,\"line_color\":\"#1f77b3\",\"line_width\":2,\"x\":{\"field\":\"year\"},\"y\":{\"field\":\"average_house_value\"}},\"id\":\"1987\",\"type\":\"Line\"},{\"attributes\":{\"bottom_units\":\"screen\",\"fill_alpha\":0.5,\"fill_color\":\"lightgrey\",\"left_units\":\"screen\",\"level\":\"overlay\",\"line_alpha\":1.0,\"line_color\":\"black\",\"line_dash\":[4,4],\"line_width\":2,\"right_units\":\"screen\",\"top_units\":\"screen\"},\"id\":\"1975\",\"type\":\"BoxAnnotation\"},{\"attributes\":{\"source\":{\"id\":\"1983\"}},\"id\":\"1990\",\"type\":\"CDSView\"},{\"attributes\":{\"data_source\":{\"id\":\"1983\"},\"glyph\":{\"id\":\"1986\"},\"hover_glyph\":null,\"muted_glyph\":{\"id\":\"1988\"},\"nonselection_glyph\":{\"id\":\"1987\"},\"selection_glyph\":null,\"view\":{\"id\":\"1990\"}},\"id\":\"1989\",\"type\":\"GlyphRenderer\"},{\"attributes\":{\"text\":\"Average House Value in Toronto\",\"text_color\":{\"value\":\"black\"},\"text_font_size\":{\"value\":\"12pt\"}},\"id\":\"1954\",\"type\":\"Title\"},{\"attributes\":{\"data\":{\"average_house_value\":{\"__ndarray__\":\"i6/4imuxEUGogzqo7uEZQfEVX3HxLyBBqIM6qAhEJEE=\",\"dtype\":\"float64\",\"order\":\"little\",\"shape\":[4]},\"year\":[2001,2006,2011,2016]},\"selected\":{\"id\":\"1984\"},\"selection_policy\":{\"id\":\"2005\"}},\"id\":\"1983\",\"type\":\"ColumnDataSource\"},{\"attributes\":{\"children\":[{\"id\":\"1949\"},{\"id\":\"1953\"},{\"id\":\"2014\"}],\"margin\":[0,0,0,0],\"name\":\"Row02994\",\"tags\":[\"embedded\"]},\"id\":\"1948\",\"type\":\"Row\"},{\"attributes\":{},\"id\":\"1970\",\"type\":\"SaveTool\"},{\"attributes\":{\"format\":\"%.0f\"},\"id\":\"1991\",\"type\":\"PrintfTickFormatter\"},{\"attributes\":{\"end\":701486.8728571428,\"reset_end\":701486.8728571428,\"reset_start\":252464.34142857144,\"start\":252464.34142857144,\"tags\":[[[\"average_house_value\",\"average_house_value\",null]]]},\"id\":\"1951\",\"type\":\"Range1d\"},{\"attributes\":{},\"id\":\"1971\",\"type\":\"PanTool\"},{\"attributes\":{},\"id\":\"2005\",\"type\":\"UnionRenderers\"},{\"attributes\":{},\"id\":\"1974\",\"type\":\"ResetTool\"},{\"attributes\":{},\"id\":\"1972\",\"type\":\"WheelZoomTool\"},{\"attributes\":{\"line_alpha\":0.2,\"line_color\":\"#1f77b3\",\"line_width\":2,\"x\":{\"field\":\"year\"},\"y\":{\"field\":\"average_house_value\"}},\"id\":\"1988\",\"type\":\"Line\"},{\"attributes\":{\"margin\":[5,5,5,5],\"name\":\"HSpacer02999\",\"sizing_mode\":\"stretch_width\"},\"id\":\"2014\",\"type\":\"Spacer\"},{\"attributes\":{\"overlay\":{\"id\":\"1975\"}},\"id\":\"1973\",\"type\":\"BoxZoomTool\"},{\"attributes\":{},\"id\":\"1958\",\"type\":\"LinearScale\"},{\"attributes\":{},\"id\":\"1993\",\"type\":\"BasicTickFormatter\"},{\"attributes\":{\"margin\":[5,5,5,5],\"name\":\"HSpacer02998\",\"sizing_mode\":\"stretch_width\"},\"id\":\"1949\",\"type\":\"Spacer\"},{\"attributes\":{\"axis_label\":\"Year\",\"bounds\":\"auto\",\"formatter\":{\"id\":\"1993\"},\"major_label_orientation\":\"horizontal\",\"ticker\":{\"id\":\"1963\"}},\"id\":\"1962\",\"type\":\"LinearAxis\"},{\"attributes\":{},\"id\":\"1960\",\"type\":\"LinearScale\"}],\"root_ids\":[\"1948\"]},\"title\":\"Bokeh Application\",\"version\":\"2.2.3\"}};\n    var render_items = [{\"docid\":\"a24edcf9-b107-400c-ae77-e38d8d49af36\",\"root_ids\":[\"1948\"],\"roots\":{\"1948\":\"df635a1c-c6df-408f-96c1-4f44f99b3350\"}}];\n    root.Bokeh.embed.embed_items_notebook(docs_json, render_items);\n  }\n  if (root.Bokeh !== undefined && root.Bokeh.Panel !== undefined && root['Plotly'] !== undefined ) {\n    embed_document(root);\n  } else {\n    var attempts = 0;\n    var timer = setInterval(function(root) {\n      if (root.Bokeh !== undefined && root.Bokeh.Panel !== undefined && root['Plotly'] !== undefined) {\n        clearInterval(timer);\n        embed_document(root);\n      } else if (document.readyState == \"complete\") {\n        attempts++;\n        if (attempts > 100) {\n          clearInterval(timer);\n          console.log(\"Bokeh: ERROR: Unable to run BokehJS code because BokehJS library is missing\");\n        }\n      }\n    }, 10, root)\n  }\n})(window);</script>",
      "application/vnd.holoviews_exec.v0+json": "",
      "text/plain": [
       ":Curve   [year]   (average_house_value)"
      ]
     },
     "metadata": {
      "application/vnd.holoviews_exec.v0+json": {
       "id": "1948"
      }
     },
     "execution_count": 13
    }
   ],
   "source": [
    "# Plot the average house value per year as a line chart\n",
    "\n",
    "average_house_value.hvplot.line(title=\"Average House Value in Toronto\",\n",
    "                              grid=True,\n",
    "                              xlabel=\"Year\",\n",
    "                              ylabel=\"Avg House Value ($)\"\n",
    "                             ).opts(yformatter=\"%.0f\")"
   ]
  },
  {
   "cell_type": "markdown",
   "metadata": {},
   "source": [
    "- - - "
   ]
  },
  {
   "cell_type": "markdown",
   "metadata": {},
   "source": [
    "## Average House Value by Neighbourhood\n",
    "\n",
    "In this section, you will use `hvplot` to create an interactive visualization of the average house value with a dropdown selector for the neighbourhood.\n",
    "\n",
    "**Hint:** It will be easier to create a new DataFrame from grouping the data and calculating the mean house values for each year and neighbourhood."
   ]
  },
  {
   "cell_type": "code",
   "execution_count": 14,
   "metadata": {},
   "outputs": [
    {
     "output_type": "execute_result",
     "data": {
      "text/plain": [
       "   year                 Neighbourhood  average_house_value\n",
       "0  2001               Agincourt North               200388\n",
       "1  2001  Agincourt South-Malvern West               203047\n",
       "2  2001                     Alderwood               259998\n",
       "3  2001                         Annex               453850\n",
       "4  2001             Banbury-Don Mills               371864\n",
       "5  2001                Bathurst Manor               304749\n",
       "6  2001           Bay Street Corridor               257404\n",
       "7  2001               Bayview Village               327644\n",
       "8  2001         Bayview Woods-Steeles               343535\n",
       "9  2001          Bedford Park-Nortown               565304"
      ],
      "text/html": "<div>\n<style scoped>\n    .dataframe tbody tr th:only-of-type {\n        vertical-align: middle;\n    }\n\n    .dataframe tbody tr th {\n        vertical-align: top;\n    }\n\n    .dataframe thead th {\n        text-align: right;\n    }\n</style>\n<table border=\"1\" class=\"dataframe\">\n  <thead>\n    <tr style=\"text-align: right;\">\n      <th></th>\n      <th>year</th>\n      <th>Neighbourhood</th>\n      <th>average_house_value</th>\n    </tr>\n  </thead>\n  <tbody>\n    <tr>\n      <th>0</th>\n      <td>2001</td>\n      <td>Agincourt North</td>\n      <td>200388</td>\n    </tr>\n    <tr>\n      <th>1</th>\n      <td>2001</td>\n      <td>Agincourt South-Malvern West</td>\n      <td>203047</td>\n    </tr>\n    <tr>\n      <th>2</th>\n      <td>2001</td>\n      <td>Alderwood</td>\n      <td>259998</td>\n    </tr>\n    <tr>\n      <th>3</th>\n      <td>2001</td>\n      <td>Annex</td>\n      <td>453850</td>\n    </tr>\n    <tr>\n      <th>4</th>\n      <td>2001</td>\n      <td>Banbury-Don Mills</td>\n      <td>371864</td>\n    </tr>\n    <tr>\n      <th>5</th>\n      <td>2001</td>\n      <td>Bathurst Manor</td>\n      <td>304749</td>\n    </tr>\n    <tr>\n      <th>6</th>\n      <td>2001</td>\n      <td>Bay Street Corridor</td>\n      <td>257404</td>\n    </tr>\n    <tr>\n      <th>7</th>\n      <td>2001</td>\n      <td>Bayview Village</td>\n      <td>327644</td>\n    </tr>\n    <tr>\n      <th>8</th>\n      <td>2001</td>\n      <td>Bayview Woods-Steeles</td>\n      <td>343535</td>\n    </tr>\n    <tr>\n      <th>9</th>\n      <td>2001</td>\n      <td>Bedford Park-Nortown</td>\n      <td>565304</td>\n    </tr>\n  </tbody>\n</table>\n</div>"
     },
     "metadata": {},
     "execution_count": 14
    }
   ],
   "source": [
    "# Create a new DataFrame with the mean house values by neighbourhood per year\n",
    "\n",
    "avg_value_by_nbhd = to_data[[\"neighbourhood\", \"average_house_value\"]].reset_index()\n",
    "avg_value_by_nbhd.rename(columns={\"neighbourhood\":\"Neighbourhood\"}, inplace=True)\n",
    "avg_value_by_nbhd.head(10)"
   ]
  },
  {
   "cell_type": "code",
   "execution_count": 15,
   "metadata": {},
   "outputs": [
    {
     "output_type": "display_data",
     "data": {},
     "metadata": {}
    },
    {
     "output_type": "execute_result",
     "data": {
      "text/html": "<div id='2051'>\n\n\n\n\n\n  <div class=\"bk-root\" id=\"738e8dd7-d17d-4fd8-ac10-963265b7a91a\" data-root-id=\"2051\"></div>\n</div>\n<script type=\"application/javascript\">(function(root) {\n  function embed_document(root) {\n    var docs_json = {\"f054bf13-873a-4655-8daa-3f8bd98cbb16\":{\"roots\":{\"references\":[{\"attributes\":{\"below\":[{\"id\":\"2065\"}],\"center\":[{\"id\":\"2068\"},{\"id\":\"2072\"}],\"left\":[{\"id\":\"2069\"}],\"margin\":[5,5,5,5],\"min_border_bottom\":10,\"min_border_left\":10,\"min_border_right\":10,\"min_border_top\":10,\"plot_height\":300,\"plot_width\":700,\"renderers\":[{\"id\":\"2092\"}],\"sizing_mode\":\"fixed\",\"title\":{\"id\":\"2057\"},\"toolbar\":{\"id\":\"2079\"},\"x_range\":{\"id\":\"2053\"},\"x_scale\":{\"id\":\"2061\"},\"y_range\":{\"id\":\"2054\"},\"y_scale\":{\"id\":\"2063\"}},\"id\":\"2056\",\"subtype\":\"Figure\",\"type\":\"Plot\"},{\"attributes\":{\"end\":2016.0,\"reset_end\":2016.0,\"reset_start\":2001.0,\"start\":2001.0,\"tags\":[[[\"year\",\"year\",null]]]},\"id\":\"2053\",\"type\":\"Range1d\"},{\"attributes\":{\"text\":\"Neighbourhood: Agincourt North\",\"text_color\":{\"value\":\"black\"},\"text_font_size\":{\"value\":\"12pt\"}},\"id\":\"2057\",\"type\":\"Title\"},{\"attributes\":{\"children\":[{\"id\":\"2052\"},{\"id\":\"2056\"},{\"id\":\"2123\"},{\"id\":\"2124\"}],\"margin\":[0,0,0,0],\"name\":\"Row03127\"},\"id\":\"2051\",\"type\":\"Row\"},{\"attributes\":{},\"id\":\"2096\",\"type\":\"BasicTickFormatter\"},{\"attributes\":{\"source\":{\"id\":\"2086\"}},\"id\":\"2093\",\"type\":\"CDSView\"},{\"attributes\":{\"margin\":[5,5,5,5],\"name\":\"VSpacer03134\",\"sizing_mode\":\"stretch_height\"},\"id\":\"2128\",\"type\":\"Spacer\"},{\"attributes\":{},\"id\":\"2073\",\"type\":\"SaveTool\"},{\"attributes\":{\"client_comm_id\":\"8f6734b0233b46248bd8658638951007\",\"comm_id\":\"b1eddbdcdd7742da8deed9d13997046e\",\"plot_id\":\"2051\"},\"id\":\"2150\",\"type\":\"panel.models.comm_manager.CommManager\"},{\"attributes\":{\"margin\":[5,5,5,5],\"name\":\"VSpacer03133\",\"sizing_mode\":\"stretch_height\"},\"id\":\"2125\",\"type\":\"Spacer\"},{\"attributes\":{},\"id\":\"2074\",\"type\":\"PanTool\"},{\"attributes\":{},\"id\":\"2077\",\"type\":\"ResetTool\"},{\"attributes\":{},\"id\":\"2075\",\"type\":\"WheelZoomTool\"},{\"attributes\":{\"line_color\":\"plum\",\"line_width\":2,\"x\":{\"field\":\"year\"},\"y\":{\"field\":\"average_house_value\"}},\"id\":\"2089\",\"type\":\"Line\"},{\"attributes\":{\"margin\":[5,5,5,5],\"name\":\"HSpacer03136\",\"sizing_mode\":\"stretch_width\"},\"id\":\"2052\",\"type\":\"Spacer\"},{\"attributes\":{\"data_source\":{\"id\":\"2086\"},\"glyph\":{\"id\":\"2089\"},\"hover_glyph\":null,\"muted_glyph\":{\"id\":\"2091\"},\"nonselection_glyph\":{\"id\":\"2090\"},\"selection_glyph\":null,\"view\":{\"id\":\"2093\"}},\"id\":\"2092\",\"type\":\"GlyphRenderer\"},{\"attributes\":{\"overlay\":{\"id\":\"2078\"}},\"id\":\"2076\",\"type\":\"BoxZoomTool\"},{\"attributes\":{\"children\":[{\"id\":\"2125\"},{\"id\":\"2126\"},{\"id\":\"2128\"}],\"margin\":[0,0,0,0],\"name\":\"Column03135\"},\"id\":\"2124\",\"type\":\"Column\"},{\"attributes\":{},\"id\":\"2061\",\"type\":\"LinearScale\"},{\"attributes\":{},\"id\":\"2114\",\"type\":\"UnionRenderers\"},{\"attributes\":{},\"id\":\"2087\",\"type\":\"Selection\"},{\"attributes\":{\"margin\":[20,20,20,20],\"min_width\":250,\"options\":[\"Agincourt North\",\"Agincourt South-Malvern West\",\"Alderwood\",\"Annex\",\"Banbury-Don Mills\",\"Bathurst Manor\",\"Bay Street Corridor\",\"Bayview Village\",\"Bayview Woods-Steeles\",\"Bedford Park-Nortown\",\"Beechborough-Greenbrook\",\"Bendale\",\"Birchcliffe-Cliffside\",\"Black Creek\",\"Blake-Jones\",\"Briar Hill-Belgravia\",\"Bridle Path-Sunnybrook-York Mills\",\"Broadview North\",\"Brookhaven-Amesbury\",\"Cabbagetown-South St.James Town\",\"Caledonia-Fairbank\",\"Casa Loma\",\"Centennial Scarborough\",\"Church-Yonge Corridor\",\"Clairlea-Birchmount\",\"Clanton Park\",\"Cliffcrest\",\"Corso Italia-Davenport\",\"Danforth\",\"Danforth-East York\",\"Don Valley Village\",\"Dorset Park\",\"Dovercourt-Wallace Emerson-Juncti\",\"Downsview-Roding-CFB\",\"Dufferin Grove\",\"East End-Danforth\",\"Edenbridge-Humber Valley\",\"Eglinton East\",\"Elms-Old Rexdale\",\"Englemount-Lawrence\",\"Eringate-Centennial-West Deane\",\"Etobicoke West Mall\",\"Flemingdon Park\",\"Forest Hill North\",\"Forest Hill South\",\"Glenfield-Jane Heights\",\"Greenwood-Coxwell\",\"Guildwood\",\"Henry Farm\",\"High Park North\",\"High Park-Swansea\",\"Highland Creek\",\"Hillcrest Village\",\"Humber Heights-Westmount\",\"Humber Summit\",\"Humbermede\",\"Humewood-Cedarvale\",\"Ionview\",\"Islington-City Centre West\",\"Junction Area\",\"Keelesdale-Eglinton West\",\"Kennedy Park\",\"Kensington-Chinatown\",\"Kingsview Village-The Westway\",\"Kingsway South\",\"L'Amoreaux\",\"Lambton Baby Point\",\"Lansing-Westgate\",\"Lawrence Park North\",\"Lawrence Park South\",\"Leaside-Bennington\",\"Little Portugal\",\"Long Branch\",\"Malvern\",\"Maple Leaf\",\"Markland Wood\",\"Milliken\",\"Mimico\",\"Morningside\",\"Moss Park\",\"Mount Dennis\",\"Mount Olive-Silverstone-Jamestown\",\"Mount Pleasant East\",\"Mount Pleasant West\",\"New Toronto\",\"Newtonbrook East\",\"Newtonbrook West\",\"Niagara\",\"North Riverdale\",\"North St.James Town\",\"O'Connor-Parkview\",\"Oakridge\",\"Oakwood Village\",\"Old East York\",\"Palmerston-Little Italy\",\"Parkwoods-Donalda\",\"Pelmo Park-Humberlea\",\"Playter Estates-Danforth\",\"Pleasant View\",\"Princess-Rosethorn\",\"Regent Park\",\"Rexdale-Kipling\",\"Rockcliffe-Smythe\",\"Roncesvalles\",\"Rosedale-Moore Park\",\"Rouge\",\"Runnymede-Bloor West Village\",\"Rustic\",\"Scarborough Village\",\"South Parkdale\",\"South Riverdale\",\"St.Andrew-Windfields\",\"Steeles\",\"Stonegate-Queensway\",\"Tam O'Shanter-Sullivan\",\"Taylor-Massey\",\"The Beaches\",\"Thistletown-Beaumond Heights\",\"Thorncliffe Park\",\"Trinity-Bellwoods\",\"University\",\"Victoria Village\",\"Waterfront Communities-The Island\",\"West Hill\",\"West Humber-Clairville\",\"Westminster-Branson\",\"Weston\",\"Weston-Pellam Park\",\"Wexford/Maryvale\",\"Willowdale East\",\"Willowdale West\",\"Willowridge-Martingrove-Richview\",\"Woburn\",\"Woodbine Corridor\",\"Woodbine-Lumsden\",\"Wychwood\",\"Yonge-Eglinton\",\"Yonge-St.Clair\",\"York University Heights\",\"Yorkdale-Glen Park\"],\"title\":\"Neighbourhood\",\"value\":\"Agincourt North\",\"width\":250},\"id\":\"2127\",\"type\":\"Select\"},{\"attributes\":{\"axis_label\":\"Year\",\"bounds\":\"auto\",\"formatter\":{\"id\":\"2096\"},\"major_label_orientation\":\"horizontal\",\"ticker\":{\"id\":\"2066\"}},\"id\":\"2065\",\"type\":\"LinearAxis\"},{\"attributes\":{\"callback\":null,\"renderers\":[{\"id\":\"2092\"}],\"tags\":[\"hv_created\"],\"tooltips\":[[\"year\",\"@{year}\"],[\"average_house_value\",\"@{average_house_value}\"]]},\"id\":\"2055\",\"type\":\"HoverTool\"},{\"attributes\":{},\"id\":\"2063\",\"type\":\"LinearScale\"},{\"attributes\":{\"margin\":[5,5,5,5],\"name\":\"HSpacer03137\",\"sizing_mode\":\"stretch_width\"},\"id\":\"2123\",\"type\":\"Spacer\"},{\"attributes\":{\"children\":[{\"id\":\"2127\"}],\"css_classes\":[\"panel-widget-box\"],\"margin\":[5,5,5,5],\"name\":\"WidgetBox03128\"},\"id\":\"2126\",\"type\":\"Column\"},{\"attributes\":{},\"id\":\"2066\",\"type\":\"BasicTicker\"},{\"attributes\":{\"axis\":{\"id\":\"2069\"},\"dimension\":1,\"ticker\":{\"id\":\"2070\"}},\"id\":\"2072\",\"type\":\"Grid\"},{\"attributes\":{\"axis\":{\"id\":\"2065\"},\"ticker\":{\"id\":\"2066\"}},\"id\":\"2068\",\"type\":\"Grid\"},{\"attributes\":{\"active_drag\":\"auto\",\"active_inspect\":\"auto\",\"active_multi\":null,\"active_scroll\":\"auto\",\"active_tap\":\"auto\",\"tools\":[{\"id\":\"2055\"},{\"id\":\"2073\"},{\"id\":\"2074\"},{\"id\":\"2075\"},{\"id\":\"2076\"},{\"id\":\"2077\"}]},\"id\":\"2079\",\"type\":\"Toolbar\"},{\"attributes\":{},\"id\":\"2070\",\"type\":\"BasicTicker\"},{\"attributes\":{\"data\":{\"average_house_value\":[200388,293140,366667,459051],\"year\":[2001,2006,2011,2016]},\"selected\":{\"id\":\"2087\"},\"selection_policy\":{\"id\":\"2114\"}},\"id\":\"2086\",\"type\":\"ColumnDataSource\"},{\"attributes\":{\"axis_label\":\"Avg House Value\",\"bounds\":\"auto\",\"formatter\":{\"id\":\"2094\"},\"major_label_orientation\":\"horizontal\",\"ticker\":{\"id\":\"2070\"}},\"id\":\"2069\",\"type\":\"LinearAxis\"},{\"attributes\":{\"line_alpha\":0.2,\"line_color\":\"plum\",\"line_width\":2,\"x\":{\"field\":\"year\"},\"y\":{\"field\":\"average_house_value\"}},\"id\":\"2091\",\"type\":\"Line\"},{\"attributes\":{\"format\":\"%.0f\"},\"id\":\"2094\",\"type\":\"PrintfTickFormatter\"},{\"attributes\":{\"bottom_units\":\"screen\",\"fill_alpha\":0.5,\"fill_color\":\"lightgrey\",\"left_units\":\"screen\",\"level\":\"overlay\",\"line_alpha\":1.0,\"line_color\":\"black\",\"line_dash\":[4,4],\"line_width\":2,\"right_units\":\"screen\",\"top_units\":\"screen\"},\"id\":\"2078\",\"type\":\"BoxAnnotation\"},{\"attributes\":{\"line_alpha\":0.1,\"line_color\":\"plum\",\"line_width\":2,\"x\":{\"field\":\"year\"},\"y\":{\"field\":\"average_house_value\"}},\"id\":\"2090\",\"type\":\"Line\"},{\"attributes\":{\"end\":2200000,\"reset_end\":2200000,\"reset_start\":0,\"tags\":[[[\"average_house_value\",\"average_house_value\",null]]]},\"id\":\"2054\",\"type\":\"Range1d\"}],\"root_ids\":[\"2051\",\"2150\"]},\"title\":\"Bokeh Application\",\"version\":\"2.2.3\"}};\n    var render_items = [{\"docid\":\"f054bf13-873a-4655-8daa-3f8bd98cbb16\",\"root_ids\":[\"2051\"],\"roots\":{\"2051\":\"738e8dd7-d17d-4fd8-ac10-963265b7a91a\"}}];\n    root.Bokeh.embed.embed_items_notebook(docs_json, render_items);\n  }\n  if (root.Bokeh !== undefined && root.Bokeh.Panel !== undefined && root['Plotly'] !== undefined ) {\n    embed_document(root);\n  } else {\n    var attempts = 0;\n    var timer = setInterval(function(root) {\n      if (root.Bokeh !== undefined && root.Bokeh.Panel !== undefined && root['Plotly'] !== undefined) {\n        clearInterval(timer);\n        embed_document(root);\n      } else if (document.readyState == \"complete\") {\n        attempts++;\n        if (attempts > 100) {\n          clearInterval(timer);\n          console.log(\"Bokeh: ERROR: Unable to run BokehJS code because BokehJS library is missing\");\n        }\n      }\n    }, 10, root)\n  }\n})(window);</script>",
      "application/vnd.holoviews_exec.v0+json": "",
      "text/plain": [
       ":DynamicMap   [Neighbourhood]\n",
       "   :Curve   [year]   (average_house_value)"
      ]
     },
     "metadata": {
      "application/vnd.holoviews_exec.v0+json": {
       "id": "2051"
      }
     },
     "execution_count": 15
    }
   ],
   "source": [
    "# Use hvplot to create an interactive line chart of the average house value per neighbourhood\n",
    "# The plot should have a dropdown selector for the neighbourhood\n",
    "\n",
    "\n",
    "avg_value_by_nbhd.hvplot.line(x=\"year\", \n",
    "                              xlabel=\"Year\", \n",
    "                              ylabel=\"Avg House Value\", \n",
    "                              groupby=\"Neighbourhood\", \n",
    "                              c=\"plum\",\n",
    "                              grid=True,\n",
    "                              ylim=(0, 2200000)\n",
    "                             ).opts(yformatter=\"%.0f\")"
   ]
  },
  {
   "cell_type": "markdown",
   "metadata": {},
   "source": [
    "## Number of Dwelling Types per Year\n",
    "\n",
    "In this section, you will use `hvplot` to create an interactive visualization of the average number of dwelling types per year with a dropdown selector for the neighbourhood."
   ]
  },
  {
   "cell_type": "code",
   "execution_count": 16,
   "metadata": {},
   "outputs": [
    {
     "output_type": "execute_result",
     "data": {
      "text/plain": [
       "   year                 Neighbourhood  single_detached_house  \\\n",
       "0  2001               Agincourt North                   3715   \n",
       "1  2001  Agincourt South-Malvern West                   3250   \n",
       "2  2001                     Alderwood                   3175   \n",
       "3  2001                         Annex                   1060   \n",
       "4  2001             Banbury-Don Mills                   3615   \n",
       "5  2001                Bathurst Manor                   2405   \n",
       "6  2001           Bay Street Corridor                     10   \n",
       "7  2001               Bayview Village                   2170   \n",
       "8  2001         Bayview Woods-Steeles                   1650   \n",
       "9  2001          Bedford Park-Nortown                   4985   \n",
       "\n",
       "   apartment_five_storeys_plus  movable_dwelling  semi_detached_house  \\\n",
       "0                         1480                 0                 1055   \n",
       "1                         1835                 0                  545   \n",
       "2                          315                 0                  470   \n",
       "3                         6090                 5                 1980   \n",
       "4                         4465                 0                  240   \n",
       "5                         1550                 0                  130   \n",
       "6                         7575                 0                    0   \n",
       "7                          630                 0                  170   \n",
       "8                         1715                 0                  925   \n",
       "9                         2080                 0                   45   \n",
       "\n",
       "   row_house  duplex  apartment_five_storeys_less  other_house  \n",
       "0       1295     195                          185            5  \n",
       "1        455     105                          425            0  \n",
       "2         50     185                          370            0  \n",
       "3        605     275                         3710          165  \n",
       "4        380      15                         1360            0  \n",
       "5        130     375                          745            0  \n",
       "6         15       0                          240            0  \n",
       "7        765      15                          640            0  \n",
       "8        105      10                          170            5  \n",
       "9         40     210                         1235           15  "
      ],
      "text/html": "<div>\n<style scoped>\n    .dataframe tbody tr th:only-of-type {\n        vertical-align: middle;\n    }\n\n    .dataframe tbody tr th {\n        vertical-align: top;\n    }\n\n    .dataframe thead th {\n        text-align: right;\n    }\n</style>\n<table border=\"1\" class=\"dataframe\">\n  <thead>\n    <tr style=\"text-align: right;\">\n      <th></th>\n      <th>year</th>\n      <th>Neighbourhood</th>\n      <th>single_detached_house</th>\n      <th>apartment_five_storeys_plus</th>\n      <th>movable_dwelling</th>\n      <th>semi_detached_house</th>\n      <th>row_house</th>\n      <th>duplex</th>\n      <th>apartment_five_storeys_less</th>\n      <th>other_house</th>\n    </tr>\n  </thead>\n  <tbody>\n    <tr>\n      <th>0</th>\n      <td>2001</td>\n      <td>Agincourt North</td>\n      <td>3715</td>\n      <td>1480</td>\n      <td>0</td>\n      <td>1055</td>\n      <td>1295</td>\n      <td>195</td>\n      <td>185</td>\n      <td>5</td>\n    </tr>\n    <tr>\n      <th>1</th>\n      <td>2001</td>\n      <td>Agincourt South-Malvern West</td>\n      <td>3250</td>\n      <td>1835</td>\n      <td>0</td>\n      <td>545</td>\n      <td>455</td>\n      <td>105</td>\n      <td>425</td>\n      <td>0</td>\n    </tr>\n    <tr>\n      <th>2</th>\n      <td>2001</td>\n      <td>Alderwood</td>\n      <td>3175</td>\n      <td>315</td>\n      <td>0</td>\n      <td>470</td>\n      <td>50</td>\n      <td>185</td>\n      <td>370</td>\n      <td>0</td>\n    </tr>\n    <tr>\n      <th>3</th>\n      <td>2001</td>\n      <td>Annex</td>\n      <td>1060</td>\n      <td>6090</td>\n      <td>5</td>\n      <td>1980</td>\n      <td>605</td>\n      <td>275</td>\n      <td>3710</td>\n      <td>165</td>\n    </tr>\n    <tr>\n      <th>4</th>\n      <td>2001</td>\n      <td>Banbury-Don Mills</td>\n      <td>3615</td>\n      <td>4465</td>\n      <td>0</td>\n      <td>240</td>\n      <td>380</td>\n      <td>15</td>\n      <td>1360</td>\n      <td>0</td>\n    </tr>\n    <tr>\n      <th>5</th>\n      <td>2001</td>\n      <td>Bathurst Manor</td>\n      <td>2405</td>\n      <td>1550</td>\n      <td>0</td>\n      <td>130</td>\n      <td>130</td>\n      <td>375</td>\n      <td>745</td>\n      <td>0</td>\n    </tr>\n    <tr>\n      <th>6</th>\n      <td>2001</td>\n      <td>Bay Street Corridor</td>\n      <td>10</td>\n      <td>7575</td>\n      <td>0</td>\n      <td>0</td>\n      <td>15</td>\n      <td>0</td>\n      <td>240</td>\n      <td>0</td>\n    </tr>\n    <tr>\n      <th>7</th>\n      <td>2001</td>\n      <td>Bayview Village</td>\n      <td>2170</td>\n      <td>630</td>\n      <td>0</td>\n      <td>170</td>\n      <td>765</td>\n      <td>15</td>\n      <td>640</td>\n      <td>0</td>\n    </tr>\n    <tr>\n      <th>8</th>\n      <td>2001</td>\n      <td>Bayview Woods-Steeles</td>\n      <td>1650</td>\n      <td>1715</td>\n      <td>0</td>\n      <td>925</td>\n      <td>105</td>\n      <td>10</td>\n      <td>170</td>\n      <td>5</td>\n    </tr>\n    <tr>\n      <th>9</th>\n      <td>2001</td>\n      <td>Bedford Park-Nortown</td>\n      <td>4985</td>\n      <td>2080</td>\n      <td>0</td>\n      <td>45</td>\n      <td>40</td>\n      <td>210</td>\n      <td>1235</td>\n      <td>15</td>\n    </tr>\n  </tbody>\n</table>\n</div>"
     },
     "metadata": {},
     "execution_count": 16
    }
   ],
   "source": [
    "# Fetch the data of all dwelling types per year\n",
    "\n",
    "dwelling_types_by_nbhd = to_data.drop(columns=[\"average_house_value\", \n",
    "                                        \"shelter_costs_owned\", \n",
    "                                        \"shelter_costs_rented\"\n",
    "                                       ]\n",
    "                                     ).reset_index()\n",
    "dwelling_types_by_nbhd.rename(columns={\"neighbourhood\":\"Neighbourhood\"}, inplace=True)\n",
    "dwelling_types_by_nbhd.head(10)"
   ]
  },
  {
   "cell_type": "code",
   "execution_count": 17,
   "metadata": {},
   "outputs": [
    {
     "output_type": "display_data",
     "data": {},
     "metadata": {}
    },
    {
     "output_type": "execute_result",
     "data": {
      "text/html": "<div id='2186'>\n\n\n\n\n\n  <div class=\"bk-root\" id=\"1b3b8f77-194d-43c9-8ca0-d4e48333ccb2\" data-root-id=\"2186\"></div>\n</div>\n<script type=\"application/javascript\">(function(root) {\n  function embed_document(root) {\n    var docs_json = {\"9c081552-4672-48a2-a95a-3c569064dd6e\":{\"roots\":{\"references\":[{\"attributes\":{\"axis_label\":\"Year\",\"bounds\":\"auto\",\"formatter\":{\"id\":\"2229\"},\"major_label_orientation\":1.5707963267948966,\"ticker\":{\"id\":\"2201\"}},\"id\":\"2200\",\"type\":\"CategoricalAxis\"},{\"attributes\":{\"axis\":{\"id\":\"2203\"},\"dimension\":1,\"ticker\":{\"id\":\"2204\"}},\"id\":\"2206\",\"type\":\"Grid\"},{\"attributes\":{},\"id\":\"2208\",\"type\":\"PanTool\"},{\"attributes\":{},\"id\":\"2209\",\"type\":\"WheelZoomTool\"},{\"attributes\":{},\"id\":\"2211\",\"type\":\"ResetTool\"},{\"attributes\":{\"margin\":[5,5,5,5],\"name\":\"VSpacer03440\",\"sizing_mode\":\"stretch_height\"},\"id\":\"2259\",\"type\":\"Spacer\"},{\"attributes\":{\"overlay\":{\"id\":\"2212\"}},\"id\":\"2210\",\"type\":\"BoxZoomTool\"},{\"attributes\":{},\"id\":\"2201\",\"type\":\"CategoricalTicker\"},{\"attributes\":{},\"id\":\"2222\",\"type\":\"Selection\"},{\"attributes\":{},\"id\":\"2229\",\"type\":\"CategoricalTickFormatter\"},{\"attributes\":{\"client_comm_id\":\"3b0d3c9974df4724ac12d1985c6479a4\",\"comm_id\":\"07bc023b09a1480aa1a4dfe390bf301b\",\"plot_id\":\"2186\"},\"id\":\"2287\",\"type\":\"panel.models.comm_manager.CommManager\"},{\"attributes\":{\"text\":\"Neighbourhood: Agincourt North\",\"text_color\":{\"value\":\"black\"},\"text_font_size\":{\"value\":\"12pt\"}},\"id\":\"2192\",\"type\":\"Title\"},{\"attributes\":{\"factors\":[[\"2001\",\"other_house\"],[\"2001\",\"apartment_five_storeys_less\"],[\"2001\",\"duplex\"],[\"2001\",\"row_house\"],[\"2001\",\"semi_detached_house\"],[\"2001\",\"movable_dwelling\"],[\"2001\",\"apartment_five_storeys_plus\"],[\"2001\",\"single_detached_house\"],[\"2006\",\"other_house\"],[\"2006\",\"apartment_five_storeys_less\"],[\"2006\",\"duplex\"],[\"2006\",\"row_house\"],[\"2006\",\"semi_detached_house\"],[\"2006\",\"movable_dwelling\"],[\"2006\",\"apartment_five_storeys_plus\"],[\"2006\",\"single_detached_house\"],[\"2011\",\"other_house\"],[\"2011\",\"apartment_five_storeys_less\"],[\"2011\",\"duplex\"],[\"2011\",\"row_house\"],[\"2011\",\"semi_detached_house\"],[\"2011\",\"movable_dwelling\"],[\"2011\",\"apartment_five_storeys_plus\"],[\"2011\",\"single_detached_house\"],[\"2016\",\"other_house\"],[\"2016\",\"apartment_five_storeys_less\"],[\"2016\",\"duplex\"],[\"2016\",\"row_house\"],[\"2016\",\"semi_detached_house\"],[\"2016\",\"movable_dwelling\"],[\"2016\",\"apartment_five_storeys_plus\"],[\"2016\",\"single_detached_house\"]],\"tags\":[[[\"year\",\"year\",null],[\"Variable\",\"Variable\",null]]]},\"id\":\"2188\",\"type\":\"FactorRange\"},{\"attributes\":{\"children\":[{\"id\":\"2261\"}],\"css_classes\":[\"panel-widget-box\"],\"margin\":[5,5,5,5],\"name\":\"WidgetBox03435\"},\"id\":\"2260\",\"type\":\"Column\"},{\"attributes\":{\"callback\":null,\"renderers\":[{\"id\":\"2227\"}],\"tags\":[\"hv_created\"],\"tooltips\":[[\"year\",\"@{year}\"],[\"Variable\",\"@{Variable}\"],[\"value\",\"@{value}\"]]},\"id\":\"2190\",\"type\":\"HoverTool\"},{\"attributes\":{},\"id\":\"2247\",\"type\":\"UnionRenderers\"},{\"attributes\":{\"children\":[{\"id\":\"2187\"},{\"id\":\"2191\"},{\"id\":\"2257\"},{\"id\":\"2258\"}],\"margin\":[0,0,0,0],\"name\":\"Row03434\"},\"id\":\"2186\",\"type\":\"Row\"},{\"attributes\":{\"fill_alpha\":{\"value\":0.1},\"fill_color\":{\"field\":\"Variable\",\"transform\":{\"id\":\"2220\"}},\"line_alpha\":{\"value\":0.1},\"top\":{\"field\":\"value\"},\"width\":{\"value\":0.8},\"x\":{\"field\":\"xoffsets\"}},\"id\":\"2225\",\"type\":\"VBar\"},{\"attributes\":{\"end\":8000,\"reset_end\":8000,\"reset_start\":0,\"tags\":[[[\"value\",\"value\",null]]]},\"id\":\"2189\",\"type\":\"Range1d\"},{\"attributes\":{},\"id\":\"2232\",\"type\":\"BasicTickFormatter\"},{\"attributes\":{\"source\":{\"id\":\"2221\"}},\"id\":\"2228\",\"type\":\"CDSView\"},{\"attributes\":{\"data\":{\"Variable\":[\"single_detached_house\",\"single_detached_house\",\"single_detached_house\",\"single_detached_house\",\"apartment_five_storeys_plus\",\"apartment_five_storeys_plus\",\"apartment_five_storeys_plus\",\"apartment_five_storeys_plus\",\"movable_dwelling\",\"movable_dwelling\",\"movable_dwelling\",\"movable_dwelling\",\"semi_detached_house\",\"semi_detached_house\",\"semi_detached_house\",\"semi_detached_house\",\"row_house\",\"row_house\",\"row_house\",\"row_house\",\"duplex\",\"duplex\",\"duplex\",\"duplex\",\"apartment_five_storeys_less\",\"apartment_five_storeys_less\",\"apartment_five_storeys_less\",\"apartment_five_storeys_less\",\"other_house\",\"other_house\",\"other_house\",\"other_house\"],\"value\":[3715,3295,3385,3345,1480,2060,2130,2120,0,0,5,5,1055,775,820,805,1295,1425,1465,1440,195,600,610,645,185,565,705,735,5,0,20,15],\"xoffsets\":[[\"2001\",\"single_detached_house\"],[\"2006\",\"single_detached_house\"],[\"2011\",\"single_detached_house\"],[\"2016\",\"single_detached_house\"],[\"2001\",\"apartment_five_storeys_plus\"],[\"2006\",\"apartment_five_storeys_plus\"],[\"2011\",\"apartment_five_storeys_plus\"],[\"2016\",\"apartment_five_storeys_plus\"],[\"2001\",\"movable_dwelling\"],[\"2006\",\"movable_dwelling\"],[\"2011\",\"movable_dwelling\"],[\"2016\",\"movable_dwelling\"],[\"2001\",\"semi_detached_house\"],[\"2006\",\"semi_detached_house\"],[\"2011\",\"semi_detached_house\"],[\"2016\",\"semi_detached_house\"],[\"2001\",\"row_house\"],[\"2006\",\"row_house\"],[\"2011\",\"row_house\"],[\"2016\",\"row_house\"],[\"2001\",\"duplex\"],[\"2006\",\"duplex\"],[\"2011\",\"duplex\"],[\"2016\",\"duplex\"],[\"2001\",\"apartment_five_storeys_less\"],[\"2006\",\"apartment_five_storeys_less\"],[\"2011\",\"apartment_five_storeys_less\"],[\"2016\",\"apartment_five_storeys_less\"],[\"2001\",\"other_house\"],[\"2006\",\"other_house\"],[\"2011\",\"other_house\"],[\"2016\",\"other_house\"]],\"year\":[\"2001\",\"2006\",\"2011\",\"2016\",\"2001\",\"2006\",\"2011\",\"2016\",\"2001\",\"2006\",\"2011\",\"2016\",\"2001\",\"2006\",\"2011\",\"2016\",\"2001\",\"2006\",\"2011\",\"2016\",\"2001\",\"2006\",\"2011\",\"2016\",\"2001\",\"2006\",\"2011\",\"2016\",\"2001\",\"2006\",\"2011\",\"2016\"]},\"selected\":{\"id\":\"2222\"},\"selection_policy\":{\"id\":\"2247\"}},\"id\":\"2221\",\"type\":\"ColumnDataSource\"},{\"attributes\":{\"active_drag\":\"auto\",\"active_inspect\":\"auto\",\"active_multi\":null,\"active_scroll\":\"auto\",\"active_tap\":\"auto\",\"tools\":[{\"id\":\"2190\"},{\"id\":\"2207\"},{\"id\":\"2208\"},{\"id\":\"2209\"},{\"id\":\"2210\"},{\"id\":\"2211\"}]},\"id\":\"2213\",\"type\":\"Toolbar\"},{\"attributes\":{\"axis_label\":\"Dwelling Type Units\",\"bounds\":\"auto\",\"formatter\":{\"id\":\"2232\"},\"major_label_orientation\":\"horizontal\",\"ticker\":{\"id\":\"2204\"}},\"id\":\"2203\",\"type\":\"LinearAxis\"},{\"attributes\":{},\"id\":\"2204\",\"type\":\"BasicTicker\"},{\"attributes\":{\"margin\":[5,5,5,5],\"name\":\"HSpacer03443\",\"sizing_mode\":\"stretch_width\"},\"id\":\"2187\",\"type\":\"Spacer\"},{\"attributes\":{\"axis\":{\"id\":\"2200\"},\"ticker\":{\"id\":\"2201\"}},\"id\":\"2202\",\"type\":\"Grid\"},{\"attributes\":{\"margin\":[20,20,20,20],\"min_width\":250,\"options\":[\"Agincourt North\",\"Agincourt South-Malvern West\",\"Alderwood\",\"Annex\",\"Banbury-Don Mills\",\"Bathurst Manor\",\"Bay Street Corridor\",\"Bayview Village\",\"Bayview Woods-Steeles\",\"Bedford Park-Nortown\",\"Beechborough-Greenbrook\",\"Bendale\",\"Birchcliffe-Cliffside\",\"Black Creek\",\"Blake-Jones\",\"Briar Hill-Belgravia\",\"Bridle Path-Sunnybrook-York Mills\",\"Broadview North\",\"Brookhaven-Amesbury\",\"Cabbagetown-South St.James Town\",\"Caledonia-Fairbank\",\"Casa Loma\",\"Centennial Scarborough\",\"Church-Yonge Corridor\",\"Clairlea-Birchmount\",\"Clanton Park\",\"Cliffcrest\",\"Corso Italia-Davenport\",\"Danforth\",\"Danforth-East York\",\"Don Valley Village\",\"Dorset Park\",\"Dovercourt-Wallace Emerson-Juncti\",\"Downsview-Roding-CFB\",\"Dufferin Grove\",\"East End-Danforth\",\"Edenbridge-Humber Valley\",\"Eglinton East\",\"Elms-Old Rexdale\",\"Englemount-Lawrence\",\"Eringate-Centennial-West Deane\",\"Etobicoke West Mall\",\"Flemingdon Park\",\"Forest Hill North\",\"Forest Hill South\",\"Glenfield-Jane Heights\",\"Greenwood-Coxwell\",\"Guildwood\",\"Henry Farm\",\"High Park North\",\"High Park-Swansea\",\"Highland Creek\",\"Hillcrest Village\",\"Humber Heights-Westmount\",\"Humber Summit\",\"Humbermede\",\"Humewood-Cedarvale\",\"Ionview\",\"Islington-City Centre West\",\"Junction Area\",\"Keelesdale-Eglinton West\",\"Kennedy Park\",\"Kensington-Chinatown\",\"Kingsview Village-The Westway\",\"Kingsway South\",\"L'Amoreaux\",\"Lambton Baby Point\",\"Lansing-Westgate\",\"Lawrence Park North\",\"Lawrence Park South\",\"Leaside-Bennington\",\"Little Portugal\",\"Long Branch\",\"Malvern\",\"Maple Leaf\",\"Markland Wood\",\"Milliken\",\"Mimico\",\"Morningside\",\"Moss Park\",\"Mount Dennis\",\"Mount Olive-Silverstone-Jamestown\",\"Mount Pleasant East\",\"Mount Pleasant West\",\"New Toronto\",\"Newtonbrook East\",\"Newtonbrook West\",\"Niagara\",\"North Riverdale\",\"North St.James Town\",\"O'Connor-Parkview\",\"Oakridge\",\"Oakwood Village\",\"Old East York\",\"Palmerston-Little Italy\",\"Parkwoods-Donalda\",\"Pelmo Park-Humberlea\",\"Playter Estates-Danforth\",\"Pleasant View\",\"Princess-Rosethorn\",\"Regent Park\",\"Rexdale-Kipling\",\"Rockcliffe-Smythe\",\"Roncesvalles\",\"Rosedale-Moore Park\",\"Rouge\",\"Runnymede-Bloor West Village\",\"Rustic\",\"Scarborough Village\",\"South Parkdale\",\"South Riverdale\",\"St.Andrew-Windfields\",\"Steeles\",\"Stonegate-Queensway\",\"Tam O'Shanter-Sullivan\",\"Taylor-Massey\",\"The Beaches\",\"Thistletown-Beaumond Heights\",\"Thorncliffe Park\",\"Trinity-Bellwoods\",\"University\",\"Victoria Village\",\"Waterfront Communities-The Island\",\"West Hill\",\"West Humber-Clairville\",\"Westminster-Branson\",\"Weston\",\"Weston-Pellam Park\",\"Wexford/Maryvale\",\"Willowdale East\",\"Willowdale West\",\"Willowridge-Martingrove-Richview\",\"Woburn\",\"Woodbine Corridor\",\"Woodbine-Lumsden\",\"Wychwood\",\"Yonge-Eglinton\",\"Yonge-St.Clair\",\"York University Heights\",\"Yorkdale-Glen Park\"],\"title\":\"Neighbourhood\",\"value\":\"Agincourt North\",\"width\":250},\"id\":\"2261\",\"type\":\"Select\"},{\"attributes\":{\"fill_alpha\":{\"value\":0.2},\"fill_color\":{\"field\":\"Variable\",\"transform\":{\"id\":\"2220\"}},\"line_alpha\":{\"value\":0.2},\"top\":{\"field\":\"value\"},\"width\":{\"value\":0.8},\"x\":{\"field\":\"xoffsets\"}},\"id\":\"2226\",\"type\":\"VBar\"},{\"attributes\":{\"bottom_units\":\"screen\",\"fill_alpha\":0.5,\"fill_color\":\"lightgrey\",\"left_units\":\"screen\",\"level\":\"overlay\",\"line_alpha\":1.0,\"line_color\":\"black\",\"line_dash\":[4,4],\"line_width\":2,\"right_units\":\"screen\",\"top_units\":\"screen\"},\"id\":\"2212\",\"type\":\"BoxAnnotation\"},{\"attributes\":{},\"id\":\"2196\",\"type\":\"CategoricalScale\"},{\"attributes\":{\"factors\":[\"single_detached_house\",\"apartment_five_storeys_plus\",\"movable_dwelling\",\"semi_detached_house\",\"row_house\",\"duplex\",\"apartment_five_storeys_less\",\"other_house\"],\"palette\":[\"#1f77b3\",\"#ff7e0e\",\"#2ba02b\",\"#d62628\",\"#9367bc\",\"#8c564b\",\"#e277c1\",\"#7e7e7e\"]},\"id\":\"2220\",\"type\":\"CategoricalColorMapper\"},{\"attributes\":{\"below\":[{\"id\":\"2200\"}],\"center\":[{\"id\":\"2202\"},{\"id\":\"2206\"}],\"left\":[{\"id\":\"2203\"}],\"margin\":[5,5,5,5],\"min_border_bottom\":10,\"min_border_left\":10,\"min_border_right\":10,\"min_border_top\":10,\"plot_height\":500,\"plot_width\":700,\"renderers\":[{\"id\":\"2227\"}],\"sizing_mode\":\"fixed\",\"title\":{\"id\":\"2192\"},\"toolbar\":{\"id\":\"2213\"},\"x_range\":{\"id\":\"2188\"},\"x_scale\":{\"id\":\"2196\"},\"y_range\":{\"id\":\"2189\"},\"y_scale\":{\"id\":\"2198\"}},\"id\":\"2191\",\"subtype\":\"Figure\",\"type\":\"Plot\"},{\"attributes\":{},\"id\":\"2198\",\"type\":\"LinearScale\"},{\"attributes\":{\"data_source\":{\"id\":\"2221\"},\"glyph\":{\"id\":\"2224\"},\"hover_glyph\":null,\"muted_glyph\":{\"id\":\"2226\"},\"nonselection_glyph\":{\"id\":\"2225\"},\"selection_glyph\":null,\"view\":{\"id\":\"2228\"}},\"id\":\"2227\",\"type\":\"GlyphRenderer\"},{\"attributes\":{\"margin\":[5,5,5,5],\"name\":\"VSpacer03441\",\"sizing_mode\":\"stretch_height\"},\"id\":\"2262\",\"type\":\"Spacer\"},{\"attributes\":{\"fill_color\":{\"field\":\"Variable\",\"transform\":{\"id\":\"2220\"}},\"top\":{\"field\":\"value\"},\"width\":{\"value\":0.8},\"x\":{\"field\":\"xoffsets\"}},\"id\":\"2224\",\"type\":\"VBar\"},{\"attributes\":{\"margin\":[5,5,5,5],\"name\":\"HSpacer03444\",\"sizing_mode\":\"stretch_width\"},\"id\":\"2257\",\"type\":\"Spacer\"},{\"attributes\":{},\"id\":\"2207\",\"type\":\"SaveTool\"},{\"attributes\":{\"children\":[{\"id\":\"2259\"},{\"id\":\"2260\"},{\"id\":\"2262\"}],\"margin\":[0,0,0,0],\"name\":\"Column03442\"},\"id\":\"2258\",\"type\":\"Column\"}],\"root_ids\":[\"2186\",\"2287\"]},\"title\":\"Bokeh Application\",\"version\":\"2.2.3\"}};\n    var render_items = [{\"docid\":\"9c081552-4672-48a2-a95a-3c569064dd6e\",\"root_ids\":[\"2186\"],\"roots\":{\"2186\":\"1b3b8f77-194d-43c9-8ca0-d4e48333ccb2\"}}];\n    root.Bokeh.embed.embed_items_notebook(docs_json, render_items);\n  }\n  if (root.Bokeh !== undefined && root.Bokeh.Panel !== undefined && root['Plotly'] !== undefined ) {\n    embed_document(root);\n  } else {\n    var attempts = 0;\n    var timer = setInterval(function(root) {\n      if (root.Bokeh !== undefined && root.Bokeh.Panel !== undefined && root['Plotly'] !== undefined) {\n        clearInterval(timer);\n        embed_document(root);\n      } else if (document.readyState == \"complete\") {\n        attempts++;\n        if (attempts > 100) {\n          clearInterval(timer);\n          console.log(\"Bokeh: ERROR: Unable to run BokehJS code because BokehJS library is missing\");\n        }\n      }\n    }, 10, root)\n  }\n})(window);</script>",
      "application/vnd.holoviews_exec.v0+json": "",
      "text/plain": [
       ":DynamicMap   [Neighbourhood]\n",
       "   :Bars   [year,Variable]   (value)"
      ]
     },
     "metadata": {
      "application/vnd.holoviews_exec.v0+json": {
       "id": "2186"
      }
     },
     "execution_count": 17
    }
   ],
   "source": [
    "# Use hvplot to create an interactive bar chart of the number of dwelling types per neighbourhood\n",
    "# The plot should have a dropdown selector for the neighbourhood\n",
    "\n",
    "\n",
    "dwelling_types_by_nbhd.hvplot.bar(rot=90, \n",
    "                                  x=\"year\", \n",
    "                                  xlabel=\"Year\", \n",
    "                                  height=500, \n",
    "                                  ylabel=\"Dwelling Type Units\", \n",
    "                                  groupby=\"Neighbourhood\",\n",
    "                                  grid=True,\n",
    "                                  ylim=(0,8000)\n",
    "                                )"
   ]
  },
  {
   "cell_type": "markdown",
   "metadata": {},
   "source": [
    "- - - "
   ]
  },
  {
   "cell_type": "markdown",
   "metadata": {},
   "source": [
    "## The Top 10 Most Expensive Neighbourhoods\n",
    "\n",
    "In this section, you will need to calculate the house value for each neighbourhood and then sort the values to obtain the top 10 most expensive neighbourhoods on average. Plot the results as a bar chart."
   ]
  },
  {
   "cell_type": "code",
   "execution_count": 18,
   "metadata": {},
   "outputs": [
    {
     "output_type": "execute_result",
     "data": {
      "text/plain": [
       "                       neighbourhood  single_detached_house  \\\n",
       "0  Bridle Path-Sunnybrook-York Mills                2260.00   \n",
       "1                  Forest Hill South                1742.50   \n",
       "2                Lawrence Park South                3472.50   \n",
       "3                Rosedale-Moore Park                2498.75   \n",
       "4               St.Andrew-Windfields                3225.00   \n",
       "5                          Casa Loma                 916.25   \n",
       "6               Bedford Park-Nortown                4865.00   \n",
       "7                  Forest Hill North                1488.75   \n",
       "8                     Kingsway South                2326.25   \n",
       "9                     Yonge-St.Clair                 565.00   \n",
       "\n",
       "   apartment_five_storeys_plus  movable_dwelling  semi_detached_house  \\\n",
       "0                       331.25              0.00                36.25   \n",
       "1                      2031.25              1.25                61.25   \n",
       "2                       773.75              0.00               126.25   \n",
       "3                      4641.25              0.00               486.25   \n",
       "4                      1670.00              0.00               185.00   \n",
       "5                      2310.00              0.00               288.75   \n",
       "6                      1981.25              0.00                43.75   \n",
       "7                      3392.50              0.00                12.50   \n",
       "8                       576.25              0.00                66.25   \n",
       "9                      3948.75              0.00               425.00   \n",
       "\n",
       "   row_house  duplex  apartment_five_storeys_less  other_house  \\\n",
       "0      90.00    25.0                        40.00         0.00   \n",
       "1      45.00    75.0                      1027.50         3.75   \n",
       "2      38.75   225.0                       966.25        16.25   \n",
       "3     245.00   327.5                      1618.75         2.50   \n",
       "4     552.50    97.5                       586.25         5.00   \n",
       "5     201.25   162.5                      1192.50         2.50   \n",
       "6      57.50   287.5                      1275.00        88.75   \n",
       "7      16.25    82.5                       402.50         1.25   \n",
       "8      48.75    20.0                       336.25         2.50   \n",
       "9     212.50   172.5                      1308.75         6.25   \n",
       "\n",
       "   average_house_value  shelter_costs_owned  shelter_costs_rented  \n",
       "0           1526485.75              2360.75               2321.75  \n",
       "1           1195992.50              1781.00               1313.75  \n",
       "2           1094027.75              1954.00               1372.75  \n",
       "3           1093640.00              1909.75               1537.25  \n",
       "4            999107.00              1880.25               1384.50  \n",
       "5            981064.25              1873.75               1547.75  \n",
       "6            930415.25              1786.75               1255.00  \n",
       "7            851680.50              1722.75               1245.50  \n",
       "8            843234.25              1736.75               1622.00  \n",
       "9            813220.25              1680.75               1369.00  "
      ],
      "text/html": "<div>\n<style scoped>\n    .dataframe tbody tr th:only-of-type {\n        vertical-align: middle;\n    }\n\n    .dataframe tbody tr th {\n        vertical-align: top;\n    }\n\n    .dataframe thead th {\n        text-align: right;\n    }\n</style>\n<table border=\"1\" class=\"dataframe\">\n  <thead>\n    <tr style=\"text-align: right;\">\n      <th></th>\n      <th>neighbourhood</th>\n      <th>single_detached_house</th>\n      <th>apartment_five_storeys_plus</th>\n      <th>movable_dwelling</th>\n      <th>semi_detached_house</th>\n      <th>row_house</th>\n      <th>duplex</th>\n      <th>apartment_five_storeys_less</th>\n      <th>other_house</th>\n      <th>average_house_value</th>\n      <th>shelter_costs_owned</th>\n      <th>shelter_costs_rented</th>\n    </tr>\n  </thead>\n  <tbody>\n    <tr>\n      <th>0</th>\n      <td>Bridle Path-Sunnybrook-York Mills</td>\n      <td>2260.00</td>\n      <td>331.25</td>\n      <td>0.00</td>\n      <td>36.25</td>\n      <td>90.00</td>\n      <td>25.0</td>\n      <td>40.00</td>\n      <td>0.00</td>\n      <td>1526485.75</td>\n      <td>2360.75</td>\n      <td>2321.75</td>\n    </tr>\n    <tr>\n      <th>1</th>\n      <td>Forest Hill South</td>\n      <td>1742.50</td>\n      <td>2031.25</td>\n      <td>1.25</td>\n      <td>61.25</td>\n      <td>45.00</td>\n      <td>75.0</td>\n      <td>1027.50</td>\n      <td>3.75</td>\n      <td>1195992.50</td>\n      <td>1781.00</td>\n      <td>1313.75</td>\n    </tr>\n    <tr>\n      <th>2</th>\n      <td>Lawrence Park South</td>\n      <td>3472.50</td>\n      <td>773.75</td>\n      <td>0.00</td>\n      <td>126.25</td>\n      <td>38.75</td>\n      <td>225.0</td>\n      <td>966.25</td>\n      <td>16.25</td>\n      <td>1094027.75</td>\n      <td>1954.00</td>\n      <td>1372.75</td>\n    </tr>\n    <tr>\n      <th>3</th>\n      <td>Rosedale-Moore Park</td>\n      <td>2498.75</td>\n      <td>4641.25</td>\n      <td>0.00</td>\n      <td>486.25</td>\n      <td>245.00</td>\n      <td>327.5</td>\n      <td>1618.75</td>\n      <td>2.50</td>\n      <td>1093640.00</td>\n      <td>1909.75</td>\n      <td>1537.25</td>\n    </tr>\n    <tr>\n      <th>4</th>\n      <td>St.Andrew-Windfields</td>\n      <td>3225.00</td>\n      <td>1670.00</td>\n      <td>0.00</td>\n      <td>185.00</td>\n      <td>552.50</td>\n      <td>97.5</td>\n      <td>586.25</td>\n      <td>5.00</td>\n      <td>999107.00</td>\n      <td>1880.25</td>\n      <td>1384.50</td>\n    </tr>\n    <tr>\n      <th>5</th>\n      <td>Casa Loma</td>\n      <td>916.25</td>\n      <td>2310.00</td>\n      <td>0.00</td>\n      <td>288.75</td>\n      <td>201.25</td>\n      <td>162.5</td>\n      <td>1192.50</td>\n      <td>2.50</td>\n      <td>981064.25</td>\n      <td>1873.75</td>\n      <td>1547.75</td>\n    </tr>\n    <tr>\n      <th>6</th>\n      <td>Bedford Park-Nortown</td>\n      <td>4865.00</td>\n      <td>1981.25</td>\n      <td>0.00</td>\n      <td>43.75</td>\n      <td>57.50</td>\n      <td>287.5</td>\n      <td>1275.00</td>\n      <td>88.75</td>\n      <td>930415.25</td>\n      <td>1786.75</td>\n      <td>1255.00</td>\n    </tr>\n    <tr>\n      <th>7</th>\n      <td>Forest Hill North</td>\n      <td>1488.75</td>\n      <td>3392.50</td>\n      <td>0.00</td>\n      <td>12.50</td>\n      <td>16.25</td>\n      <td>82.5</td>\n      <td>402.50</td>\n      <td>1.25</td>\n      <td>851680.50</td>\n      <td>1722.75</td>\n      <td>1245.50</td>\n    </tr>\n    <tr>\n      <th>8</th>\n      <td>Kingsway South</td>\n      <td>2326.25</td>\n      <td>576.25</td>\n      <td>0.00</td>\n      <td>66.25</td>\n      <td>48.75</td>\n      <td>20.0</td>\n      <td>336.25</td>\n      <td>2.50</td>\n      <td>843234.25</td>\n      <td>1736.75</td>\n      <td>1622.00</td>\n    </tr>\n    <tr>\n      <th>9</th>\n      <td>Yonge-St.Clair</td>\n      <td>565.00</td>\n      <td>3948.75</td>\n      <td>0.00</td>\n      <td>425.00</td>\n      <td>212.50</td>\n      <td>172.5</td>\n      <td>1308.75</td>\n      <td>6.25</td>\n      <td>813220.25</td>\n      <td>1680.75</td>\n      <td>1369.00</td>\n    </tr>\n  </tbody>\n</table>\n</div>"
     },
     "metadata": {},
     "execution_count": 18
    }
   ],
   "source": [
    "# Getting the data from the top 10 expensive neighbourhoods\n",
    "\n",
    "top_10_by_price = to_data.reset_index().drop(columns=\"year\")\n",
    "top_10_by_price = top_10_by_price.groupby(\"neighbourhood\").mean(\n",
    "                ).sort_values(\"average_house_value\", ascending=False)\n",
    "top_10_by_price = top_10_by_price.iloc[:10].reset_index()\n",
    "top_10_by_price\n"
   ]
  },
  {
   "cell_type": "code",
   "execution_count": 19,
   "metadata": {},
   "outputs": [
    {
     "output_type": "display_data",
     "data": {},
     "metadata": {}
    },
    {
     "output_type": "execute_result",
     "data": {
      "text/html": "<div id='2328'>\n\n\n\n\n\n  <div class=\"bk-root\" id=\"89cc2d73-c499-4ac7-a29e-36db89b75cd9\" data-root-id=\"2328\"></div>\n</div>\n<script type=\"application/javascript\">(function(root) {\n  function embed_document(root) {\n    var docs_json = {\"10d58590-8549-4d5d-94e4-72aa614e0a20\":{\"roots\":{\"references\":[{\"attributes\":{\"format\":\"%.0f\"},\"id\":\"2370\",\"type\":\"PrintfTickFormatter\"},{\"attributes\":{},\"id\":\"2349\",\"type\":\"SaveTool\"},{\"attributes\":{\"end\":1597812.3,\"reset_end\":1597812.3,\"reset_start\":0.0,\"tags\":[[[\"average_house_value\",\"average_house_value\",null]]]},\"id\":\"2331\",\"type\":\"Range1d\"},{\"attributes\":{},\"id\":\"2350\",\"type\":\"PanTool\"},{\"attributes\":{\"text\":\"Top 10 Most Expensive Neighbourhoods in Toronto\",\"text_color\":{\"value\":\"black\"},\"text_font_size\":{\"value\":\"12pt\"}},\"id\":\"2334\",\"type\":\"Title\"},{\"attributes\":{},\"id\":\"2353\",\"type\":\"ResetTool\"},{\"attributes\":{},\"id\":\"2351\",\"type\":\"WheelZoomTool\"},{\"attributes\":{\"below\":[{\"id\":\"2342\"}],\"center\":[{\"id\":\"2344\"},{\"id\":\"2348\"}],\"left\":[{\"id\":\"2345\"}],\"margin\":[5,5,5,5],\"min_border_bottom\":10,\"min_border_left\":10,\"min_border_right\":10,\"min_border_top\":10,\"plot_height\":500,\"plot_width\":700,\"renderers\":[{\"id\":\"2368\"}],\"sizing_mode\":\"fixed\",\"title\":{\"id\":\"2334\"},\"toolbar\":{\"id\":\"2355\"},\"x_range\":{\"id\":\"2330\"},\"x_scale\":{\"id\":\"2338\"},\"y_range\":{\"id\":\"2331\"},\"y_scale\":{\"id\":\"2340\"}},\"id\":\"2333\",\"subtype\":\"Figure\",\"type\":\"Plot\"},{\"attributes\":{\"fill_alpha\":{\"value\":0.1},\"fill_color\":{\"value\":\"silver\"},\"line_alpha\":{\"value\":0.1},\"top\":{\"field\":\"average_house_value\"},\"width\":{\"value\":0.8},\"x\":{\"field\":\"neighbourhood\"}},\"id\":\"2366\",\"type\":\"VBar\"},{\"attributes\":{\"overlay\":{\"id\":\"2354\"}},\"id\":\"2352\",\"type\":\"BoxZoomTool\"},{\"attributes\":{\"source\":{\"id\":\"2362\"}},\"id\":\"2369\",\"type\":\"CDSView\"},{\"attributes\":{\"callback\":null,\"renderers\":[{\"id\":\"2368\"}],\"tags\":[\"hv_created\"],\"tooltips\":[[\"neighbourhood\",\"@{neighbourhood}\"],[\"average_house_value\",\"@{average_house_value}\"]]},\"id\":\"2332\",\"type\":\"HoverTool\"},{\"attributes\":{},\"id\":\"2338\",\"type\":\"CategoricalScale\"},{\"attributes\":{\"factors\":[\"Bridle Path-Sunnybrook-York Mills\",\"Forest Hill South\",\"Lawrence Park South\",\"Rosedale-Moore Park\",\"St.Andrew-Windfields\",\"Casa Loma\",\"Bedford Park-Nortown\",\"Forest Hill North\",\"Kingsway South\",\"Yonge-St.Clair\"],\"tags\":[[[\"neighbourhood\",\"neighbourhood\",null]]]},\"id\":\"2330\",\"type\":\"FactorRange\"},{\"attributes\":{\"data\":{\"average_house_value\":{\"__ndarray__\":\"AAAAwNVKN0EAAACA2D8yQQAAAMCLsTBBAAAAAAiwMEEAAAAAhn0uQQAAAICQ8C1BAAAAgN5kLEEAAAAAwf0pQQAAAIDEuylBAAAAgEjRKEE=\",\"dtype\":\"float64\",\"order\":\"little\",\"shape\":[10]},\"neighbourhood\":[\"Bridle Path-Sunnybrook-York Mills\",\"Forest Hill South\",\"Lawrence Park South\",\"Rosedale-Moore Park\",\"St.Andrew-Windfields\",\"Casa Loma\",\"Bedford Park-Nortown\",\"Forest Hill North\",\"Kingsway South\",\"Yonge-St.Clair\"]},\"selected\":{\"id\":\"2363\"},\"selection_policy\":{\"id\":\"2384\"}},\"id\":\"2362\",\"type\":\"ColumnDataSource\"},{\"attributes\":{\"axis\":{\"id\":\"2342\"},\"ticker\":{\"id\":\"2343\"}},\"id\":\"2344\",\"type\":\"Grid\"},{\"attributes\":{},\"id\":\"2343\",\"type\":\"CategoricalTicker\"},{\"attributes\":{},\"id\":\"2340\",\"type\":\"LinearScale\"},{\"attributes\":{},\"id\":\"2363\",\"type\":\"Selection\"},{\"attributes\":{\"axis_label\":\"Neighbourhood\",\"bounds\":\"auto\",\"formatter\":{\"id\":\"2371\"},\"major_label_orientation\":1.5707963267948966,\"ticker\":{\"id\":\"2343\"}},\"id\":\"2342\",\"type\":\"CategoricalAxis\"},{\"attributes\":{},\"id\":\"2371\",\"type\":\"CategoricalTickFormatter\"},{\"attributes\":{\"fill_alpha\":{\"value\":0.2},\"fill_color\":{\"value\":\"silver\"},\"line_alpha\":{\"value\":0.2},\"top\":{\"field\":\"average_house_value\"},\"width\":{\"value\":0.8},\"x\":{\"field\":\"neighbourhood\"}},\"id\":\"2367\",\"type\":\"VBar\"},{\"attributes\":{\"children\":[{\"id\":\"2329\"},{\"id\":\"2333\"},{\"id\":\"2393\"}],\"margin\":[0,0,0,0],\"name\":\"Row04033\",\"tags\":[\"embedded\"]},\"id\":\"2328\",\"type\":\"Row\"},{\"attributes\":{},\"id\":\"2346\",\"type\":\"BasicTicker\"},{\"attributes\":{\"axis\":{\"id\":\"2345\"},\"dimension\":1,\"ticker\":{\"id\":\"2346\"}},\"id\":\"2348\",\"type\":\"Grid\"},{\"attributes\":{},\"id\":\"2384\",\"type\":\"UnionRenderers\"},{\"attributes\":{\"active_drag\":\"auto\",\"active_inspect\":\"auto\",\"active_multi\":null,\"active_scroll\":\"auto\",\"active_tap\":\"auto\",\"tools\":[{\"id\":\"2332\"},{\"id\":\"2349\"},{\"id\":\"2350\"},{\"id\":\"2351\"},{\"id\":\"2352\"},{\"id\":\"2353\"}]},\"id\":\"2355\",\"type\":\"Toolbar\"},{\"attributes\":{\"axis_label\":\"Avg House Value ($)\",\"bounds\":\"auto\",\"formatter\":{\"id\":\"2370\"},\"major_label_orientation\":\"horizontal\",\"ticker\":{\"id\":\"2346\"}},\"id\":\"2345\",\"type\":\"LinearAxis\"},{\"attributes\":{\"margin\":[5,5,5,5],\"name\":\"HSpacer04037\",\"sizing_mode\":\"stretch_width\"},\"id\":\"2329\",\"type\":\"Spacer\"},{\"attributes\":{\"data_source\":{\"id\":\"2362\"},\"glyph\":{\"id\":\"2365\"},\"hover_glyph\":null,\"muted_glyph\":{\"id\":\"2367\"},\"nonselection_glyph\":{\"id\":\"2366\"},\"selection_glyph\":null,\"view\":{\"id\":\"2369\"}},\"id\":\"2368\",\"type\":\"GlyphRenderer\"},{\"attributes\":{\"bottom_units\":\"screen\",\"fill_alpha\":0.5,\"fill_color\":\"lightgrey\",\"left_units\":\"screen\",\"level\":\"overlay\",\"line_alpha\":1.0,\"line_color\":\"black\",\"line_dash\":[4,4],\"line_width\":2,\"right_units\":\"screen\",\"top_units\":\"screen\"},\"id\":\"2354\",\"type\":\"BoxAnnotation\"},{\"attributes\":{\"fill_color\":{\"value\":\"silver\"},\"top\":{\"field\":\"average_house_value\"},\"width\":{\"value\":0.8},\"x\":{\"field\":\"neighbourhood\"}},\"id\":\"2365\",\"type\":\"VBar\"},{\"attributes\":{\"margin\":[5,5,5,5],\"name\":\"HSpacer04038\",\"sizing_mode\":\"stretch_width\"},\"id\":\"2393\",\"type\":\"Spacer\"}],\"root_ids\":[\"2328\"]},\"title\":\"Bokeh Application\",\"version\":\"2.2.3\"}};\n    var render_items = [{\"docid\":\"10d58590-8549-4d5d-94e4-72aa614e0a20\",\"root_ids\":[\"2328\"],\"roots\":{\"2328\":\"89cc2d73-c499-4ac7-a29e-36db89b75cd9\"}}];\n    root.Bokeh.embed.embed_items_notebook(docs_json, render_items);\n  }\n  if (root.Bokeh !== undefined && root.Bokeh.Panel !== undefined && root['Plotly'] !== undefined ) {\n    embed_document(root);\n  } else {\n    var attempts = 0;\n    var timer = setInterval(function(root) {\n      if (root.Bokeh !== undefined && root.Bokeh.Panel !== undefined && root['Plotly'] !== undefined) {\n        clearInterval(timer);\n        embed_document(root);\n      } else if (document.readyState == \"complete\") {\n        attempts++;\n        if (attempts > 100) {\n          clearInterval(timer);\n          console.log(\"Bokeh: ERROR: Unable to run BokehJS code because BokehJS library is missing\");\n        }\n      }\n    }, 10, root)\n  }\n})(window);</script>",
      "application/vnd.holoviews_exec.v0+json": "",
      "text/plain": [
       ":Bars   [neighbourhood]   (average_house_value)"
      ]
     },
     "metadata": {
      "application/vnd.holoviews_exec.v0+json": {
       "id": "2328"
      }
     },
     "execution_count": 19
    }
   ],
   "source": [
    "# Plotting the data from the top 10 expensive neighbourhoods\n",
    "\n",
    "top_10_by_price.hvplot.bar(rot=90,\n",
    "                           x=\"neighbourhood\", \n",
    "                           xlabel=\"Neighbourhood\", \n",
    "                           height=500, \n",
    "                           y=\"average_house_value\", \n",
    "                           ylabel=\"Avg House Value ($)\", c=\"silver\",\n",
    "                           title=\"Top 10 Most Expensive Neighbourhoods in Toronto\",\n",
    "                           grid=True\n",
    "                          ).opts(yformatter=\"%.0f\")"
   ]
  },
  {
   "cell_type": "markdown",
   "metadata": {},
   "source": [
    "- - - "
   ]
  },
  {
   "cell_type": "markdown",
   "metadata": {},
   "source": [
    "## Neighbourhood Map\n",
    "\n",
    "In this section, you will read in neighbourhoods location data and build an interactive map with the average house value per neighbourhood. Use a `scatter_mapbox` from Plotly express to create the visualization. Remember, you will need your Mapbox API key for this."
   ]
  },
  {
   "cell_type": "markdown",
   "metadata": {},
   "source": [
    "### Load Location Data"
   ]
  },
  {
   "cell_type": "code",
   "execution_count": 20,
   "metadata": {},
   "outputs": [
    {
     "output_type": "execute_result",
     "data": {
      "text/plain": [
       "                  neighbourhood        lat        lon\n",
       "0               Agincourt North  43.805441 -79.266712\n",
       "1  Agincourt South-Malvern West  43.788658 -79.265612\n",
       "2                     Alderwood  43.604937 -79.541611\n",
       "3                         Annex  43.671585 -79.404001\n",
       "4             Banbury-Don Mills  43.737657 -79.349718"
      ],
      "text/html": "<div>\n<style scoped>\n    .dataframe tbody tr th:only-of-type {\n        vertical-align: middle;\n    }\n\n    .dataframe tbody tr th {\n        vertical-align: top;\n    }\n\n    .dataframe thead th {\n        text-align: right;\n    }\n</style>\n<table border=\"1\" class=\"dataframe\">\n  <thead>\n    <tr style=\"text-align: right;\">\n      <th></th>\n      <th>neighbourhood</th>\n      <th>lat</th>\n      <th>lon</th>\n    </tr>\n  </thead>\n  <tbody>\n    <tr>\n      <th>0</th>\n      <td>Agincourt North</td>\n      <td>43.805441</td>\n      <td>-79.266712</td>\n    </tr>\n    <tr>\n      <th>1</th>\n      <td>Agincourt South-Malvern West</td>\n      <td>43.788658</td>\n      <td>-79.265612</td>\n    </tr>\n    <tr>\n      <th>2</th>\n      <td>Alderwood</td>\n      <td>43.604937</td>\n      <td>-79.541611</td>\n    </tr>\n    <tr>\n      <th>3</th>\n      <td>Annex</td>\n      <td>43.671585</td>\n      <td>-79.404001</td>\n    </tr>\n    <tr>\n      <th>4</th>\n      <td>Banbury-Don Mills</td>\n      <td>43.737657</td>\n      <td>-79.349718</td>\n    </tr>\n  </tbody>\n</table>\n</div>"
     },
     "metadata": {},
     "execution_count": 20
    }
   ],
   "source": [
    "# Load neighbourhoods coordinates data\n",
    "file_path = Path(\"Data/toronto_neighbourhoods_coordinates.csv\")\n",
    "df_neighbourhood_locations = pd.read_csv(file_path)\n",
    "df_neighbourhood_locations.head()"
   ]
  },
  {
   "cell_type": "markdown",
   "metadata": {},
   "source": [
    "### Data Preparation\n",
    "\n",
    "You will need to join the location data with the mean values per neighbourhood.\n",
    "\n",
    "1. Calculate the mean values for each neighbourhood.\n",
    "\n",
    "2. Join the average values with the neighbourhood locations."
   ]
  },
  {
   "cell_type": "code",
   "execution_count": 21,
   "metadata": {},
   "outputs": [
    {
     "output_type": "execute_result",
     "data": {
      "text/plain": [
       "                  neighbourhood  single_detached_house  \\\n",
       "0               Agincourt North                3435.00   \n",
       "1  Agincourt South-Malvern West                2897.50   \n",
       "2                     Alderwood                2903.75   \n",
       "3                         Annex                 751.25   \n",
       "4             Banbury-Don Mills                3572.50   \n",
       "\n",
       "   apartment_five_storeys_plus  movable_dwelling  semi_detached_house  \\\n",
       "0                      1947.50              2.50               863.75   \n",
       "1                      2180.00              1.25               375.00   \n",
       "2                       302.50              1.25               503.75   \n",
       "3                      7235.00              1.25              1375.00   \n",
       "4                      5388.75              1.25               273.75   \n",
       "\n",
       "   row_house  duplex  apartment_five_storeys_less  other_house  \\\n",
       "0    1406.25  512.50                       547.50        10.00   \n",
       "1     456.25  523.75                       628.75        32.50   \n",
       "2      76.25  302.50                       502.50         1.25   \n",
       "3     613.75  355.00                      4605.00        83.75   \n",
       "4     626.25   32.50                      1340.00         0.00   \n",
       "\n",
       "   average_house_value  shelter_costs_owned  shelter_costs_rented  \n",
       "0             329811.5              1109.00                983.50  \n",
       "1             334189.0              1131.25                985.00  \n",
       "2             427922.5              1166.75               1003.25  \n",
       "3             746977.0              1692.75               1315.25  \n",
       "4             612039.0              1463.50               1242.75  "
      ],
      "text/html": "<div>\n<style scoped>\n    .dataframe tbody tr th:only-of-type {\n        vertical-align: middle;\n    }\n\n    .dataframe tbody tr th {\n        vertical-align: top;\n    }\n\n    .dataframe thead th {\n        text-align: right;\n    }\n</style>\n<table border=\"1\" class=\"dataframe\">\n  <thead>\n    <tr style=\"text-align: right;\">\n      <th></th>\n      <th>neighbourhood</th>\n      <th>single_detached_house</th>\n      <th>apartment_five_storeys_plus</th>\n      <th>movable_dwelling</th>\n      <th>semi_detached_house</th>\n      <th>row_house</th>\n      <th>duplex</th>\n      <th>apartment_five_storeys_less</th>\n      <th>other_house</th>\n      <th>average_house_value</th>\n      <th>shelter_costs_owned</th>\n      <th>shelter_costs_rented</th>\n    </tr>\n  </thead>\n  <tbody>\n    <tr>\n      <th>0</th>\n      <td>Agincourt North</td>\n      <td>3435.00</td>\n      <td>1947.50</td>\n      <td>2.50</td>\n      <td>863.75</td>\n      <td>1406.25</td>\n      <td>512.50</td>\n      <td>547.50</td>\n      <td>10.00</td>\n      <td>329811.5</td>\n      <td>1109.00</td>\n      <td>983.50</td>\n    </tr>\n    <tr>\n      <th>1</th>\n      <td>Agincourt South-Malvern West</td>\n      <td>2897.50</td>\n      <td>2180.00</td>\n      <td>1.25</td>\n      <td>375.00</td>\n      <td>456.25</td>\n      <td>523.75</td>\n      <td>628.75</td>\n      <td>32.50</td>\n      <td>334189.0</td>\n      <td>1131.25</td>\n      <td>985.00</td>\n    </tr>\n    <tr>\n      <th>2</th>\n      <td>Alderwood</td>\n      <td>2903.75</td>\n      <td>302.50</td>\n      <td>1.25</td>\n      <td>503.75</td>\n      <td>76.25</td>\n      <td>302.50</td>\n      <td>502.50</td>\n      <td>1.25</td>\n      <td>427922.5</td>\n      <td>1166.75</td>\n      <td>1003.25</td>\n    </tr>\n    <tr>\n      <th>3</th>\n      <td>Annex</td>\n      <td>751.25</td>\n      <td>7235.00</td>\n      <td>1.25</td>\n      <td>1375.00</td>\n      <td>613.75</td>\n      <td>355.00</td>\n      <td>4605.00</td>\n      <td>83.75</td>\n      <td>746977.0</td>\n      <td>1692.75</td>\n      <td>1315.25</td>\n    </tr>\n    <tr>\n      <th>4</th>\n      <td>Banbury-Don Mills</td>\n      <td>3572.50</td>\n      <td>5388.75</td>\n      <td>1.25</td>\n      <td>273.75</td>\n      <td>626.25</td>\n      <td>32.50</td>\n      <td>1340.00</td>\n      <td>0.00</td>\n      <td>612039.0</td>\n      <td>1463.50</td>\n      <td>1242.75</td>\n    </tr>\n  </tbody>\n</table>\n</div>"
     },
     "metadata": {},
     "execution_count": 21
    }
   ],
   "source": [
    "# Calculate the mean values for each neighborhood\n",
    "\n",
    "to_data_raw = to_data.reset_index().drop(columns=\"year\")\n",
    "to_data_raw = to_data_raw.groupby(\"neighbourhood\").mean(\n",
    "                ).reset_index()\n",
    "to_data_raw.head()"
   ]
  },
  {
   "cell_type": "code",
   "execution_count": 22,
   "metadata": {},
   "outputs": [
    {
     "output_type": "execute_result",
     "data": {
      "text/plain": [
       "                  neighbourhood        lat        lon  single_detached_house  \\\n",
       "0               Agincourt North  43.805441 -79.266712                3435.00   \n",
       "1  Agincourt South-Malvern West  43.788658 -79.265612                2897.50   \n",
       "2                     Alderwood  43.604937 -79.541611                2903.75   \n",
       "3                         Annex  43.671585 -79.404001                 751.25   \n",
       "4             Banbury-Don Mills  43.737657 -79.349718                3572.50   \n",
       "\n",
       "   apartment_five_storeys_plus  movable_dwelling  semi_detached_house  \\\n",
       "0                      1947.50              2.50               863.75   \n",
       "1                      2180.00              1.25               375.00   \n",
       "2                       302.50              1.25               503.75   \n",
       "3                      7235.00              1.25              1375.00   \n",
       "4                      5388.75              1.25               273.75   \n",
       "\n",
       "   row_house  duplex  apartment_five_storeys_less  other_house  \\\n",
       "0    1406.25  512.50                       547.50        10.00   \n",
       "1     456.25  523.75                       628.75        32.50   \n",
       "2      76.25  302.50                       502.50         1.25   \n",
       "3     613.75  355.00                      4605.00        83.75   \n",
       "4     626.25   32.50                      1340.00         0.00   \n",
       "\n",
       "   average_house_value  shelter_costs_owned  shelter_costs_rented  \n",
       "0             329811.5              1109.00                983.50  \n",
       "1             334189.0              1131.25                985.00  \n",
       "2             427922.5              1166.75               1003.25  \n",
       "3             746977.0              1692.75               1315.25  \n",
       "4             612039.0              1463.50               1242.75  "
      ],
      "text/html": "<div>\n<style scoped>\n    .dataframe tbody tr th:only-of-type {\n        vertical-align: middle;\n    }\n\n    .dataframe tbody tr th {\n        vertical-align: top;\n    }\n\n    .dataframe thead th {\n        text-align: right;\n    }\n</style>\n<table border=\"1\" class=\"dataframe\">\n  <thead>\n    <tr style=\"text-align: right;\">\n      <th></th>\n      <th>neighbourhood</th>\n      <th>lat</th>\n      <th>lon</th>\n      <th>single_detached_house</th>\n      <th>apartment_five_storeys_plus</th>\n      <th>movable_dwelling</th>\n      <th>semi_detached_house</th>\n      <th>row_house</th>\n      <th>duplex</th>\n      <th>apartment_five_storeys_less</th>\n      <th>other_house</th>\n      <th>average_house_value</th>\n      <th>shelter_costs_owned</th>\n      <th>shelter_costs_rented</th>\n    </tr>\n  </thead>\n  <tbody>\n    <tr>\n      <th>0</th>\n      <td>Agincourt North</td>\n      <td>43.805441</td>\n      <td>-79.266712</td>\n      <td>3435.00</td>\n      <td>1947.50</td>\n      <td>2.50</td>\n      <td>863.75</td>\n      <td>1406.25</td>\n      <td>512.50</td>\n      <td>547.50</td>\n      <td>10.00</td>\n      <td>329811.5</td>\n      <td>1109.00</td>\n      <td>983.50</td>\n    </tr>\n    <tr>\n      <th>1</th>\n      <td>Agincourt South-Malvern West</td>\n      <td>43.788658</td>\n      <td>-79.265612</td>\n      <td>2897.50</td>\n      <td>2180.00</td>\n      <td>1.25</td>\n      <td>375.00</td>\n      <td>456.25</td>\n      <td>523.75</td>\n      <td>628.75</td>\n      <td>32.50</td>\n      <td>334189.0</td>\n      <td>1131.25</td>\n      <td>985.00</td>\n    </tr>\n    <tr>\n      <th>2</th>\n      <td>Alderwood</td>\n      <td>43.604937</td>\n      <td>-79.541611</td>\n      <td>2903.75</td>\n      <td>302.50</td>\n      <td>1.25</td>\n      <td>503.75</td>\n      <td>76.25</td>\n      <td>302.50</td>\n      <td>502.50</td>\n      <td>1.25</td>\n      <td>427922.5</td>\n      <td>1166.75</td>\n      <td>1003.25</td>\n    </tr>\n    <tr>\n      <th>3</th>\n      <td>Annex</td>\n      <td>43.671585</td>\n      <td>-79.404001</td>\n      <td>751.25</td>\n      <td>7235.00</td>\n      <td>1.25</td>\n      <td>1375.00</td>\n      <td>613.75</td>\n      <td>355.00</td>\n      <td>4605.00</td>\n      <td>83.75</td>\n      <td>746977.0</td>\n      <td>1692.75</td>\n      <td>1315.25</td>\n    </tr>\n    <tr>\n      <th>4</th>\n      <td>Banbury-Don Mills</td>\n      <td>43.737657</td>\n      <td>-79.349718</td>\n      <td>3572.50</td>\n      <td>5388.75</td>\n      <td>1.25</td>\n      <td>273.75</td>\n      <td>626.25</td>\n      <td>32.50</td>\n      <td>1340.00</td>\n      <td>0.00</td>\n      <td>612039.0</td>\n      <td>1463.50</td>\n      <td>1242.75</td>\n    </tr>\n  </tbody>\n</table>\n</div>"
     },
     "metadata": {},
     "execution_count": 22
    }
   ],
   "source": [
    "# Join the average values with the neighbourhood locations\n",
    "\n",
    "avg_value_by_location =df_neighbourhood_locations.merge(to_data_raw, how=\"left\")\n",
    "avg_value_by_location.head()"
   ]
  },
  {
   "cell_type": "markdown",
   "metadata": {},
   "source": [
    "### Mapbox Visualization\n",
    "\n",
    "Plot the average values per neighbourhood using a Plotly express `scatter_mapbox` visualization."
   ]
  },
  {
   "cell_type": "code",
   "execution_count": 23,
   "metadata": {},
   "outputs": [
    {
     "output_type": "display_data",
     "data": {
      "application/vnd.plotly.v1+json": {
       "config": {
        "plotlyServerURL": "https://plot.ly"
       },
       "data": [
        {
         "hovertemplate": "average_house_value=%{marker.color}<br>lat=%{lat}<br>lon=%{lon}<extra></extra>",
         "lat": [
          43.80544058,
          43.78865755,
          43.6049369,
          43.67158544,
          43.737657,
          43.76481331,
          43.65751135,
          43.77636052,
          43.79680187,
          43.73148623,
          43.69321649,
          43.76036631,
          43.69468198,
          43.76489025,
          43.67617288,
          43.69902438,
          43.73101314,
          43.68882512,
          43.70132631,
          43.66764773,
          43.68856865,
          43.6818521,
          43.7823765,
          43.65964886,
          43.71359238,
          43.74197843,
          43.72112117,
          43.67766091,
          43.68402547,
          43.68946809,
          43.78329369,
          43.75927437,
          43.66567693,
          43.73329235,
          43.65542833,
          43.68417388,
          43.67088591,
          43.7409223,
          43.72151887,
          43.72034467,
          43.65801676,
          43.64506262,
          43.71592975,
          43.70421756,
          43.69452576,
          43.74563575,
          43.67261231,
          43.74882934,
          43.77114414,
          43.65756491,
          43.64506458,
          43.79077477,
          43.80298783,
          43.6922328,
          43.75891975,
          43.74342952,
          43.69136981,
          43.73536441,
          43.63346335,
          43.66788977,
          43.68572747,
          43.72555572,
          43.65355413,
          43.69899257,
          43.65352043,
          43.79571603,
          43.65742013,
          43.75427115,
          43.73006017,
          43.7172117,
          43.70379663,
          43.64753593,
          43.59236169,
          43.80365820000001,
          43.71557394,
          43.63354175,
          43.82069079,
          43.61592386,
          43.78239861,
          43.65651762,
          43.68814409,
          43.7468678,
          43.70485217,
          43.70443517,
          43.6005886,
          43.79153579,
          43.78582994,
          43.63668088,
          43.67199515,
          43.66962341,
          43.70680049,
          43.69740813,
          43.68856556,
          43.69678127,
          43.6591571,
          43.75503347,
          43.7175146,
          43.67970047,
          43.78698176,
          43.6660506,
          43.65999214,
          43.72372548,
          43.67479045,
          43.64612299,
          43.68282043,
          43.82120126,
          43.65926882,
          43.71160912,
          43.73865186,
          43.63669952,
          43.64929206,
          43.75624583,
          43.81295883,
          43.63551813,
          43.78012985,
          43.69499819,
          43.67104999,
          43.73798792,
          43.70774921,
          43.6501763,
          43.6625062,
          43.72848902,
          43.63388036,
          43.76749026,
          43.7161804,
          43.77881322,
          43.70271605,
          43.67396204,
          43.74857214,
          43.77060226,
          43.77121049,
          43.68364496,
          43.76674024,
          43.67677292,
          43.69410674,
          43.67691927,
          43.70468937,
          43.68785887,
          43.76573649,
          43.71467153
         ],
         "legendgroup": "",
         "lon": [
          -79.26671217,
          -79.2656118,
          -79.54161093,
          -79.40400062,
          -79.34971798,
          -79.45605516,
          -79.38572125,
          -79.37711686,
          -79.38211795,
          -79.42022735,
          -79.47947251,
          -79.25740037,
          -79.26509259,
          -79.52197932,
          -79.33739417,
          -79.45285129999999,
          -79.37890418,
          -79.35562951,
          -79.48558926,
          -79.36610666,
          -79.45521208,
          -79.40800665,
          -79.15084327,
          -79.37901717,
          -79.28138178,
          -79.44630258,
          -79.23552957,
          -79.44746933,
          -79.32981941,
          -79.33140338,
          -79.35364413,
          -79.27890794,
          -79.4385407,
          -79.49049735,
          -79.43734104,
          -79.29935867,
          -79.52245776,
          -79.24559804,
          -79.54898272,
          -79.43740855,
          -79.58044524,
          -79.56893877,
          -79.33264597,
          -79.42814316,
          -79.41431786,
          -79.51346532,
          -79.32431802,
          -79.19505535,
          -79.34124067,
          -79.46630217,
          -79.46787222,
          -79.17747247,
          -79.354804,
          -79.5224162,
          -79.55617474,
          -79.54236712,
          -79.42768335,
          -79.27247049,
          -79.54331654,
          -79.47143987,
          -79.47143711,
          -79.26038221,
          -79.39723988,
          -79.54786331,
          -79.5105768,
          -79.31408424,
          -79.49604526,
          -79.42474772,
          -79.40397836,
          -79.40603941,
          -79.36607234,
          -79.43032271,
          -79.53334545,
          -79.22251662,
          -79.48075802,
          -79.57343155,
          -79.27500892,
          -79.50013664,
          -79.20704119,
          -79.36729703,
          -79.49998906,
          -79.58725926,
          -79.38492395,
          -79.39335955,
          -79.51035809,
          -79.40593745,
          -79.43142151,
          -79.4124204,
          -79.35126041,
          -79.37524658,
          -79.31222777,
          -79.27970834,
          -79.43978548,
          -79.33548836,
          -79.41840873,
          -79.33017952,
          -79.5282822,
          -79.35488729,
          -79.33494843,
          -79.54455929,
          -79.36050881,
          -79.56622841,
          -79.49442045,
          -79.44299245,
          -79.3796694,
          -79.18634345,
          -79.48570818,
          -79.49809147,
          -79.21681262,
          -79.43933783,
          -79.33565132,
          -79.37903709,
          -79.32120701,
          -79.50112821,
          -79.30291871,
          -79.29590112,
          -79.29960129999999,
          -79.56349102,
          -79.34998361,
          -79.41534216,
          -79.40117975,
          -79.31487383,
          -79.37720231,
          -79.17667603,
          -79.59635645,
          -79.45241823,
          -79.51572255,
          -79.46024391,
          -79.29863657,
          -79.40148379,
          -79.4275578,
          -79.55422105,
          -79.22858577,
          -79.31540738,
          -79.31116353,
          -79.42551495,
          -79.40359017,
          -79.39787077,
          -79.48888293,
          -79.45710807
         ],
         "marker": {
          "color": [
           329811.5,
           334189,
           427922.5,
           746977,
           612039,
           501576.75,
           423653.5,
           539258.75,
           565413.5,
           930415.25,
           370927.75,
           301123.25,
           437315,
           260841.75,
           511437,
           365524.5,
           1526485.75,
           443373.25,
           350943,
           494110.5,
           361714.25,
           981064.25,
           409862.75,
           406117.5,
           354555.25,
           551561.25,
           417422,
           419930.5,
           466943,
           421679.25,
           398010.25,
           262000.25,
           434699.5,
           381415.5,
           457588.75,
           478054.25,
           796162.5,
           268966.5,
           268341.25,
           568936.75,
           397781.75,
           309412,
           207799,
           851680.5,
           1195992.5,
           327597.75,
           387055.5,
           369373.5,
           369958,
           532497,
           582977.75,
           428838.5,
           395023,
           449150.5,
           352082.5,
           319783.75,
           697085.5,
           287685.75,
           451685.25,
           433269.25,
           322774.75,
           287233.5,
           440485.75,
           338344.75,
           843234.25,
           650307.75,
           336617.75,
           613216.5,
           759392.5,
           1094027.75,
           806471.75,
           540192.5,
           385830.25,
           256880.25,
           453229,
           443974.75,
           344988.25,
           393490.5,
           285013.5,
           409456,
           262308.75,
           253182.25,
           677370.25,
           468181.75,
           407812,
           559573.25,
           460568.5,
           369993,
           703063.25,
           411455.75,
           298315.75,
           422257.5,
           441202.75,
           443413.5,
           622191.75,
           454652.5,
           405431.25,
           648859.25,
           373375.25,
           765746.5,
           392578.25,
           360999.25,
           345660.25,
           508937.25,
           1093640,
           376286.75,
           552082,
           431090.5,
           329835.75,
           447478.5,
           455020.5,
           999107,
           376014.5,
           550432.25,
           353926.5,
           239414,
           666306,
           375864,
           255264.75,
           534465.75,
           618316.75,
           352133,
           376863,
           284647.5,
           343254.25,
           349320.25,
           308007.75,
           351802,
           348319.25,
           469045.5,
           466134.75,
           464278,
           298505.75,
           445382.75,
           369918.5,
           565976.5,
           809745.75,
           813220.25,
           305899.5,
           430861.25
          ],
          "coloraxis": "coloraxis",
          "size": [
           329811.5,
           334189,
           427922.5,
           746977,
           612039,
           501576.75,
           423653.5,
           539258.75,
           565413.5,
           930415.25,
           370927.75,
           301123.25,
           437315,
           260841.75,
           511437,
           365524.5,
           1526485.75,
           443373.25,
           350943,
           494110.5,
           361714.25,
           981064.25,
           409862.75,
           406117.5,
           354555.25,
           551561.25,
           417422,
           419930.5,
           466943,
           421679.25,
           398010.25,
           262000.25,
           434699.5,
           381415.5,
           457588.75,
           478054.25,
           796162.5,
           268966.5,
           268341.25,
           568936.75,
           397781.75,
           309412,
           207799,
           851680.5,
           1195992.5,
           327597.75,
           387055.5,
           369373.5,
           369958,
           532497,
           582977.75,
           428838.5,
           395023,
           449150.5,
           352082.5,
           319783.75,
           697085.5,
           287685.75,
           451685.25,
           433269.25,
           322774.75,
           287233.5,
           440485.75,
           338344.75,
           843234.25,
           650307.75,
           336617.75,
           613216.5,
           759392.5,
           1094027.75,
           806471.75,
           540192.5,
           385830.25,
           256880.25,
           453229,
           443974.75,
           344988.25,
           393490.5,
           285013.5,
           409456,
           262308.75,
           253182.25,
           677370.25,
           468181.75,
           407812,
           559573.25,
           460568.5,
           369993,
           703063.25,
           411455.75,
           298315.75,
           422257.5,
           441202.75,
           443413.5,
           622191.75,
           454652.5,
           405431.25,
           648859.25,
           373375.25,
           765746.5,
           392578.25,
           360999.25,
           345660.25,
           508937.25,
           1093640,
           376286.75,
           552082,
           431090.5,
           329835.75,
           447478.5,
           455020.5,
           999107,
           376014.5,
           550432.25,
           353926.5,
           239414,
           666306,
           375864,
           255264.75,
           534465.75,
           618316.75,
           352133,
           376863,
           284647.5,
           343254.25,
           349320.25,
           308007.75,
           351802,
           348319.25,
           469045.5,
           466134.75,
           464278,
           298505.75,
           445382.75,
           369918.5,
           565976.5,
           809745.75,
           813220.25,
           305899.5,
           430861.25
          ],
          "sizemode": "area",
          "sizeref": 3816.214375
         },
         "mode": "markers",
         "name": "",
         "showlegend": false,
         "subplot": "mapbox",
         "type": "scattermapbox"
        }
       ],
       "layout": {
        "coloraxis": {
         "colorbar": {
          "title": {
           "text": "average_house_value"
          }
         },
         "colorscale": [
          [
           0,
           "rgb(243, 231, 155)"
          ],
          [
           0.16666666666666666,
           "rgb(250, 196, 132)"
          ],
          [
           0.3333333333333333,
           "rgb(248, 160, 126)"
          ],
          [
           0.5,
           "rgb(235, 127, 134)"
          ],
          [
           0.6666666666666666,
           "rgb(206, 102, 147)"
          ],
          [
           0.8333333333333334,
           "rgb(160, 89, 160)"
          ],
          [
           1,
           "rgb(92, 83, 165)"
          ]
         ]
        },
        "legend": {
         "itemsizing": "constant",
         "tracegroupgap": 0
        },
        "mapbox": {
         "accesstoken": "pk.eyJ1IjoicG95c2lhbiIsImEiOiJja2lsNWt4dmUwMW5iMnhwZmVqazZseWE4In0.N4IbawQ9Z_ETdMN509VP7Q",
         "center": {
          "lat": 43.708840577642846,
          "lon": -79.4001855035
         },
         "domain": {
          "x": [
           0,
           1
          ],
          "y": [
           0,
           1
          ]
         },
         "zoom": 9
        },
        "template": {
         "data": {
          "bar": [
           {
            "error_x": {
             "color": "#2a3f5f"
            },
            "error_y": {
             "color": "#2a3f5f"
            },
            "marker": {
             "line": {
              "color": "#E5ECF6",
              "width": 0.5
             }
            },
            "type": "bar"
           }
          ],
          "barpolar": [
           {
            "marker": {
             "line": {
              "color": "#E5ECF6",
              "width": 0.5
             }
            },
            "type": "barpolar"
           }
          ],
          "carpet": [
           {
            "aaxis": {
             "endlinecolor": "#2a3f5f",
             "gridcolor": "white",
             "linecolor": "white",
             "minorgridcolor": "white",
             "startlinecolor": "#2a3f5f"
            },
            "baxis": {
             "endlinecolor": "#2a3f5f",
             "gridcolor": "white",
             "linecolor": "white",
             "minorgridcolor": "white",
             "startlinecolor": "#2a3f5f"
            },
            "type": "carpet"
           }
          ],
          "choropleth": [
           {
            "colorbar": {
             "outlinewidth": 0,
             "ticks": ""
            },
            "type": "choropleth"
           }
          ],
          "contour": [
           {
            "colorbar": {
             "outlinewidth": 0,
             "ticks": ""
            },
            "colorscale": [
             [
              0,
              "#0d0887"
             ],
             [
              0.1111111111111111,
              "#46039f"
             ],
             [
              0.2222222222222222,
              "#7201a8"
             ],
             [
              0.3333333333333333,
              "#9c179e"
             ],
             [
              0.4444444444444444,
              "#bd3786"
             ],
             [
              0.5555555555555556,
              "#d8576b"
             ],
             [
              0.6666666666666666,
              "#ed7953"
             ],
             [
              0.7777777777777778,
              "#fb9f3a"
             ],
             [
              0.8888888888888888,
              "#fdca26"
             ],
             [
              1,
              "#f0f921"
             ]
            ],
            "type": "contour"
           }
          ],
          "contourcarpet": [
           {
            "colorbar": {
             "outlinewidth": 0,
             "ticks": ""
            },
            "type": "contourcarpet"
           }
          ],
          "heatmap": [
           {
            "colorbar": {
             "outlinewidth": 0,
             "ticks": ""
            },
            "colorscale": [
             [
              0,
              "#0d0887"
             ],
             [
              0.1111111111111111,
              "#46039f"
             ],
             [
              0.2222222222222222,
              "#7201a8"
             ],
             [
              0.3333333333333333,
              "#9c179e"
             ],
             [
              0.4444444444444444,
              "#bd3786"
             ],
             [
              0.5555555555555556,
              "#d8576b"
             ],
             [
              0.6666666666666666,
              "#ed7953"
             ],
             [
              0.7777777777777778,
              "#fb9f3a"
             ],
             [
              0.8888888888888888,
              "#fdca26"
             ],
             [
              1,
              "#f0f921"
             ]
            ],
            "type": "heatmap"
           }
          ],
          "heatmapgl": [
           {
            "colorbar": {
             "outlinewidth": 0,
             "ticks": ""
            },
            "colorscale": [
             [
              0,
              "#0d0887"
             ],
             [
              0.1111111111111111,
              "#46039f"
             ],
             [
              0.2222222222222222,
              "#7201a8"
             ],
             [
              0.3333333333333333,
              "#9c179e"
             ],
             [
              0.4444444444444444,
              "#bd3786"
             ],
             [
              0.5555555555555556,
              "#d8576b"
             ],
             [
              0.6666666666666666,
              "#ed7953"
             ],
             [
              0.7777777777777778,
              "#fb9f3a"
             ],
             [
              0.8888888888888888,
              "#fdca26"
             ],
             [
              1,
              "#f0f921"
             ]
            ],
            "type": "heatmapgl"
           }
          ],
          "histogram": [
           {
            "marker": {
             "colorbar": {
              "outlinewidth": 0,
              "ticks": ""
             }
            },
            "type": "histogram"
           }
          ],
          "histogram2d": [
           {
            "colorbar": {
             "outlinewidth": 0,
             "ticks": ""
            },
            "colorscale": [
             [
              0,
              "#0d0887"
             ],
             [
              0.1111111111111111,
              "#46039f"
             ],
             [
              0.2222222222222222,
              "#7201a8"
             ],
             [
              0.3333333333333333,
              "#9c179e"
             ],
             [
              0.4444444444444444,
              "#bd3786"
             ],
             [
              0.5555555555555556,
              "#d8576b"
             ],
             [
              0.6666666666666666,
              "#ed7953"
             ],
             [
              0.7777777777777778,
              "#fb9f3a"
             ],
             [
              0.8888888888888888,
              "#fdca26"
             ],
             [
              1,
              "#f0f921"
             ]
            ],
            "type": "histogram2d"
           }
          ],
          "histogram2dcontour": [
           {
            "colorbar": {
             "outlinewidth": 0,
             "ticks": ""
            },
            "colorscale": [
             [
              0,
              "#0d0887"
             ],
             [
              0.1111111111111111,
              "#46039f"
             ],
             [
              0.2222222222222222,
              "#7201a8"
             ],
             [
              0.3333333333333333,
              "#9c179e"
             ],
             [
              0.4444444444444444,
              "#bd3786"
             ],
             [
              0.5555555555555556,
              "#d8576b"
             ],
             [
              0.6666666666666666,
              "#ed7953"
             ],
             [
              0.7777777777777778,
              "#fb9f3a"
             ],
             [
              0.8888888888888888,
              "#fdca26"
             ],
             [
              1,
              "#f0f921"
             ]
            ],
            "type": "histogram2dcontour"
           }
          ],
          "mesh3d": [
           {
            "colorbar": {
             "outlinewidth": 0,
             "ticks": ""
            },
            "type": "mesh3d"
           }
          ],
          "parcoords": [
           {
            "line": {
             "colorbar": {
              "outlinewidth": 0,
              "ticks": ""
             }
            },
            "type": "parcoords"
           }
          ],
          "pie": [
           {
            "automargin": true,
            "type": "pie"
           }
          ],
          "scatter": [
           {
            "marker": {
             "colorbar": {
              "outlinewidth": 0,
              "ticks": ""
             }
            },
            "type": "scatter"
           }
          ],
          "scatter3d": [
           {
            "line": {
             "colorbar": {
              "outlinewidth": 0,
              "ticks": ""
             }
            },
            "marker": {
             "colorbar": {
              "outlinewidth": 0,
              "ticks": ""
             }
            },
            "type": "scatter3d"
           }
          ],
          "scattercarpet": [
           {
            "marker": {
             "colorbar": {
              "outlinewidth": 0,
              "ticks": ""
             }
            },
            "type": "scattercarpet"
           }
          ],
          "scattergeo": [
           {
            "marker": {
             "colorbar": {
              "outlinewidth": 0,
              "ticks": ""
             }
            },
            "type": "scattergeo"
           }
          ],
          "scattergl": [
           {
            "marker": {
             "colorbar": {
              "outlinewidth": 0,
              "ticks": ""
             }
            },
            "type": "scattergl"
           }
          ],
          "scattermapbox": [
           {
            "marker": {
             "colorbar": {
              "outlinewidth": 0,
              "ticks": ""
             }
            },
            "type": "scattermapbox"
           }
          ],
          "scatterpolar": [
           {
            "marker": {
             "colorbar": {
              "outlinewidth": 0,
              "ticks": ""
             }
            },
            "type": "scatterpolar"
           }
          ],
          "scatterpolargl": [
           {
            "marker": {
             "colorbar": {
              "outlinewidth": 0,
              "ticks": ""
             }
            },
            "type": "scatterpolargl"
           }
          ],
          "scatterternary": [
           {
            "marker": {
             "colorbar": {
              "outlinewidth": 0,
              "ticks": ""
             }
            },
            "type": "scatterternary"
           }
          ],
          "surface": [
           {
            "colorbar": {
             "outlinewidth": 0,
             "ticks": ""
            },
            "colorscale": [
             [
              0,
              "#0d0887"
             ],
             [
              0.1111111111111111,
              "#46039f"
             ],
             [
              0.2222222222222222,
              "#7201a8"
             ],
             [
              0.3333333333333333,
              "#9c179e"
             ],
             [
              0.4444444444444444,
              "#bd3786"
             ],
             [
              0.5555555555555556,
              "#d8576b"
             ],
             [
              0.6666666666666666,
              "#ed7953"
             ],
             [
              0.7777777777777778,
              "#fb9f3a"
             ],
             [
              0.8888888888888888,
              "#fdca26"
             ],
             [
              1,
              "#f0f921"
             ]
            ],
            "type": "surface"
           }
          ],
          "table": [
           {
            "cells": {
             "fill": {
              "color": "#EBF0F8"
             },
             "line": {
              "color": "white"
             }
            },
            "header": {
             "fill": {
              "color": "#C8D4E3"
             },
             "line": {
              "color": "white"
             }
            },
            "type": "table"
           }
          ]
         },
         "layout": {
          "annotationdefaults": {
           "arrowcolor": "#2a3f5f",
           "arrowhead": 0,
           "arrowwidth": 1
          },
          "coloraxis": {
           "colorbar": {
            "outlinewidth": 0,
            "ticks": ""
           }
          },
          "colorscale": {
           "diverging": [
            [
             0,
             "#8e0152"
            ],
            [
             0.1,
             "#c51b7d"
            ],
            [
             0.2,
             "#de77ae"
            ],
            [
             0.3,
             "#f1b6da"
            ],
            [
             0.4,
             "#fde0ef"
            ],
            [
             0.5,
             "#f7f7f7"
            ],
            [
             0.6,
             "#e6f5d0"
            ],
            [
             0.7,
             "#b8e186"
            ],
            [
             0.8,
             "#7fbc41"
            ],
            [
             0.9,
             "#4d9221"
            ],
            [
             1,
             "#276419"
            ]
           ],
           "sequential": [
            [
             0,
             "#0d0887"
            ],
            [
             0.1111111111111111,
             "#46039f"
            ],
            [
             0.2222222222222222,
             "#7201a8"
            ],
            [
             0.3333333333333333,
             "#9c179e"
            ],
            [
             0.4444444444444444,
             "#bd3786"
            ],
            [
             0.5555555555555556,
             "#d8576b"
            ],
            [
             0.6666666666666666,
             "#ed7953"
            ],
            [
             0.7777777777777778,
             "#fb9f3a"
            ],
            [
             0.8888888888888888,
             "#fdca26"
            ],
            [
             1,
             "#f0f921"
            ]
           ],
           "sequentialminus": [
            [
             0,
             "#0d0887"
            ],
            [
             0.1111111111111111,
             "#46039f"
            ],
            [
             0.2222222222222222,
             "#7201a8"
            ],
            [
             0.3333333333333333,
             "#9c179e"
            ],
            [
             0.4444444444444444,
             "#bd3786"
            ],
            [
             0.5555555555555556,
             "#d8576b"
            ],
            [
             0.6666666666666666,
             "#ed7953"
            ],
            [
             0.7777777777777778,
             "#fb9f3a"
            ],
            [
             0.8888888888888888,
             "#fdca26"
            ],
            [
             1,
             "#f0f921"
            ]
           ]
          },
          "colorway": [
           "#636efa",
           "#EF553B",
           "#00cc96",
           "#ab63fa",
           "#FFA15A",
           "#19d3f3",
           "#FF6692",
           "#B6E880",
           "#FF97FF",
           "#FECB52"
          ],
          "font": {
           "color": "#2a3f5f"
          },
          "geo": {
           "bgcolor": "white",
           "lakecolor": "white",
           "landcolor": "#E5ECF6",
           "showlakes": true,
           "showland": true,
           "subunitcolor": "white"
          },
          "hoverlabel": {
           "align": "left"
          },
          "hovermode": "closest",
          "mapbox": {
           "style": "light"
          },
          "paper_bgcolor": "white",
          "plot_bgcolor": "#E5ECF6",
          "polar": {
           "angularaxis": {
            "gridcolor": "white",
            "linecolor": "white",
            "ticks": ""
           },
           "bgcolor": "#E5ECF6",
           "radialaxis": {
            "gridcolor": "white",
            "linecolor": "white",
            "ticks": ""
           }
          },
          "scene": {
           "xaxis": {
            "backgroundcolor": "#E5ECF6",
            "gridcolor": "white",
            "gridwidth": 2,
            "linecolor": "white",
            "showbackground": true,
            "ticks": "",
            "zerolinecolor": "white"
           },
           "yaxis": {
            "backgroundcolor": "#E5ECF6",
            "gridcolor": "white",
            "gridwidth": 2,
            "linecolor": "white",
            "showbackground": true,
            "ticks": "",
            "zerolinecolor": "white"
           },
           "zaxis": {
            "backgroundcolor": "#E5ECF6",
            "gridcolor": "white",
            "gridwidth": 2,
            "linecolor": "white",
            "showbackground": true,
            "ticks": "",
            "zerolinecolor": "white"
           }
          },
          "shapedefaults": {
           "line": {
            "color": "#2a3f5f"
           }
          },
          "ternary": {
           "aaxis": {
            "gridcolor": "white",
            "linecolor": "white",
            "ticks": ""
           },
           "baxis": {
            "gridcolor": "white",
            "linecolor": "white",
            "ticks": ""
           },
           "bgcolor": "#E5ECF6",
           "caxis": {
            "gridcolor": "white",
            "linecolor": "white",
            "ticks": ""
           }
          },
          "title": {
           "x": 0.05
          },
          "xaxis": {
           "automargin": true,
           "gridcolor": "white",
           "linecolor": "white",
           "ticks": "",
           "title": {
            "standoff": 15
           },
           "zerolinecolor": "white",
           "zerolinewidth": 2
          },
          "yaxis": {
           "automargin": true,
           "gridcolor": "white",
           "linecolor": "white",
           "ticks": "",
           "title": {
            "standoff": 15
           },
           "zerolinecolor": "white",
           "zerolinewidth": 2
          }
         }
        },
        "title": {
         "text": "Average House Values in Toronto"
        }
       }
      }
     },
     "metadata": {}
    }
   ],
   "source": [
    "# Create a scatter mapbox to analyze neighbourhood info\n",
    "\n",
    "px.set_mapbox_access_token(map_box_api)\n",
    "data_to_plot = avg_value_by_location[[\"neighbourhood\", \"lat\", \"lon\", \"average_house_value\"]]\n",
    "map_plot = px.scatter_mapbox(\n",
    "        data_to_plot,\n",
    "        lat=\"lat\",\n",
    "        lon=\"lon\",\n",
    "        color=\"average_house_value\",\n",
    "        size=\"average_house_value\",\n",
    "        zoom=9,\n",
    "        color_continuous_scale=\"sunset\",\n",
    "        title=\"Average House Values in Toronto\"\n",
    ")\n",
    "map_plot.show()"
   ]
  },
  {
   "cell_type": "markdown",
   "metadata": {},
   "source": [
    "- - -"
   ]
  },
  {
   "cell_type": "markdown",
   "metadata": {},
   "source": [
    "## Cost Analysis - Optional Challenge\n",
    "\n",
    "In this section, you will use Plotly express to a couple of plots that investors can interactively filter and explore various factors related to the house value of the Toronto's neighbourhoods. \n",
    "\n",
    "### Create a bar chart row facet to plot the average house values for all Toronto's neighbourhoods per year"
   ]
  },
  {
   "cell_type": "code",
   "execution_count": 24,
   "metadata": {},
   "outputs": [
    {
     "output_type": "display_data",
     "data": {
      "application/vnd.plotly.v1+json": {
       "config": {
        "plotlyServerURL": "https://plot.ly"
       },
       "data": [
        {
         "alignmentgroup": "True",
         "hovertemplate": "year=2001<br>Neighbourhood=%{x}<br>Avg. House Value=%{marker.color}<extra></extra>",
         "legendgroup": "",
         "marker": {
          "color": [
           200388,
           203047,
           259998,
           453850,
           371864,
           304749,
           257404,
           327644,
           343535,
           565304,
           225369,
           182957,
           265705,
           158483,
           310740,
           222086,
           927466,
           269386,
           213227,
           300213,
           219771,
           596077,
           249025,
           246750,
           215421,
           335119,
           253618,
           255142,
           283706,
           256205,
           241824,
           159187,
           264116,
           231741,
           278023,
           290457,
           483734,
           163419,
           163039,
           345676,
           241685,
           187993,
           126255,
           517466,
           726664,
           199043,
           235168,
           224425,
           224780,
           323536,
           354207,
           260555,
           240009,
           272896,
           213919,
           194295,
           423537,
           174793,
           274436,
           263247,
           196112,
           174518,
           267631,
           205572,
           512334,
           395115,
           204523,
           372579,
           461393,
           664712,
           489998,
           328211,
           234424,
           156076,
           275374,
           269751,
           209609,
           239078,
           173169,
           248778,
           159374,
           153829,
           411558,
           284459,
           247779,
           339987,
           279833,
           224801,
           427169,
           249993,
           181251,
           256556,
           268067,
           269410,
           378033,
           276239,
           246333,
           394235,
           226856,
           465254,
           238524,
           219337,
           210017,
           309221,
           664476,
           228625,
           335435,
           261923,
           200402,
           271880,
           276462,
           607040,
           228460,
           334433,
           215039,
           145464,
           404836,
           228368,
           155094,
           324732,
           375678,
           213950,
           228975,
           172947,
           208555,
           212241,
           187140,
           213749,
           211633,
           284984,
           283215,
           282087,
           181367,
           270607,
           224756,
           343877,
           491987,
           494098,
           185859,
           261784
          ],
          "coloraxis": "coloraxis"
         },
         "name": "",
         "offsetgroup": "",
         "orientation": "v",
         "showlegend": false,
         "textposition": "auto",
         "type": "bar",
         "x": [
          "Agincourt North",
          "Agincourt South-Malvern West",
          "Alderwood",
          "Annex",
          "Banbury-Don Mills",
          "Bathurst Manor",
          "Bay Street Corridor",
          "Bayview Village",
          "Bayview Woods-Steeles",
          "Bedford Park-Nortown",
          "Beechborough-Greenbrook",
          "Bendale",
          "Birchcliffe-Cliffside",
          "Black Creek",
          "Blake-Jones",
          "Briar Hill-Belgravia",
          "Bridle Path-Sunnybrook-York Mills",
          "Broadview North",
          "Brookhaven-Amesbury",
          "Cabbagetown-South St.James Town",
          "Caledonia-Fairbank",
          "Casa Loma",
          "Centennial Scarborough",
          "Church-Yonge Corridor",
          "Clairlea-Birchmount",
          "Clanton Park",
          "Cliffcrest",
          "Corso Italia-Davenport",
          "Danforth",
          "Danforth-East York",
          "Don Valley Village",
          "Dorset Park",
          "Dovercourt-Wallace Emerson-Juncti",
          "Downsview-Roding-CFB",
          "Dufferin Grove",
          "East End-Danforth",
          "Edenbridge-Humber Valley",
          "Eglinton East",
          "Elms-Old Rexdale",
          "Englemount-Lawrence",
          "Eringate-Centennial-West Deane",
          "Etobicoke West Mall",
          "Flemingdon Park",
          "Forest Hill North",
          "Forest Hill South",
          "Glenfield-Jane Heights",
          "Greenwood-Coxwell",
          "Guildwood",
          "Henry Farm",
          "High Park North",
          "High Park-Swansea",
          "Highland Creek",
          "Hillcrest Village",
          "Humber Heights-Westmount",
          "Humber Summit",
          "Humbermede",
          "Humewood-Cedarvale",
          "Ionview",
          "Islington-City Centre West",
          "Junction Area",
          "Keelesdale-Eglinton West",
          "Kennedy Park",
          "Kensington-Chinatown",
          "Kingsview Village-The Westway",
          "Kingsway South",
          "L'Amoreaux",
          "Lambton Baby Point",
          "Lansing-Westgate",
          "Lawrence Park North",
          "Lawrence Park South",
          "Leaside-Bennington",
          "Little Portugal",
          "Long Branch",
          "Malvern",
          "Maple Leaf",
          "Markland Wood",
          "Milliken",
          "Mimico",
          "Morningside",
          "Moss Park",
          "Mount Dennis",
          "Mount Olive-Silverstone-Jamestown",
          "Mount Pleasant East",
          "Mount Pleasant West",
          "New Toronto",
          "Newtonbrook East",
          "Newtonbrook West",
          "Niagara",
          "North Riverdale",
          "North St.James Town",
          "O'Connor-Parkview",
          "Oakridge",
          "Oakwood Village",
          "Old East York",
          "Palmerston-Little Italy",
          "Parkwoods-Donalda",
          "Pelmo Park-Humberlea",
          "Playter Estates-Danforth",
          "Pleasant View",
          "Princess-Rosethorn",
          "Regent Park",
          "Rexdale-Kipling",
          "Rockcliffe-Smythe",
          "Roncesvalles",
          "Rosedale-Moore Park",
          "Rouge",
          "Runnymede-Bloor West Village",
          "Rustic",
          "Scarborough Village",
          "South Parkdale",
          "South Riverdale",
          "St.Andrew-Windfields",
          "Steeles",
          "Stonegate-Queensway",
          "Tam O'Shanter-Sullivan",
          "Taylor-Massey",
          "The Beaches",
          "Thistletown-Beaumond Heights",
          "Thorncliffe Park",
          "Trinity-Bellwoods",
          "University",
          "Victoria Village",
          "Waterfront Communities-The Island",
          "West Hill",
          "West Humber-Clairville",
          "Westminster-Branson",
          "Weston",
          "Weston-Pellam Park",
          "Wexford/Maryvale",
          "Willowdale East",
          "Willowdale West",
          "Willowridge-Martingrove-Richview",
          "Woburn",
          "Woodbine Corridor",
          "Woodbine-Lumsden",
          "Wychwood",
          "Yonge-Eglinton",
          "Yonge-St.Clair",
          "York University Heights",
          "Yorkdale-Glen Park"
         ],
         "xaxis": "x4",
         "y": [
          200388,
          203047,
          259998,
          453850,
          371864,
          304749,
          257404,
          327644,
          343535,
          565304,
          225369,
          182957,
          265705,
          158483,
          310740,
          222086,
          927466,
          269386,
          213227,
          300213,
          219771,
          596077,
          249025,
          246750,
          215421,
          335119,
          253618,
          255142,
          283706,
          256205,
          241824,
          159187,
          264116,
          231741,
          278023,
          290457,
          483734,
          163419,
          163039,
          345676,
          241685,
          187993,
          126255,
          517466,
          726664,
          199043,
          235168,
          224425,
          224780,
          323536,
          354207,
          260555,
          240009,
          272896,
          213919,
          194295,
          423537,
          174793,
          274436,
          263247,
          196112,
          174518,
          267631,
          205572,
          512334,
          395115,
          204523,
          372579,
          461393,
          664712,
          489998,
          328211,
          234424,
          156076,
          275374,
          269751,
          209609,
          239078,
          173169,
          248778,
          159374,
          153829,
          411558,
          284459,
          247779,
          339987,
          279833,
          224801,
          427169,
          249993,
          181251,
          256556,
          268067,
          269410,
          378033,
          276239,
          246333,
          394235,
          226856,
          465254,
          238524,
          219337,
          210017,
          309221,
          664476,
          228625,
          335435,
          261923,
          200402,
          271880,
          276462,
          607040,
          228460,
          334433,
          215039,
          145464,
          404836,
          228368,
          155094,
          324732,
          375678,
          213950,
          228975,
          172947,
          208555,
          212241,
          187140,
          213749,
          211633,
          284984,
          283215,
          282087,
          181367,
          270607,
          224756,
          343877,
          491987,
          494098,
          185859,
          261784
         ],
         "yaxis": "y4"
        },
        {
         "alignmentgroup": "True",
         "hovertemplate": "year=2006<br>Neighbourhood=%{x}<br>Avg. House Value=%{marker.color}<extra></extra>",
         "legendgroup": "",
         "marker": {
          "color": [
           293140,
           297031,
           380342,
           663921,
           543987,
           445807,
           376548,
           479299,
           502546,
           826963,
           329685,
           267642,
           388690,
           231839,
           454571,
           324882,
           1356757,
           394075,
           311922,
           439171,
           321496,
           871981,
           364291,
           360962,
           315133,
           490234,
           371009,
           373239,
           415024,
           374793,
           353756,
           232869,
           386366,
           339006,
           406710,
           424900,
           707638,
           239060,
           238505,
           505677,
           353553,
           275009,
           184694,
           756983,
           1063011,
           291172,
           344019,
           328303,
           328823,
           473289,
           518157,
           381156,
           351101,
           399210,
           312935,
           284227,
           619577,
           255698,
           401463,
           385094,
           286886,
           255296,
           391509,
           300725,
           749476,
           578001,
           299190,
           545034,
           674957,
           972384,
           716801,
           480129,
           342930,
           228318,
           402835,
           394610,
           306629,
           349739,
           253323,
           363929,
           233143,
           225031,
           602054,
           416125,
           362468,
           497355,
           409358,
           328854,
           624890,
           365706,
           265146,
           375307,
           392146,
           394111,
           553011,
           404100,
           360352,
           576713,
           331860,
           680604,
           348928,
           320860,
           307227,
           452349,
           972039,
           334448,
           490697,
           383158,
           293162,
           397724,
           404427,
           888017,
           334206,
           489230,
           314574,
           212794,
           592220,
           334072,
           226882,
           475039,
           549567,
           312980,
           334960,
           252998,
           305088,
           310480,
           273761,
           312685,
           309590,
           416893,
           414306,
           412655,
           265315,
           395861,
           328788,
           503046,
           719711,
           722799,
           271887,
           382954
          ],
          "coloraxis": "coloraxis"
         },
         "name": "",
         "offsetgroup": "",
         "orientation": "v",
         "showlegend": false,
         "textposition": "auto",
         "type": "bar",
         "x": [
          "Agincourt North",
          "Agincourt South-Malvern West",
          "Alderwood",
          "Annex",
          "Banbury-Don Mills",
          "Bathurst Manor",
          "Bay Street Corridor",
          "Bayview Village",
          "Bayview Woods-Steeles",
          "Bedford Park-Nortown",
          "Beechborough-Greenbrook",
          "Bendale",
          "Birchcliffe-Cliffside",
          "Black Creek",
          "Blake-Jones",
          "Briar Hill-Belgravia",
          "Bridle Path-Sunnybrook-York Mills",
          "Broadview North",
          "Brookhaven-Amesbury",
          "Cabbagetown-South St.James Town",
          "Caledonia-Fairbank",
          "Casa Loma",
          "Centennial Scarborough",
          "Church-Yonge Corridor",
          "Clairlea-Birchmount",
          "Clanton Park",
          "Cliffcrest",
          "Corso Italia-Davenport",
          "Danforth",
          "Danforth-East York",
          "Don Valley Village",
          "Dorset Park",
          "Dovercourt-Wallace Emerson-Juncti",
          "Downsview-Roding-CFB",
          "Dufferin Grove",
          "East End-Danforth",
          "Edenbridge-Humber Valley",
          "Eglinton East",
          "Elms-Old Rexdale",
          "Englemount-Lawrence",
          "Eringate-Centennial-West Deane",
          "Etobicoke West Mall",
          "Flemingdon Park",
          "Forest Hill North",
          "Forest Hill South",
          "Glenfield-Jane Heights",
          "Greenwood-Coxwell",
          "Guildwood",
          "Henry Farm",
          "High Park North",
          "High Park-Swansea",
          "Highland Creek",
          "Hillcrest Village",
          "Humber Heights-Westmount",
          "Humber Summit",
          "Humbermede",
          "Humewood-Cedarvale",
          "Ionview",
          "Islington-City Centre West",
          "Junction Area",
          "Keelesdale-Eglinton West",
          "Kennedy Park",
          "Kensington-Chinatown",
          "Kingsview Village-The Westway",
          "Kingsway South",
          "L'Amoreaux",
          "Lambton Baby Point",
          "Lansing-Westgate",
          "Lawrence Park North",
          "Lawrence Park South",
          "Leaside-Bennington",
          "Little Portugal",
          "Long Branch",
          "Malvern",
          "Maple Leaf",
          "Markland Wood",
          "Milliken",
          "Mimico",
          "Morningside",
          "Moss Park",
          "Mount Dennis",
          "Mount Olive-Silverstone-Jamestown",
          "Mount Pleasant East",
          "Mount Pleasant West",
          "New Toronto",
          "Newtonbrook East",
          "Newtonbrook West",
          "Niagara",
          "North Riverdale",
          "North St.James Town",
          "O'Connor-Parkview",
          "Oakridge",
          "Oakwood Village",
          "Old East York",
          "Palmerston-Little Italy",
          "Parkwoods-Donalda",
          "Pelmo Park-Humberlea",
          "Playter Estates-Danforth",
          "Pleasant View",
          "Princess-Rosethorn",
          "Regent Park",
          "Rexdale-Kipling",
          "Rockcliffe-Smythe",
          "Roncesvalles",
          "Rosedale-Moore Park",
          "Rouge",
          "Runnymede-Bloor West Village",
          "Rustic",
          "Scarborough Village",
          "South Parkdale",
          "South Riverdale",
          "St.Andrew-Windfields",
          "Steeles",
          "Stonegate-Queensway",
          "Tam O'Shanter-Sullivan",
          "Taylor-Massey",
          "The Beaches",
          "Thistletown-Beaumond Heights",
          "Thorncliffe Park",
          "Trinity-Bellwoods",
          "University",
          "Victoria Village",
          "Waterfront Communities-The Island",
          "West Hill",
          "West Humber-Clairville",
          "Westminster-Branson",
          "Weston",
          "Weston-Pellam Park",
          "Wexford/Maryvale",
          "Willowdale East",
          "Willowdale West",
          "Willowridge-Martingrove-Richview",
          "Woburn",
          "Woodbine Corridor",
          "Woodbine-Lumsden",
          "Wychwood",
          "Yonge-Eglinton",
          "Yonge-St.Clair",
          "York University Heights",
          "Yorkdale-Glen Park"
         ],
         "xaxis": "x3",
         "y": [
          293140,
          297031,
          380342,
          663921,
          543987,
          445807,
          376548,
          479299,
          502546,
          826963,
          329685,
          267642,
          388690,
          231839,
          454571,
          324882,
          1356757,
          394075,
          311922,
          439171,
          321496,
          871981,
          364291,
          360962,
          315133,
          490234,
          371009,
          373239,
          415024,
          374793,
          353756,
          232869,
          386366,
          339006,
          406710,
          424900,
          707638,
          239060,
          238505,
          505677,
          353553,
          275009,
          184694,
          756983,
          1063011,
          291172,
          344019,
          328303,
          328823,
          473289,
          518157,
          381156,
          351101,
          399210,
          312935,
          284227,
          619577,
          255698,
          401463,
          385094,
          286886,
          255296,
          391509,
          300725,
          749476,
          578001,
          299190,
          545034,
          674957,
          972384,
          716801,
          480129,
          342930,
          228318,
          402835,
          394610,
          306629,
          349739,
          253323,
          363929,
          233143,
          225031,
          602054,
          416125,
          362468,
          497355,
          409358,
          328854,
          624890,
          365706,
          265146,
          375307,
          392146,
          394111,
          553011,
          404100,
          360352,
          576713,
          331860,
          680604,
          348928,
          320860,
          307227,
          452349,
          972039,
          334448,
          490697,
          383158,
          293162,
          397724,
          404427,
          888017,
          334206,
          489230,
          314574,
          212794,
          592220,
          334072,
          226882,
          475039,
          549567,
          312980,
          334960,
          252998,
          305088,
          310480,
          273761,
          312685,
          309590,
          416893,
          414306,
          412655,
          265315,
          395861,
          328788,
          503046,
          719711,
          722799,
          271887,
          382954
         ],
         "yaxis": "y3"
        },
        {
         "alignmentgroup": "True",
         "hovertemplate": "year=2011<br>Neighbourhood=%{x}<br>Avg. House Value=%{marker.color}<extra></extra>",
         "legendgroup": "",
         "marker": {
          "color": [
           366667,
           371534,
           475742,
           830450,
           680433,
           557627,
           470996,
           599520,
           628597,
           1034387,
           412378,
           334773,
           486184,
           289990,
           568589,
           406371,
           1697067,
           492919,
           390160,
           549326,
           402135,
           1090696,
           455664,
           451500,
           394176,
           613197,
           464068,
           466857,
           519123,
           468801,
           442487,
           291278,
           483276,
           424038,
           508723,
           531476,
           885132,
           299023,
           298328,
           632514,
           442233,
           343988,
           231020,
           946854,
           1329642,
           364206,
           430308,
           410650,
           411300,
           592002,
           648124,
           476760,
           439166,
           499342,
           391427,
           355519,
           774983,
           319834,
           502160,
           481686,
           358844,
           319331,
           489709,
           376154,
           937464,
           722978,
           374234,
           681742,
           844253,
           1216283,
           896593,
           600558,
           428946,
           285586,
           503876,
           493588,
           383540,
           437462,
           316863,
           455212,
           291621,
           281475,
           753065,
           520500,
           453384,
           622104,
           512036,
           411339,
           781629,
           457435,
           331652,
           469444,
           490506,
           492964,
           691720,
           505459,
           450737,
           721368,
           415099,
           851317,
           436448,
           401340,
           384287,
           565810,
           1215852,
           418336,
           613776,
           479264,
           366694,
           497483,
           505868,
           1110755,
           418033,
           611942,
           393477,
           266168,
           740764,
           417866,
           283790,
           594191,
           687412,
           391483,
           418977,
           316456,
           381612,
           388356,
           342427,
           391115,
           387243,
           521460,
           518224,
           516160,
           331863,
           495153,
           411256,
           629223,
           900233,
           904096,
           340083,
           479009
          ],
          "coloraxis": "coloraxis"
         },
         "name": "",
         "offsetgroup": "",
         "orientation": "v",
         "showlegend": false,
         "textposition": "auto",
         "type": "bar",
         "x": [
          "Agincourt North",
          "Agincourt South-Malvern West",
          "Alderwood",
          "Annex",
          "Banbury-Don Mills",
          "Bathurst Manor",
          "Bay Street Corridor",
          "Bayview Village",
          "Bayview Woods-Steeles",
          "Bedford Park-Nortown",
          "Beechborough-Greenbrook",
          "Bendale",
          "Birchcliffe-Cliffside",
          "Black Creek",
          "Blake-Jones",
          "Briar Hill-Belgravia",
          "Bridle Path-Sunnybrook-York Mills",
          "Broadview North",
          "Brookhaven-Amesbury",
          "Cabbagetown-South St.James Town",
          "Caledonia-Fairbank",
          "Casa Loma",
          "Centennial Scarborough",
          "Church-Yonge Corridor",
          "Clairlea-Birchmount",
          "Clanton Park",
          "Cliffcrest",
          "Corso Italia-Davenport",
          "Danforth",
          "Danforth-East York",
          "Don Valley Village",
          "Dorset Park",
          "Dovercourt-Wallace Emerson-Juncti",
          "Downsview-Roding-CFB",
          "Dufferin Grove",
          "East End-Danforth",
          "Edenbridge-Humber Valley",
          "Eglinton East",
          "Elms-Old Rexdale",
          "Englemount-Lawrence",
          "Eringate-Centennial-West Deane",
          "Etobicoke West Mall",
          "Flemingdon Park",
          "Forest Hill North",
          "Forest Hill South",
          "Glenfield-Jane Heights",
          "Greenwood-Coxwell",
          "Guildwood",
          "Henry Farm",
          "High Park North",
          "High Park-Swansea",
          "Highland Creek",
          "Hillcrest Village",
          "Humber Heights-Westmount",
          "Humber Summit",
          "Humbermede",
          "Humewood-Cedarvale",
          "Ionview",
          "Islington-City Centre West",
          "Junction Area",
          "Keelesdale-Eglinton West",
          "Kennedy Park",
          "Kensington-Chinatown",
          "Kingsview Village-The Westway",
          "Kingsway South",
          "L'Amoreaux",
          "Lambton Baby Point",
          "Lansing-Westgate",
          "Lawrence Park North",
          "Lawrence Park South",
          "Leaside-Bennington",
          "Little Portugal",
          "Long Branch",
          "Malvern",
          "Maple Leaf",
          "Markland Wood",
          "Milliken",
          "Mimico",
          "Morningside",
          "Moss Park",
          "Mount Dennis",
          "Mount Olive-Silverstone-Jamestown",
          "Mount Pleasant East",
          "Mount Pleasant West",
          "New Toronto",
          "Newtonbrook East",
          "Newtonbrook West",
          "Niagara",
          "North Riverdale",
          "North St.James Town",
          "O'Connor-Parkview",
          "Oakridge",
          "Oakwood Village",
          "Old East York",
          "Palmerston-Little Italy",
          "Parkwoods-Donalda",
          "Pelmo Park-Humberlea",
          "Playter Estates-Danforth",
          "Pleasant View",
          "Princess-Rosethorn",
          "Regent Park",
          "Rexdale-Kipling",
          "Rockcliffe-Smythe",
          "Roncesvalles",
          "Rosedale-Moore Park",
          "Rouge",
          "Runnymede-Bloor West Village",
          "Rustic",
          "Scarborough Village",
          "South Parkdale",
          "South Riverdale",
          "St.Andrew-Windfields",
          "Steeles",
          "Stonegate-Queensway",
          "Tam O'Shanter-Sullivan",
          "Taylor-Massey",
          "The Beaches",
          "Thistletown-Beaumond Heights",
          "Thorncliffe Park",
          "Trinity-Bellwoods",
          "University",
          "Victoria Village",
          "Waterfront Communities-The Island",
          "West Hill",
          "West Humber-Clairville",
          "Westminster-Branson",
          "Weston",
          "Weston-Pellam Park",
          "Wexford/Maryvale",
          "Willowdale East",
          "Willowdale West",
          "Willowridge-Martingrove-Richview",
          "Woburn",
          "Woodbine Corridor",
          "Woodbine-Lumsden",
          "Wychwood",
          "Yonge-Eglinton",
          "Yonge-St.Clair",
          "York University Heights",
          "Yorkdale-Glen Park"
         ],
         "xaxis": "x2",
         "y": [
          366667,
          371534,
          475742,
          830450,
          680433,
          557627,
          470996,
          599520,
          628597,
          1034387,
          412378,
          334773,
          486184,
          289990,
          568589,
          406371,
          1697067,
          492919,
          390160,
          549326,
          402135,
          1090696,
          455664,
          451500,
          394176,
          613197,
          464068,
          466857,
          519123,
          468801,
          442487,
          291278,
          483276,
          424038,
          508723,
          531476,
          885132,
          299023,
          298328,
          632514,
          442233,
          343988,
          231020,
          946854,
          1329642,
          364206,
          430308,
          410650,
          411300,
          592002,
          648124,
          476760,
          439166,
          499342,
          391427,
          355519,
          774983,
          319834,
          502160,
          481686,
          358844,
          319331,
          489709,
          376154,
          937464,
          722978,
          374234,
          681742,
          844253,
          1216283,
          896593,
          600558,
          428946,
          285586,
          503876,
          493588,
          383540,
          437462,
          316863,
          455212,
          291621,
          281475,
          753065,
          520500,
          453384,
          622104,
          512036,
          411339,
          781629,
          457435,
          331652,
          469444,
          490506,
          492964,
          691720,
          505459,
          450737,
          721368,
          415099,
          851317,
          436448,
          401340,
          384287,
          565810,
          1215852,
          418336,
          613776,
          479264,
          366694,
          497483,
          505868,
          1110755,
          418033,
          611942,
          393477,
          266168,
          740764,
          417866,
          283790,
          594191,
          687412,
          391483,
          418977,
          316456,
          381612,
          388356,
          342427,
          391115,
          387243,
          521460,
          518224,
          516160,
          331863,
          495153,
          411256,
          629223,
          900233,
          904096,
          340083,
          479009
         ],
         "yaxis": "y2"
        },
        {
         "alignmentgroup": "True",
         "hovertemplate": "year=2016<br>Neighbourhood=%{x}<br>Avg. House Value=%{marker.color}<extra></extra>",
         "legendgroup": "",
         "marker": {
          "color": [
           459051,
           465144,
           595608,
           1039687,
           851872,
           698124,
           589666,
           750572,
           786976,
           1295007,
           516279,
           419121,
           608681,
           363055,
           711848,
           508759,
           2124653,
           617113,
           488463,
           687732,
           503455,
           1365503,
           570471,
           565258,
           493491,
           767695,
           580993,
           584484,
           649919,
           586918,
           553974,
           364667,
           605040,
           530877,
           636899,
           665384,
           1108146,
           374364,
           373493,
           791880,
           553656,
           430658,
           289227,
           1185419,
           1664653,
           455970,
           538727,
           514116,
           514929,
           741161,
           811423,
           596883,
           549816,
           625154,
           490049,
           445094,
           970245,
           400418,
           628682,
           603050,
           449257,
           399789,
           613094,
           470928,
           1173663,
           905137,
           468524,
           853511,
           1056967,
           1522732,
           1122495,
           751872,
           537021,
           357541,
           630831,
           617950,
           480175,
           547683,
           396699,
           569905,
           365097,
           352394,
           942804,
           651643,
           567617,
           778847,
           641047,
           514978,
           978565,
           572689,
           415214,
           587723,
           614092,
           617169,
           866003,
           632812,
           564303,
           903121,
           519686,
           1065811,
           546413,
           502460,
           481110,
           708369,
           1522193,
           523738,
           768420,
           600017,
           459085,
           622827,
           633325,
           1390616,
           523359,
           766124,
           492616,
           333230,
           927404,
           523150,
           355293,
           743901,
           860610,
           490119,
           524540,
           396189,
           477762,
           486204,
           428703,
           489659,
           484811,
           652845,
           648794,
           646210,
           415478,
           619910,
           514874,
           787760,
           1127052,
           1131888,
           425769,
           599698
          ],
          "coloraxis": "coloraxis"
         },
         "name": "",
         "offsetgroup": "",
         "orientation": "v",
         "showlegend": false,
         "textposition": "auto",
         "type": "bar",
         "x": [
          "Agincourt North",
          "Agincourt South-Malvern West",
          "Alderwood",
          "Annex",
          "Banbury-Don Mills",
          "Bathurst Manor",
          "Bay Street Corridor",
          "Bayview Village",
          "Bayview Woods-Steeles",
          "Bedford Park-Nortown",
          "Beechborough-Greenbrook",
          "Bendale",
          "Birchcliffe-Cliffside",
          "Black Creek",
          "Blake-Jones",
          "Briar Hill-Belgravia",
          "Bridle Path-Sunnybrook-York Mills",
          "Broadview North",
          "Brookhaven-Amesbury",
          "Cabbagetown-South St.James Town",
          "Caledonia-Fairbank",
          "Casa Loma",
          "Centennial Scarborough",
          "Church-Yonge Corridor",
          "Clairlea-Birchmount",
          "Clanton Park",
          "Cliffcrest",
          "Corso Italia-Davenport",
          "Danforth",
          "Danforth-East York",
          "Don Valley Village",
          "Dorset Park",
          "Dovercourt-Wallace Emerson-Juncti",
          "Downsview-Roding-CFB",
          "Dufferin Grove",
          "East End-Danforth",
          "Edenbridge-Humber Valley",
          "Eglinton East",
          "Elms-Old Rexdale",
          "Englemount-Lawrence",
          "Eringate-Centennial-West Deane",
          "Etobicoke West Mall",
          "Flemingdon Park",
          "Forest Hill North",
          "Forest Hill South",
          "Glenfield-Jane Heights",
          "Greenwood-Coxwell",
          "Guildwood",
          "Henry Farm",
          "High Park North",
          "High Park-Swansea",
          "Highland Creek",
          "Hillcrest Village",
          "Humber Heights-Westmount",
          "Humber Summit",
          "Humbermede",
          "Humewood-Cedarvale",
          "Ionview",
          "Islington-City Centre West",
          "Junction Area",
          "Keelesdale-Eglinton West",
          "Kennedy Park",
          "Kensington-Chinatown",
          "Kingsview Village-The Westway",
          "Kingsway South",
          "L'Amoreaux",
          "Lambton Baby Point",
          "Lansing-Westgate",
          "Lawrence Park North",
          "Lawrence Park South",
          "Leaside-Bennington",
          "Little Portugal",
          "Long Branch",
          "Malvern",
          "Maple Leaf",
          "Markland Wood",
          "Milliken",
          "Mimico",
          "Morningside",
          "Moss Park",
          "Mount Dennis",
          "Mount Olive-Silverstone-Jamestown",
          "Mount Pleasant East",
          "Mount Pleasant West",
          "New Toronto",
          "Newtonbrook East",
          "Newtonbrook West",
          "Niagara",
          "North Riverdale",
          "North St.James Town",
          "O'Connor-Parkview",
          "Oakridge",
          "Oakwood Village",
          "Old East York",
          "Palmerston-Little Italy",
          "Parkwoods-Donalda",
          "Pelmo Park-Humberlea",
          "Playter Estates-Danforth",
          "Pleasant View",
          "Princess-Rosethorn",
          "Regent Park",
          "Rexdale-Kipling",
          "Rockcliffe-Smythe",
          "Roncesvalles",
          "Rosedale-Moore Park",
          "Rouge",
          "Runnymede-Bloor West Village",
          "Rustic",
          "Scarborough Village",
          "South Parkdale",
          "South Riverdale",
          "St.Andrew-Windfields",
          "Steeles",
          "Stonegate-Queensway",
          "Tam O'Shanter-Sullivan",
          "Taylor-Massey",
          "The Beaches",
          "Thistletown-Beaumond Heights",
          "Thorncliffe Park",
          "Trinity-Bellwoods",
          "University",
          "Victoria Village",
          "Waterfront Communities-The Island",
          "West Hill",
          "West Humber-Clairville",
          "Westminster-Branson",
          "Weston",
          "Weston-Pellam Park",
          "Wexford/Maryvale",
          "Willowdale East",
          "Willowdale West",
          "Willowridge-Martingrove-Richview",
          "Woburn",
          "Woodbine Corridor",
          "Woodbine-Lumsden",
          "Wychwood",
          "Yonge-Eglinton",
          "Yonge-St.Clair",
          "York University Heights",
          "Yorkdale-Glen Park"
         ],
         "xaxis": "x",
         "y": [
          459051,
          465144,
          595608,
          1039687,
          851872,
          698124,
          589666,
          750572,
          786976,
          1295007,
          516279,
          419121,
          608681,
          363055,
          711848,
          508759,
          2124653,
          617113,
          488463,
          687732,
          503455,
          1365503,
          570471,
          565258,
          493491,
          767695,
          580993,
          584484,
          649919,
          586918,
          553974,
          364667,
          605040,
          530877,
          636899,
          665384,
          1108146,
          374364,
          373493,
          791880,
          553656,
          430658,
          289227,
          1185419,
          1664653,
          455970,
          538727,
          514116,
          514929,
          741161,
          811423,
          596883,
          549816,
          625154,
          490049,
          445094,
          970245,
          400418,
          628682,
          603050,
          449257,
          399789,
          613094,
          470928,
          1173663,
          905137,
          468524,
          853511,
          1056967,
          1522732,
          1122495,
          751872,
          537021,
          357541,
          630831,
          617950,
          480175,
          547683,
          396699,
          569905,
          365097,
          352394,
          942804,
          651643,
          567617,
          778847,
          641047,
          514978,
          978565,
          572689,
          415214,
          587723,
          614092,
          617169,
          866003,
          632812,
          564303,
          903121,
          519686,
          1065811,
          546413,
          502460,
          481110,
          708369,
          1522193,
          523738,
          768420,
          600017,
          459085,
          622827,
          633325,
          1390616,
          523359,
          766124,
          492616,
          333230,
          927404,
          523150,
          355293,
          743901,
          860610,
          490119,
          524540,
          396189,
          477762,
          486204,
          428703,
          489659,
          484811,
          652845,
          648794,
          646210,
          415478,
          619910,
          514874,
          787760,
          1127052,
          1131888,
          425769,
          599698
         ],
         "yaxis": "y"
        }
       ],
       "layout": {
        "annotations": [
         {
          "font": {},
          "showarrow": false,
          "text": "year=2016",
          "textangle": 90,
          "x": 0.98,
          "xanchor": "left",
          "xref": "paper",
          "y": 0.11375,
          "yanchor": "middle",
          "yref": "paper"
         },
         {
          "font": {},
          "showarrow": false,
          "text": "year=2011",
          "textangle": 90,
          "x": 0.98,
          "xanchor": "left",
          "xref": "paper",
          "y": 0.37124999999999997,
          "yanchor": "middle",
          "yref": "paper"
         },
         {
          "font": {},
          "showarrow": false,
          "text": "year=2006",
          "textangle": 90,
          "x": 0.98,
          "xanchor": "left",
          "xref": "paper",
          "y": 0.62875,
          "yanchor": "middle",
          "yref": "paper"
         },
         {
          "font": {},
          "showarrow": false,
          "text": "year=2001",
          "textangle": 90,
          "x": 0.98,
          "xanchor": "left",
          "xref": "paper",
          "y": 0.88625,
          "yanchor": "middle",
          "yref": "paper"
         }
        ],
        "barmode": "relative",
        "coloraxis": {
         "colorbar": {
          "title": {
           "text": "Avg. House Value"
          }
         },
         "colorscale": [
          [
           0,
           "#0d0887"
          ],
          [
           0.1111111111111111,
           "#46039f"
          ],
          [
           0.2222222222222222,
           "#7201a8"
          ],
          [
           0.3333333333333333,
           "#9c179e"
          ],
          [
           0.4444444444444444,
           "#bd3786"
          ],
          [
           0.5555555555555556,
           "#d8576b"
          ],
          [
           0.6666666666666666,
           "#ed7953"
          ],
          [
           0.7777777777777778,
           "#fb9f3a"
          ],
          [
           0.8888888888888888,
           "#fdca26"
          ],
          [
           1,
           "#f0f921"
          ]
         ]
        },
        "height": 900,
        "legend": {
         "tracegroupgap": 0
        },
        "template": {
         "data": {
          "bar": [
           {
            "error_x": {
             "color": "#2a3f5f"
            },
            "error_y": {
             "color": "#2a3f5f"
            },
            "marker": {
             "line": {
              "color": "#E5ECF6",
              "width": 0.5
             }
            },
            "type": "bar"
           }
          ],
          "barpolar": [
           {
            "marker": {
             "line": {
              "color": "#E5ECF6",
              "width": 0.5
             }
            },
            "type": "barpolar"
           }
          ],
          "carpet": [
           {
            "aaxis": {
             "endlinecolor": "#2a3f5f",
             "gridcolor": "white",
             "linecolor": "white",
             "minorgridcolor": "white",
             "startlinecolor": "#2a3f5f"
            },
            "baxis": {
             "endlinecolor": "#2a3f5f",
             "gridcolor": "white",
             "linecolor": "white",
             "minorgridcolor": "white",
             "startlinecolor": "#2a3f5f"
            },
            "type": "carpet"
           }
          ],
          "choropleth": [
           {
            "colorbar": {
             "outlinewidth": 0,
             "ticks": ""
            },
            "type": "choropleth"
           }
          ],
          "contour": [
           {
            "colorbar": {
             "outlinewidth": 0,
             "ticks": ""
            },
            "colorscale": [
             [
              0,
              "#0d0887"
             ],
             [
              0.1111111111111111,
              "#46039f"
             ],
             [
              0.2222222222222222,
              "#7201a8"
             ],
             [
              0.3333333333333333,
              "#9c179e"
             ],
             [
              0.4444444444444444,
              "#bd3786"
             ],
             [
              0.5555555555555556,
              "#d8576b"
             ],
             [
              0.6666666666666666,
              "#ed7953"
             ],
             [
              0.7777777777777778,
              "#fb9f3a"
             ],
             [
              0.8888888888888888,
              "#fdca26"
             ],
             [
              1,
              "#f0f921"
             ]
            ],
            "type": "contour"
           }
          ],
          "contourcarpet": [
           {
            "colorbar": {
             "outlinewidth": 0,
             "ticks": ""
            },
            "type": "contourcarpet"
           }
          ],
          "heatmap": [
           {
            "colorbar": {
             "outlinewidth": 0,
             "ticks": ""
            },
            "colorscale": [
             [
              0,
              "#0d0887"
             ],
             [
              0.1111111111111111,
              "#46039f"
             ],
             [
              0.2222222222222222,
              "#7201a8"
             ],
             [
              0.3333333333333333,
              "#9c179e"
             ],
             [
              0.4444444444444444,
              "#bd3786"
             ],
             [
              0.5555555555555556,
              "#d8576b"
             ],
             [
              0.6666666666666666,
              "#ed7953"
             ],
             [
              0.7777777777777778,
              "#fb9f3a"
             ],
             [
              0.8888888888888888,
              "#fdca26"
             ],
             [
              1,
              "#f0f921"
             ]
            ],
            "type": "heatmap"
           }
          ],
          "heatmapgl": [
           {
            "colorbar": {
             "outlinewidth": 0,
             "ticks": ""
            },
            "colorscale": [
             [
              0,
              "#0d0887"
             ],
             [
              0.1111111111111111,
              "#46039f"
             ],
             [
              0.2222222222222222,
              "#7201a8"
             ],
             [
              0.3333333333333333,
              "#9c179e"
             ],
             [
              0.4444444444444444,
              "#bd3786"
             ],
             [
              0.5555555555555556,
              "#d8576b"
             ],
             [
              0.6666666666666666,
              "#ed7953"
             ],
             [
              0.7777777777777778,
              "#fb9f3a"
             ],
             [
              0.8888888888888888,
              "#fdca26"
             ],
             [
              1,
              "#f0f921"
             ]
            ],
            "type": "heatmapgl"
           }
          ],
          "histogram": [
           {
            "marker": {
             "colorbar": {
              "outlinewidth": 0,
              "ticks": ""
             }
            },
            "type": "histogram"
           }
          ],
          "histogram2d": [
           {
            "colorbar": {
             "outlinewidth": 0,
             "ticks": ""
            },
            "colorscale": [
             [
              0,
              "#0d0887"
             ],
             [
              0.1111111111111111,
              "#46039f"
             ],
             [
              0.2222222222222222,
              "#7201a8"
             ],
             [
              0.3333333333333333,
              "#9c179e"
             ],
             [
              0.4444444444444444,
              "#bd3786"
             ],
             [
              0.5555555555555556,
              "#d8576b"
             ],
             [
              0.6666666666666666,
              "#ed7953"
             ],
             [
              0.7777777777777778,
              "#fb9f3a"
             ],
             [
              0.8888888888888888,
              "#fdca26"
             ],
             [
              1,
              "#f0f921"
             ]
            ],
            "type": "histogram2d"
           }
          ],
          "histogram2dcontour": [
           {
            "colorbar": {
             "outlinewidth": 0,
             "ticks": ""
            },
            "colorscale": [
             [
              0,
              "#0d0887"
             ],
             [
              0.1111111111111111,
              "#46039f"
             ],
             [
              0.2222222222222222,
              "#7201a8"
             ],
             [
              0.3333333333333333,
              "#9c179e"
             ],
             [
              0.4444444444444444,
              "#bd3786"
             ],
             [
              0.5555555555555556,
              "#d8576b"
             ],
             [
              0.6666666666666666,
              "#ed7953"
             ],
             [
              0.7777777777777778,
              "#fb9f3a"
             ],
             [
              0.8888888888888888,
              "#fdca26"
             ],
             [
              1,
              "#f0f921"
             ]
            ],
            "type": "histogram2dcontour"
           }
          ],
          "mesh3d": [
           {
            "colorbar": {
             "outlinewidth": 0,
             "ticks": ""
            },
            "type": "mesh3d"
           }
          ],
          "parcoords": [
           {
            "line": {
             "colorbar": {
              "outlinewidth": 0,
              "ticks": ""
             }
            },
            "type": "parcoords"
           }
          ],
          "pie": [
           {
            "automargin": true,
            "type": "pie"
           }
          ],
          "scatter": [
           {
            "marker": {
             "colorbar": {
              "outlinewidth": 0,
              "ticks": ""
             }
            },
            "type": "scatter"
           }
          ],
          "scatter3d": [
           {
            "line": {
             "colorbar": {
              "outlinewidth": 0,
              "ticks": ""
             }
            },
            "marker": {
             "colorbar": {
              "outlinewidth": 0,
              "ticks": ""
             }
            },
            "type": "scatter3d"
           }
          ],
          "scattercarpet": [
           {
            "marker": {
             "colorbar": {
              "outlinewidth": 0,
              "ticks": ""
             }
            },
            "type": "scattercarpet"
           }
          ],
          "scattergeo": [
           {
            "marker": {
             "colorbar": {
              "outlinewidth": 0,
              "ticks": ""
             }
            },
            "type": "scattergeo"
           }
          ],
          "scattergl": [
           {
            "marker": {
             "colorbar": {
              "outlinewidth": 0,
              "ticks": ""
             }
            },
            "type": "scattergl"
           }
          ],
          "scattermapbox": [
           {
            "marker": {
             "colorbar": {
              "outlinewidth": 0,
              "ticks": ""
             }
            },
            "type": "scattermapbox"
           }
          ],
          "scatterpolar": [
           {
            "marker": {
             "colorbar": {
              "outlinewidth": 0,
              "ticks": ""
             }
            },
            "type": "scatterpolar"
           }
          ],
          "scatterpolargl": [
           {
            "marker": {
             "colorbar": {
              "outlinewidth": 0,
              "ticks": ""
             }
            },
            "type": "scatterpolargl"
           }
          ],
          "scatterternary": [
           {
            "marker": {
             "colorbar": {
              "outlinewidth": 0,
              "ticks": ""
             }
            },
            "type": "scatterternary"
           }
          ],
          "surface": [
           {
            "colorbar": {
             "outlinewidth": 0,
             "ticks": ""
            },
            "colorscale": [
             [
              0,
              "#0d0887"
             ],
             [
              0.1111111111111111,
              "#46039f"
             ],
             [
              0.2222222222222222,
              "#7201a8"
             ],
             [
              0.3333333333333333,
              "#9c179e"
             ],
             [
              0.4444444444444444,
              "#bd3786"
             ],
             [
              0.5555555555555556,
              "#d8576b"
             ],
             [
              0.6666666666666666,
              "#ed7953"
             ],
             [
              0.7777777777777778,
              "#fb9f3a"
             ],
             [
              0.8888888888888888,
              "#fdca26"
             ],
             [
              1,
              "#f0f921"
             ]
            ],
            "type": "surface"
           }
          ],
          "table": [
           {
            "cells": {
             "fill": {
              "color": "#EBF0F8"
             },
             "line": {
              "color": "white"
             }
            },
            "header": {
             "fill": {
              "color": "#C8D4E3"
             },
             "line": {
              "color": "white"
             }
            },
            "type": "table"
           }
          ]
         },
         "layout": {
          "annotationdefaults": {
           "arrowcolor": "#2a3f5f",
           "arrowhead": 0,
           "arrowwidth": 1
          },
          "coloraxis": {
           "colorbar": {
            "outlinewidth": 0,
            "ticks": ""
           }
          },
          "colorscale": {
           "diverging": [
            [
             0,
             "#8e0152"
            ],
            [
             0.1,
             "#c51b7d"
            ],
            [
             0.2,
             "#de77ae"
            ],
            [
             0.3,
             "#f1b6da"
            ],
            [
             0.4,
             "#fde0ef"
            ],
            [
             0.5,
             "#f7f7f7"
            ],
            [
             0.6,
             "#e6f5d0"
            ],
            [
             0.7,
             "#b8e186"
            ],
            [
             0.8,
             "#7fbc41"
            ],
            [
             0.9,
             "#4d9221"
            ],
            [
             1,
             "#276419"
            ]
           ],
           "sequential": [
            [
             0,
             "#0d0887"
            ],
            [
             0.1111111111111111,
             "#46039f"
            ],
            [
             0.2222222222222222,
             "#7201a8"
            ],
            [
             0.3333333333333333,
             "#9c179e"
            ],
            [
             0.4444444444444444,
             "#bd3786"
            ],
            [
             0.5555555555555556,
             "#d8576b"
            ],
            [
             0.6666666666666666,
             "#ed7953"
            ],
            [
             0.7777777777777778,
             "#fb9f3a"
            ],
            [
             0.8888888888888888,
             "#fdca26"
            ],
            [
             1,
             "#f0f921"
            ]
           ],
           "sequentialminus": [
            [
             0,
             "#0d0887"
            ],
            [
             0.1111111111111111,
             "#46039f"
            ],
            [
             0.2222222222222222,
             "#7201a8"
            ],
            [
             0.3333333333333333,
             "#9c179e"
            ],
            [
             0.4444444444444444,
             "#bd3786"
            ],
            [
             0.5555555555555556,
             "#d8576b"
            ],
            [
             0.6666666666666666,
             "#ed7953"
            ],
            [
             0.7777777777777778,
             "#fb9f3a"
            ],
            [
             0.8888888888888888,
             "#fdca26"
            ],
            [
             1,
             "#f0f921"
            ]
           ]
          },
          "colorway": [
           "#636efa",
           "#EF553B",
           "#00cc96",
           "#ab63fa",
           "#FFA15A",
           "#19d3f3",
           "#FF6692",
           "#B6E880",
           "#FF97FF",
           "#FECB52"
          ],
          "font": {
           "color": "#2a3f5f"
          },
          "geo": {
           "bgcolor": "white",
           "lakecolor": "white",
           "landcolor": "#E5ECF6",
           "showlakes": true,
           "showland": true,
           "subunitcolor": "white"
          },
          "hoverlabel": {
           "align": "left"
          },
          "hovermode": "closest",
          "mapbox": {
           "style": "light"
          },
          "paper_bgcolor": "white",
          "plot_bgcolor": "#E5ECF6",
          "polar": {
           "angularaxis": {
            "gridcolor": "white",
            "linecolor": "white",
            "ticks": ""
           },
           "bgcolor": "#E5ECF6",
           "radialaxis": {
            "gridcolor": "white",
            "linecolor": "white",
            "ticks": ""
           }
          },
          "scene": {
           "xaxis": {
            "backgroundcolor": "#E5ECF6",
            "gridcolor": "white",
            "gridwidth": 2,
            "linecolor": "white",
            "showbackground": true,
            "ticks": "",
            "zerolinecolor": "white"
           },
           "yaxis": {
            "backgroundcolor": "#E5ECF6",
            "gridcolor": "white",
            "gridwidth": 2,
            "linecolor": "white",
            "showbackground": true,
            "ticks": "",
            "zerolinecolor": "white"
           },
           "zaxis": {
            "backgroundcolor": "#E5ECF6",
            "gridcolor": "white",
            "gridwidth": 2,
            "linecolor": "white",
            "showbackground": true,
            "ticks": "",
            "zerolinecolor": "white"
           }
          },
          "shapedefaults": {
           "line": {
            "color": "#2a3f5f"
           }
          },
          "ternary": {
           "aaxis": {
            "gridcolor": "white",
            "linecolor": "white",
            "ticks": ""
           },
           "baxis": {
            "gridcolor": "white",
            "linecolor": "white",
            "ticks": ""
           },
           "bgcolor": "#E5ECF6",
           "caxis": {
            "gridcolor": "white",
            "linecolor": "white",
            "ticks": ""
           }
          },
          "title": {
           "x": 0.05
          },
          "xaxis": {
           "automargin": true,
           "gridcolor": "white",
           "linecolor": "white",
           "ticks": "",
           "title": {
            "standoff": 15
           },
           "zerolinecolor": "white",
           "zerolinewidth": 2
          },
          "yaxis": {
           "automargin": true,
           "gridcolor": "white",
           "linecolor": "white",
           "ticks": "",
           "title": {
            "standoff": 15
           },
           "zerolinecolor": "white",
           "zerolinewidth": 2
          }
         }
        },
        "title": {
         "text": "Average House Values in Toronto per Neighbourhood"
        },
        "xaxis": {
         "anchor": "y",
         "domain": [
          0,
          0.98
         ],
         "title": {
          "text": "Neighbourhood"
         }
        },
        "xaxis2": {
         "anchor": "y2",
         "domain": [
          0,
          0.98
         ],
         "matches": "x",
         "showticklabels": false
        },
        "xaxis3": {
         "anchor": "y3",
         "domain": [
          0,
          0.98
         ],
         "matches": "x",
         "showticklabels": false
        },
        "xaxis4": {
         "anchor": "y4",
         "domain": [
          0,
          0.98
         ],
         "matches": "x",
         "showticklabels": false
        },
        "yaxis": {
         "anchor": "x",
         "domain": [
          0,
          0.2275
         ],
         "title": {
          "text": "Avg. House Value"
         }
        },
        "yaxis2": {
         "anchor": "x2",
         "domain": [
          0.2575,
          0.485
         ],
         "matches": "y",
         "title": {
          "text": "Avg. House Value"
         }
        },
        "yaxis3": {
         "anchor": "x3",
         "domain": [
          0.515,
          0.7425
         ],
         "matches": "y",
         "title": {
          "text": "Avg. House Value"
         }
        },
        "yaxis4": {
         "anchor": "x4",
         "domain": [
          0.7725,
          1
         ],
         "matches": "y",
         "title": {
          "text": "Avg. House Value"
         }
        }
       }
      }
     },
     "metadata": {}
    }
   ],
   "source": [
    "\n",
    "faceted_row_bar_chart = px.bar(to_data.reset_index(),\n",
    "        x=\"neighbourhood\",\n",
    "        y=\"average_house_value\",\n",
    "        facet_row=\"year\",\n",
    "        color=\"average_house_value\",\n",
    "        labels=({\"neighbourhood\":\"Neighbourhood\", \"average_house_value\":\"Avg. House Value\"}),\n",
    "        height=900,\n",
    "        title=\"Average House Values in Toronto per Neighbourhood\"\n",
    "      )\n",
    "faceted_row_bar_chart.show()"
   ]
  },
  {
   "cell_type": "markdown",
   "metadata": {},
   "source": [
    "### Create a sunburst chart to conduct a costs analysis of most expensive neighbourhoods in Toronto per year"
   ]
  },
  {
   "cell_type": "code",
   "execution_count": 25,
   "metadata": {},
   "outputs": [
    {
     "output_type": "execute_result",
     "data": {
      "text/plain": [
       "   year                 neighbourhood  single_detached_house  \\\n",
       "0  2001               Agincourt North                   3715   \n",
       "1  2001  Agincourt South-Malvern West                   3250   \n",
       "2  2001                     Alderwood                   3175   \n",
       "3  2001                         Annex                   1060   \n",
       "4  2001             Banbury-Don Mills                   3615   \n",
       "\n",
       "   apartment_five_storeys_plus  movable_dwelling  semi_detached_house  \\\n",
       "0                         1480                 0                 1055   \n",
       "1                         1835                 0                  545   \n",
       "2                          315                 0                  470   \n",
       "3                         6090                 5                 1980   \n",
       "4                         4465                 0                  240   \n",
       "\n",
       "   row_house  duplex  apartment_five_storeys_less  other_house  \\\n",
       "0       1295     195                          185            5   \n",
       "1        455     105                          425            0   \n",
       "2         50     185                          370            0   \n",
       "3        605     275                         3710          165   \n",
       "4        380      15                         1360            0   \n",
       "\n",
       "   average_house_value  shelter_costs_owned  shelter_costs_rented  \n",
       "0               200388                  810                   870  \n",
       "1               203047                  806                   892  \n",
       "2               259998                  817                   924  \n",
       "3               453850                 1027                  1378  \n",
       "4               371864                 1007                  1163  "
      ],
      "text/html": "<div>\n<style scoped>\n    .dataframe tbody tr th:only-of-type {\n        vertical-align: middle;\n    }\n\n    .dataframe tbody tr th {\n        vertical-align: top;\n    }\n\n    .dataframe thead th {\n        text-align: right;\n    }\n</style>\n<table border=\"1\" class=\"dataframe\">\n  <thead>\n    <tr style=\"text-align: right;\">\n      <th></th>\n      <th>year</th>\n      <th>neighbourhood</th>\n      <th>single_detached_house</th>\n      <th>apartment_five_storeys_plus</th>\n      <th>movable_dwelling</th>\n      <th>semi_detached_house</th>\n      <th>row_house</th>\n      <th>duplex</th>\n      <th>apartment_five_storeys_less</th>\n      <th>other_house</th>\n      <th>average_house_value</th>\n      <th>shelter_costs_owned</th>\n      <th>shelter_costs_rented</th>\n    </tr>\n  </thead>\n  <tbody>\n    <tr>\n      <th>0</th>\n      <td>2001</td>\n      <td>Agincourt North</td>\n      <td>3715</td>\n      <td>1480</td>\n      <td>0</td>\n      <td>1055</td>\n      <td>1295</td>\n      <td>195</td>\n      <td>185</td>\n      <td>5</td>\n      <td>200388</td>\n      <td>810</td>\n      <td>870</td>\n    </tr>\n    <tr>\n      <th>1</th>\n      <td>2001</td>\n      <td>Agincourt South-Malvern West</td>\n      <td>3250</td>\n      <td>1835</td>\n      <td>0</td>\n      <td>545</td>\n      <td>455</td>\n      <td>105</td>\n      <td>425</td>\n      <td>0</td>\n      <td>203047</td>\n      <td>806</td>\n      <td>892</td>\n    </tr>\n    <tr>\n      <th>2</th>\n      <td>2001</td>\n      <td>Alderwood</td>\n      <td>3175</td>\n      <td>315</td>\n      <td>0</td>\n      <td>470</td>\n      <td>50</td>\n      <td>185</td>\n      <td>370</td>\n      <td>0</td>\n      <td>259998</td>\n      <td>817</td>\n      <td>924</td>\n    </tr>\n    <tr>\n      <th>3</th>\n      <td>2001</td>\n      <td>Annex</td>\n      <td>1060</td>\n      <td>6090</td>\n      <td>5</td>\n      <td>1980</td>\n      <td>605</td>\n      <td>275</td>\n      <td>3710</td>\n      <td>165</td>\n      <td>453850</td>\n      <td>1027</td>\n      <td>1378</td>\n    </tr>\n    <tr>\n      <th>4</th>\n      <td>2001</td>\n      <td>Banbury-Don Mills</td>\n      <td>3615</td>\n      <td>4465</td>\n      <td>0</td>\n      <td>240</td>\n      <td>380</td>\n      <td>15</td>\n      <td>1360</td>\n      <td>0</td>\n      <td>371864</td>\n      <td>1007</td>\n      <td>1163</td>\n    </tr>\n  </tbody>\n</table>\n</div>"
     },
     "metadata": {},
     "execution_count": 25
    }
   ],
   "source": [
    "# Fetch the data from all expensive neighbourhoods per year.\n",
    "\n",
    "sunburst_data = to_data.reset_index()\n",
    "sunburst_data.head()"
   ]
  },
  {
   "cell_type": "code",
   "execution_count": 123,
   "metadata": {},
   "outputs": [
    {
     "data": {
      "application/vnd.plotly.v1+json": {
       "config": {
        "plotlyServerURL": "https://plot.ly"
       },
       "data": [
        {
         "branchvalues": "total",
         "customdata": [
          [
           200388
          ],
          [
           293140
          ],
          [
           366667
          ],
          [
           459051
          ],
          [
           203047
          ],
          [
           297031
          ],
          [
           371534
          ],
          [
           465144
          ],
          [
           259998
          ],
          [
           380342
          ],
          [
           475742
          ],
          [
           595608
          ],
          [
           453850
          ],
          [
           663921
          ],
          [
           830450
          ],
          [
           1039687
          ],
          [
           371864
          ],
          [
           543987
          ],
          [
           680433
          ],
          [
           851872
          ],
          [
           304749
          ],
          [
           445807
          ],
          [
           557627
          ],
          [
           698124
          ],
          [
           257404
          ],
          [
           376548
          ],
          [
           470996
          ],
          [
           589666
          ],
          [
           327644
          ],
          [
           479299
          ],
          [
           599520
          ],
          [
           750572
          ],
          [
           343535
          ],
          [
           502546
          ],
          [
           628597
          ],
          [
           786976
          ],
          [
           565304
          ],
          [
           826963
          ],
          [
           1034387
          ],
          [
           1295007
          ],
          [
           225369
          ],
          [
           329685
          ],
          [
           412378
          ],
          [
           516279
          ],
          [
           182957
          ],
          [
           267642
          ],
          [
           334773
          ],
          [
           419121
          ],
          [
           265705
          ],
          [
           388690
          ],
          [
           486184
          ],
          [
           608681
          ],
          [
           158483
          ],
          [
           231839
          ],
          [
           289990
          ],
          [
           363055
          ],
          [
           310740
          ],
          [
           454571
          ],
          [
           568589
          ],
          [
           711848
          ],
          [
           222086
          ],
          [
           324882
          ],
          [
           406371
          ],
          [
           508759
          ],
          [
           927466
          ],
          [
           1356757
          ],
          [
           1697067
          ],
          [
           2124653
          ],
          [
           269386
          ],
          [
           394075
          ],
          [
           492919
          ],
          [
           617113
          ],
          [
           213227
          ],
          [
           311922
          ],
          [
           390160
          ],
          [
           488463
          ],
          [
           300213
          ],
          [
           439171
          ],
          [
           549326
          ],
          [
           687732
          ],
          [
           219771
          ],
          [
           321496
          ],
          [
           402135
          ],
          [
           503455
          ],
          [
           596077
          ],
          [
           871981
          ],
          [
           1090696
          ],
          [
           1365503
          ],
          [
           249025
          ],
          [
           364291
          ],
          [
           455664
          ],
          [
           570471
          ],
          [
           246750
          ],
          [
           360962
          ],
          [
           451500
          ],
          [
           565258
          ],
          [
           215421
          ],
          [
           315133
          ],
          [
           394176
          ],
          [
           493491
          ],
          [
           335119
          ],
          [
           490234
          ],
          [
           613197
          ],
          [
           767695
          ],
          [
           253618
          ],
          [
           371009
          ],
          [
           464068
          ],
          [
           580993
          ],
          [
           255142
          ],
          [
           373239
          ],
          [
           466857
          ],
          [
           584484
          ],
          [
           283706
          ],
          [
           415024
          ],
          [
           519123
          ],
          [
           649919
          ],
          [
           256205
          ],
          [
           374793
          ],
          [
           468801
          ],
          [
           586918
          ],
          [
           241824
          ],
          [
           353756
          ],
          [
           442487
          ],
          [
           553974
          ],
          [
           159187
          ],
          [
           232869
          ],
          [
           291278
          ],
          [
           364667
          ],
          [
           264116
          ],
          [
           386366
          ],
          [
           483276
          ],
          [
           605040
          ],
          [
           231741
          ],
          [
           339006
          ],
          [
           424038
          ],
          [
           530877
          ],
          [
           278023
          ],
          [
           406710
          ],
          [
           508723
          ],
          [
           636899
          ],
          [
           290457
          ],
          [
           424900
          ],
          [
           531476
          ],
          [
           665384
          ],
          [
           483734
          ],
          [
           707638
          ],
          [
           885132
          ],
          [
           1108146
          ],
          [
           163419
          ],
          [
           239060
          ],
          [
           299023
          ],
          [
           374364
          ],
          [
           163039
          ],
          [
           238505
          ],
          [
           298328
          ],
          [
           373493
          ],
          [
           345676
          ],
          [
           505677
          ],
          [
           632514
          ],
          [
           791880
          ],
          [
           241685
          ],
          [
           353553
          ],
          [
           442233
          ],
          [
           553656
          ],
          [
           187993
          ],
          [
           275009
          ],
          [
           343988
          ],
          [
           430658
          ],
          [
           126255
          ],
          [
           184694
          ],
          [
           231020
          ],
          [
           289227
          ],
          [
           517466
          ],
          [
           756983
          ],
          [
           946854
          ],
          [
           1185419
          ],
          [
           726664
          ],
          [
           1063011
          ],
          [
           1329642
          ],
          [
           1664653
          ],
          [
           199043
          ],
          [
           291172
          ],
          [
           364206
          ],
          [
           455970
          ],
          [
           235168
          ],
          [
           344019
          ],
          [
           430308
          ],
          [
           538727
          ],
          [
           224425
          ],
          [
           328303
          ],
          [
           410650
          ],
          [
           514116
          ],
          [
           224780
          ],
          [
           328823
          ],
          [
           411300
          ],
          [
           514929
          ],
          [
           323536
          ],
          [
           473289
          ],
          [
           592002
          ],
          [
           741161
          ],
          [
           354207
          ],
          [
           518157
          ],
          [
           648124
          ],
          [
           811423
          ],
          [
           260555
          ],
          [
           381156
          ],
          [
           476760
          ],
          [
           596883
          ],
          [
           240009
          ],
          [
           351101
          ],
          [
           439166
          ],
          [
           549816
          ],
          [
           272896
          ],
          [
           399210
          ],
          [
           499342
          ],
          [
           625154
          ],
          [
           213919
          ],
          [
           312935
          ],
          [
           391427
          ],
          [
           490049
          ],
          [
           194295
          ],
          [
           284227
          ],
          [
           355519
          ],
          [
           445094
          ],
          [
           423537
          ],
          [
           619577
          ],
          [
           774983
          ],
          [
           970245
          ],
          [
           174793
          ],
          [
           255698
          ],
          [
           319834
          ],
          [
           400418
          ],
          [
           274436
          ],
          [
           401463
          ],
          [
           502160
          ],
          [
           628682
          ],
          [
           263247
          ],
          [
           385094
          ],
          [
           481686
          ],
          [
           603050
          ],
          [
           196112
          ],
          [
           286886
          ],
          [
           358844
          ],
          [
           449257
          ],
          [
           174518
          ],
          [
           255296
          ],
          [
           319331
          ],
          [
           399789
          ],
          [
           267631
          ],
          [
           391509
          ],
          [
           489709
          ],
          [
           613094
          ],
          [
           205572
          ],
          [
           300725
          ],
          [
           376154
          ],
          [
           470928
          ],
          [
           512334
          ],
          [
           749476
          ],
          [
           937464
          ],
          [
           1173663
          ],
          [
           395115
          ],
          [
           578001
          ],
          [
           722978
          ],
          [
           905137
          ],
          [
           204523
          ],
          [
           299190
          ],
          [
           374234
          ],
          [
           468524
          ],
          [
           372579
          ],
          [
           545034
          ],
          [
           681742
          ],
          [
           853511
          ],
          [
           461393
          ],
          [
           674957
          ],
          [
           844253
          ],
          [
           1056967
          ],
          [
           664712
          ],
          [
           972384
          ],
          [
           1216283
          ],
          [
           1522732
          ],
          [
           489998
          ],
          [
           716801
          ],
          [
           896593
          ],
          [
           1122495
          ],
          [
           328211
          ],
          [
           480129
          ],
          [
           600558
          ],
          [
           751872
          ],
          [
           234424
          ],
          [
           342930
          ],
          [
           428946
          ],
          [
           537021
          ],
          [
           156076
          ],
          [
           228318
          ],
          [
           285586
          ],
          [
           357541
          ],
          [
           275374
          ],
          [
           402835
          ],
          [
           503876
          ],
          [
           630831
          ],
          [
           269751
          ],
          [
           394610
          ],
          [
           493588
          ],
          [
           617950
          ],
          [
           209609
          ],
          [
           306629
          ],
          [
           383540
          ],
          [
           480175
          ],
          [
           239078
          ],
          [
           349739
          ],
          [
           437462
          ],
          [
           547683
          ],
          [
           173169
          ],
          [
           253323
          ],
          [
           316863
          ],
          [
           396699
          ],
          [
           248778
          ],
          [
           363929
          ],
          [
           455212
          ],
          [
           569905
          ],
          [
           159374
          ],
          [
           233143
          ],
          [
           291621
          ],
          [
           365097
          ],
          [
           153829
          ],
          [
           225031
          ],
          [
           281475
          ],
          [
           352394
          ],
          [
           411558
          ],
          [
           602054
          ],
          [
           753065
          ],
          [
           942804
          ],
          [
           284459
          ],
          [
           416125
          ],
          [
           520500
          ],
          [
           651643
          ],
          [
           247779
          ],
          [
           362468
          ],
          [
           453384
          ],
          [
           567617
          ],
          [
           339987
          ],
          [
           497355
          ],
          [
           622104
          ],
          [
           778847
          ],
          [
           279833
          ],
          [
           409358
          ],
          [
           512036
          ],
          [
           641047
          ],
          [
           224801
          ],
          [
           328854
          ],
          [
           411339
          ],
          [
           514978
          ],
          [
           427169
          ],
          [
           624890
          ],
          [
           781629
          ],
          [
           978565
          ],
          [
           249993
          ],
          [
           365706
          ],
          [
           457435
          ],
          [
           572689
          ],
          [
           181251
          ],
          [
           265146
          ],
          [
           331652
          ],
          [
           415214
          ],
          [
           256556
          ],
          [
           375307
          ],
          [
           469444
          ],
          [
           587723
          ],
          [
           268067
          ],
          [
           392146
          ],
          [
           490506
          ],
          [
           614092
          ],
          [
           269410
          ],
          [
           394111
          ],
          [
           492964
          ],
          [
           617169
          ],
          [
           378033
          ],
          [
           553011
          ],
          [
           691720
          ],
          [
           866003
          ],
          [
           276239
          ],
          [
           404100
          ],
          [
           505459
          ],
          [
           632812
          ],
          [
           246333
          ],
          [
           360352
          ],
          [
           450737
          ],
          [
           564303
          ],
          [
           394235
          ],
          [
           576713
          ],
          [
           721368
          ],
          [
           903121
          ],
          [
           226856
          ],
          [
           331860
          ],
          [
           415099
          ],
          [
           519686
          ],
          [
           465254
          ],
          [
           680604
          ],
          [
           851317
          ],
          [
           1065811
          ],
          [
           238524
          ],
          [
           348928
          ],
          [
           436448
          ],
          [
           546413
          ],
          [
           219337
          ],
          [
           320860
          ],
          [
           401340
          ],
          [
           502460
          ],
          [
           210017
          ],
          [
           307227
          ],
          [
           384287
          ],
          [
           481110
          ],
          [
           309221
          ],
          [
           452349
          ],
          [
           565810
          ],
          [
           708369
          ],
          [
           664476
          ],
          [
           972039
          ],
          [
           1215852
          ],
          [
           1522193
          ],
          [
           228625
          ],
          [
           334448
          ],
          [
           418336
          ],
          [
           523738
          ],
          [
           335435
          ],
          [
           490697
          ],
          [
           613776
          ],
          [
           768420
          ],
          [
           261923
          ],
          [
           383158
          ],
          [
           479264
          ],
          [
           600017
          ],
          [
           200402
          ],
          [
           293162
          ],
          [
           366694
          ],
          [
           459085
          ],
          [
           271880
          ],
          [
           397724
          ],
          [
           497483
          ],
          [
           622827
          ],
          [
           276462
          ],
          [
           404427
          ],
          [
           505868
          ],
          [
           633325
          ],
          [
           607040
          ],
          [
           888017
          ],
          [
           1110755
          ],
          [
           1390616
          ],
          [
           228460
          ],
          [
           334206
          ],
          [
           418033
          ],
          [
           523359
          ],
          [
           334433
          ],
          [
           489230
          ],
          [
           611942
          ],
          [
           766124
          ],
          [
           215039
          ],
          [
           314574
          ],
          [
           393477
          ],
          [
           492616
          ],
          [
           145464
          ],
          [
           212794
          ],
          [
           266168
          ],
          [
           333230
          ],
          [
           404836
          ],
          [
           592220
          ],
          [
           740764
          ],
          [
           927404
          ],
          [
           228368
          ],
          [
           334072
          ],
          [
           417866
          ],
          [
           523150
          ],
          [
           155094
          ],
          [
           226882
          ],
          [
           283790
          ],
          [
           355293
          ],
          [
           324732
          ],
          [
           475039
          ],
          [
           594191
          ],
          [
           743901
          ],
          [
           375678
          ],
          [
           549567
          ],
          [
           687412
          ],
          [
           860610
          ],
          [
           213950
          ],
          [
           312980
          ],
          [
           391483
          ],
          [
           490119
          ],
          [
           228975
          ],
          [
           334960
          ],
          [
           418977
          ],
          [
           524540
          ],
          [
           172947
          ],
          [
           252998
          ],
          [
           316456
          ],
          [
           396189
          ],
          [
           208555
          ],
          [
           305088
          ],
          [
           381612
          ],
          [
           477762
          ],
          [
           212241
          ],
          [
           310480
          ],
          [
           388356
          ],
          [
           486204
          ],
          [
           187140
          ],
          [
           273761
          ],
          [
           342427
          ],
          [
           428703
          ],
          [
           213749
          ],
          [
           312685
          ],
          [
           391115
          ],
          [
           489659
          ],
          [
           211633
          ],
          [
           309590
          ],
          [
           387243
          ],
          [
           484811
          ],
          [
           284984
          ],
          [
           416893
          ],
          [
           521460
          ],
          [
           652845
          ],
          [
           283215
          ],
          [
           414306
          ],
          [
           518224
          ],
          [
           648794
          ],
          [
           282087
          ],
          [
           412655
          ],
          [
           516160
          ],
          [
           646210
          ],
          [
           181367
          ],
          [
           265315
          ],
          [
           331863
          ],
          [
           415478
          ],
          [
           270607
          ],
          [
           395861
          ],
          [
           495153
          ],
          [
           619910
          ],
          [
           224756
          ],
          [
           328788
          ],
          [
           411256
          ],
          [
           514874
          ],
          [
           343877
          ],
          [
           503046
          ],
          [
           629223
          ],
          [
           787760
          ],
          [
           491987
          ],
          [
           719711
          ],
          [
           900233
          ],
          [
           1127052
          ],
          [
           494098
          ],
          [
           722799
          ],
          [
           904096
          ],
          [
           1131888
          ],
          [
           185859
          ],
          [
           271887
          ],
          [
           340083
          ],
          [
           425769
          ],
          [
           261784
          ],
          [
           382954
          ],
          [
           479009
          ],
          [
           599698
          ],
          [
           343576.5080769564
          ],
          [
           502606.1466159757
          ],
          [
           628672.7552165643
          ],
          [
           787070.5045585778
          ]
         ],
         "domain": {
          "x": [
           0,
           1
          ],
          "y": [
           0,
           1
          ]
         },
         "hovertemplate": "labels=%{label}<br>average_house_value_sum=%{value}<br>parent=%{parent}<br>id=%{id}<br>average_house_value=%{color}<extra></extra>",
         "ids": [
          "2001/Agincourt North",
          "2006/Agincourt North",
          "2011/Agincourt North",
          "2016/Agincourt North",
          "2001/Agincourt South-Malvern West",
          "2006/Agincourt South-Malvern West",
          "2011/Agincourt South-Malvern West",
          "2016/Agincourt South-Malvern West",
          "2001/Alderwood",
          "2006/Alderwood",
          "2011/Alderwood",
          "2016/Alderwood",
          "2001/Annex",
          "2006/Annex",
          "2011/Annex",
          "2016/Annex",
          "2001/Banbury-Don Mills",
          "2006/Banbury-Don Mills",
          "2011/Banbury-Don Mills",
          "2016/Banbury-Don Mills",
          "2001/Bathurst Manor",
          "2006/Bathurst Manor",
          "2011/Bathurst Manor",
          "2016/Bathurst Manor",
          "2001/Bay Street Corridor",
          "2006/Bay Street Corridor",
          "2011/Bay Street Corridor",
          "2016/Bay Street Corridor",
          "2001/Bayview Village",
          "2006/Bayview Village",
          "2011/Bayview Village",
          "2016/Bayview Village",
          "2001/Bayview Woods-Steeles",
          "2006/Bayview Woods-Steeles",
          "2011/Bayview Woods-Steeles",
          "2016/Bayview Woods-Steeles",
          "2001/Bedford Park-Nortown",
          "2006/Bedford Park-Nortown",
          "2011/Bedford Park-Nortown",
          "2016/Bedford Park-Nortown",
          "2001/Beechborough-Greenbrook",
          "2006/Beechborough-Greenbrook",
          "2011/Beechborough-Greenbrook",
          "2016/Beechborough-Greenbrook",
          "2001/Bendale",
          "2006/Bendale",
          "2011/Bendale",
          "2016/Bendale",
          "2001/Birchcliffe-Cliffside",
          "2006/Birchcliffe-Cliffside",
          "2011/Birchcliffe-Cliffside",
          "2016/Birchcliffe-Cliffside",
          "2001/Black Creek",
          "2006/Black Creek",
          "2011/Black Creek",
          "2016/Black Creek",
          "2001/Blake-Jones",
          "2006/Blake-Jones",
          "2011/Blake-Jones",
          "2016/Blake-Jones",
          "2001/Briar Hill-Belgravia",
          "2006/Briar Hill-Belgravia",
          "2011/Briar Hill-Belgravia",
          "2016/Briar Hill-Belgravia",
          "2001/Bridle Path-Sunnybrook-York Mills",
          "2006/Bridle Path-Sunnybrook-York Mills",
          "2011/Bridle Path-Sunnybrook-York Mills",
          "2016/Bridle Path-Sunnybrook-York Mills",
          "2001/Broadview North",
          "2006/Broadview North",
          "2011/Broadview North",
          "2016/Broadview North",
          "2001/Brookhaven-Amesbury",
          "2006/Brookhaven-Amesbury",
          "2011/Brookhaven-Amesbury",
          "2016/Brookhaven-Amesbury",
          "2001/Cabbagetown-South St.James Town",
          "2006/Cabbagetown-South St.James Town",
          "2011/Cabbagetown-South St.James Town",
          "2016/Cabbagetown-South St.James Town",
          "2001/Caledonia-Fairbank",
          "2006/Caledonia-Fairbank",
          "2011/Caledonia-Fairbank",
          "2016/Caledonia-Fairbank",
          "2001/Casa Loma",
          "2006/Casa Loma",
          "2011/Casa Loma",
          "2016/Casa Loma",
          "2001/Centennial Scarborough",
          "2006/Centennial Scarborough",
          "2011/Centennial Scarborough",
          "2016/Centennial Scarborough",
          "2001/Church-Yonge Corridor",
          "2006/Church-Yonge Corridor",
          "2011/Church-Yonge Corridor",
          "2016/Church-Yonge Corridor",
          "2001/Clairlea-Birchmount",
          "2006/Clairlea-Birchmount",
          "2011/Clairlea-Birchmount",
          "2016/Clairlea-Birchmount",
          "2001/Clanton Park",
          "2006/Clanton Park",
          "2011/Clanton Park",
          "2016/Clanton Park",
          "2001/Cliffcrest",
          "2006/Cliffcrest",
          "2011/Cliffcrest",
          "2016/Cliffcrest",
          "2001/Corso Italia-Davenport",
          "2006/Corso Italia-Davenport",
          "2011/Corso Italia-Davenport",
          "2016/Corso Italia-Davenport",
          "2001/Danforth",
          "2006/Danforth",
          "2011/Danforth",
          "2016/Danforth",
          "2001/Danforth-East York",
          "2006/Danforth-East York",
          "2011/Danforth-East York",
          "2016/Danforth-East York",
          "2001/Don Valley Village",
          "2006/Don Valley Village",
          "2011/Don Valley Village",
          "2016/Don Valley Village",
          "2001/Dorset Park",
          "2006/Dorset Park",
          "2011/Dorset Park",
          "2016/Dorset Park",
          "2001/Dovercourt-Wallace Emerson-Juncti",
          "2006/Dovercourt-Wallace Emerson-Juncti",
          "2011/Dovercourt-Wallace Emerson-Juncti",
          "2016/Dovercourt-Wallace Emerson-Juncti",
          "2001/Downsview-Roding-CFB",
          "2006/Downsview-Roding-CFB",
          "2011/Downsview-Roding-CFB",
          "2016/Downsview-Roding-CFB",
          "2001/Dufferin Grove",
          "2006/Dufferin Grove",
          "2011/Dufferin Grove",
          "2016/Dufferin Grove",
          "2001/East End-Danforth",
          "2006/East End-Danforth",
          "2011/East End-Danforth",
          "2016/East End-Danforth",
          "2001/Edenbridge-Humber Valley",
          "2006/Edenbridge-Humber Valley",
          "2011/Edenbridge-Humber Valley",
          "2016/Edenbridge-Humber Valley",
          "2001/Eglinton East",
          "2006/Eglinton East",
          "2011/Eglinton East",
          "2016/Eglinton East",
          "2001/Elms-Old Rexdale",
          "2006/Elms-Old Rexdale",
          "2011/Elms-Old Rexdale",
          "2016/Elms-Old Rexdale",
          "2001/Englemount-Lawrence",
          "2006/Englemount-Lawrence",
          "2011/Englemount-Lawrence",
          "2016/Englemount-Lawrence",
          "2001/Eringate-Centennial-West Deane",
          "2006/Eringate-Centennial-West Deane",
          "2011/Eringate-Centennial-West Deane",
          "2016/Eringate-Centennial-West Deane",
          "2001/Etobicoke West Mall",
          "2006/Etobicoke West Mall",
          "2011/Etobicoke West Mall",
          "2016/Etobicoke West Mall",
          "2001/Flemingdon Park",
          "2006/Flemingdon Park",
          "2011/Flemingdon Park",
          "2016/Flemingdon Park",
          "2001/Forest Hill North",
          "2006/Forest Hill North",
          "2011/Forest Hill North",
          "2016/Forest Hill North",
          "2001/Forest Hill South",
          "2006/Forest Hill South",
          "2011/Forest Hill South",
          "2016/Forest Hill South",
          "2001/Glenfield-Jane Heights",
          "2006/Glenfield-Jane Heights",
          "2011/Glenfield-Jane Heights",
          "2016/Glenfield-Jane Heights",
          "2001/Greenwood-Coxwell",
          "2006/Greenwood-Coxwell",
          "2011/Greenwood-Coxwell",
          "2016/Greenwood-Coxwell",
          "2001/Guildwood",
          "2006/Guildwood",
          "2011/Guildwood",
          "2016/Guildwood",
          "2001/Henry Farm",
          "2006/Henry Farm",
          "2011/Henry Farm",
          "2016/Henry Farm",
          "2001/High Park North",
          "2006/High Park North",
          "2011/High Park North",
          "2016/High Park North",
          "2001/High Park-Swansea",
          "2006/High Park-Swansea",
          "2011/High Park-Swansea",
          "2016/High Park-Swansea",
          "2001/Highland Creek",
          "2006/Highland Creek",
          "2011/Highland Creek",
          "2016/Highland Creek",
          "2001/Hillcrest Village",
          "2006/Hillcrest Village",
          "2011/Hillcrest Village",
          "2016/Hillcrest Village",
          "2001/Humber Heights-Westmount",
          "2006/Humber Heights-Westmount",
          "2011/Humber Heights-Westmount",
          "2016/Humber Heights-Westmount",
          "2001/Humber Summit",
          "2006/Humber Summit",
          "2011/Humber Summit",
          "2016/Humber Summit",
          "2001/Humbermede",
          "2006/Humbermede",
          "2011/Humbermede",
          "2016/Humbermede",
          "2001/Humewood-Cedarvale",
          "2006/Humewood-Cedarvale",
          "2011/Humewood-Cedarvale",
          "2016/Humewood-Cedarvale",
          "2001/Ionview",
          "2006/Ionview",
          "2011/Ionview",
          "2016/Ionview",
          "2001/Islington-City Centre West",
          "2006/Islington-City Centre West",
          "2011/Islington-City Centre West",
          "2016/Islington-City Centre West",
          "2001/Junction Area",
          "2006/Junction Area",
          "2011/Junction Area",
          "2016/Junction Area",
          "2001/Keelesdale-Eglinton West",
          "2006/Keelesdale-Eglinton West",
          "2011/Keelesdale-Eglinton West",
          "2016/Keelesdale-Eglinton West",
          "2001/Kennedy Park",
          "2006/Kennedy Park",
          "2011/Kennedy Park",
          "2016/Kennedy Park",
          "2001/Kensington-Chinatown",
          "2006/Kensington-Chinatown",
          "2011/Kensington-Chinatown",
          "2016/Kensington-Chinatown",
          "2001/Kingsview Village-The Westway",
          "2006/Kingsview Village-The Westway",
          "2011/Kingsview Village-The Westway",
          "2016/Kingsview Village-The Westway",
          "2001/Kingsway South",
          "2006/Kingsway South",
          "2011/Kingsway South",
          "2016/Kingsway South",
          "2001/L'Amoreaux",
          "2006/L'Amoreaux",
          "2011/L'Amoreaux",
          "2016/L'Amoreaux",
          "2001/Lambton Baby Point",
          "2006/Lambton Baby Point",
          "2011/Lambton Baby Point",
          "2016/Lambton Baby Point",
          "2001/Lansing-Westgate",
          "2006/Lansing-Westgate",
          "2011/Lansing-Westgate",
          "2016/Lansing-Westgate",
          "2001/Lawrence Park North",
          "2006/Lawrence Park North",
          "2011/Lawrence Park North",
          "2016/Lawrence Park North",
          "2001/Lawrence Park South",
          "2006/Lawrence Park South",
          "2011/Lawrence Park South",
          "2016/Lawrence Park South",
          "2001/Leaside-Bennington",
          "2006/Leaside-Bennington",
          "2011/Leaside-Bennington",
          "2016/Leaside-Bennington",
          "2001/Little Portugal",
          "2006/Little Portugal",
          "2011/Little Portugal",
          "2016/Little Portugal",
          "2001/Long Branch",
          "2006/Long Branch",
          "2011/Long Branch",
          "2016/Long Branch",
          "2001/Malvern",
          "2006/Malvern",
          "2011/Malvern",
          "2016/Malvern",
          "2001/Maple Leaf",
          "2006/Maple Leaf",
          "2011/Maple Leaf",
          "2016/Maple Leaf",
          "2001/Markland Wood",
          "2006/Markland Wood",
          "2011/Markland Wood",
          "2016/Markland Wood",
          "2001/Milliken",
          "2006/Milliken",
          "2011/Milliken",
          "2016/Milliken",
          "2001/Mimico",
          "2006/Mimico",
          "2011/Mimico",
          "2016/Mimico",
          "2001/Morningside",
          "2006/Morningside",
          "2011/Morningside",
          "2016/Morningside",
          "2001/Moss Park",
          "2006/Moss Park",
          "2011/Moss Park",
          "2016/Moss Park",
          "2001/Mount Dennis",
          "2006/Mount Dennis",
          "2011/Mount Dennis",
          "2016/Mount Dennis",
          "2001/Mount Olive-Silverstone-Jamestown",
          "2006/Mount Olive-Silverstone-Jamestown",
          "2011/Mount Olive-Silverstone-Jamestown",
          "2016/Mount Olive-Silverstone-Jamestown",
          "2001/Mount Pleasant East",
          "2006/Mount Pleasant East",
          "2011/Mount Pleasant East",
          "2016/Mount Pleasant East",
          "2001/Mount Pleasant West",
          "2006/Mount Pleasant West",
          "2011/Mount Pleasant West",
          "2016/Mount Pleasant West",
          "2001/New Toronto",
          "2006/New Toronto",
          "2011/New Toronto",
          "2016/New Toronto",
          "2001/Newtonbrook East",
          "2006/Newtonbrook East",
          "2011/Newtonbrook East",
          "2016/Newtonbrook East",
          "2001/Newtonbrook West",
          "2006/Newtonbrook West",
          "2011/Newtonbrook West",
          "2016/Newtonbrook West",
          "2001/Niagara",
          "2006/Niagara",
          "2011/Niagara",
          "2016/Niagara",
          "2001/North Riverdale",
          "2006/North Riverdale",
          "2011/North Riverdale",
          "2016/North Riverdale",
          "2001/North St.James Town",
          "2006/North St.James Town",
          "2011/North St.James Town",
          "2016/North St.James Town",
          "2001/O'Connor-Parkview",
          "2006/O'Connor-Parkview",
          "2011/O'Connor-Parkview",
          "2016/O'Connor-Parkview",
          "2001/Oakridge",
          "2006/Oakridge",
          "2011/Oakridge",
          "2016/Oakridge",
          "2001/Oakwood Village",
          "2006/Oakwood Village",
          "2011/Oakwood Village",
          "2016/Oakwood Village",
          "2001/Old East York",
          "2006/Old East York",
          "2011/Old East York",
          "2016/Old East York",
          "2001/Palmerston-Little Italy",
          "2006/Palmerston-Little Italy",
          "2011/Palmerston-Little Italy",
          "2016/Palmerston-Little Italy",
          "2001/Parkwoods-Donalda",
          "2006/Parkwoods-Donalda",
          "2011/Parkwoods-Donalda",
          "2016/Parkwoods-Donalda",
          "2001/Pelmo Park-Humberlea",
          "2006/Pelmo Park-Humberlea",
          "2011/Pelmo Park-Humberlea",
          "2016/Pelmo Park-Humberlea",
          "2001/Playter Estates-Danforth",
          "2006/Playter Estates-Danforth",
          "2011/Playter Estates-Danforth",
          "2016/Playter Estates-Danforth",
          "2001/Pleasant View",
          "2006/Pleasant View",
          "2011/Pleasant View",
          "2016/Pleasant View",
          "2001/Princess-Rosethorn",
          "2006/Princess-Rosethorn",
          "2011/Princess-Rosethorn",
          "2016/Princess-Rosethorn",
          "2001/Regent Park",
          "2006/Regent Park",
          "2011/Regent Park",
          "2016/Regent Park",
          "2001/Rexdale-Kipling",
          "2006/Rexdale-Kipling",
          "2011/Rexdale-Kipling",
          "2016/Rexdale-Kipling",
          "2001/Rockcliffe-Smythe",
          "2006/Rockcliffe-Smythe",
          "2011/Rockcliffe-Smythe",
          "2016/Rockcliffe-Smythe",
          "2001/Roncesvalles",
          "2006/Roncesvalles",
          "2011/Roncesvalles",
          "2016/Roncesvalles",
          "2001/Rosedale-Moore Park",
          "2006/Rosedale-Moore Park",
          "2011/Rosedale-Moore Park",
          "2016/Rosedale-Moore Park",
          "2001/Rouge",
          "2006/Rouge",
          "2011/Rouge",
          "2016/Rouge",
          "2001/Runnymede-Bloor West Village",
          "2006/Runnymede-Bloor West Village",
          "2011/Runnymede-Bloor West Village",
          "2016/Runnymede-Bloor West Village",
          "2001/Rustic",
          "2006/Rustic",
          "2011/Rustic",
          "2016/Rustic",
          "2001/Scarborough Village",
          "2006/Scarborough Village",
          "2011/Scarborough Village",
          "2016/Scarborough Village",
          "2001/South Parkdale",
          "2006/South Parkdale",
          "2011/South Parkdale",
          "2016/South Parkdale",
          "2001/South Riverdale",
          "2006/South Riverdale",
          "2011/South Riverdale",
          "2016/South Riverdale",
          "2001/St.Andrew-Windfields",
          "2006/St.Andrew-Windfields",
          "2011/St.Andrew-Windfields",
          "2016/St.Andrew-Windfields",
          "2001/Steeles",
          "2006/Steeles",
          "2011/Steeles",
          "2016/Steeles",
          "2001/Stonegate-Queensway",
          "2006/Stonegate-Queensway",
          "2011/Stonegate-Queensway",
          "2016/Stonegate-Queensway",
          "2001/Tam O'Shanter-Sullivan",
          "2006/Tam O'Shanter-Sullivan",
          "2011/Tam O'Shanter-Sullivan",
          "2016/Tam O'Shanter-Sullivan",
          "2001/Taylor-Massey",
          "2006/Taylor-Massey",
          "2011/Taylor-Massey",
          "2016/Taylor-Massey",
          "2001/The Beaches",
          "2006/The Beaches",
          "2011/The Beaches",
          "2016/The Beaches",
          "2001/Thistletown-Beaumond Heights",
          "2006/Thistletown-Beaumond Heights",
          "2011/Thistletown-Beaumond Heights",
          "2016/Thistletown-Beaumond Heights",
          "2001/Thorncliffe Park",
          "2006/Thorncliffe Park",
          "2011/Thorncliffe Park",
          "2016/Thorncliffe Park",
          "2001/Trinity-Bellwoods",
          "2006/Trinity-Bellwoods",
          "2011/Trinity-Bellwoods",
          "2016/Trinity-Bellwoods",
          "2001/University",
          "2006/University",
          "2011/University",
          "2016/University",
          "2001/Victoria Village",
          "2006/Victoria Village",
          "2011/Victoria Village",
          "2016/Victoria Village",
          "2001/Waterfront Communities-The Island",
          "2006/Waterfront Communities-The Island",
          "2011/Waterfront Communities-The Island",
          "2016/Waterfront Communities-The Island",
          "2001/West Hill",
          "2006/West Hill",
          "2011/West Hill",
          "2016/West Hill",
          "2001/West Humber-Clairville",
          "2006/West Humber-Clairville",
          "2011/West Humber-Clairville",
          "2016/West Humber-Clairville",
          "2001/Westminster-Branson",
          "2006/Westminster-Branson",
          "2011/Westminster-Branson",
          "2016/Westminster-Branson",
          "2001/Weston",
          "2006/Weston",
          "2011/Weston",
          "2016/Weston",
          "2001/Weston-Pellam Park",
          "2006/Weston-Pellam Park",
          "2011/Weston-Pellam Park",
          "2016/Weston-Pellam Park",
          "2001/Wexford/Maryvale",
          "2006/Wexford/Maryvale",
          "2011/Wexford/Maryvale",
          "2016/Wexford/Maryvale",
          "2001/Willowdale East",
          "2006/Willowdale East",
          "2011/Willowdale East",
          "2016/Willowdale East",
          "2001/Willowdale West",
          "2006/Willowdale West",
          "2011/Willowdale West",
          "2016/Willowdale West",
          "2001/Willowridge-Martingrove-Richview",
          "2006/Willowridge-Martingrove-Richview",
          "2011/Willowridge-Martingrove-Richview",
          "2016/Willowridge-Martingrove-Richview",
          "2001/Woburn",
          "2006/Woburn",
          "2011/Woburn",
          "2016/Woburn",
          "2001/Woodbine Corridor",
          "2006/Woodbine Corridor",
          "2011/Woodbine Corridor",
          "2016/Woodbine Corridor",
          "2001/Woodbine-Lumsden",
          "2006/Woodbine-Lumsden",
          "2011/Woodbine-Lumsden",
          "2016/Woodbine-Lumsden",
          "2001/Wychwood",
          "2006/Wychwood",
          "2011/Wychwood",
          "2016/Wychwood",
          "2001/Yonge-Eglinton",
          "2006/Yonge-Eglinton",
          "2011/Yonge-Eglinton",
          "2016/Yonge-Eglinton",
          "2001/Yonge-St.Clair",
          "2006/Yonge-St.Clair",
          "2011/Yonge-St.Clair",
          "2016/Yonge-St.Clair",
          "2001/York University Heights",
          "2006/York University Heights",
          "2011/York University Heights",
          "2016/York University Heights",
          "2001/Yorkdale-Glen Park",
          "2006/Yorkdale-Glen Park",
          "2011/Yorkdale-Glen Park",
          "2016/Yorkdale-Glen Park",
          "2001",
          "2006",
          "2011",
          "2016"
         ],
         "labels": [
          "Agincourt North",
          "Agincourt North",
          "Agincourt North",
          "Agincourt North",
          "Agincourt South-Malvern West",
          "Agincourt South-Malvern West",
          "Agincourt South-Malvern West",
          "Agincourt South-Malvern West",
          "Alderwood",
          "Alderwood",
          "Alderwood",
          "Alderwood",
          "Annex",
          "Annex",
          "Annex",
          "Annex",
          "Banbury-Don Mills",
          "Banbury-Don Mills",
          "Banbury-Don Mills",
          "Banbury-Don Mills",
          "Bathurst Manor",
          "Bathurst Manor",
          "Bathurst Manor",
          "Bathurst Manor",
          "Bay Street Corridor",
          "Bay Street Corridor",
          "Bay Street Corridor",
          "Bay Street Corridor",
          "Bayview Village",
          "Bayview Village",
          "Bayview Village",
          "Bayview Village",
          "Bayview Woods-Steeles",
          "Bayview Woods-Steeles",
          "Bayview Woods-Steeles",
          "Bayview Woods-Steeles",
          "Bedford Park-Nortown",
          "Bedford Park-Nortown",
          "Bedford Park-Nortown",
          "Bedford Park-Nortown",
          "Beechborough-Greenbrook",
          "Beechborough-Greenbrook",
          "Beechborough-Greenbrook",
          "Beechborough-Greenbrook",
          "Bendale",
          "Bendale",
          "Bendale",
          "Bendale",
          "Birchcliffe-Cliffside",
          "Birchcliffe-Cliffside",
          "Birchcliffe-Cliffside",
          "Birchcliffe-Cliffside",
          "Black Creek",
          "Black Creek",
          "Black Creek",
          "Black Creek",
          "Blake-Jones",
          "Blake-Jones",
          "Blake-Jones",
          "Blake-Jones",
          "Briar Hill-Belgravia",
          "Briar Hill-Belgravia",
          "Briar Hill-Belgravia",
          "Briar Hill-Belgravia",
          "Bridle Path-Sunnybrook-York Mills",
          "Bridle Path-Sunnybrook-York Mills",
          "Bridle Path-Sunnybrook-York Mills",
          "Bridle Path-Sunnybrook-York Mills",
          "Broadview North",
          "Broadview North",
          "Broadview North",
          "Broadview North",
          "Brookhaven-Amesbury",
          "Brookhaven-Amesbury",
          "Brookhaven-Amesbury",
          "Brookhaven-Amesbury",
          "Cabbagetown-South St.James Town",
          "Cabbagetown-South St.James Town",
          "Cabbagetown-South St.James Town",
          "Cabbagetown-South St.James Town",
          "Caledonia-Fairbank",
          "Caledonia-Fairbank",
          "Caledonia-Fairbank",
          "Caledonia-Fairbank",
          "Casa Loma",
          "Casa Loma",
          "Casa Loma",
          "Casa Loma",
          "Centennial Scarborough",
          "Centennial Scarborough",
          "Centennial Scarborough",
          "Centennial Scarborough",
          "Church-Yonge Corridor",
          "Church-Yonge Corridor",
          "Church-Yonge Corridor",
          "Church-Yonge Corridor",
          "Clairlea-Birchmount",
          "Clairlea-Birchmount",
          "Clairlea-Birchmount",
          "Clairlea-Birchmount",
          "Clanton Park",
          "Clanton Park",
          "Clanton Park",
          "Clanton Park",
          "Cliffcrest",
          "Cliffcrest",
          "Cliffcrest",
          "Cliffcrest",
          "Corso Italia-Davenport",
          "Corso Italia-Davenport",
          "Corso Italia-Davenport",
          "Corso Italia-Davenport",
          "Danforth",
          "Danforth",
          "Danforth",
          "Danforth",
          "Danforth-East York",
          "Danforth-East York",
          "Danforth-East York",
          "Danforth-East York",
          "Don Valley Village",
          "Don Valley Village",
          "Don Valley Village",
          "Don Valley Village",
          "Dorset Park",
          "Dorset Park",
          "Dorset Park",
          "Dorset Park",
          "Dovercourt-Wallace Emerson-Juncti",
          "Dovercourt-Wallace Emerson-Juncti",
          "Dovercourt-Wallace Emerson-Juncti",
          "Dovercourt-Wallace Emerson-Juncti",
          "Downsview-Roding-CFB",
          "Downsview-Roding-CFB",
          "Downsview-Roding-CFB",
          "Downsview-Roding-CFB",
          "Dufferin Grove",
          "Dufferin Grove",
          "Dufferin Grove",
          "Dufferin Grove",
          "East End-Danforth",
          "East End-Danforth",
          "East End-Danforth",
          "East End-Danforth",
          "Edenbridge-Humber Valley",
          "Edenbridge-Humber Valley",
          "Edenbridge-Humber Valley",
          "Edenbridge-Humber Valley",
          "Eglinton East",
          "Eglinton East",
          "Eglinton East",
          "Eglinton East",
          "Elms-Old Rexdale",
          "Elms-Old Rexdale",
          "Elms-Old Rexdale",
          "Elms-Old Rexdale",
          "Englemount-Lawrence",
          "Englemount-Lawrence",
          "Englemount-Lawrence",
          "Englemount-Lawrence",
          "Eringate-Centennial-West Deane",
          "Eringate-Centennial-West Deane",
          "Eringate-Centennial-West Deane",
          "Eringate-Centennial-West Deane",
          "Etobicoke West Mall",
          "Etobicoke West Mall",
          "Etobicoke West Mall",
          "Etobicoke West Mall",
          "Flemingdon Park",
          "Flemingdon Park",
          "Flemingdon Park",
          "Flemingdon Park",
          "Forest Hill North",
          "Forest Hill North",
          "Forest Hill North",
          "Forest Hill North",
          "Forest Hill South",
          "Forest Hill South",
          "Forest Hill South",
          "Forest Hill South",
          "Glenfield-Jane Heights",
          "Glenfield-Jane Heights",
          "Glenfield-Jane Heights",
          "Glenfield-Jane Heights",
          "Greenwood-Coxwell",
          "Greenwood-Coxwell",
          "Greenwood-Coxwell",
          "Greenwood-Coxwell",
          "Guildwood",
          "Guildwood",
          "Guildwood",
          "Guildwood",
          "Henry Farm",
          "Henry Farm",
          "Henry Farm",
          "Henry Farm",
          "High Park North",
          "High Park North",
          "High Park North",
          "High Park North",
          "High Park-Swansea",
          "High Park-Swansea",
          "High Park-Swansea",
          "High Park-Swansea",
          "Highland Creek",
          "Highland Creek",
          "Highland Creek",
          "Highland Creek",
          "Hillcrest Village",
          "Hillcrest Village",
          "Hillcrest Village",
          "Hillcrest Village",
          "Humber Heights-Westmount",
          "Humber Heights-Westmount",
          "Humber Heights-Westmount",
          "Humber Heights-Westmount",
          "Humber Summit",
          "Humber Summit",
          "Humber Summit",
          "Humber Summit",
          "Humbermede",
          "Humbermede",
          "Humbermede",
          "Humbermede",
          "Humewood-Cedarvale",
          "Humewood-Cedarvale",
          "Humewood-Cedarvale",
          "Humewood-Cedarvale",
          "Ionview",
          "Ionview",
          "Ionview",
          "Ionview",
          "Islington-City Centre West",
          "Islington-City Centre West",
          "Islington-City Centre West",
          "Islington-City Centre West",
          "Junction Area",
          "Junction Area",
          "Junction Area",
          "Junction Area",
          "Keelesdale-Eglinton West",
          "Keelesdale-Eglinton West",
          "Keelesdale-Eglinton West",
          "Keelesdale-Eglinton West",
          "Kennedy Park",
          "Kennedy Park",
          "Kennedy Park",
          "Kennedy Park",
          "Kensington-Chinatown",
          "Kensington-Chinatown",
          "Kensington-Chinatown",
          "Kensington-Chinatown",
          "Kingsview Village-The Westway",
          "Kingsview Village-The Westway",
          "Kingsview Village-The Westway",
          "Kingsview Village-The Westway",
          "Kingsway South",
          "Kingsway South",
          "Kingsway South",
          "Kingsway South",
          "L'Amoreaux",
          "L'Amoreaux",
          "L'Amoreaux",
          "L'Amoreaux",
          "Lambton Baby Point",
          "Lambton Baby Point",
          "Lambton Baby Point",
          "Lambton Baby Point",
          "Lansing-Westgate",
          "Lansing-Westgate",
          "Lansing-Westgate",
          "Lansing-Westgate",
          "Lawrence Park North",
          "Lawrence Park North",
          "Lawrence Park North",
          "Lawrence Park North",
          "Lawrence Park South",
          "Lawrence Park South",
          "Lawrence Park South",
          "Lawrence Park South",
          "Leaside-Bennington",
          "Leaside-Bennington",
          "Leaside-Bennington",
          "Leaside-Bennington",
          "Little Portugal",
          "Little Portugal",
          "Little Portugal",
          "Little Portugal",
          "Long Branch",
          "Long Branch",
          "Long Branch",
          "Long Branch",
          "Malvern",
          "Malvern",
          "Malvern",
          "Malvern",
          "Maple Leaf",
          "Maple Leaf",
          "Maple Leaf",
          "Maple Leaf",
          "Markland Wood",
          "Markland Wood",
          "Markland Wood",
          "Markland Wood",
          "Milliken",
          "Milliken",
          "Milliken",
          "Milliken",
          "Mimico",
          "Mimico",
          "Mimico",
          "Mimico",
          "Morningside",
          "Morningside",
          "Morningside",
          "Morningside",
          "Moss Park",
          "Moss Park",
          "Moss Park",
          "Moss Park",
          "Mount Dennis",
          "Mount Dennis",
          "Mount Dennis",
          "Mount Dennis",
          "Mount Olive-Silverstone-Jamestown",
          "Mount Olive-Silverstone-Jamestown",
          "Mount Olive-Silverstone-Jamestown",
          "Mount Olive-Silverstone-Jamestown",
          "Mount Pleasant East",
          "Mount Pleasant East",
          "Mount Pleasant East",
          "Mount Pleasant East",
          "Mount Pleasant West",
          "Mount Pleasant West",
          "Mount Pleasant West",
          "Mount Pleasant West",
          "New Toronto",
          "New Toronto",
          "New Toronto",
          "New Toronto",
          "Newtonbrook East",
          "Newtonbrook East",
          "Newtonbrook East",
          "Newtonbrook East",
          "Newtonbrook West",
          "Newtonbrook West",
          "Newtonbrook West",
          "Newtonbrook West",
          "Niagara",
          "Niagara",
          "Niagara",
          "Niagara",
          "North Riverdale",
          "North Riverdale",
          "North Riverdale",
          "North Riverdale",
          "North St.James Town",
          "North St.James Town",
          "North St.James Town",
          "North St.James Town",
          "O'Connor-Parkview",
          "O'Connor-Parkview",
          "O'Connor-Parkview",
          "O'Connor-Parkview",
          "Oakridge",
          "Oakridge",
          "Oakridge",
          "Oakridge",
          "Oakwood Village",
          "Oakwood Village",
          "Oakwood Village",
          "Oakwood Village",
          "Old East York",
          "Old East York",
          "Old East York",
          "Old East York",
          "Palmerston-Little Italy",
          "Palmerston-Little Italy",
          "Palmerston-Little Italy",
          "Palmerston-Little Italy",
          "Parkwoods-Donalda",
          "Parkwoods-Donalda",
          "Parkwoods-Donalda",
          "Parkwoods-Donalda",
          "Pelmo Park-Humberlea",
          "Pelmo Park-Humberlea",
          "Pelmo Park-Humberlea",
          "Pelmo Park-Humberlea",
          "Playter Estates-Danforth",
          "Playter Estates-Danforth",
          "Playter Estates-Danforth",
          "Playter Estates-Danforth",
          "Pleasant View",
          "Pleasant View",
          "Pleasant View",
          "Pleasant View",
          "Princess-Rosethorn",
          "Princess-Rosethorn",
          "Princess-Rosethorn",
          "Princess-Rosethorn",
          "Regent Park",
          "Regent Park",
          "Regent Park",
          "Regent Park",
          "Rexdale-Kipling",
          "Rexdale-Kipling",
          "Rexdale-Kipling",
          "Rexdale-Kipling",
          "Rockcliffe-Smythe",
          "Rockcliffe-Smythe",
          "Rockcliffe-Smythe",
          "Rockcliffe-Smythe",
          "Roncesvalles",
          "Roncesvalles",
          "Roncesvalles",
          "Roncesvalles",
          "Rosedale-Moore Park",
          "Rosedale-Moore Park",
          "Rosedale-Moore Park",
          "Rosedale-Moore Park",
          "Rouge",
          "Rouge",
          "Rouge",
          "Rouge",
          "Runnymede-Bloor West Village",
          "Runnymede-Bloor West Village",
          "Runnymede-Bloor West Village",
          "Runnymede-Bloor West Village",
          "Rustic",
          "Rustic",
          "Rustic",
          "Rustic",
          "Scarborough Village",
          "Scarborough Village",
          "Scarborough Village",
          "Scarborough Village",
          "South Parkdale",
          "South Parkdale",
          "South Parkdale",
          "South Parkdale",
          "South Riverdale",
          "South Riverdale",
          "South Riverdale",
          "South Riverdale",
          "St.Andrew-Windfields",
          "St.Andrew-Windfields",
          "St.Andrew-Windfields",
          "St.Andrew-Windfields",
          "Steeles",
          "Steeles",
          "Steeles",
          "Steeles",
          "Stonegate-Queensway",
          "Stonegate-Queensway",
          "Stonegate-Queensway",
          "Stonegate-Queensway",
          "Tam O'Shanter-Sullivan",
          "Tam O'Shanter-Sullivan",
          "Tam O'Shanter-Sullivan",
          "Tam O'Shanter-Sullivan",
          "Taylor-Massey",
          "Taylor-Massey",
          "Taylor-Massey",
          "Taylor-Massey",
          "The Beaches",
          "The Beaches",
          "The Beaches",
          "The Beaches",
          "Thistletown-Beaumond Heights",
          "Thistletown-Beaumond Heights",
          "Thistletown-Beaumond Heights",
          "Thistletown-Beaumond Heights",
          "Thorncliffe Park",
          "Thorncliffe Park",
          "Thorncliffe Park",
          "Thorncliffe Park",
          "Trinity-Bellwoods",
          "Trinity-Bellwoods",
          "Trinity-Bellwoods",
          "Trinity-Bellwoods",
          "University",
          "University",
          "University",
          "University",
          "Victoria Village",
          "Victoria Village",
          "Victoria Village",
          "Victoria Village",
          "Waterfront Communities-The Island",
          "Waterfront Communities-The Island",
          "Waterfront Communities-The Island",
          "Waterfront Communities-The Island",
          "West Hill",
          "West Hill",
          "West Hill",
          "West Hill",
          "West Humber-Clairville",
          "West Humber-Clairville",
          "West Humber-Clairville",
          "West Humber-Clairville",
          "Westminster-Branson",
          "Westminster-Branson",
          "Westminster-Branson",
          "Westminster-Branson",
          "Weston",
          "Weston",
          "Weston",
          "Weston",
          "Weston-Pellam Park",
          "Weston-Pellam Park",
          "Weston-Pellam Park",
          "Weston-Pellam Park",
          "Wexford/Maryvale",
          "Wexford/Maryvale",
          "Wexford/Maryvale",
          "Wexford/Maryvale",
          "Willowdale East",
          "Willowdale East",
          "Willowdale East",
          "Willowdale East",
          "Willowdale West",
          "Willowdale West",
          "Willowdale West",
          "Willowdale West",
          "Willowridge-Martingrove-Richview",
          "Willowridge-Martingrove-Richview",
          "Willowridge-Martingrove-Richview",
          "Willowridge-Martingrove-Richview",
          "Woburn",
          "Woburn",
          "Woburn",
          "Woburn",
          "Woodbine Corridor",
          "Woodbine Corridor",
          "Woodbine Corridor",
          "Woodbine Corridor",
          "Woodbine-Lumsden",
          "Woodbine-Lumsden",
          "Woodbine-Lumsden",
          "Woodbine-Lumsden",
          "Wychwood",
          "Wychwood",
          "Wychwood",
          "Wychwood",
          "Yonge-Eglinton",
          "Yonge-Eglinton",
          "Yonge-Eglinton",
          "Yonge-Eglinton",
          "Yonge-St.Clair",
          "Yonge-St.Clair",
          "Yonge-St.Clair",
          "Yonge-St.Clair",
          "York University Heights",
          "York University Heights",
          "York University Heights",
          "York University Heights",
          "Yorkdale-Glen Park",
          "Yorkdale-Glen Park",
          "Yorkdale-Glen Park",
          "Yorkdale-Glen Park",
          "2001",
          "2006",
          "2011",
          "2016"
         ],
         "marker": {
          "coloraxis": "coloraxis",
          "colors": [
           200388,
           293140,
           366667,
           459051,
           203047,
           297031,
           371534,
           465144,
           259998,
           380342,
           475742,
           595608,
           453850,
           663921,
           830450,
           1039687,
           371864,
           543987,
           680433,
           851872,
           304749,
           445807,
           557627,
           698124,
           257404,
           376548,
           470996,
           589666,
           327644,
           479299,
           599520,
           750572,
           343535,
           502546,
           628597,
           786976,
           565304,
           826963,
           1034387,
           1295007,
           225369,
           329685,
           412378,
           516279,
           182957,
           267642,
           334773,
           419121,
           265705,
           388690,
           486184,
           608681,
           158483,
           231839,
           289990,
           363055,
           310740,
           454571,
           568589,
           711848,
           222086,
           324882,
           406371,
           508759,
           927466,
           1356757,
           1697067,
           2124653,
           269386,
           394075,
           492919,
           617113,
           213227,
           311922,
           390160,
           488463,
           300213,
           439171,
           549326,
           687732,
           219771,
           321496,
           402135,
           503455,
           596077,
           871981,
           1090696,
           1365503,
           249025,
           364291,
           455664,
           570471,
           246750,
           360962,
           451500,
           565258,
           215421,
           315133,
           394176,
           493491,
           335119,
           490234,
           613197,
           767695,
           253618,
           371009,
           464068,
           580993,
           255142,
           373239,
           466857,
           584484,
           283706,
           415024,
           519123,
           649919,
           256205,
           374793,
           468801,
           586918,
           241824,
           353756,
           442487,
           553974,
           159187,
           232869,
           291278,
           364667,
           264116,
           386366,
           483276,
           605040,
           231741,
           339006,
           424038,
           530877,
           278023,
           406710,
           508723,
           636899,
           290457,
           424900,
           531476,
           665384,
           483734,
           707638,
           885132,
           1108146,
           163419,
           239060,
           299023,
           374364,
           163039,
           238505,
           298328,
           373493,
           345676,
           505677,
           632514,
           791880,
           241685,
           353553,
           442233,
           553656,
           187993,
           275009,
           343988,
           430658,
           126255,
           184694,
           231020,
           289227,
           517466,
           756983,
           946854,
           1185419,
           726664,
           1063011,
           1329642,
           1664653,
           199043,
           291172,
           364206,
           455970,
           235168,
           344019,
           430308,
           538727,
           224425,
           328303,
           410650,
           514116,
           224780,
           328823,
           411300,
           514929,
           323536,
           473289,
           592002,
           741161,
           354207,
           518157,
           648124,
           811423,
           260555,
           381156,
           476760,
           596883,
           240009,
           351101,
           439166,
           549816,
           272896,
           399210,
           499342,
           625154,
           213919,
           312935,
           391427,
           490049,
           194295,
           284227,
           355519,
           445094,
           423537,
           619577,
           774983,
           970245,
           174793,
           255698,
           319834,
           400418,
           274436,
           401463,
           502160,
           628682,
           263247,
           385094,
           481686,
           603050,
           196112,
           286886,
           358844,
           449257,
           174518,
           255296,
           319331,
           399789,
           267631,
           391509,
           489709,
           613094,
           205572,
           300725,
           376154,
           470928,
           512334,
           749476,
           937464,
           1173663,
           395115,
           578001,
           722978,
           905137,
           204523,
           299190,
           374234,
           468524,
           372579,
           545034,
           681742,
           853511,
           461393,
           674957,
           844253,
           1056967,
           664712,
           972384,
           1216283,
           1522732,
           489998,
           716801,
           896593,
           1122495,
           328211,
           480129,
           600558,
           751872,
           234424,
           342930,
           428946,
           537021,
           156076,
           228318,
           285586,
           357541,
           275374,
           402835,
           503876,
           630831,
           269751,
           394610,
           493588,
           617950,
           209609,
           306629,
           383540,
           480175,
           239078,
           349739,
           437462,
           547683,
           173169,
           253323,
           316863,
           396699,
           248778,
           363929,
           455212,
           569905,
           159374,
           233143,
           291621,
           365097,
           153829,
           225031,
           281475,
           352394,
           411558,
           602054,
           753065,
           942804,
           284459,
           416125,
           520500,
           651643,
           247779,
           362468,
           453384,
           567617,
           339987,
           497355,
           622104,
           778847,
           279833,
           409358,
           512036,
           641047,
           224801,
           328854,
           411339,
           514978,
           427169,
           624890,
           781629,
           978565,
           249993,
           365706,
           457435,
           572689,
           181251,
           265146,
           331652,
           415214,
           256556,
           375307,
           469444,
           587723,
           268067,
           392146,
           490506,
           614092,
           269410,
           394111,
           492964,
           617169,
           378033,
           553011,
           691720,
           866003,
           276239,
           404100,
           505459,
           632812,
           246333,
           360352,
           450737,
           564303,
           394235,
           576713,
           721368,
           903121,
           226856,
           331860,
           415099,
           519686,
           465254,
           680604,
           851317,
           1065811,
           238524,
           348928,
           436448,
           546413,
           219337,
           320860,
           401340,
           502460,
           210017,
           307227,
           384287,
           481110,
           309221,
           452349,
           565810,
           708369,
           664476,
           972039,
           1215852,
           1522193,
           228625,
           334448,
           418336,
           523738,
           335435,
           490697,
           613776,
           768420,
           261923,
           383158,
           479264,
           600017,
           200402,
           293162,
           366694,
           459085,
           271880,
           397724,
           497483,
           622827,
           276462,
           404427,
           505868,
           633325,
           607040,
           888017,
           1110755,
           1390616,
           228460,
           334206,
           418033,
           523359,
           334433,
           489230,
           611942,
           766124,
           215039,
           314574,
           393477,
           492616,
           145464,
           212794,
           266168,
           333230,
           404836,
           592220,
           740764,
           927404,
           228368,
           334072,
           417866,
           523150,
           155094,
           226882,
           283790,
           355293,
           324732,
           475039,
           594191,
           743901,
           375678,
           549567,
           687412,
           860610,
           213950,
           312980,
           391483,
           490119,
           228975,
           334960,
           418977,
           524540,
           172947,
           252998,
           316456,
           396189,
           208555,
           305088,
           381612,
           477762,
           212241,
           310480,
           388356,
           486204,
           187140,
           273761,
           342427,
           428703,
           213749,
           312685,
           391115,
           489659,
           211633,
           309590,
           387243,
           484811,
           284984,
           416893,
           521460,
           652845,
           283215,
           414306,
           518224,
           648794,
           282087,
           412655,
           516160,
           646210,
           181367,
           265315,
           331863,
           415478,
           270607,
           395861,
           495153,
           619910,
           224756,
           328788,
           411256,
           514874,
           343877,
           503046,
           629223,
           787760,
           491987,
           719711,
           900233,
           1127052,
           494098,
           722799,
           904096,
           1131888,
           185859,
           271887,
           340083,
           425769,
           261784,
           382954,
           479009,
           599698,
           343576.5080769564,
           502606.1466159757,
           628672.7552165643,
           787070.5045585778
          ]
         },
         "name": "",
         "parents": [
          "2001",
          "2006",
          "2011",
          "2016",
          "2001",
          "2006",
          "2011",
          "2016",
          "2001",
          "2006",
          "2011",
          "2016",
          "2001",
          "2006",
          "2011",
          "2016",
          "2001",
          "2006",
          "2011",
          "2016",
          "2001",
          "2006",
          "2011",
          "2016",
          "2001",
          "2006",
          "2011",
          "2016",
          "2001",
          "2006",
          "2011",
          "2016",
          "2001",
          "2006",
          "2011",
          "2016",
          "2001",
          "2006",
          "2011",
          "2016",
          "2001",
          "2006",
          "2011",
          "2016",
          "2001",
          "2006",
          "2011",
          "2016",
          "2001",
          "2006",
          "2011",
          "2016",
          "2001",
          "2006",
          "2011",
          "2016",
          "2001",
          "2006",
          "2011",
          "2016",
          "2001",
          "2006",
          "2011",
          "2016",
          "2001",
          "2006",
          "2011",
          "2016",
          "2001",
          "2006",
          "2011",
          "2016",
          "2001",
          "2006",
          "2011",
          "2016",
          "2001",
          "2006",
          "2011",
          "2016",
          "2001",
          "2006",
          "2011",
          "2016",
          "2001",
          "2006",
          "2011",
          "2016",
          "2001",
          "2006",
          "2011",
          "2016",
          "2001",
          "2006",
          "2011",
          "2016",
          "2001",
          "2006",
          "2011",
          "2016",
          "2001",
          "2006",
          "2011",
          "2016",
          "2001",
          "2006",
          "2011",
          "2016",
          "2001",
          "2006",
          "2011",
          "2016",
          "2001",
          "2006",
          "2011",
          "2016",
          "2001",
          "2006",
          "2011",
          "2016",
          "2001",
          "2006",
          "2011",
          "2016",
          "2001",
          "2006",
          "2011",
          "2016",
          "2001",
          "2006",
          "2011",
          "2016",
          "2001",
          "2006",
          "2011",
          "2016",
          "2001",
          "2006",
          "2011",
          "2016",
          "2001",
          "2006",
          "2011",
          "2016",
          "2001",
          "2006",
          "2011",
          "2016",
          "2001",
          "2006",
          "2011",
          "2016",
          "2001",
          "2006",
          "2011",
          "2016",
          "2001",
          "2006",
          "2011",
          "2016",
          "2001",
          "2006",
          "2011",
          "2016",
          "2001",
          "2006",
          "2011",
          "2016",
          "2001",
          "2006",
          "2011",
          "2016",
          "2001",
          "2006",
          "2011",
          "2016",
          "2001",
          "2006",
          "2011",
          "2016",
          "2001",
          "2006",
          "2011",
          "2016",
          "2001",
          "2006",
          "2011",
          "2016",
          "2001",
          "2006",
          "2011",
          "2016",
          "2001",
          "2006",
          "2011",
          "2016",
          "2001",
          "2006",
          "2011",
          "2016",
          "2001",
          "2006",
          "2011",
          "2016",
          "2001",
          "2006",
          "2011",
          "2016",
          "2001",
          "2006",
          "2011",
          "2016",
          "2001",
          "2006",
          "2011",
          "2016",
          "2001",
          "2006",
          "2011",
          "2016",
          "2001",
          "2006",
          "2011",
          "2016",
          "2001",
          "2006",
          "2011",
          "2016",
          "2001",
          "2006",
          "2011",
          "2016",
          "2001",
          "2006",
          "2011",
          "2016",
          "2001",
          "2006",
          "2011",
          "2016",
          "2001",
          "2006",
          "2011",
          "2016",
          "2001",
          "2006",
          "2011",
          "2016",
          "2001",
          "2006",
          "2011",
          "2016",
          "2001",
          "2006",
          "2011",
          "2016",
          "2001",
          "2006",
          "2011",
          "2016",
          "2001",
          "2006",
          "2011",
          "2016",
          "2001",
          "2006",
          "2011",
          "2016",
          "2001",
          "2006",
          "2011",
          "2016",
          "2001",
          "2006",
          "2011",
          "2016",
          "2001",
          "2006",
          "2011",
          "2016",
          "2001",
          "2006",
          "2011",
          "2016",
          "2001",
          "2006",
          "2011",
          "2016",
          "2001",
          "2006",
          "2011",
          "2016",
          "2001",
          "2006",
          "2011",
          "2016",
          "2001",
          "2006",
          "2011",
          "2016",
          "2001",
          "2006",
          "2011",
          "2016",
          "2001",
          "2006",
          "2011",
          "2016",
          "2001",
          "2006",
          "2011",
          "2016",
          "2001",
          "2006",
          "2011",
          "2016",
          "2001",
          "2006",
          "2011",
          "2016",
          "2001",
          "2006",
          "2011",
          "2016",
          "2001",
          "2006",
          "2011",
          "2016",
          "2001",
          "2006",
          "2011",
          "2016",
          "2001",
          "2006",
          "2011",
          "2016",
          "2001",
          "2006",
          "2011",
          "2016",
          "2001",
          "2006",
          "2011",
          "2016",
          "2001",
          "2006",
          "2011",
          "2016",
          "2001",
          "2006",
          "2011",
          "2016",
          "2001",
          "2006",
          "2011",
          "2016",
          "2001",
          "2006",
          "2011",
          "2016",
          "2001",
          "2006",
          "2011",
          "2016",
          "2001",
          "2006",
          "2011",
          "2016",
          "2001",
          "2006",
          "2011",
          "2016",
          "2001",
          "2006",
          "2011",
          "2016",
          "2001",
          "2006",
          "2011",
          "2016",
          "2001",
          "2006",
          "2011",
          "2016",
          "2001",
          "2006",
          "2011",
          "2016",
          "2001",
          "2006",
          "2011",
          "2016",
          "2001",
          "2006",
          "2011",
          "2016",
          "2001",
          "2006",
          "2011",
          "2016",
          "2001",
          "2006",
          "2011",
          "2016",
          "2001",
          "2006",
          "2011",
          "2016",
          "2001",
          "2006",
          "2011",
          "2016",
          "2001",
          "2006",
          "2011",
          "2016",
          "2001",
          "2006",
          "2011",
          "2016",
          "2001",
          "2006",
          "2011",
          "2016",
          "2001",
          "2006",
          "2011",
          "2016",
          "2001",
          "2006",
          "2011",
          "2016",
          "2001",
          "2006",
          "2011",
          "2016",
          "2001",
          "2006",
          "2011",
          "2016",
          "2001",
          "2006",
          "2011",
          "2016",
          "2001",
          "2006",
          "2011",
          "2016",
          "2001",
          "2006",
          "2011",
          "2016",
          "2001",
          "2006",
          "2011",
          "2016",
          "2001",
          "2006",
          "2011",
          "2016",
          "2001",
          "2006",
          "2011",
          "2016",
          "2001",
          "2006",
          "2011",
          "2016",
          "2001",
          "2006",
          "2011",
          "2016",
          "2001",
          "2006",
          "2011",
          "2016",
          "2001",
          "2006",
          "2011",
          "2016",
          "2001",
          "2006",
          "2011",
          "2016",
          "2001",
          "2006",
          "2011",
          "2016",
          "2001",
          "2006",
          "2011",
          "2016",
          "2001",
          "2006",
          "2011",
          "2016",
          "2001",
          "2006",
          "2011",
          "2016",
          "2001",
          "2006",
          "2011",
          "2016",
          "2001",
          "2006",
          "2011",
          "2016",
          "2001",
          "2006",
          "2011",
          "2016",
          "2001",
          "2006",
          "2011",
          "2016",
          "2001",
          "2006",
          "2011",
          "2016",
          "2001",
          "2006",
          "2011",
          "2016",
          "2001",
          "2006",
          "2011",
          "2016",
          "2001",
          "2006",
          "2011",
          "2016",
          "2001",
          "2006",
          "2011",
          "2016",
          "2001",
          "2006",
          "2011",
          "2016",
          "2001",
          "2006",
          "2011",
          "2016",
          "2001",
          "2006",
          "2011",
          "2016",
          "2001",
          "2006",
          "2011",
          "2016",
          "2001",
          "2006",
          "2011",
          "2016",
          "2001",
          "2006",
          "2011",
          "2016",
          "",
          "",
          "",
          ""
         ],
         "type": "sunburst",
         "values": [
          200388,
          293140,
          366667,
          459051,
          203047,
          297031,
          371534,
          465144,
          259998,
          380342,
          475742,
          595608,
          453850,
          663921,
          830450,
          1039687,
          371864,
          543987,
          680433,
          851872,
          304749,
          445807,
          557627,
          698124,
          257404,
          376548,
          470996,
          589666,
          327644,
          479299,
          599520,
          750572,
          343535,
          502546,
          628597,
          786976,
          565304,
          826963,
          1034387,
          1295007,
          225369,
          329685,
          412378,
          516279,
          182957,
          267642,
          334773,
          419121,
          265705,
          388690,
          486184,
          608681,
          158483,
          231839,
          289990,
          363055,
          310740,
          454571,
          568589,
          711848,
          222086,
          324882,
          406371,
          508759,
          927466,
          1356757,
          1697067,
          2124653,
          269386,
          394075,
          492919,
          617113,
          213227,
          311922,
          390160,
          488463,
          300213,
          439171,
          549326,
          687732,
          219771,
          321496,
          402135,
          503455,
          596077,
          871981,
          1090696,
          1365503,
          249025,
          364291,
          455664,
          570471,
          246750,
          360962,
          451500,
          565258,
          215421,
          315133,
          394176,
          493491,
          335119,
          490234,
          613197,
          767695,
          253618,
          371009,
          464068,
          580993,
          255142,
          373239,
          466857,
          584484,
          283706,
          415024,
          519123,
          649919,
          256205,
          374793,
          468801,
          586918,
          241824,
          353756,
          442487,
          553974,
          159187,
          232869,
          291278,
          364667,
          264116,
          386366,
          483276,
          605040,
          231741,
          339006,
          424038,
          530877,
          278023,
          406710,
          508723,
          636899,
          290457,
          424900,
          531476,
          665384,
          483734,
          707638,
          885132,
          1108146,
          163419,
          239060,
          299023,
          374364,
          163039,
          238505,
          298328,
          373493,
          345676,
          505677,
          632514,
          791880,
          241685,
          353553,
          442233,
          553656,
          187993,
          275009,
          343988,
          430658,
          126255,
          184694,
          231020,
          289227,
          517466,
          756983,
          946854,
          1185419,
          726664,
          1063011,
          1329642,
          1664653,
          199043,
          291172,
          364206,
          455970,
          235168,
          344019,
          430308,
          538727,
          224425,
          328303,
          410650,
          514116,
          224780,
          328823,
          411300,
          514929,
          323536,
          473289,
          592002,
          741161,
          354207,
          518157,
          648124,
          811423,
          260555,
          381156,
          476760,
          596883,
          240009,
          351101,
          439166,
          549816,
          272896,
          399210,
          499342,
          625154,
          213919,
          312935,
          391427,
          490049,
          194295,
          284227,
          355519,
          445094,
          423537,
          619577,
          774983,
          970245,
          174793,
          255698,
          319834,
          400418,
          274436,
          401463,
          502160,
          628682,
          263247,
          385094,
          481686,
          603050,
          196112,
          286886,
          358844,
          449257,
          174518,
          255296,
          319331,
          399789,
          267631,
          391509,
          489709,
          613094,
          205572,
          300725,
          376154,
          470928,
          512334,
          749476,
          937464,
          1173663,
          395115,
          578001,
          722978,
          905137,
          204523,
          299190,
          374234,
          468524,
          372579,
          545034,
          681742,
          853511,
          461393,
          674957,
          844253,
          1056967,
          664712,
          972384,
          1216283,
          1522732,
          489998,
          716801,
          896593,
          1122495,
          328211,
          480129,
          600558,
          751872,
          234424,
          342930,
          428946,
          537021,
          156076,
          228318,
          285586,
          357541,
          275374,
          402835,
          503876,
          630831,
          269751,
          394610,
          493588,
          617950,
          209609,
          306629,
          383540,
          480175,
          239078,
          349739,
          437462,
          547683,
          173169,
          253323,
          316863,
          396699,
          248778,
          363929,
          455212,
          569905,
          159374,
          233143,
          291621,
          365097,
          153829,
          225031,
          281475,
          352394,
          411558,
          602054,
          753065,
          942804,
          284459,
          416125,
          520500,
          651643,
          247779,
          362468,
          453384,
          567617,
          339987,
          497355,
          622104,
          778847,
          279833,
          409358,
          512036,
          641047,
          224801,
          328854,
          411339,
          514978,
          427169,
          624890,
          781629,
          978565,
          249993,
          365706,
          457435,
          572689,
          181251,
          265146,
          331652,
          415214,
          256556,
          375307,
          469444,
          587723,
          268067,
          392146,
          490506,
          614092,
          269410,
          394111,
          492964,
          617169,
          378033,
          553011,
          691720,
          866003,
          276239,
          404100,
          505459,
          632812,
          246333,
          360352,
          450737,
          564303,
          394235,
          576713,
          721368,
          903121,
          226856,
          331860,
          415099,
          519686,
          465254,
          680604,
          851317,
          1065811,
          238524,
          348928,
          436448,
          546413,
          219337,
          320860,
          401340,
          502460,
          210017,
          307227,
          384287,
          481110,
          309221,
          452349,
          565810,
          708369,
          664476,
          972039,
          1215852,
          1522193,
          228625,
          334448,
          418336,
          523738,
          335435,
          490697,
          613776,
          768420,
          261923,
          383158,
          479264,
          600017,
          200402,
          293162,
          366694,
          459085,
          271880,
          397724,
          497483,
          622827,
          276462,
          404427,
          505868,
          633325,
          607040,
          888017,
          1110755,
          1390616,
          228460,
          334206,
          418033,
          523359,
          334433,
          489230,
          611942,
          766124,
          215039,
          314574,
          393477,
          492616,
          145464,
          212794,
          266168,
          333230,
          404836,
          592220,
          740764,
          927404,
          228368,
          334072,
          417866,
          523150,
          155094,
          226882,
          283790,
          355293,
          324732,
          475039,
          594191,
          743901,
          375678,
          549567,
          687412,
          860610,
          213950,
          312980,
          391483,
          490119,
          228975,
          334960,
          418977,
          524540,
          172947,
          252998,
          316456,
          396189,
          208555,
          305088,
          381612,
          477762,
          212241,
          310480,
          388356,
          486204,
          187140,
          273761,
          342427,
          428703,
          213749,
          312685,
          391115,
          489659,
          211633,
          309590,
          387243,
          484811,
          284984,
          416893,
          521460,
          652845,
          283215,
          414306,
          518224,
          648794,
          282087,
          412655,
          516160,
          646210,
          181367,
          265315,
          331863,
          415478,
          270607,
          395861,
          495153,
          619910,
          224756,
          328788,
          411256,
          514874,
          343877,
          503046,
          629223,
          787760,
          491987,
          719711,
          900233,
          1127052,
          494098,
          722799,
          904096,
          1131888,
          185859,
          271887,
          340083,
          425769,
          261784,
          382954,
          479009,
          599698,
          40583604,
          59368353,
          74259461,
          92969566
         ]
        }
       ],
       "layout": {
        "autosize": true,
        "coloraxis": {
         "colorbar": {
          "title": {
           "text": "average_house_value"
          }
         },
         "colorscale": [
          [
           0,
           "rgb(103,0,31)"
          ],
          [
           0.1,
           "rgb(178,24,43)"
          ],
          [
           0.2,
           "rgb(214,96,77)"
          ],
          [
           0.3,
           "rgb(244,165,130)"
          ],
          [
           0.4,
           "rgb(253,219,199)"
          ],
          [
           0.5,
           "rgb(247,247,247)"
          ],
          [
           0.6,
           "rgb(209,229,240)"
          ],
          [
           0.7,
           "rgb(146,197,222)"
          ],
          [
           0.8,
           "rgb(67,147,195)"
          ],
          [
           0.9,
           "rgb(33,102,172)"
          ],
          [
           1,
           "rgb(5,48,97)"
          ]
         ]
        },
        "legend": {
         "tracegroupgap": 0
        },
        "margin": {
         "t": 60
        },
        "template": {
         "data": {
          "bar": [
           {
            "error_x": {
             "color": "#2a3f5f"
            },
            "error_y": {
             "color": "#2a3f5f"
            },
            "marker": {
             "line": {
              "color": "#E5ECF6",
              "width": 0.5
             }
            },
            "type": "bar"
           }
          ],
          "barpolar": [
           {
            "marker": {
             "line": {
              "color": "#E5ECF6",
              "width": 0.5
             }
            },
            "type": "barpolar"
           }
          ],
          "carpet": [
           {
            "aaxis": {
             "endlinecolor": "#2a3f5f",
             "gridcolor": "white",
             "linecolor": "white",
             "minorgridcolor": "white",
             "startlinecolor": "#2a3f5f"
            },
            "baxis": {
             "endlinecolor": "#2a3f5f",
             "gridcolor": "white",
             "linecolor": "white",
             "minorgridcolor": "white",
             "startlinecolor": "#2a3f5f"
            },
            "type": "carpet"
           }
          ],
          "choropleth": [
           {
            "colorbar": {
             "outlinewidth": 0,
             "ticks": ""
            },
            "type": "choropleth"
           }
          ],
          "contour": [
           {
            "colorbar": {
             "outlinewidth": 0,
             "ticks": ""
            },
            "colorscale": [
             [
              0,
              "#0d0887"
             ],
             [
              0.1111111111111111,
              "#46039f"
             ],
             [
              0.2222222222222222,
              "#7201a8"
             ],
             [
              0.3333333333333333,
              "#9c179e"
             ],
             [
              0.4444444444444444,
              "#bd3786"
             ],
             [
              0.5555555555555556,
              "#d8576b"
             ],
             [
              0.6666666666666666,
              "#ed7953"
             ],
             [
              0.7777777777777778,
              "#fb9f3a"
             ],
             [
              0.8888888888888888,
              "#fdca26"
             ],
             [
              1,
              "#f0f921"
             ]
            ],
            "type": "contour"
           }
          ],
          "contourcarpet": [
           {
            "colorbar": {
             "outlinewidth": 0,
             "ticks": ""
            },
            "type": "contourcarpet"
           }
          ],
          "heatmap": [
           {
            "colorbar": {
             "outlinewidth": 0,
             "ticks": ""
            },
            "colorscale": [
             [
              0,
              "#0d0887"
             ],
             [
              0.1111111111111111,
              "#46039f"
             ],
             [
              0.2222222222222222,
              "#7201a8"
             ],
             [
              0.3333333333333333,
              "#9c179e"
             ],
             [
              0.4444444444444444,
              "#bd3786"
             ],
             [
              0.5555555555555556,
              "#d8576b"
             ],
             [
              0.6666666666666666,
              "#ed7953"
             ],
             [
              0.7777777777777778,
              "#fb9f3a"
             ],
             [
              0.8888888888888888,
              "#fdca26"
             ],
             [
              1,
              "#f0f921"
             ]
            ],
            "type": "heatmap"
           }
          ],
          "heatmapgl": [
           {
            "colorbar": {
             "outlinewidth": 0,
             "ticks": ""
            },
            "colorscale": [
             [
              0,
              "#0d0887"
             ],
             [
              0.1111111111111111,
              "#46039f"
             ],
             [
              0.2222222222222222,
              "#7201a8"
             ],
             [
              0.3333333333333333,
              "#9c179e"
             ],
             [
              0.4444444444444444,
              "#bd3786"
             ],
             [
              0.5555555555555556,
              "#d8576b"
             ],
             [
              0.6666666666666666,
              "#ed7953"
             ],
             [
              0.7777777777777778,
              "#fb9f3a"
             ],
             [
              0.8888888888888888,
              "#fdca26"
             ],
             [
              1,
              "#f0f921"
             ]
            ],
            "type": "heatmapgl"
           }
          ],
          "histogram": [
           {
            "marker": {
             "colorbar": {
              "outlinewidth": 0,
              "ticks": ""
             }
            },
            "type": "histogram"
           }
          ],
          "histogram2d": [
           {
            "colorbar": {
             "outlinewidth": 0,
             "ticks": ""
            },
            "colorscale": [
             [
              0,
              "#0d0887"
             ],
             [
              0.1111111111111111,
              "#46039f"
             ],
             [
              0.2222222222222222,
              "#7201a8"
             ],
             [
              0.3333333333333333,
              "#9c179e"
             ],
             [
              0.4444444444444444,
              "#bd3786"
             ],
             [
              0.5555555555555556,
              "#d8576b"
             ],
             [
              0.6666666666666666,
              "#ed7953"
             ],
             [
              0.7777777777777778,
              "#fb9f3a"
             ],
             [
              0.8888888888888888,
              "#fdca26"
             ],
             [
              1,
              "#f0f921"
             ]
            ],
            "type": "histogram2d"
           }
          ],
          "histogram2dcontour": [
           {
            "colorbar": {
             "outlinewidth": 0,
             "ticks": ""
            },
            "colorscale": [
             [
              0,
              "#0d0887"
             ],
             [
              0.1111111111111111,
              "#46039f"
             ],
             [
              0.2222222222222222,
              "#7201a8"
             ],
             [
              0.3333333333333333,
              "#9c179e"
             ],
             [
              0.4444444444444444,
              "#bd3786"
             ],
             [
              0.5555555555555556,
              "#d8576b"
             ],
             [
              0.6666666666666666,
              "#ed7953"
             ],
             [
              0.7777777777777778,
              "#fb9f3a"
             ],
             [
              0.8888888888888888,
              "#fdca26"
             ],
             [
              1,
              "#f0f921"
             ]
            ],
            "type": "histogram2dcontour"
           }
          ],
          "mesh3d": [
           {
            "colorbar": {
             "outlinewidth": 0,
             "ticks": ""
            },
            "type": "mesh3d"
           }
          ],
          "parcoords": [
           {
            "line": {
             "colorbar": {
              "outlinewidth": 0,
              "ticks": ""
             }
            },
            "type": "parcoords"
           }
          ],
          "pie": [
           {
            "automargin": true,
            "type": "pie"
           }
          ],
          "scatter": [
           {
            "marker": {
             "colorbar": {
              "outlinewidth": 0,
              "ticks": ""
             }
            },
            "type": "scatter"
           }
          ],
          "scatter3d": [
           {
            "line": {
             "colorbar": {
              "outlinewidth": 0,
              "ticks": ""
             }
            },
            "marker": {
             "colorbar": {
              "outlinewidth": 0,
              "ticks": ""
             }
            },
            "type": "scatter3d"
           }
          ],
          "scattercarpet": [
           {
            "marker": {
             "colorbar": {
              "outlinewidth": 0,
              "ticks": ""
             }
            },
            "type": "scattercarpet"
           }
          ],
          "scattergeo": [
           {
            "marker": {
             "colorbar": {
              "outlinewidth": 0,
              "ticks": ""
             }
            },
            "type": "scattergeo"
           }
          ],
          "scattergl": [
           {
            "marker": {
             "colorbar": {
              "outlinewidth": 0,
              "ticks": ""
             }
            },
            "type": "scattergl"
           }
          ],
          "scattermapbox": [
           {
            "marker": {
             "colorbar": {
              "outlinewidth": 0,
              "ticks": ""
             }
            },
            "type": "scattermapbox"
           }
          ],
          "scatterpolar": [
           {
            "marker": {
             "colorbar": {
              "outlinewidth": 0,
              "ticks": ""
             }
            },
            "type": "scatterpolar"
           }
          ],
          "scatterpolargl": [
           {
            "marker": {
             "colorbar": {
              "outlinewidth": 0,
              "ticks": ""
             }
            },
            "type": "scatterpolargl"
           }
          ],
          "scatterternary": [
           {
            "marker": {
             "colorbar": {
              "outlinewidth": 0,
              "ticks": ""
             }
            },
            "type": "scatterternary"
           }
          ],
          "surface": [
           {
            "colorbar": {
             "outlinewidth": 0,
             "ticks": ""
            },
            "colorscale": [
             [
              0,
              "#0d0887"
             ],
             [
              0.1111111111111111,
              "#46039f"
             ],
             [
              0.2222222222222222,
              "#7201a8"
             ],
             [
              0.3333333333333333,
              "#9c179e"
             ],
             [
              0.4444444444444444,
              "#bd3786"
             ],
             [
              0.5555555555555556,
              "#d8576b"
             ],
             [
              0.6666666666666666,
              "#ed7953"
             ],
             [
              0.7777777777777778,
              "#fb9f3a"
             ],
             [
              0.8888888888888888,
              "#fdca26"
             ],
             [
              1,
              "#f0f921"
             ]
            ],
            "type": "surface"
           }
          ],
          "table": [
           {
            "cells": {
             "fill": {
              "color": "#EBF0F8"
             },
             "line": {
              "color": "white"
             }
            },
            "header": {
             "fill": {
              "color": "#C8D4E3"
             },
             "line": {
              "color": "white"
             }
            },
            "type": "table"
           }
          ]
         },
         "layout": {
          "annotationdefaults": {
           "arrowcolor": "#2a3f5f",
           "arrowhead": 0,
           "arrowwidth": 1
          },
          "coloraxis": {
           "colorbar": {
            "outlinewidth": 0,
            "ticks": ""
           }
          },
          "colorscale": {
           "diverging": [
            [
             0,
             "#8e0152"
            ],
            [
             0.1,
             "#c51b7d"
            ],
            [
             0.2,
             "#de77ae"
            ],
            [
             0.3,
             "#f1b6da"
            ],
            [
             0.4,
             "#fde0ef"
            ],
            [
             0.5,
             "#f7f7f7"
            ],
            [
             0.6,
             "#e6f5d0"
            ],
            [
             0.7,
             "#b8e186"
            ],
            [
             0.8,
             "#7fbc41"
            ],
            [
             0.9,
             "#4d9221"
            ],
            [
             1,
             "#276419"
            ]
           ],
           "sequential": [
            [
             0,
             "#0d0887"
            ],
            [
             0.1111111111111111,
             "#46039f"
            ],
            [
             0.2222222222222222,
             "#7201a8"
            ],
            [
             0.3333333333333333,
             "#9c179e"
            ],
            [
             0.4444444444444444,
             "#bd3786"
            ],
            [
             0.5555555555555556,
             "#d8576b"
            ],
            [
             0.6666666666666666,
             "#ed7953"
            ],
            [
             0.7777777777777778,
             "#fb9f3a"
            ],
            [
             0.8888888888888888,
             "#fdca26"
            ],
            [
             1,
             "#f0f921"
            ]
           ],
           "sequentialminus": [
            [
             0,
             "#0d0887"
            ],
            [
             0.1111111111111111,
             "#46039f"
            ],
            [
             0.2222222222222222,
             "#7201a8"
            ],
            [
             0.3333333333333333,
             "#9c179e"
            ],
            [
             0.4444444444444444,
             "#bd3786"
            ],
            [
             0.5555555555555556,
             "#d8576b"
            ],
            [
             0.6666666666666666,
             "#ed7953"
            ],
            [
             0.7777777777777778,
             "#fb9f3a"
            ],
            [
             0.8888888888888888,
             "#fdca26"
            ],
            [
             1,
             "#f0f921"
            ]
           ]
          },
          "colorway": [
           "#636efa",
           "#EF553B",
           "#00cc96",
           "#ab63fa",
           "#FFA15A",
           "#19d3f3",
           "#FF6692",
           "#B6E880",
           "#FF97FF",
           "#FECB52"
          ],
          "font": {
           "color": "#2a3f5f"
          },
          "geo": {
           "bgcolor": "white",
           "lakecolor": "white",
           "landcolor": "#E5ECF6",
           "showlakes": true,
           "showland": true,
           "subunitcolor": "white"
          },
          "hoverlabel": {
           "align": "left"
          },
          "hovermode": "closest",
          "mapbox": {
           "style": "light"
          },
          "paper_bgcolor": "white",
          "plot_bgcolor": "#E5ECF6",
          "polar": {
           "angularaxis": {
            "gridcolor": "white",
            "linecolor": "white",
            "ticks": ""
           },
           "bgcolor": "#E5ECF6",
           "radialaxis": {
            "gridcolor": "white",
            "linecolor": "white",
            "ticks": ""
           }
          },
          "scene": {
           "xaxis": {
            "backgroundcolor": "#E5ECF6",
            "gridcolor": "white",
            "gridwidth": 2,
            "linecolor": "white",
            "showbackground": true,
            "ticks": "",
            "zerolinecolor": "white"
           },
           "yaxis": {
            "backgroundcolor": "#E5ECF6",
            "gridcolor": "white",
            "gridwidth": 2,
            "linecolor": "white",
            "showbackground": true,
            "ticks": "",
            "zerolinecolor": "white"
           },
           "zaxis": {
            "backgroundcolor": "#E5ECF6",
            "gridcolor": "white",
            "gridwidth": 2,
            "linecolor": "white",
            "showbackground": true,
            "ticks": "",
            "zerolinecolor": "white"
           }
          },
          "shapedefaults": {
           "line": {
            "color": "#2a3f5f"
           }
          },
          "ternary": {
           "aaxis": {
            "gridcolor": "white",
            "linecolor": "white",
            "ticks": ""
           },
           "baxis": {
            "gridcolor": "white",
            "linecolor": "white",
            "ticks": ""
           },
           "bgcolor": "#E5ECF6",
           "caxis": {
            "gridcolor": "white",
            "linecolor": "white",
            "ticks": ""
           }
          },
          "title": {
           "x": 0.05
          },
          "xaxis": {
           "automargin": true,
           "gridcolor": "white",
           "linecolor": "white",
           "ticks": "",
           "title": {
            "standoff": 15
           },
           "zerolinecolor": "white",
           "zerolinewidth": 2
          },
          "yaxis": {
           "automargin": true,
           "gridcolor": "white",
           "linecolor": "white",
           "ticks": "",
           "title": {
            "standoff": 15
           },
           "zerolinecolor": "white",
           "zerolinewidth": 2
          }
         }
        }
       }
      },
      "image/png": "[encoded data removed]",
      "text/html": [
       "<div>                            <div id=\"ed5dd31f-5066-48f1-b4c0-d70125d69bd6\" class=\"plotly-graph-div\" style=\"height:525px; width:100%;\"></div>            <script type=\"text/javascript\">                require([\"plotly\"], function(Plotly) {                    window.PLOTLYENV=window.PLOTLYENV || {};                                    if (document.getElementById(\"ed5dd31f-5066-48f1-b4c0-d70125d69bd6\")) {                    Plotly.newPlot(                        \"ed5dd31f-5066-48f1-b4c0-d70125d69bd6\",                        [{\"branchvalues\": \"total\", \"customdata\": [[200388.0], [293140.0], [366667.0], [459051.0], [203047.0], [297031.0], [371534.0], [465144.0], [259998.0], [380342.0], [475742.0], [595608.0], [453850.0], [663921.0], [830450.0], [1039687.0], [371864.0], [543987.0], [680433.0], [851872.0], [304749.0], [445807.0], [557627.0], [698124.0], [257404.0], [376548.0], [470996.0], [589666.0], [327644.0], [479299.0], [599520.0], [750572.0], [343535.0], [502546.0], [628597.0], [786976.0], [565304.0], [826963.0], [1034387.0], [1295007.0], [225369.0], [329685.0], [412378.0], [516279.0], [182957.0], [267642.0], [334773.0], [419121.0], [265705.0], [388690.0], [486184.0], [608681.0], [158483.0], [231839.0], [289990.0], [363055.0], [310740.0], [454571.0], [568589.0], [711848.0], [222086.0], [324882.0], [406371.0], [508759.0], [927466.0], [1356757.0], [1697067.0], [2124653.0], [269386.0], [394075.0], [492919.0], [617113.0], [213227.0], [311922.0], [390160.0], [488463.0], [300213.0], [439171.0], [549326.0], [687732.0], [219771.0], [321496.0], [402135.0], [503455.0], [596077.0], [871981.0], [1090696.0], [1365503.0], [249025.0], [364291.0], [455664.0], [570471.0], [246750.0], [360962.0], [451500.0], [565258.0], [215421.0], [315133.0], [394176.0], [493491.0], [335119.0], [490234.0], [613197.0], [767695.0], [253618.0], [371009.0], [464068.0], [580993.0], [255142.0], [373239.0], [466857.0], [584484.0], [283706.0], [415024.0], [519123.0], [649919.0], [256205.0], [374793.0], [468801.0], [586918.0], [241824.0], [353756.0], [442487.0], [553974.0], [159187.0], [232869.0], [291278.0], [364667.0], [264116.0], [386366.0], [483276.0], [605040.0], [231741.0], [339006.0], [424038.0], [530877.0], [278023.0], [406710.0], [508723.0], [636899.0], [290457.0], [424900.0], [531476.0], [665384.0], [483734.0], [707638.0], [885132.0], [1108146.0], [163419.0], [239060.0], [299023.0], [374364.0], [163039.0], [238505.0], [298328.0], [373493.0], [345676.0], [505677.0], [632514.0], [791880.0], [241685.0], [353553.0], [442233.0], [553656.0], [187993.0], [275009.0], [343988.0], [430658.0], [126255.0], [184694.0], [231020.0], [289227.0], [517466.0], [756983.0], [946854.0], [1185419.0], [726664.0], [1063011.0], [1329642.0], [1664653.0], [199043.0], [291172.0], [364206.0], [455970.0], [235168.0], [344019.0], [430308.0], [538727.0], [224425.0], [328303.0], [410650.0], [514116.0], [224780.0], [328823.0], [411300.0], [514929.0], [323536.0], [473289.0], [592002.0], [741161.0], [354207.0], [518157.0], [648124.0], [811423.0], [260555.0], [381156.0], [476760.0], [596883.0], [240009.0], [351101.0], [439166.0], [549816.0], [272896.0], [399210.0], [499342.0], [625154.0], [213919.0], [312935.0], [391427.0], [490049.0], [194295.0], [284227.0], [355519.0], [445094.0], [423537.0], [619577.0], [774983.0], [970245.0], [174793.0], [255698.0], [319834.0], [400418.0], [274436.0], [401463.0], [502160.0], [628682.0], [263247.0], [385094.0], [481686.0], [603050.0], [196112.0], [286886.0], [358844.0], [449257.0], [174518.0], [255296.0], [319331.0], [399789.0], [267631.0], [391509.0], [489709.0], [613094.0], [205572.0], [300725.0], [376154.0], [470928.0], [512334.0], [749476.0], [937464.0], [1173663.0], [395115.0], [578001.0], [722978.0], [905137.0], [204523.0], [299190.0], [374234.0], [468524.0], [372579.0], [545034.0], [681742.0], [853511.0], [461393.0], [674957.0], [844253.0], [1056967.0], [664712.0], [972384.0], [1216283.0], [1522732.0], [489998.0], [716801.0], [896593.0], [1122495.0], [328211.0], [480129.0], [600558.0], [751872.0], [234424.0], [342930.0], [428946.0], [537021.0], [156076.0], [228318.0], [285586.0], [357541.0], [275374.0], [402835.0], [503876.0], [630831.0], [269751.0], [394610.0], [493588.0], [617950.0], [209609.0], [306629.0], [383540.0], [480175.0], [239078.0], [349739.0], [437462.0], [547683.0], [173169.0], [253323.0], [316863.0], [396699.0], [248778.0], [363929.0], [455212.0], [569905.0], [159374.0], [233143.0], [291621.0], [365097.0], [153829.0], [225031.0], [281475.0], [352394.0], [411558.0], [602054.0], [753065.0], [942804.0], [284459.0], [416125.0], [520500.0], [651643.0], [247779.0], [362468.0], [453384.0], [567617.0], [339987.0], [497355.0], [622104.0], [778847.0], [279833.0], [409358.0], [512036.0], [641047.0], [224801.0], [328854.0], [411339.0], [514978.0], [427169.0], [624890.0], [781629.0], [978565.0], [249993.0], [365706.0], [457435.0], [572689.0], [181251.0], [265146.0], [331652.0], [415214.0], [256556.0], [375307.0], [469444.0], [587723.0], [268067.0], [392146.0], [490506.0], [614092.0], [269410.0], [394111.0], [492964.0], [617169.0], [378033.0], [553011.0], [691720.0], [866003.0], [276239.0], [404100.0], [505459.0], [632812.0], [246333.0], [360352.0], [450737.0], [564303.0], [394235.0], [576713.0], [721368.0], [903121.0], [226856.0], [331860.0], [415099.0], [519686.0], [465254.0], [680604.0], [851317.0], [1065811.0], [238524.0], [348928.0], [436448.0], [546413.0], [219337.0], [320860.0], [401340.0], [502460.0], [210017.0], [307227.0], [384287.0], [481110.0], [309221.0], [452349.0], [565810.0], [708369.0], [664476.0], [972039.0], [1215852.0], [1522193.0], [228625.0], [334448.0], [418336.0], [523738.0], [335435.0], [490697.0], [613776.0], [768420.0], [261923.0], [383158.0], [479264.0], [600017.0], [200402.0], [293162.0], [366694.0], [459085.0], [271880.0], [397724.0], [497483.0], [622827.0], [276462.0], [404427.0], [505868.0], [633325.0], [607040.0], [888017.0], [1110755.0], [1390616.0], [228460.0], [334206.0], [418033.0], [523359.0], [334433.0], [489230.0], [611942.0], [766124.0], [215039.0], [314574.0], [393477.0], [492616.0], [145464.0], [212794.0], [266168.0], [333230.0], [404836.0], [592220.0], [740764.0], [927404.0], [228368.0], [334072.0], [417866.0], [523150.0], [155094.0], [226882.0], [283790.0], [355293.0], [324732.0], [475039.0], [594191.0], [743901.0], [375678.0], [549567.0], [687412.0], [860610.0], [213950.0], [312980.0], [391483.0], [490119.0], [228975.0], [334960.0], [418977.0], [524540.0], [172947.0], [252998.0], [316456.0], [396189.0], [208555.0], [305088.0], [381612.0], [477762.0], [212241.0], [310480.0], [388356.0], [486204.0], [187140.0], [273761.0], [342427.0], [428703.0], [213749.0], [312685.0], [391115.0], [489659.0], [211633.0], [309590.0], [387243.0], [484811.0], [284984.0], [416893.0], [521460.0], [652845.0], [283215.0], [414306.0], [518224.0], [648794.0], [282087.0], [412655.0], [516160.0], [646210.0], [181367.0], [265315.0], [331863.0], [415478.0], [270607.0], [395861.0], [495153.0], [619910.0], [224756.0], [328788.0], [411256.0], [514874.0], [343877.0], [503046.0], [629223.0], [787760.0], [491987.0], [719711.0], [900233.0], [1127052.0], [494098.0], [722799.0], [904096.0], [1131888.0], [185859.0], [271887.0], [340083.0], [425769.0], [261784.0], [382954.0], [479009.0], [599698.0], [343576.5080769564], [502606.1466159757], [628672.7552165643], [787070.5045585778]], \"domain\": {\"x\": [0.0, 1.0], \"y\": [0.0, 1.0]}, \"hovertemplate\": \"labels=%{label}<br>average_house_value_sum=%{value}<br>parent=%{parent}<br>id=%{id}<br>average_house_value=%{color}<extra></extra>\", \"ids\": [\"2001/Agincourt North\", \"2006/Agincourt North\", \"2011/Agincourt North\", \"2016/Agincourt North\", \"2001/Agincourt South-Malvern West\", \"2006/Agincourt South-Malvern West\", \"2011/Agincourt South-Malvern West\", \"2016/Agincourt South-Malvern West\", \"2001/Alderwood\", \"2006/Alderwood\", \"2011/Alderwood\", \"2016/Alderwood\", \"2001/Annex\", \"2006/Annex\", \"2011/Annex\", \"2016/Annex\", \"2001/Banbury-Don Mills\", \"2006/Banbury-Don Mills\", \"2011/Banbury-Don Mills\", \"2016/Banbury-Don Mills\", \"2001/Bathurst Manor\", \"2006/Bathurst Manor\", \"2011/Bathurst Manor\", \"2016/Bathurst Manor\", \"2001/Bay Street Corridor\", \"2006/Bay Street Corridor\", \"2011/Bay Street Corridor\", \"2016/Bay Street Corridor\", \"2001/Bayview Village\", \"2006/Bayview Village\", \"2011/Bayview Village\", \"2016/Bayview Village\", \"2001/Bayview Woods-Steeles\", \"2006/Bayview Woods-Steeles\", \"2011/Bayview Woods-Steeles\", \"2016/Bayview Woods-Steeles\", \"2001/Bedford Park-Nortown\", \"2006/Bedford Park-Nortown\", \"2011/Bedford Park-Nortown\", \"2016/Bedford Park-Nortown\", \"2001/Beechborough-Greenbrook\", \"2006/Beechborough-Greenbrook\", \"2011/Beechborough-Greenbrook\", \"2016/Beechborough-Greenbrook\", \"2001/Bendale\", \"2006/Bendale\", \"2011/Bendale\", \"2016/Bendale\", \"2001/Birchcliffe-Cliffside\", \"2006/Birchcliffe-Cliffside\", \"2011/Birchcliffe-Cliffside\", \"2016/Birchcliffe-Cliffside\", \"2001/Black Creek\", \"2006/Black Creek\", \"2011/Black Creek\", \"2016/Black Creek\", \"2001/Blake-Jones\", \"2006/Blake-Jones\", \"2011/Blake-Jones\", \"2016/Blake-Jones\", \"2001/Briar Hill-Belgravia\", \"2006/Briar Hill-Belgravia\", \"2011/Briar Hill-Belgravia\", \"2016/Briar Hill-Belgravia\", \"2001/Bridle Path-Sunnybrook-York Mills\", \"2006/Bridle Path-Sunnybrook-York Mills\", \"2011/Bridle Path-Sunnybrook-York Mills\", \"2016/Bridle Path-Sunnybrook-York Mills\", \"2001/Broadview North\", \"2006/Broadview North\", \"2011/Broadview North\", \"2016/Broadview North\", \"2001/Brookhaven-Amesbury\", \"2006/Brookhaven-Amesbury\", \"2011/Brookhaven-Amesbury\", \"2016/Brookhaven-Amesbury\", \"2001/Cabbagetown-South St.James Town\", \"2006/Cabbagetown-South St.James Town\", \"2011/Cabbagetown-South St.James Town\", \"2016/Cabbagetown-South St.James Town\", \"2001/Caledonia-Fairbank\", \"2006/Caledonia-Fairbank\", \"2011/Caledonia-Fairbank\", \"2016/Caledonia-Fairbank\", \"2001/Casa Loma\", \"2006/Casa Loma\", \"2011/Casa Loma\", \"2016/Casa Loma\", \"2001/Centennial Scarborough\", \"2006/Centennial Scarborough\", \"2011/Centennial Scarborough\", \"2016/Centennial Scarborough\", \"2001/Church-Yonge Corridor\", \"2006/Church-Yonge Corridor\", \"2011/Church-Yonge Corridor\", \"2016/Church-Yonge Corridor\", \"2001/Clairlea-Birchmount\", \"2006/Clairlea-Birchmount\", \"2011/Clairlea-Birchmount\", \"2016/Clairlea-Birchmount\", \"2001/Clanton Park\", \"2006/Clanton Park\", \"2011/Clanton Park\", \"2016/Clanton Park\", \"2001/Cliffcrest\", \"2006/Cliffcrest\", \"2011/Cliffcrest\", \"2016/Cliffcrest\", \"2001/Corso Italia-Davenport\", \"2006/Corso Italia-Davenport\", \"2011/Corso Italia-Davenport\", \"2016/Corso Italia-Davenport\", \"2001/Danforth\", \"2006/Danforth\", \"2011/Danforth\", \"2016/Danforth\", \"2001/Danforth-East York\", \"2006/Danforth-East York\", \"2011/Danforth-East York\", \"2016/Danforth-East York\", \"2001/Don Valley Village\", \"2006/Don Valley Village\", \"2011/Don Valley Village\", \"2016/Don Valley Village\", \"2001/Dorset Park\", \"2006/Dorset Park\", \"2011/Dorset Park\", \"2016/Dorset Park\", \"2001/Dovercourt-Wallace Emerson-Juncti\", \"2006/Dovercourt-Wallace Emerson-Juncti\", \"2011/Dovercourt-Wallace Emerson-Juncti\", \"2016/Dovercourt-Wallace Emerson-Juncti\", \"2001/Downsview-Roding-CFB\", \"2006/Downsview-Roding-CFB\", \"2011/Downsview-Roding-CFB\", \"2016/Downsview-Roding-CFB\", \"2001/Dufferin Grove\", \"2006/Dufferin Grove\", \"2011/Dufferin Grove\", \"2016/Dufferin Grove\", \"2001/East End-Danforth\", \"2006/East End-Danforth\", \"2011/East End-Danforth\", \"2016/East End-Danforth\", \"2001/Edenbridge-Humber Valley\", \"2006/Edenbridge-Humber Valley\", \"2011/Edenbridge-Humber Valley\", \"2016/Edenbridge-Humber Valley\", \"2001/Eglinton East\", \"2006/Eglinton East\", \"2011/Eglinton East\", \"2016/Eglinton East\", \"2001/Elms-Old Rexdale\", \"2006/Elms-Old Rexdale\", \"2011/Elms-Old Rexdale\", \"2016/Elms-Old Rexdale\", \"2001/Englemount-Lawrence\", \"2006/Englemount-Lawrence\", \"2011/Englemount-Lawrence\", \"2016/Englemount-Lawrence\", \"2001/Eringate-Centennial-West Deane\", \"2006/Eringate-Centennial-West Deane\", \"2011/Eringate-Centennial-West Deane\", \"2016/Eringate-Centennial-West Deane\", \"2001/Etobicoke West Mall\", \"2006/Etobicoke West Mall\", \"2011/Etobicoke West Mall\", \"2016/Etobicoke West Mall\", \"2001/Flemingdon Park\", \"2006/Flemingdon Park\", \"2011/Flemingdon Park\", \"2016/Flemingdon Park\", \"2001/Forest Hill North\", \"2006/Forest Hill North\", \"2011/Forest Hill North\", \"2016/Forest Hill North\", \"2001/Forest Hill South\", \"2006/Forest Hill South\", \"2011/Forest Hill South\", \"2016/Forest Hill South\", \"2001/Glenfield-Jane Heights\", \"2006/Glenfield-Jane Heights\", \"2011/Glenfield-Jane Heights\", \"2016/Glenfield-Jane Heights\", \"2001/Greenwood-Coxwell\", \"2006/Greenwood-Coxwell\", \"2011/Greenwood-Coxwell\", \"2016/Greenwood-Coxwell\", \"2001/Guildwood\", \"2006/Guildwood\", \"2011/Guildwood\", \"2016/Guildwood\", \"2001/Henry Farm\", \"2006/Henry Farm\", \"2011/Henry Farm\", \"2016/Henry Farm\", \"2001/High Park North\", \"2006/High Park North\", \"2011/High Park North\", \"2016/High Park North\", \"2001/High Park-Swansea\", \"2006/High Park-Swansea\", \"2011/High Park-Swansea\", \"2016/High Park-Swansea\", \"2001/Highland Creek\", \"2006/Highland Creek\", \"2011/Highland Creek\", \"2016/Highland Creek\", \"2001/Hillcrest Village\", \"2006/Hillcrest Village\", \"2011/Hillcrest Village\", \"2016/Hillcrest Village\", \"2001/Humber Heights-Westmount\", \"2006/Humber Heights-Westmount\", \"2011/Humber Heights-Westmount\", \"2016/Humber Heights-Westmount\", \"2001/Humber Summit\", \"2006/Humber Summit\", \"2011/Humber Summit\", \"2016/Humber Summit\", \"2001/Humbermede\", \"2006/Humbermede\", \"2011/Humbermede\", \"2016/Humbermede\", \"2001/Humewood-Cedarvale\", \"2006/Humewood-Cedarvale\", \"2011/Humewood-Cedarvale\", \"2016/Humewood-Cedarvale\", \"2001/Ionview\", \"2006/Ionview\", \"2011/Ionview\", \"2016/Ionview\", \"2001/Islington-City Centre West\", \"2006/Islington-City Centre West\", \"2011/Islington-City Centre West\", \"2016/Islington-City Centre West\", \"2001/Junction Area\", \"2006/Junction Area\", \"2011/Junction Area\", \"2016/Junction Area\", \"2001/Keelesdale-Eglinton West\", \"2006/Keelesdale-Eglinton West\", \"2011/Keelesdale-Eglinton West\", \"2016/Keelesdale-Eglinton West\", \"2001/Kennedy Park\", \"2006/Kennedy Park\", \"2011/Kennedy Park\", \"2016/Kennedy Park\", \"2001/Kensington-Chinatown\", \"2006/Kensington-Chinatown\", \"2011/Kensington-Chinatown\", \"2016/Kensington-Chinatown\", \"2001/Kingsview Village-The Westway\", \"2006/Kingsview Village-The Westway\", \"2011/Kingsview Village-The Westway\", \"2016/Kingsview Village-The Westway\", \"2001/Kingsway South\", \"2006/Kingsway South\", \"2011/Kingsway South\", \"2016/Kingsway South\", \"2001/L'Amoreaux\", \"2006/L'Amoreaux\", \"2011/L'Amoreaux\", \"2016/L'Amoreaux\", \"2001/Lambton Baby Point\", \"2006/Lambton Baby Point\", \"2011/Lambton Baby Point\", \"2016/Lambton Baby Point\", \"2001/Lansing-Westgate\", \"2006/Lansing-Westgate\", \"2011/Lansing-Westgate\", \"2016/Lansing-Westgate\", \"2001/Lawrence Park North\", \"2006/Lawrence Park North\", \"2011/Lawrence Park North\", \"2016/Lawrence Park North\", \"2001/Lawrence Park South\", \"2006/Lawrence Park South\", \"2011/Lawrence Park South\", \"2016/Lawrence Park South\", \"2001/Leaside-Bennington\", \"2006/Leaside-Bennington\", \"2011/Leaside-Bennington\", \"2016/Leaside-Bennington\", \"2001/Little Portugal\", \"2006/Little Portugal\", \"2011/Little Portugal\", \"2016/Little Portugal\", \"2001/Long Branch\", \"2006/Long Branch\", \"2011/Long Branch\", \"2016/Long Branch\", \"2001/Malvern\", \"2006/Malvern\", \"2011/Malvern\", \"2016/Malvern\", \"2001/Maple Leaf\", \"2006/Maple Leaf\", \"2011/Maple Leaf\", \"2016/Maple Leaf\", \"2001/Markland Wood\", \"2006/Markland Wood\", \"2011/Markland Wood\", \"2016/Markland Wood\", \"2001/Milliken\", \"2006/Milliken\", \"2011/Milliken\", \"2016/Milliken\", \"2001/Mimico\", \"2006/Mimico\", \"2011/Mimico\", \"2016/Mimico\", \"2001/Morningside\", \"2006/Morningside\", \"2011/Morningside\", \"2016/Morningside\", \"2001/Moss Park\", \"2006/Moss Park\", \"2011/Moss Park\", \"2016/Moss Park\", \"2001/Mount Dennis\", \"2006/Mount Dennis\", \"2011/Mount Dennis\", \"2016/Mount Dennis\", \"2001/Mount Olive-Silverstone-Jamestown\", \"2006/Mount Olive-Silverstone-Jamestown\", \"2011/Mount Olive-Silverstone-Jamestown\", \"2016/Mount Olive-Silverstone-Jamestown\", \"2001/Mount Pleasant East\", \"2006/Mount Pleasant East\", \"2011/Mount Pleasant East\", \"2016/Mount Pleasant East\", \"2001/Mount Pleasant West\", \"2006/Mount Pleasant West\", \"2011/Mount Pleasant West\", \"2016/Mount Pleasant West\", \"2001/New Toronto\", \"2006/New Toronto\", \"2011/New Toronto\", \"2016/New Toronto\", \"2001/Newtonbrook East\", \"2006/Newtonbrook East\", \"2011/Newtonbrook East\", \"2016/Newtonbrook East\", \"2001/Newtonbrook West\", \"2006/Newtonbrook West\", \"2011/Newtonbrook West\", \"2016/Newtonbrook West\", \"2001/Niagara\", \"2006/Niagara\", \"2011/Niagara\", \"2016/Niagara\", \"2001/North Riverdale\", \"2006/North Riverdale\", \"2011/North Riverdale\", \"2016/North Riverdale\", \"2001/North St.James Town\", \"2006/North St.James Town\", \"2011/North St.James Town\", \"2016/North St.James Town\", \"2001/O'Connor-Parkview\", \"2006/O'Connor-Parkview\", \"2011/O'Connor-Parkview\", \"2016/O'Connor-Parkview\", \"2001/Oakridge\", \"2006/Oakridge\", \"2011/Oakridge\", \"2016/Oakridge\", \"2001/Oakwood Village\", \"2006/Oakwood Village\", \"2011/Oakwood Village\", \"2016/Oakwood Village\", \"2001/Old East York\", \"2006/Old East York\", \"2011/Old East York\", \"2016/Old East York\", \"2001/Palmerston-Little Italy\", \"2006/Palmerston-Little Italy\", \"2011/Palmerston-Little Italy\", \"2016/Palmerston-Little Italy\", \"2001/Parkwoods-Donalda\", \"2006/Parkwoods-Donalda\", \"2011/Parkwoods-Donalda\", \"2016/Parkwoods-Donalda\", \"2001/Pelmo Park-Humberlea\", \"2006/Pelmo Park-Humberlea\", \"2011/Pelmo Park-Humberlea\", \"2016/Pelmo Park-Humberlea\", \"2001/Playter Estates-Danforth\", \"2006/Playter Estates-Danforth\", \"2011/Playter Estates-Danforth\", \"2016/Playter Estates-Danforth\", \"2001/Pleasant View\", \"2006/Pleasant View\", \"2011/Pleasant View\", \"2016/Pleasant View\", \"2001/Princess-Rosethorn\", \"2006/Princess-Rosethorn\", \"2011/Princess-Rosethorn\", \"2016/Princess-Rosethorn\", \"2001/Regent Park\", \"2006/Regent Park\", \"2011/Regent Park\", \"2016/Regent Park\", \"2001/Rexdale-Kipling\", \"2006/Rexdale-Kipling\", \"2011/Rexdale-Kipling\", \"2016/Rexdale-Kipling\", \"2001/Rockcliffe-Smythe\", \"2006/Rockcliffe-Smythe\", \"2011/Rockcliffe-Smythe\", \"2016/Rockcliffe-Smythe\", \"2001/Roncesvalles\", \"2006/Roncesvalles\", \"2011/Roncesvalles\", \"2016/Roncesvalles\", \"2001/Rosedale-Moore Park\", \"2006/Rosedale-Moore Park\", \"2011/Rosedale-Moore Park\", \"2016/Rosedale-Moore Park\", \"2001/Rouge\", \"2006/Rouge\", \"2011/Rouge\", \"2016/Rouge\", \"2001/Runnymede-Bloor West Village\", \"2006/Runnymede-Bloor West Village\", \"2011/Runnymede-Bloor West Village\", \"2016/Runnymede-Bloor West Village\", \"2001/Rustic\", \"2006/Rustic\", \"2011/Rustic\", \"2016/Rustic\", \"2001/Scarborough Village\", \"2006/Scarborough Village\", \"2011/Scarborough Village\", \"2016/Scarborough Village\", \"2001/South Parkdale\", \"2006/South Parkdale\", \"2011/South Parkdale\", \"2016/South Parkdale\", \"2001/South Riverdale\", \"2006/South Riverdale\", \"2011/South Riverdale\", \"2016/South Riverdale\", \"2001/St.Andrew-Windfields\", \"2006/St.Andrew-Windfields\", \"2011/St.Andrew-Windfields\", \"2016/St.Andrew-Windfields\", \"2001/Steeles\", \"2006/Steeles\", \"2011/Steeles\", \"2016/Steeles\", \"2001/Stonegate-Queensway\", \"2006/Stonegate-Queensway\", \"2011/Stonegate-Queensway\", \"2016/Stonegate-Queensway\", \"2001/Tam O'Shanter-Sullivan\", \"2006/Tam O'Shanter-Sullivan\", \"2011/Tam O'Shanter-Sullivan\", \"2016/Tam O'Shanter-Sullivan\", \"2001/Taylor-Massey\", \"2006/Taylor-Massey\", \"2011/Taylor-Massey\", \"2016/Taylor-Massey\", \"2001/The Beaches\", \"2006/The Beaches\", \"2011/The Beaches\", \"2016/The Beaches\", \"2001/Thistletown-Beaumond Heights\", \"2006/Thistletown-Beaumond Heights\", \"2011/Thistletown-Beaumond Heights\", \"2016/Thistletown-Beaumond Heights\", \"2001/Thorncliffe Park\", \"2006/Thorncliffe Park\", \"2011/Thorncliffe Park\", \"2016/Thorncliffe Park\", \"2001/Trinity-Bellwoods\", \"2006/Trinity-Bellwoods\", \"2011/Trinity-Bellwoods\", \"2016/Trinity-Bellwoods\", \"2001/University\", \"2006/University\", \"2011/University\", \"2016/University\", \"2001/Victoria Village\", \"2006/Victoria Village\", \"2011/Victoria Village\", \"2016/Victoria Village\", \"2001/Waterfront Communities-The Island\", \"2006/Waterfront Communities-The Island\", \"2011/Waterfront Communities-The Island\", \"2016/Waterfront Communities-The Island\", \"2001/West Hill\", \"2006/West Hill\", \"2011/West Hill\", \"2016/West Hill\", \"2001/West Humber-Clairville\", \"2006/West Humber-Clairville\", \"2011/West Humber-Clairville\", \"2016/West Humber-Clairville\", \"2001/Westminster-Branson\", \"2006/Westminster-Branson\", \"2011/Westminster-Branson\", \"2016/Westminster-Branson\", \"2001/Weston\", \"2006/Weston\", \"2011/Weston\", \"2016/Weston\", \"2001/Weston-Pellam Park\", \"2006/Weston-Pellam Park\", \"2011/Weston-Pellam Park\", \"2016/Weston-Pellam Park\", \"2001/Wexford/Maryvale\", \"2006/Wexford/Maryvale\", \"2011/Wexford/Maryvale\", \"2016/Wexford/Maryvale\", \"2001/Willowdale East\", \"2006/Willowdale East\", \"2011/Willowdale East\", \"2016/Willowdale East\", \"2001/Willowdale West\", \"2006/Willowdale West\", \"2011/Willowdale West\", \"2016/Willowdale West\", \"2001/Willowridge-Martingrove-Richview\", \"2006/Willowridge-Martingrove-Richview\", \"2011/Willowridge-Martingrove-Richview\", \"2016/Willowridge-Martingrove-Richview\", \"2001/Woburn\", \"2006/Woburn\", \"2011/Woburn\", \"2016/Woburn\", \"2001/Woodbine Corridor\", \"2006/Woodbine Corridor\", \"2011/Woodbine Corridor\", \"2016/Woodbine Corridor\", \"2001/Woodbine-Lumsden\", \"2006/Woodbine-Lumsden\", \"2011/Woodbine-Lumsden\", \"2016/Woodbine-Lumsden\", \"2001/Wychwood\", \"2006/Wychwood\", \"2011/Wychwood\", \"2016/Wychwood\", \"2001/Yonge-Eglinton\", \"2006/Yonge-Eglinton\", \"2011/Yonge-Eglinton\", \"2016/Yonge-Eglinton\", \"2001/Yonge-St.Clair\", \"2006/Yonge-St.Clair\", \"2011/Yonge-St.Clair\", \"2016/Yonge-St.Clair\", \"2001/York University Heights\", \"2006/York University Heights\", \"2011/York University Heights\", \"2016/York University Heights\", \"2001/Yorkdale-Glen Park\", \"2006/Yorkdale-Glen Park\", \"2011/Yorkdale-Glen Park\", \"2016/Yorkdale-Glen Park\", \"2001\", \"2006\", \"2011\", \"2016\"], \"labels\": [\"Agincourt North\", \"Agincourt North\", \"Agincourt North\", \"Agincourt North\", \"Agincourt South-Malvern West\", \"Agincourt South-Malvern West\", \"Agincourt South-Malvern West\", \"Agincourt South-Malvern West\", \"Alderwood\", \"Alderwood\", \"Alderwood\", \"Alderwood\", \"Annex\", \"Annex\", \"Annex\", \"Annex\", \"Banbury-Don Mills\", \"Banbury-Don Mills\", \"Banbury-Don Mills\", \"Banbury-Don Mills\", \"Bathurst Manor\", \"Bathurst Manor\", \"Bathurst Manor\", \"Bathurst Manor\", \"Bay Street Corridor\", \"Bay Street Corridor\", \"Bay Street Corridor\", \"Bay Street Corridor\", \"Bayview Village\", \"Bayview Village\", \"Bayview Village\", \"Bayview Village\", \"Bayview Woods-Steeles\", \"Bayview Woods-Steeles\", \"Bayview Woods-Steeles\", \"Bayview Woods-Steeles\", \"Bedford Park-Nortown\", \"Bedford Park-Nortown\", \"Bedford Park-Nortown\", \"Bedford Park-Nortown\", \"Beechborough-Greenbrook\", \"Beechborough-Greenbrook\", \"Beechborough-Greenbrook\", \"Beechborough-Greenbrook\", \"Bendale\", \"Bendale\", \"Bendale\", \"Bendale\", \"Birchcliffe-Cliffside\", \"Birchcliffe-Cliffside\", \"Birchcliffe-Cliffside\", \"Birchcliffe-Cliffside\", \"Black Creek\", \"Black Creek\", \"Black Creek\", \"Black Creek\", \"Blake-Jones\", \"Blake-Jones\", \"Blake-Jones\", \"Blake-Jones\", \"Briar Hill-Belgravia\", \"Briar Hill-Belgravia\", \"Briar Hill-Belgravia\", \"Briar Hill-Belgravia\", \"Bridle Path-Sunnybrook-York Mills\", \"Bridle Path-Sunnybrook-York Mills\", \"Bridle Path-Sunnybrook-York Mills\", \"Bridle Path-Sunnybrook-York Mills\", \"Broadview North\", \"Broadview North\", \"Broadview North\", \"Broadview North\", \"Brookhaven-Amesbury\", \"Brookhaven-Amesbury\", \"Brookhaven-Amesbury\", \"Brookhaven-Amesbury\", \"Cabbagetown-South St.James Town\", \"Cabbagetown-South St.James Town\", \"Cabbagetown-South St.James Town\", \"Cabbagetown-South St.James Town\", \"Caledonia-Fairbank\", \"Caledonia-Fairbank\", \"Caledonia-Fairbank\", \"Caledonia-Fairbank\", \"Casa Loma\", \"Casa Loma\", \"Casa Loma\", \"Casa Loma\", \"Centennial Scarborough\", \"Centennial Scarborough\", \"Centennial Scarborough\", \"Centennial Scarborough\", \"Church-Yonge Corridor\", \"Church-Yonge Corridor\", \"Church-Yonge Corridor\", \"Church-Yonge Corridor\", \"Clairlea-Birchmount\", \"Clairlea-Birchmount\", \"Clairlea-Birchmount\", \"Clairlea-Birchmount\", \"Clanton Park\", \"Clanton Park\", \"Clanton Park\", \"Clanton Park\", \"Cliffcrest\", \"Cliffcrest\", \"Cliffcrest\", \"Cliffcrest\", \"Corso Italia-Davenport\", \"Corso Italia-Davenport\", \"Corso Italia-Davenport\", \"Corso Italia-Davenport\", \"Danforth\", \"Danforth\", \"Danforth\", \"Danforth\", \"Danforth-East York\", \"Danforth-East York\", \"Danforth-East York\", \"Danforth-East York\", \"Don Valley Village\", \"Don Valley Village\", \"Don Valley Village\", \"Don Valley Village\", \"Dorset Park\", \"Dorset Park\", \"Dorset Park\", \"Dorset Park\", \"Dovercourt-Wallace Emerson-Juncti\", \"Dovercourt-Wallace Emerson-Juncti\", \"Dovercourt-Wallace Emerson-Juncti\", \"Dovercourt-Wallace Emerson-Juncti\", \"Downsview-Roding-CFB\", \"Downsview-Roding-CFB\", \"Downsview-Roding-CFB\", \"Downsview-Roding-CFB\", \"Dufferin Grove\", \"Dufferin Grove\", \"Dufferin Grove\", \"Dufferin Grove\", \"East End-Danforth\", \"East End-Danforth\", \"East End-Danforth\", \"East End-Danforth\", \"Edenbridge-Humber Valley\", \"Edenbridge-Humber Valley\", \"Edenbridge-Humber Valley\", \"Edenbridge-Humber Valley\", \"Eglinton East\", \"Eglinton East\", \"Eglinton East\", \"Eglinton East\", \"Elms-Old Rexdale\", \"Elms-Old Rexdale\", \"Elms-Old Rexdale\", \"Elms-Old Rexdale\", \"Englemount-Lawrence\", \"Englemount-Lawrence\", \"Englemount-Lawrence\", \"Englemount-Lawrence\", \"Eringate-Centennial-West Deane\", \"Eringate-Centennial-West Deane\", \"Eringate-Centennial-West Deane\", \"Eringate-Centennial-West Deane\", \"Etobicoke West Mall\", \"Etobicoke West Mall\", \"Etobicoke West Mall\", \"Etobicoke West Mall\", \"Flemingdon Park\", \"Flemingdon Park\", \"Flemingdon Park\", \"Flemingdon Park\", \"Forest Hill North\", \"Forest Hill North\", \"Forest Hill North\", \"Forest Hill North\", \"Forest Hill South\", \"Forest Hill South\", \"Forest Hill South\", \"Forest Hill South\", \"Glenfield-Jane Heights\", \"Glenfield-Jane Heights\", \"Glenfield-Jane Heights\", \"Glenfield-Jane Heights\", \"Greenwood-Coxwell\", \"Greenwood-Coxwell\", \"Greenwood-Coxwell\", \"Greenwood-Coxwell\", \"Guildwood\", \"Guildwood\", \"Guildwood\", \"Guildwood\", \"Henry Farm\", \"Henry Farm\", \"Henry Farm\", \"Henry Farm\", \"High Park North\", \"High Park North\", \"High Park North\", \"High Park North\", \"High Park-Swansea\", \"High Park-Swansea\", \"High Park-Swansea\", \"High Park-Swansea\", \"Highland Creek\", \"Highland Creek\", \"Highland Creek\", \"Highland Creek\", \"Hillcrest Village\", \"Hillcrest Village\", \"Hillcrest Village\", \"Hillcrest Village\", \"Humber Heights-Westmount\", \"Humber Heights-Westmount\", \"Humber Heights-Westmount\", \"Humber Heights-Westmount\", \"Humber Summit\", \"Humber Summit\", \"Humber Summit\", \"Humber Summit\", \"Humbermede\", \"Humbermede\", \"Humbermede\", \"Humbermede\", \"Humewood-Cedarvale\", \"Humewood-Cedarvale\", \"Humewood-Cedarvale\", \"Humewood-Cedarvale\", \"Ionview\", \"Ionview\", \"Ionview\", \"Ionview\", \"Islington-City Centre West\", \"Islington-City Centre West\", \"Islington-City Centre West\", \"Islington-City Centre West\", \"Junction Area\", \"Junction Area\", \"Junction Area\", \"Junction Area\", \"Keelesdale-Eglinton West\", \"Keelesdale-Eglinton West\", \"Keelesdale-Eglinton West\", \"Keelesdale-Eglinton West\", \"Kennedy Park\", \"Kennedy Park\", \"Kennedy Park\", \"Kennedy Park\", \"Kensington-Chinatown\", \"Kensington-Chinatown\", \"Kensington-Chinatown\", \"Kensington-Chinatown\", \"Kingsview Village-The Westway\", \"Kingsview Village-The Westway\", \"Kingsview Village-The Westway\", \"Kingsview Village-The Westway\", \"Kingsway South\", \"Kingsway South\", \"Kingsway South\", \"Kingsway South\", \"L'Amoreaux\", \"L'Amoreaux\", \"L'Amoreaux\", \"L'Amoreaux\", \"Lambton Baby Point\", \"Lambton Baby Point\", \"Lambton Baby Point\", \"Lambton Baby Point\", \"Lansing-Westgate\", \"Lansing-Westgate\", \"Lansing-Westgate\", \"Lansing-Westgate\", \"Lawrence Park North\", \"Lawrence Park North\", \"Lawrence Park North\", \"Lawrence Park North\", \"Lawrence Park South\", \"Lawrence Park South\", \"Lawrence Park South\", \"Lawrence Park South\", \"Leaside-Bennington\", \"Leaside-Bennington\", \"Leaside-Bennington\", \"Leaside-Bennington\", \"Little Portugal\", \"Little Portugal\", \"Little Portugal\", \"Little Portugal\", \"Long Branch\", \"Long Branch\", \"Long Branch\", \"Long Branch\", \"Malvern\", \"Malvern\", \"Malvern\", \"Malvern\", \"Maple Leaf\", \"Maple Leaf\", \"Maple Leaf\", \"Maple Leaf\", \"Markland Wood\", \"Markland Wood\", \"Markland Wood\", \"Markland Wood\", \"Milliken\", \"Milliken\", \"Milliken\", \"Milliken\", \"Mimico\", \"Mimico\", \"Mimico\", \"Mimico\", \"Morningside\", \"Morningside\", \"Morningside\", \"Morningside\", \"Moss Park\", \"Moss Park\", \"Moss Park\", \"Moss Park\", \"Mount Dennis\", \"Mount Dennis\", \"Mount Dennis\", \"Mount Dennis\", \"Mount Olive-Silverstone-Jamestown\", \"Mount Olive-Silverstone-Jamestown\", \"Mount Olive-Silverstone-Jamestown\", \"Mount Olive-Silverstone-Jamestown\", \"Mount Pleasant East\", \"Mount Pleasant East\", \"Mount Pleasant East\", \"Mount Pleasant East\", \"Mount Pleasant West\", \"Mount Pleasant West\", \"Mount Pleasant West\", \"Mount Pleasant West\", \"New Toronto\", \"New Toronto\", \"New Toronto\", \"New Toronto\", \"Newtonbrook East\", \"Newtonbrook East\", \"Newtonbrook East\", \"Newtonbrook East\", \"Newtonbrook West\", \"Newtonbrook West\", \"Newtonbrook West\", \"Newtonbrook West\", \"Niagara\", \"Niagara\", \"Niagara\", \"Niagara\", \"North Riverdale\", \"North Riverdale\", \"North Riverdale\", \"North Riverdale\", \"North St.James Town\", \"North St.James Town\", \"North St.James Town\", \"North St.James Town\", \"O'Connor-Parkview\", \"O'Connor-Parkview\", \"O'Connor-Parkview\", \"O'Connor-Parkview\", \"Oakridge\", \"Oakridge\", \"Oakridge\", \"Oakridge\", \"Oakwood Village\", \"Oakwood Village\", \"Oakwood Village\", \"Oakwood Village\", \"Old East York\", \"Old East York\", \"Old East York\", \"Old East York\", \"Palmerston-Little Italy\", \"Palmerston-Little Italy\", \"Palmerston-Little Italy\", \"Palmerston-Little Italy\", \"Parkwoods-Donalda\", \"Parkwoods-Donalda\", \"Parkwoods-Donalda\", \"Parkwoods-Donalda\", \"Pelmo Park-Humberlea\", \"Pelmo Park-Humberlea\", \"Pelmo Park-Humberlea\", \"Pelmo Park-Humberlea\", \"Playter Estates-Danforth\", \"Playter Estates-Danforth\", \"Playter Estates-Danforth\", \"Playter Estates-Danforth\", \"Pleasant View\", \"Pleasant View\", \"Pleasant View\", \"Pleasant View\", \"Princess-Rosethorn\", \"Princess-Rosethorn\", \"Princess-Rosethorn\", \"Princess-Rosethorn\", \"Regent Park\", \"Regent Park\", \"Regent Park\", \"Regent Park\", \"Rexdale-Kipling\", \"Rexdale-Kipling\", \"Rexdale-Kipling\", \"Rexdale-Kipling\", \"Rockcliffe-Smythe\", \"Rockcliffe-Smythe\", \"Rockcliffe-Smythe\", \"Rockcliffe-Smythe\", \"Roncesvalles\", \"Roncesvalles\", \"Roncesvalles\", \"Roncesvalles\", \"Rosedale-Moore Park\", \"Rosedale-Moore Park\", \"Rosedale-Moore Park\", \"Rosedale-Moore Park\", \"Rouge\", \"Rouge\", \"Rouge\", \"Rouge\", \"Runnymede-Bloor West Village\", \"Runnymede-Bloor West Village\", \"Runnymede-Bloor West Village\", \"Runnymede-Bloor West Village\", \"Rustic\", \"Rustic\", \"Rustic\", \"Rustic\", \"Scarborough Village\", \"Scarborough Village\", \"Scarborough Village\", \"Scarborough Village\", \"South Parkdale\", \"South Parkdale\", \"South Parkdale\", \"South Parkdale\", \"South Riverdale\", \"South Riverdale\", \"South Riverdale\", \"South Riverdale\", \"St.Andrew-Windfields\", \"St.Andrew-Windfields\", \"St.Andrew-Windfields\", \"St.Andrew-Windfields\", \"Steeles\", \"Steeles\", \"Steeles\", \"Steeles\", \"Stonegate-Queensway\", \"Stonegate-Queensway\", \"Stonegate-Queensway\", \"Stonegate-Queensway\", \"Tam O'Shanter-Sullivan\", \"Tam O'Shanter-Sullivan\", \"Tam O'Shanter-Sullivan\", \"Tam O'Shanter-Sullivan\", \"Taylor-Massey\", \"Taylor-Massey\", \"Taylor-Massey\", \"Taylor-Massey\", \"The Beaches\", \"The Beaches\", \"The Beaches\", \"The Beaches\", \"Thistletown-Beaumond Heights\", \"Thistletown-Beaumond Heights\", \"Thistletown-Beaumond Heights\", \"Thistletown-Beaumond Heights\", \"Thorncliffe Park\", \"Thorncliffe Park\", \"Thorncliffe Park\", \"Thorncliffe Park\", \"Trinity-Bellwoods\", \"Trinity-Bellwoods\", \"Trinity-Bellwoods\", \"Trinity-Bellwoods\", \"University\", \"University\", \"University\", \"University\", \"Victoria Village\", \"Victoria Village\", \"Victoria Village\", \"Victoria Village\", \"Waterfront Communities-The Island\", \"Waterfront Communities-The Island\", \"Waterfront Communities-The Island\", \"Waterfront Communities-The Island\", \"West Hill\", \"West Hill\", \"West Hill\", \"West Hill\", \"West Humber-Clairville\", \"West Humber-Clairville\", \"West Humber-Clairville\", \"West Humber-Clairville\", \"Westminster-Branson\", \"Westminster-Branson\", \"Westminster-Branson\", \"Westminster-Branson\", \"Weston\", \"Weston\", \"Weston\", \"Weston\", \"Weston-Pellam Park\", \"Weston-Pellam Park\", \"Weston-Pellam Park\", \"Weston-Pellam Park\", \"Wexford/Maryvale\", \"Wexford/Maryvale\", \"Wexford/Maryvale\", \"Wexford/Maryvale\", \"Willowdale East\", \"Willowdale East\", \"Willowdale East\", \"Willowdale East\", \"Willowdale West\", \"Willowdale West\", \"Willowdale West\", \"Willowdale West\", \"Willowridge-Martingrove-Richview\", \"Willowridge-Martingrove-Richview\", \"Willowridge-Martingrove-Richview\", \"Willowridge-Martingrove-Richview\", \"Woburn\", \"Woburn\", \"Woburn\", \"Woburn\", \"Woodbine Corridor\", \"Woodbine Corridor\", \"Woodbine Corridor\", \"Woodbine Corridor\", \"Woodbine-Lumsden\", \"Woodbine-Lumsden\", \"Woodbine-Lumsden\", \"Woodbine-Lumsden\", \"Wychwood\", \"Wychwood\", \"Wychwood\", \"Wychwood\", \"Yonge-Eglinton\", \"Yonge-Eglinton\", \"Yonge-Eglinton\", \"Yonge-Eglinton\", \"Yonge-St.Clair\", \"Yonge-St.Clair\", \"Yonge-St.Clair\", \"Yonge-St.Clair\", \"York University Heights\", \"York University Heights\", \"York University Heights\", \"York University Heights\", \"Yorkdale-Glen Park\", \"Yorkdale-Glen Park\", \"Yorkdale-Glen Park\", \"Yorkdale-Glen Park\", \"2001\", \"2006\", \"2011\", \"2016\"], \"marker\": {\"coloraxis\": \"coloraxis\", \"colors\": [200388.0, 293140.0, 366667.0, 459051.0, 203047.0, 297031.0, 371534.0, 465144.0, 259998.0, 380342.0, 475742.0, 595608.0, 453850.0, 663921.0, 830450.0, 1039687.0, 371864.0, 543987.0, 680433.0, 851872.0, 304749.0, 445807.0, 557627.0, 698124.0, 257404.0, 376548.0, 470996.0, 589666.0, 327644.0, 479299.0, 599520.0, 750572.0, 343535.0, 502546.0, 628597.0, 786976.0, 565304.0, 826963.0, 1034387.0, 1295007.0, 225369.0, 329685.0, 412378.0, 516279.0, 182957.0, 267642.0, 334773.0, 419121.0, 265705.0, 388690.0, 486184.0, 608681.0, 158483.0, 231839.0, 289990.0, 363055.0, 310740.0, 454571.0, 568589.0, 711848.0, 222086.0, 324882.0, 406371.0, 508759.0, 927466.0, 1356757.0, 1697067.0, 2124653.0, 269386.0, 394075.0, 492919.0, 617113.0, 213227.0, 311922.0, 390160.0, 488463.0, 300213.0, 439171.0, 549326.0, 687732.0, 219771.0, 321496.0, 402135.0, 503455.0, 596077.0, 871981.0, 1090696.0, 1365503.0, 249025.0, 364291.0, 455664.0, 570471.0, 246750.0, 360962.0, 451500.0, 565258.0, 215421.0, 315133.0, 394176.0, 493491.0, 335119.0, 490234.0, 613197.0, 767695.0, 253618.0, 371009.0, 464068.0, 580993.0, 255142.0, 373239.0, 466857.0, 584484.0, 283706.0, 415024.0, 519123.0, 649919.0, 256205.0, 374793.0, 468801.0, 586918.0, 241824.0, 353756.0, 442487.0, 553974.0, 159187.0, 232869.0, 291278.0, 364667.0, 264116.0, 386366.0, 483276.0, 605040.0, 231741.0, 339006.0, 424038.0, 530877.0, 278023.0, 406710.0, 508723.0, 636899.0, 290457.0, 424900.0, 531476.0, 665384.0, 483734.0, 707638.0, 885132.0, 1108146.0, 163419.0, 239060.0, 299023.0, 374364.0, 163039.0, 238505.0, 298328.0, 373493.0, 345676.0, 505677.0, 632514.0, 791880.0, 241685.0, 353553.0, 442233.0, 553656.0, 187993.0, 275009.0, 343988.0, 430658.0, 126255.0, 184694.0, 231020.0, 289227.0, 517466.0, 756983.0, 946854.0, 1185419.0, 726664.0, 1063011.0, 1329642.0, 1664653.0, 199043.0, 291172.0, 364206.0, 455970.0, 235168.0, 344019.0, 430308.0, 538727.0, 224425.0, 328303.0, 410650.0, 514116.0, 224780.0, 328823.0, 411300.0, 514929.0, 323536.0, 473289.0, 592002.0, 741161.0, 354207.0, 518157.0, 648124.0, 811423.0, 260555.0, 381156.0, 476760.0, 596883.0, 240009.0, 351101.0, 439166.0, 549816.0, 272896.0, 399210.0, 499342.0, 625154.0, 213919.0, 312935.0, 391427.0, 490049.0, 194295.0, 284227.0, 355519.0, 445094.0, 423537.0, 619577.0, 774983.0, 970245.0, 174793.0, 255698.0, 319834.0, 400418.0, 274436.0, 401463.0, 502160.0, 628682.0, 263247.0, 385094.0, 481686.0, 603050.0, 196112.0, 286886.0, 358844.0, 449257.0, 174518.0, 255296.0, 319331.0, 399789.0, 267631.0, 391509.0, 489709.0, 613094.0, 205572.0, 300725.0, 376154.0, 470928.0, 512334.0, 749476.0, 937464.0, 1173663.0, 395115.0, 578001.0, 722978.0, 905137.0, 204523.0, 299190.0, 374234.0, 468524.0, 372579.0, 545034.0, 681742.0, 853511.0, 461393.0, 674957.0, 844253.0, 1056967.0, 664712.0, 972384.0, 1216283.0, 1522732.0, 489998.0, 716801.0, 896593.0, 1122495.0, 328211.0, 480129.0, 600558.0, 751872.0, 234424.0, 342930.0, 428946.0, 537021.0, 156076.0, 228318.0, 285586.0, 357541.0, 275374.0, 402835.0, 503876.0, 630831.0, 269751.0, 394610.0, 493588.0, 617950.0, 209609.0, 306629.0, 383540.0, 480175.0, 239078.0, 349739.0, 437462.0, 547683.0, 173169.0, 253323.0, 316863.0, 396699.0, 248778.0, 363929.0, 455212.0, 569905.0, 159374.0, 233143.0, 291621.0, 365097.0, 153829.0, 225031.0, 281475.0, 352394.0, 411558.0, 602054.0, 753065.0, 942804.0, 284459.0, 416125.0, 520500.0, 651643.0, 247779.0, 362468.0, 453384.0, 567617.0, 339987.0, 497355.0, 622104.0, 778847.0, 279833.0, 409358.0, 512036.0, 641047.0, 224801.0, 328854.0, 411339.0, 514978.0, 427169.0, 624890.0, 781629.0, 978565.0, 249993.0, 365706.0, 457435.0, 572689.0, 181251.0, 265146.0, 331652.0, 415214.0, 256556.0, 375307.0, 469444.0, 587723.0, 268067.0, 392146.0, 490506.0, 614092.0, 269410.0, 394111.0, 492964.0, 617169.0, 378033.0, 553011.0, 691720.0, 866003.0, 276239.0, 404100.0, 505459.0, 632812.0, 246333.0, 360352.0, 450737.0, 564303.0, 394235.0, 576713.0, 721368.0, 903121.0, 226856.0, 331860.0, 415099.0, 519686.0, 465254.0, 680604.0, 851317.0, 1065811.0, 238524.0, 348928.0, 436448.0, 546413.0, 219337.0, 320860.0, 401340.0, 502460.0, 210017.0, 307227.0, 384287.0, 481110.0, 309221.0, 452349.0, 565810.0, 708369.0, 664476.0, 972039.0, 1215852.0, 1522193.0, 228625.0, 334448.0, 418336.0, 523738.0, 335435.0, 490697.0, 613776.0, 768420.0, 261923.0, 383158.0, 479264.0, 600017.0, 200402.0, 293162.0, 366694.0, 459085.0, 271880.0, 397724.0, 497483.0, 622827.0, 276462.0, 404427.0, 505868.0, 633325.0, 607040.0, 888017.0, 1110755.0, 1390616.0, 228460.0, 334206.0, 418033.0, 523359.0, 334433.0, 489230.0, 611942.0, 766124.0, 215039.0, 314574.0, 393477.0, 492616.0, 145464.0, 212794.0, 266168.0, 333230.0, 404836.0, 592220.0, 740764.0, 927404.0, 228368.0, 334072.0, 417866.0, 523150.0, 155094.0, 226882.0, 283790.0, 355293.0, 324732.0, 475039.0, 594191.0, 743901.0, 375678.0, 549567.0, 687412.0, 860610.0, 213950.0, 312980.0, 391483.0, 490119.0, 228975.0, 334960.0, 418977.0, 524540.0, 172947.0, 252998.0, 316456.0, 396189.0, 208555.0, 305088.0, 381612.0, 477762.0, 212241.0, 310480.0, 388356.0, 486204.0, 187140.0, 273761.0, 342427.0, 428703.0, 213749.0, 312685.0, 391115.0, 489659.0, 211633.0, 309590.0, 387243.0, 484811.0, 284984.0, 416893.0, 521460.0, 652845.0, 283215.0, 414306.0, 518224.0, 648794.0, 282087.0, 412655.0, 516160.0, 646210.0, 181367.0, 265315.0, 331863.0, 415478.0, 270607.0, 395861.0, 495153.0, 619910.0, 224756.0, 328788.0, 411256.0, 514874.0, 343877.0, 503046.0, 629223.0, 787760.0, 491987.0, 719711.0, 900233.0, 1127052.0, 494098.0, 722799.0, 904096.0, 1131888.0, 185859.0, 271887.0, 340083.0, 425769.0, 261784.0, 382954.0, 479009.0, 599698.0, 343576.5080769564, 502606.1466159757, 628672.7552165643, 787070.5045585778]}, \"name\": \"\", \"parents\": [\"2001\", \"2006\", \"2011\", \"2016\", \"2001\", \"2006\", \"2011\", \"2016\", \"2001\", \"2006\", \"2011\", \"2016\", \"2001\", \"2006\", \"2011\", \"2016\", \"2001\", \"2006\", \"2011\", \"2016\", \"2001\", \"2006\", \"2011\", \"2016\", \"2001\", \"2006\", \"2011\", \"2016\", \"2001\", \"2006\", \"2011\", \"2016\", \"2001\", \"2006\", \"2011\", \"2016\", \"2001\", \"2006\", \"2011\", \"2016\", \"2001\", \"2006\", \"2011\", \"2016\", \"2001\", \"2006\", \"2011\", \"2016\", \"2001\", \"2006\", \"2011\", \"2016\", \"2001\", \"2006\", \"2011\", \"2016\", \"2001\", \"2006\", \"2011\", \"2016\", \"2001\", \"2006\", \"2011\", \"2016\", \"2001\", \"2006\", \"2011\", \"2016\", \"2001\", \"2006\", \"2011\", \"2016\", \"2001\", \"2006\", \"2011\", \"2016\", \"2001\", \"2006\", \"2011\", \"2016\", \"2001\", \"2006\", \"2011\", \"2016\", \"2001\", \"2006\", \"2011\", \"2016\", \"2001\", \"2006\", \"2011\", \"2016\", \"2001\", \"2006\", \"2011\", \"2016\", \"2001\", \"2006\", \"2011\", \"2016\", \"2001\", \"2006\", \"2011\", \"2016\", \"2001\", \"2006\", \"2011\", \"2016\", \"2001\", \"2006\", \"2011\", \"2016\", \"2001\", \"2006\", \"2011\", \"2016\", \"2001\", \"2006\", \"2011\", \"2016\", \"2001\", \"2006\", \"2011\", \"2016\", \"2001\", \"2006\", \"2011\", \"2016\", \"2001\", \"2006\", \"2011\", \"2016\", \"2001\", \"2006\", \"2011\", \"2016\", \"2001\", \"2006\", \"2011\", \"2016\", \"2001\", \"2006\", \"2011\", \"2016\", \"2001\", \"2006\", \"2011\", \"2016\", \"2001\", \"2006\", \"2011\", \"2016\", \"2001\", \"2006\", \"2011\", \"2016\", \"2001\", \"2006\", \"2011\", \"2016\", \"2001\", \"2006\", \"2011\", \"2016\", \"2001\", \"2006\", \"2011\", \"2016\", \"2001\", \"2006\", \"2011\", \"2016\", \"2001\", \"2006\", \"2011\", \"2016\", \"2001\", \"2006\", \"2011\", \"2016\", \"2001\", \"2006\", \"2011\", \"2016\", \"2001\", \"2006\", \"2011\", \"2016\", \"2001\", \"2006\", \"2011\", \"2016\", \"2001\", \"2006\", \"2011\", \"2016\", \"2001\", \"2006\", \"2011\", \"2016\", \"2001\", \"2006\", \"2011\", \"2016\", \"2001\", \"2006\", \"2011\", \"2016\", \"2001\", \"2006\", \"2011\", \"2016\", \"2001\", \"2006\", \"2011\", \"2016\", \"2001\", \"2006\", \"2011\", \"2016\", \"2001\", \"2006\", \"2011\", \"2016\", \"2001\", \"2006\", \"2011\", \"2016\", \"2001\", \"2006\", \"2011\", \"2016\", \"2001\", \"2006\", \"2011\", \"2016\", \"2001\", \"2006\", \"2011\", \"2016\", \"2001\", \"2006\", \"2011\", \"2016\", \"2001\", \"2006\", \"2011\", \"2016\", \"2001\", \"2006\", \"2011\", \"2016\", \"2001\", \"2006\", \"2011\", \"2016\", \"2001\", \"2006\", \"2011\", \"2016\", \"2001\", \"2006\", \"2011\", \"2016\", \"2001\", \"2006\", \"2011\", \"2016\", \"2001\", \"2006\", \"2011\", \"2016\", \"2001\", \"2006\", \"2011\", \"2016\", \"2001\", \"2006\", \"2011\", \"2016\", \"2001\", \"2006\", \"2011\", \"2016\", \"2001\", \"2006\", \"2011\", \"2016\", \"2001\", \"2006\", \"2011\", \"2016\", \"2001\", \"2006\", \"2011\", \"2016\", \"2001\", \"2006\", \"2011\", \"2016\", \"2001\", \"2006\", \"2011\", \"2016\", \"2001\", \"2006\", \"2011\", \"2016\", \"2001\", \"2006\", \"2011\", \"2016\", \"2001\", \"2006\", \"2011\", \"2016\", \"2001\", \"2006\", \"2011\", \"2016\", \"2001\", \"2006\", \"2011\", \"2016\", \"2001\", \"2006\", \"2011\", \"2016\", \"2001\", \"2006\", \"2011\", \"2016\", \"2001\", \"2006\", \"2011\", \"2016\", \"2001\", \"2006\", \"2011\", \"2016\", \"2001\", \"2006\", \"2011\", \"2016\", \"2001\", \"2006\", \"2011\", \"2016\", \"2001\", \"2006\", \"2011\", \"2016\", \"2001\", \"2006\", \"2011\", \"2016\", \"2001\", \"2006\", \"2011\", \"2016\", \"2001\", \"2006\", \"2011\", \"2016\", \"2001\", \"2006\", \"2011\", \"2016\", \"2001\", \"2006\", \"2011\", \"2016\", \"2001\", \"2006\", \"2011\", \"2016\", \"2001\", \"2006\", \"2011\", \"2016\", \"2001\", \"2006\", \"2011\", \"2016\", \"2001\", \"2006\", \"2011\", \"2016\", \"2001\", \"2006\", \"2011\", \"2016\", \"2001\", \"2006\", \"2011\", \"2016\", \"2001\", \"2006\", \"2011\", \"2016\", \"2001\", \"2006\", \"2011\", \"2016\", \"2001\", \"2006\", \"2011\", \"2016\", \"2001\", \"2006\", \"2011\", \"2016\", \"2001\", \"2006\", \"2011\", \"2016\", \"2001\", \"2006\", \"2011\", \"2016\", \"2001\", \"2006\", \"2011\", \"2016\", \"2001\", \"2006\", \"2011\", \"2016\", \"2001\", \"2006\", \"2011\", \"2016\", \"2001\", \"2006\", \"2011\", \"2016\", \"2001\", \"2006\", \"2011\", \"2016\", \"2001\", \"2006\", \"2011\", \"2016\", \"2001\", \"2006\", \"2011\", \"2016\", \"2001\", \"2006\", \"2011\", \"2016\", \"2001\", \"2006\", \"2011\", \"2016\", \"2001\", \"2006\", \"2011\", \"2016\", \"2001\", \"2006\", \"2011\", \"2016\", \"2001\", \"2006\", \"2011\", \"2016\", \"2001\", \"2006\", \"2011\", \"2016\", \"2001\", \"2006\", \"2011\", \"2016\", \"2001\", \"2006\", \"2011\", \"2016\", \"2001\", \"2006\", \"2011\", \"2016\", \"2001\", \"2006\", \"2011\", \"2016\", \"2001\", \"2006\", \"2011\", \"2016\", \"2001\", \"2006\", \"2011\", \"2016\", \"2001\", \"2006\", \"2011\", \"2016\", \"2001\", \"2006\", \"2011\", \"2016\", \"2001\", \"2006\", \"2011\", \"2016\", \"2001\", \"2006\", \"2011\", \"2016\", \"2001\", \"2006\", \"2011\", \"2016\", \"2001\", \"2006\", \"2011\", \"2016\", \"2001\", \"2006\", \"2011\", \"2016\", \"2001\", \"2006\", \"2011\", \"2016\", \"2001\", \"2006\", \"2011\", \"2016\", \"2001\", \"2006\", \"2011\", \"2016\", \"2001\", \"2006\", \"2011\", \"2016\", \"2001\", \"2006\", \"2011\", \"2016\", \"2001\", \"2006\", \"2011\", \"2016\", \"2001\", \"2006\", \"2011\", \"2016\", \"2001\", \"2006\", \"2011\", \"2016\", \"2001\", \"2006\", \"2011\", \"2016\", \"\", \"\", \"\", \"\"], \"type\": \"sunburst\", \"values\": [200388, 293140, 366667, 459051, 203047, 297031, 371534, 465144, 259998, 380342, 475742, 595608, 453850, 663921, 830450, 1039687, 371864, 543987, 680433, 851872, 304749, 445807, 557627, 698124, 257404, 376548, 470996, 589666, 327644, 479299, 599520, 750572, 343535, 502546, 628597, 786976, 565304, 826963, 1034387, 1295007, 225369, 329685, 412378, 516279, 182957, 267642, 334773, 419121, 265705, 388690, 486184, 608681, 158483, 231839, 289990, 363055, 310740, 454571, 568589, 711848, 222086, 324882, 406371, 508759, 927466, 1356757, 1697067, 2124653, 269386, 394075, 492919, 617113, 213227, 311922, 390160, 488463, 300213, 439171, 549326, 687732, 219771, 321496, 402135, 503455, 596077, 871981, 1090696, 1365503, 249025, 364291, 455664, 570471, 246750, 360962, 451500, 565258, 215421, 315133, 394176, 493491, 335119, 490234, 613197, 767695, 253618, 371009, 464068, 580993, 255142, 373239, 466857, 584484, 283706, 415024, 519123, 649919, 256205, 374793, 468801, 586918, 241824, 353756, 442487, 553974, 159187, 232869, 291278, 364667, 264116, 386366, 483276, 605040, 231741, 339006, 424038, 530877, 278023, 406710, 508723, 636899, 290457, 424900, 531476, 665384, 483734, 707638, 885132, 1108146, 163419, 239060, 299023, 374364, 163039, 238505, 298328, 373493, 345676, 505677, 632514, 791880, 241685, 353553, 442233, 553656, 187993, 275009, 343988, 430658, 126255, 184694, 231020, 289227, 517466, 756983, 946854, 1185419, 726664, 1063011, 1329642, 1664653, 199043, 291172, 364206, 455970, 235168, 344019, 430308, 538727, 224425, 328303, 410650, 514116, 224780, 328823, 411300, 514929, 323536, 473289, 592002, 741161, 354207, 518157, 648124, 811423, 260555, 381156, 476760, 596883, 240009, 351101, 439166, 549816, 272896, 399210, 499342, 625154, 213919, 312935, 391427, 490049, 194295, 284227, 355519, 445094, 423537, 619577, 774983, 970245, 174793, 255698, 319834, 400418, 274436, 401463, 502160, 628682, 263247, 385094, 481686, 603050, 196112, 286886, 358844, 449257, 174518, 255296, 319331, 399789, 267631, 391509, 489709, 613094, 205572, 300725, 376154, 470928, 512334, 749476, 937464, 1173663, 395115, 578001, 722978, 905137, 204523, 299190, 374234, 468524, 372579, 545034, 681742, 853511, 461393, 674957, 844253, 1056967, 664712, 972384, 1216283, 1522732, 489998, 716801, 896593, 1122495, 328211, 480129, 600558, 751872, 234424, 342930, 428946, 537021, 156076, 228318, 285586, 357541, 275374, 402835, 503876, 630831, 269751, 394610, 493588, 617950, 209609, 306629, 383540, 480175, 239078, 349739, 437462, 547683, 173169, 253323, 316863, 396699, 248778, 363929, 455212, 569905, 159374, 233143, 291621, 365097, 153829, 225031, 281475, 352394, 411558, 602054, 753065, 942804, 284459, 416125, 520500, 651643, 247779, 362468, 453384, 567617, 339987, 497355, 622104, 778847, 279833, 409358, 512036, 641047, 224801, 328854, 411339, 514978, 427169, 624890, 781629, 978565, 249993, 365706, 457435, 572689, 181251, 265146, 331652, 415214, 256556, 375307, 469444, 587723, 268067, 392146, 490506, 614092, 269410, 394111, 492964, 617169, 378033, 553011, 691720, 866003, 276239, 404100, 505459, 632812, 246333, 360352, 450737, 564303, 394235, 576713, 721368, 903121, 226856, 331860, 415099, 519686, 465254, 680604, 851317, 1065811, 238524, 348928, 436448, 546413, 219337, 320860, 401340, 502460, 210017, 307227, 384287, 481110, 309221, 452349, 565810, 708369, 664476, 972039, 1215852, 1522193, 228625, 334448, 418336, 523738, 335435, 490697, 613776, 768420, 261923, 383158, 479264, 600017, 200402, 293162, 366694, 459085, 271880, 397724, 497483, 622827, 276462, 404427, 505868, 633325, 607040, 888017, 1110755, 1390616, 228460, 334206, 418033, 523359, 334433, 489230, 611942, 766124, 215039, 314574, 393477, 492616, 145464, 212794, 266168, 333230, 404836, 592220, 740764, 927404, 228368, 334072, 417866, 523150, 155094, 226882, 283790, 355293, 324732, 475039, 594191, 743901, 375678, 549567, 687412, 860610, 213950, 312980, 391483, 490119, 228975, 334960, 418977, 524540, 172947, 252998, 316456, 396189, 208555, 305088, 381612, 477762, 212241, 310480, 388356, 486204, 187140, 273761, 342427, 428703, 213749, 312685, 391115, 489659, 211633, 309590, 387243, 484811, 284984, 416893, 521460, 652845, 283215, 414306, 518224, 648794, 282087, 412655, 516160, 646210, 181367, 265315, 331863, 415478, 270607, 395861, 495153, 619910, 224756, 328788, 411256, 514874, 343877, 503046, 629223, 787760, 491987, 719711, 900233, 1127052, 494098, 722799, 904096, 1131888, 185859, 271887, 340083, 425769, 261784, 382954, 479009, 599698, 40583604, 59368353, 74259461, 92969566]}],                        {\"coloraxis\": {\"colorbar\": {\"title\": {\"text\": \"average_house_value\"}}, \"colorscale\": [[0.0, \"rgb(103,0,31)\"], [0.1, \"rgb(178,24,43)\"], [0.2, \"rgb(214,96,77)\"], [0.3, \"rgb(244,165,130)\"], [0.4, \"rgb(253,219,199)\"], [0.5, \"rgb(247,247,247)\"], [0.6, \"rgb(209,229,240)\"], [0.7, \"rgb(146,197,222)\"], [0.8, \"rgb(67,147,195)\"], [0.9, \"rgb(33,102,172)\"], [1.0, \"rgb(5,48,97)\"]]}, \"legend\": {\"tracegroupgap\": 0}, \"margin\": {\"t\": 60}, \"template\": {\"data\": {\"bar\": [{\"error_x\": {\"color\": \"#2a3f5f\"}, \"error_y\": {\"color\": \"#2a3f5f\"}, \"marker\": {\"line\": {\"color\": \"#E5ECF6\", \"width\": 0.5}}, \"type\": \"bar\"}], \"barpolar\": [{\"marker\": {\"line\": {\"color\": \"#E5ECF6\", \"width\": 0.5}}, \"type\": \"barpolar\"}], \"carpet\": [{\"aaxis\": {\"endlinecolor\": \"#2a3f5f\", \"gridcolor\": \"white\", \"linecolor\": \"white\", \"minorgridcolor\": \"white\", \"startlinecolor\": \"#2a3f5f\"}, \"baxis\": {\"endlinecolor\": \"#2a3f5f\", \"gridcolor\": \"white\", \"linecolor\": \"white\", \"minorgridcolor\": \"white\", \"startlinecolor\": \"#2a3f5f\"}, \"type\": \"carpet\"}], \"choropleth\": [{\"colorbar\": {\"outlinewidth\": 0, \"ticks\": \"\"}, \"type\": \"choropleth\"}], \"contour\": [{\"colorbar\": {\"outlinewidth\": 0, \"ticks\": \"\"}, \"colorscale\": [[0.0, \"#0d0887\"], [0.1111111111111111, \"#46039f\"], [0.2222222222222222, \"#7201a8\"], [0.3333333333333333, \"#9c179e\"], [0.4444444444444444, \"#bd3786\"], [0.5555555555555556, \"#d8576b\"], [0.6666666666666666, \"#ed7953\"], [0.7777777777777778, \"#fb9f3a\"], [0.8888888888888888, \"#fdca26\"], [1.0, \"#f0f921\"]], \"type\": \"contour\"}], \"contourcarpet\": [{\"colorbar\": {\"outlinewidth\": 0, \"ticks\": \"\"}, \"type\": \"contourcarpet\"}], \"heatmap\": [{\"colorbar\": {\"outlinewidth\": 0, \"ticks\": \"\"}, \"colorscale\": [[0.0, \"#0d0887\"], [0.1111111111111111, \"#46039f\"], [0.2222222222222222, \"#7201a8\"], [0.3333333333333333, \"#9c179e\"], [0.4444444444444444, \"#bd3786\"], [0.5555555555555556, \"#d8576b\"], [0.6666666666666666, \"#ed7953\"], [0.7777777777777778, \"#fb9f3a\"], [0.8888888888888888, \"#fdca26\"], [1.0, \"#f0f921\"]], \"type\": \"heatmap\"}], \"heatmapgl\": [{\"colorbar\": {\"outlinewidth\": 0, \"ticks\": \"\"}, \"colorscale\": [[0.0, \"#0d0887\"], [0.1111111111111111, \"#46039f\"], [0.2222222222222222, \"#7201a8\"], [0.3333333333333333, \"#9c179e\"], [0.4444444444444444, \"#bd3786\"], [0.5555555555555556, \"#d8576b\"], [0.6666666666666666, \"#ed7953\"], [0.7777777777777778, \"#fb9f3a\"], [0.8888888888888888, \"#fdca26\"], [1.0, \"#f0f921\"]], \"type\": \"heatmapgl\"}], \"histogram\": [{\"marker\": {\"colorbar\": {\"outlinewidth\": 0, \"ticks\": \"\"}}, \"type\": \"histogram\"}], \"histogram2d\": [{\"colorbar\": {\"outlinewidth\": 0, \"ticks\": \"\"}, \"colorscale\": [[0.0, \"#0d0887\"], [0.1111111111111111, \"#46039f\"], [0.2222222222222222, \"#7201a8\"], [0.3333333333333333, \"#9c179e\"], [0.4444444444444444, \"#bd3786\"], [0.5555555555555556, \"#d8576b\"], [0.6666666666666666, \"#ed7953\"], [0.7777777777777778, \"#fb9f3a\"], [0.8888888888888888, \"#fdca26\"], [1.0, \"#f0f921\"]], \"type\": \"histogram2d\"}], \"histogram2dcontour\": [{\"colorbar\": {\"outlinewidth\": 0, \"ticks\": \"\"}, \"colorscale\": [[0.0, \"#0d0887\"], [0.1111111111111111, \"#46039f\"], [0.2222222222222222, \"#7201a8\"], [0.3333333333333333, \"#9c179e\"], [0.4444444444444444, \"#bd3786\"], [0.5555555555555556, \"#d8576b\"], [0.6666666666666666, \"#ed7953\"], [0.7777777777777778, \"#fb9f3a\"], [0.8888888888888888, \"#fdca26\"], [1.0, \"#f0f921\"]], \"type\": \"histogram2dcontour\"}], \"mesh3d\": [{\"colorbar\": {\"outlinewidth\": 0, \"ticks\": \"\"}, \"type\": \"mesh3d\"}], \"parcoords\": [{\"line\": {\"colorbar\": {\"outlinewidth\": 0, \"ticks\": \"\"}}, \"type\": \"parcoords\"}], \"pie\": [{\"automargin\": true, \"type\": \"pie\"}], \"scatter\": [{\"marker\": {\"colorbar\": {\"outlinewidth\": 0, \"ticks\": \"\"}}, \"type\": \"scatter\"}], \"scatter3d\": [{\"line\": {\"colorbar\": {\"outlinewidth\": 0, \"ticks\": \"\"}}, \"marker\": {\"colorbar\": {\"outlinewidth\": 0, \"ticks\": \"\"}}, \"type\": \"scatter3d\"}], \"scattercarpet\": [{\"marker\": {\"colorbar\": {\"outlinewidth\": 0, \"ticks\": \"\"}}, \"type\": \"scattercarpet\"}], \"scattergeo\": [{\"marker\": {\"colorbar\": {\"outlinewidth\": 0, \"ticks\": \"\"}}, \"type\": \"scattergeo\"}], \"scattergl\": [{\"marker\": {\"colorbar\": {\"outlinewidth\": 0, \"ticks\": \"\"}}, \"type\": \"scattergl\"}], \"scattermapbox\": [{\"marker\": {\"colorbar\": {\"outlinewidth\": 0, \"ticks\": \"\"}}, \"type\": \"scattermapbox\"}], \"scatterpolar\": [{\"marker\": {\"colorbar\": {\"outlinewidth\": 0, \"ticks\": \"\"}}, \"type\": \"scatterpolar\"}], \"scatterpolargl\": [{\"marker\": {\"colorbar\": {\"outlinewidth\": 0, \"ticks\": \"\"}}, \"type\": \"scatterpolargl\"}], \"scatterternary\": [{\"marker\": {\"colorbar\": {\"outlinewidth\": 0, \"ticks\": \"\"}}, \"type\": \"scatterternary\"}], \"surface\": [{\"colorbar\": {\"outlinewidth\": 0, \"ticks\": \"\"}, \"colorscale\": [[0.0, \"#0d0887\"], [0.1111111111111111, \"#46039f\"], [0.2222222222222222, \"#7201a8\"], [0.3333333333333333, \"#9c179e\"], [0.4444444444444444, \"#bd3786\"], [0.5555555555555556, \"#d8576b\"], [0.6666666666666666, \"#ed7953\"], [0.7777777777777778, \"#fb9f3a\"], [0.8888888888888888, \"#fdca26\"], [1.0, \"#f0f921\"]], \"type\": \"surface\"}], \"table\": [{\"cells\": {\"fill\": {\"color\": \"#EBF0F8\"}, \"line\": {\"color\": \"white\"}}, \"header\": {\"fill\": {\"color\": \"#C8D4E3\"}, \"line\": {\"color\": \"white\"}}, \"type\": \"table\"}]}, \"layout\": {\"annotationdefaults\": {\"arrowcolor\": \"#2a3f5f\", \"arrowhead\": 0, \"arrowwidth\": 1}, \"coloraxis\": {\"colorbar\": {\"outlinewidth\": 0, \"ticks\": \"\"}}, \"colorscale\": {\"diverging\": [[0, \"#8e0152\"], [0.1, \"#c51b7d\"], [0.2, \"#de77ae\"], [0.3, \"#f1b6da\"], [0.4, \"#fde0ef\"], [0.5, \"#f7f7f7\"], [0.6, \"#e6f5d0\"], [0.7, \"#b8e186\"], [0.8, \"#7fbc41\"], [0.9, \"#4d9221\"], [1, \"#276419\"]], \"sequential\": [[0.0, \"#0d0887\"], [0.1111111111111111, \"#46039f\"], [0.2222222222222222, \"#7201a8\"], [0.3333333333333333, \"#9c179e\"], [0.4444444444444444, \"#bd3786\"], [0.5555555555555556, \"#d8576b\"], [0.6666666666666666, \"#ed7953\"], [0.7777777777777778, \"#fb9f3a\"], [0.8888888888888888, \"#fdca26\"], [1.0, \"#f0f921\"]], \"sequentialminus\": [[0.0, \"#0d0887\"], [0.1111111111111111, \"#46039f\"], [0.2222222222222222, \"#7201a8\"], [0.3333333333333333, \"#9c179e\"], [0.4444444444444444, \"#bd3786\"], [0.5555555555555556, \"#d8576b\"], [0.6666666666666666, \"#ed7953\"], [0.7777777777777778, \"#fb9f3a\"], [0.8888888888888888, \"#fdca26\"], [1.0, \"#f0f921\"]]}, \"colorway\": [\"#636efa\", \"#EF553B\", \"#00cc96\", \"#ab63fa\", \"#FFA15A\", \"#19d3f3\", \"#FF6692\", \"#B6E880\", \"#FF97FF\", \"#FECB52\"], \"font\": {\"color\": \"#2a3f5f\"}, \"geo\": {\"bgcolor\": \"white\", \"lakecolor\": \"white\", \"landcolor\": \"#E5ECF6\", \"showlakes\": true, \"showland\": true, \"subunitcolor\": \"white\"}, \"hoverlabel\": {\"align\": \"left\"}, \"hovermode\": \"closest\", \"mapbox\": {\"style\": \"light\"}, \"paper_bgcolor\": \"white\", \"plot_bgcolor\": \"#E5ECF6\", \"polar\": {\"angularaxis\": {\"gridcolor\": \"white\", \"linecolor\": \"white\", \"ticks\": \"\"}, \"bgcolor\": \"#E5ECF6\", \"radialaxis\": {\"gridcolor\": \"white\", \"linecolor\": \"white\", \"ticks\": \"\"}}, \"scene\": {\"xaxis\": {\"backgroundcolor\": \"#E5ECF6\", \"gridcolor\": \"white\", \"gridwidth\": 2, \"linecolor\": \"white\", \"showbackground\": true, \"ticks\": \"\", \"zerolinecolor\": \"white\"}, \"yaxis\": {\"backgroundcolor\": \"#E5ECF6\", \"gridcolor\": \"white\", \"gridwidth\": 2, \"linecolor\": \"white\", \"showbackground\": true, \"ticks\": \"\", \"zerolinecolor\": \"white\"}, \"zaxis\": {\"backgroundcolor\": \"#E5ECF6\", \"gridcolor\": \"white\", \"gridwidth\": 2, \"linecolor\": \"white\", \"showbackground\": true, \"ticks\": \"\", \"zerolinecolor\": \"white\"}}, \"shapedefaults\": {\"line\": {\"color\": \"#2a3f5f\"}}, \"ternary\": {\"aaxis\": {\"gridcolor\": \"white\", \"linecolor\": \"white\", \"ticks\": \"\"}, \"baxis\": {\"gridcolor\": \"white\", \"linecolor\": \"white\", \"ticks\": \"\"}, \"bgcolor\": \"#E5ECF6\", \"caxis\": {\"gridcolor\": \"white\", \"linecolor\": \"white\", \"ticks\": \"\"}}, \"title\": {\"x\": 0.05}, \"xaxis\": {\"automargin\": true, \"gridcolor\": \"white\", \"linecolor\": \"white\", \"ticks\": \"\", \"title\": {\"standoff\": 15}, \"zerolinecolor\": \"white\", \"zerolinewidth\": 2}, \"yaxis\": {\"automargin\": true, \"gridcolor\": \"white\", \"linecolor\": \"white\", \"ticks\": \"\", \"title\": {\"standoff\": 15}, \"zerolinecolor\": \"white\", \"zerolinewidth\": 2}}}},                        {\"responsive\": true}                    ).then(function(){\n",
       "                            \n",
       "var gd = document.getElementById('ed5dd31f-5066-48f1-b4c0-d70125d69bd6');\n",
       "var x = new MutationObserver(function (mutations, observer) {{\n",
       "        var display = window.getComputedStyle(gd).display;\n",
       "        if (!display || display === 'none') {{\n",
       "            console.log([gd, 'removed!']);\n",
       "            Plotly.purge(gd);\n",
       "            observer.disconnect();\n",
       "        }}\n",
       "}});\n",
       "\n",
       "// Listen for the removal of the full notebook cells\n",
       "var notebookContainer = gd.closest('#notebook-container');\n",
       "if (notebookContainer) {{\n",
       "    x.observe(notebookContainer, {childList: true});\n",
       "}}\n",
       "\n",
       "// Listen for the clearing of the current output cell\n",
       "var outputEl = gd.closest('.output');\n",
       "if (outputEl) {{\n",
       "    x.observe(outputEl, {childList: true});\n",
       "}}\n",
       "\n",
       "                        })                };                });            </script>        </div>"
      ]
     },
     "metadata": {},
     "output_type": "display_data"
    }
   ],
   "source": [
    "# Create the sunburst chart\n",
    "\n",
    "px.sunburst(sunburst_data,\n",
    "            path=[\"year\", \"neighbourhood\"],\n",
    "            values=\"average_house_value\",\n",
    "            color_continuous_scale=\"rdbu\",\n",
    "            color=\"average_house_value\",\n",
    "            title=\"Cost Analysis of Most Expensive Neighbourhoods in Toronto per Year\"\n",
    "           )\n",
    "             "
   ]
  },
  {
   "cell_type": "code",
   "execution_count": null,
   "metadata": {},
   "outputs": [],
   "source": []
  }
 ],
 "metadata": {
  "file_extension": ".py",
  "kernelspec": {
   "name": "python379jvsc74a57bd03e39c4d494c9598687465344199520cc3e1e520b902c1f7f5bbe61b2cf253519",
   "display_name": "Python 3.7.9 64-bit ('pyvizenv': conda)"
  },
  "language_info": {
   "codemirror_mode": {
    "name": "ipython",
    "version": 3
   },
   "file_extension": ".py",
   "mimetype": "text/x-python",
   "name": "python",
   "nbconvert_exporter": "python",
   "pygments_lexer": "ipython3",
   "version": "3.7.9"
  },
  "mimetype": "text/x-python",
  "name": "python",
  "npconvert_exporter": "python",
  "pygments_lexer": "ipython3",
  "version": 3
 },
 "nbformat": 4,
 "nbformat_minor": 4
}